{
 "cells": [
  {
   "cell_type": "code",
   "execution_count": null,
   "id": "f6d92516",
   "metadata": {},
   "outputs": [],
   "source": [
    "pip install apyori"
   ]
  },
  {
   "cell_type": "code",
   "execution_count": 10,
   "id": "76b68bc6",
   "metadata": {},
   "outputs": [],
   "source": [
    "from apyori import apriori"
   ]
  },
  {
   "cell_type": "code",
   "execution_count": 11,
   "id": "549b3c66",
   "metadata": {},
   "outputs": [
    {
     "data": {
      "text/plain": [
       "[['A', 'B', 'C'], ['A', 'C'], ['A', 'D'], ['B', 'E', 'F']]"
      ]
     },
     "execution_count": 11,
     "metadata": {},
     "output_type": "execute_result"
    }
   ],
   "source": [
    "T = [['A','B','C'],['A','C'],['A','D'],['B','E','F']]\n",
    "T"
   ]
  },
  {
   "cell_type": "code",
   "execution_count": 12,
   "id": "27f9e6c5",
   "metadata": {},
   "outputs": [],
   "source": [
    "rules = apriori(T, min_support=0.5, min_confidence=0.5, min_length=2)"
   ]
  },
  {
   "cell_type": "code",
   "execution_count": 13,
   "id": "8d3ef466",
   "metadata": {},
   "outputs": [
    {
     "data": {
      "text/plain": [
       "[RelationRecord(items=frozenset({'A'}), support=0.75, ordered_statistics=[OrderedStatistic(items_base=frozenset(), items_add=frozenset({'A'}), confidence=0.75, lift=1.0)]),\n",
       " RelationRecord(items=frozenset({'B'}), support=0.5, ordered_statistics=[OrderedStatistic(items_base=frozenset(), items_add=frozenset({'B'}), confidence=0.5, lift=1.0)]),\n",
       " RelationRecord(items=frozenset({'C'}), support=0.5, ordered_statistics=[OrderedStatistic(items_base=frozenset(), items_add=frozenset({'C'}), confidence=0.5, lift=1.0)]),\n",
       " RelationRecord(items=frozenset({'A', 'C'}), support=0.5, ordered_statistics=[OrderedStatistic(items_base=frozenset(), items_add=frozenset({'A', 'C'}), confidence=0.5, lift=1.0), OrderedStatistic(items_base=frozenset({'A'}), items_add=frozenset({'C'}), confidence=0.6666666666666666, lift=1.3333333333333333), OrderedStatistic(items_base=frozenset({'C'}), items_add=frozenset({'A'}), confidence=1.0, lift=1.3333333333333333)])]"
      ]
     },
     "execution_count": 13,
     "metadata": {},
     "output_type": "execute_result"
    }
   ],
   "source": [
    "list(rules)"
   ]
  },
  {
   "cell_type": "code",
   "execution_count": 15,
   "id": "313ebc4d",
   "metadata": {},
   "outputs": [
    {
     "name": "stdout",
     "output_type": "stream",
     "text": [
      "-----------------------------\n"
     ]
    }
   ],
   "source": [
    "print(\"-----------------------------\")"
   ]
  },
  {
   "cell_type": "code",
   "execution_count": 16,
   "id": "69e71881",
   "metadata": {},
   "outputs": [],
   "source": [
    "import pandas as pd\n",
    "import numpy as np"
   ]
  },
  {
   "cell_type": "code",
   "execution_count": 24,
   "id": "2426efc0",
   "metadata": {},
   "outputs": [
    {
     "data": {
      "text/html": [
       "<div>\n",
       "<style scoped>\n",
       "    .dataframe tbody tr th:only-of-type {\n",
       "        vertical-align: middle;\n",
       "    }\n",
       "\n",
       "    .dataframe tbody tr th {\n",
       "        vertical-align: top;\n",
       "    }\n",
       "\n",
       "    .dataframe thead th {\n",
       "        text-align: right;\n",
       "    }\n",
       "</style>\n",
       "<table border=\"1\" class=\"dataframe\">\n",
       "  <thead>\n",
       "    <tr style=\"text-align: right;\">\n",
       "      <th></th>\n",
       "      <th>0</th>\n",
       "      <th>1</th>\n",
       "      <th>2</th>\n",
       "      <th>3</th>\n",
       "    </tr>\n",
       "  </thead>\n",
       "  <tbody>\n",
       "    <tr>\n",
       "      <th>0</th>\n",
       "      <td>MILK</td>\n",
       "      <td>BREAD</td>\n",
       "      <td>BISCUIT</td>\n",
       "      <td>NaN</td>\n",
       "    </tr>\n",
       "    <tr>\n",
       "      <th>1</th>\n",
       "      <td>BREAD</td>\n",
       "      <td>MILK</td>\n",
       "      <td>BISCUIT</td>\n",
       "      <td>CORNFLAKES</td>\n",
       "    </tr>\n",
       "    <tr>\n",
       "      <th>2</th>\n",
       "      <td>BREAD</td>\n",
       "      <td>TEA</td>\n",
       "      <td>BOURNVITA</td>\n",
       "      <td>NaN</td>\n",
       "    </tr>\n",
       "    <tr>\n",
       "      <th>3</th>\n",
       "      <td>JAM</td>\n",
       "      <td>MAGGI</td>\n",
       "      <td>BREAD</td>\n",
       "      <td>MILK</td>\n",
       "    </tr>\n",
       "    <tr>\n",
       "      <th>4</th>\n",
       "      <td>MAGGI</td>\n",
       "      <td>TEA</td>\n",
       "      <td>BISCUIT</td>\n",
       "      <td>NaN</td>\n",
       "    </tr>\n",
       "    <tr>\n",
       "      <th>5</th>\n",
       "      <td>BREAD</td>\n",
       "      <td>TEA</td>\n",
       "      <td>BOURNVITA</td>\n",
       "      <td>NaN</td>\n",
       "    </tr>\n",
       "    <tr>\n",
       "      <th>6</th>\n",
       "      <td>MAGGI</td>\n",
       "      <td>TEA</td>\n",
       "      <td>CORNFLAKES</td>\n",
       "      <td>NaN</td>\n",
       "    </tr>\n",
       "    <tr>\n",
       "      <th>7</th>\n",
       "      <td>MAGGI</td>\n",
       "      <td>BREAD</td>\n",
       "      <td>TEA,BISCUIT</td>\n",
       "      <td>BISCUIT</td>\n",
       "    </tr>\n",
       "    <tr>\n",
       "      <th>8</th>\n",
       "      <td>JAM</td>\n",
       "      <td>MAGGI</td>\n",
       "      <td>BREAD</td>\n",
       "      <td>TEA</td>\n",
       "    </tr>\n",
       "    <tr>\n",
       "      <th>9</th>\n",
       "      <td>BREAD</td>\n",
       "      <td>MILK</td>\n",
       "      <td>NaN</td>\n",
       "      <td>NaN</td>\n",
       "    </tr>\n",
       "    <tr>\n",
       "      <th>10</th>\n",
       "      <td>COFFEE</td>\n",
       "      <td>COCK</td>\n",
       "      <td>BISCUIT</td>\n",
       "      <td>CORNFLAKES</td>\n",
       "    </tr>\n",
       "    <tr>\n",
       "      <th>11</th>\n",
       "      <td>COFFEE</td>\n",
       "      <td>COCK</td>\n",
       "      <td>BISCUIT</td>\n",
       "      <td>CORNFLAKES</td>\n",
       "    </tr>\n",
       "    <tr>\n",
       "      <th>12</th>\n",
       "      <td>COFFEE</td>\n",
       "      <td>SUGER</td>\n",
       "      <td>BOURNVITA</td>\n",
       "      <td>NaN</td>\n",
       "    </tr>\n",
       "    <tr>\n",
       "      <th>13</th>\n",
       "      <td>BREAD</td>\n",
       "      <td>COFFEE</td>\n",
       "      <td>COCK</td>\n",
       "      <td>NaN</td>\n",
       "    </tr>\n",
       "    <tr>\n",
       "      <th>14</th>\n",
       "      <td>BREAD</td>\n",
       "      <td>SUGER</td>\n",
       "      <td>BISCUIT</td>\n",
       "      <td>NaN</td>\n",
       "    </tr>\n",
       "    <tr>\n",
       "      <th>15</th>\n",
       "      <td>COFFEE</td>\n",
       "      <td>SUGER</td>\n",
       "      <td>CORNFLAKES</td>\n",
       "      <td>NaN</td>\n",
       "    </tr>\n",
       "    <tr>\n",
       "      <th>16</th>\n",
       "      <td>BREAD</td>\n",
       "      <td>SUGER</td>\n",
       "      <td>BOURNVITA</td>\n",
       "      <td>NaN</td>\n",
       "    </tr>\n",
       "    <tr>\n",
       "      <th>17</th>\n",
       "      <td>BREAD</td>\n",
       "      <td>COFFEE</td>\n",
       "      <td>SUGER</td>\n",
       "      <td>NaN</td>\n",
       "    </tr>\n",
       "    <tr>\n",
       "      <th>18</th>\n",
       "      <td>BREAD</td>\n",
       "      <td>COFFEE</td>\n",
       "      <td>SUGER</td>\n",
       "      <td>NaN</td>\n",
       "    </tr>\n",
       "    <tr>\n",
       "      <th>19</th>\n",
       "      <td>TEA</td>\n",
       "      <td>MILK</td>\n",
       "      <td>COFFEE</td>\n",
       "      <td>CORNFLAKES</td>\n",
       "    </tr>\n",
       "  </tbody>\n",
       "</table>\n",
       "</div>"
      ],
      "text/plain": [
       "         0       1            2           3\n",
       "0     MILK   BREAD      BISCUIT         NaN\n",
       "1    BREAD    MILK      BISCUIT  CORNFLAKES\n",
       "2    BREAD     TEA    BOURNVITA         NaN\n",
       "3      JAM   MAGGI        BREAD        MILK\n",
       "4    MAGGI     TEA      BISCUIT         NaN\n",
       "5    BREAD     TEA    BOURNVITA         NaN\n",
       "6    MAGGI     TEA   CORNFLAKES         NaN\n",
       "7    MAGGI   BREAD  TEA,BISCUIT     BISCUIT\n",
       "8      JAM   MAGGI        BREAD         TEA\n",
       "9    BREAD    MILK          NaN         NaN\n",
       "10  COFFEE    COCK      BISCUIT  CORNFLAKES\n",
       "11  COFFEE    COCK      BISCUIT  CORNFLAKES\n",
       "12  COFFEE   SUGER    BOURNVITA         NaN\n",
       "13   BREAD  COFFEE         COCK         NaN\n",
       "14   BREAD   SUGER      BISCUIT         NaN\n",
       "15  COFFEE   SUGER   CORNFLAKES         NaN\n",
       "16   BREAD   SUGER    BOURNVITA         NaN\n",
       "17   BREAD  COFFEE        SUGER         NaN\n",
       "18   BREAD  COFFEE        SUGER         NaN\n",
       "19     TEA    MILK       COFFEE  CORNFLAKES"
      ]
     },
     "execution_count": 24,
     "metadata": {},
     "output_type": "execute_result"
    }
   ],
   "source": [
    "df=pd.read_csv(\"GroceryStoreDataSet.csv\", header=None)\n",
    "df"
   ]
  },
  {
   "cell_type": "code",
   "execution_count": 25,
   "id": "8414e087",
   "metadata": {},
   "outputs": [
    {
     "data": {
      "text/plain": [
       "0     0\n",
       "1     0\n",
       "2     1\n",
       "3    13\n",
       "dtype: int64"
      ]
     },
     "execution_count": 25,
     "metadata": {},
     "output_type": "execute_result"
    }
   ],
   "source": [
    "df.isnull().sum()"
   ]
  },
  {
   "cell_type": "code",
   "execution_count": 26,
   "id": "a66cab30",
   "metadata": {},
   "outputs": [
    {
     "data": {
      "text/plain": [
       "[['MILK', 'BREAD', 'BISCUIT', nan],\n",
       " ['BREAD', 'MILK', 'BISCUIT', 'CORNFLAKES'],\n",
       " ['BREAD', 'TEA', 'BOURNVITA', nan],\n",
       " ['JAM', 'MAGGI', 'BREAD', 'MILK'],\n",
       " ['MAGGI', 'TEA', 'BISCUIT', nan],\n",
       " ['BREAD', 'TEA', 'BOURNVITA', nan],\n",
       " ['MAGGI', 'TEA', 'CORNFLAKES', nan],\n",
       " ['MAGGI', 'BREAD', 'TEA,BISCUIT', 'BISCUIT'],\n",
       " ['JAM', 'MAGGI', 'BREAD', 'TEA'],\n",
       " ['BREAD', 'MILK', nan, nan],\n",
       " ['COFFEE', 'COCK', 'BISCUIT', 'CORNFLAKES'],\n",
       " ['COFFEE', 'COCK', 'BISCUIT', 'CORNFLAKES'],\n",
       " ['COFFEE', 'SUGER', 'BOURNVITA', nan],\n",
       " ['BREAD', 'COFFEE', 'COCK', nan],\n",
       " ['BREAD', 'SUGER', 'BISCUIT', nan],\n",
       " ['COFFEE', 'SUGER', 'CORNFLAKES', nan],\n",
       " ['BREAD', 'SUGER', 'BOURNVITA', nan],\n",
       " ['BREAD', 'COFFEE', 'SUGER', nan],\n",
       " ['BREAD', 'COFFEE', 'SUGER', nan],\n",
       " ['TEA', 'MILK', 'COFFEE', 'CORNFLAKES']]"
      ]
     },
     "execution_count": 26,
     "metadata": {},
     "output_type": "execute_result"
    }
   ],
   "source": [
    "df.values.tolist()"
   ]
  },
  {
   "cell_type": "code",
   "execution_count": 27,
   "id": "36511388",
   "metadata": {},
   "outputs": [],
   "source": [
    "T = []\n",
    "for i in range(len(df)):\n",
    "    T.append([str(df.values[i,j]) for j in range(0,4)])"
   ]
  },
  {
   "cell_type": "code",
   "execution_count": 28,
   "id": "52fda260",
   "metadata": {},
   "outputs": [
    {
     "data": {
      "text/plain": [
       "[['MILK', 'BREAD', 'BISCUIT', 'nan'],\n",
       " ['BREAD', 'MILK', 'BISCUIT', 'CORNFLAKES'],\n",
       " ['BREAD', 'TEA', 'BOURNVITA', 'nan'],\n",
       " ['JAM', 'MAGGI', 'BREAD', 'MILK'],\n",
       " ['MAGGI', 'TEA', 'BISCUIT', 'nan'],\n",
       " ['BREAD', 'TEA', 'BOURNVITA', 'nan'],\n",
       " ['MAGGI', 'TEA', 'CORNFLAKES', 'nan'],\n",
       " ['MAGGI', 'BREAD', 'TEA,BISCUIT', 'BISCUIT'],\n",
       " ['JAM', 'MAGGI', 'BREAD', 'TEA'],\n",
       " ['BREAD', 'MILK', 'nan', 'nan'],\n",
       " ['COFFEE', 'COCK', 'BISCUIT', 'CORNFLAKES'],\n",
       " ['COFFEE', 'COCK', 'BISCUIT', 'CORNFLAKES'],\n",
       " ['COFFEE', 'SUGER', 'BOURNVITA', 'nan'],\n",
       " ['BREAD', 'COFFEE', 'COCK', 'nan'],\n",
       " ['BREAD', 'SUGER', 'BISCUIT', 'nan'],\n",
       " ['COFFEE', 'SUGER', 'CORNFLAKES', 'nan'],\n",
       " ['BREAD', 'SUGER', 'BOURNVITA', 'nan'],\n",
       " ['BREAD', 'COFFEE', 'SUGER', 'nan'],\n",
       " ['BREAD', 'COFFEE', 'SUGER', 'nan'],\n",
       " ['TEA', 'MILK', 'COFFEE', 'CORNFLAKES']]"
      ]
     },
     "execution_count": 28,
     "metadata": {},
     "output_type": "execute_result"
    }
   ],
   "source": [
    "T"
   ]
  },
  {
   "cell_type": "code",
   "execution_count": 29,
   "id": "d48ffd4b",
   "metadata": {},
   "outputs": [
    {
     "data": {
      "text/plain": [
       "[['MILK', 'BREAD', 'BISCUIT'],\n",
       " ['BREAD', 'MILK', 'BISCUIT', 'CORNFLAKES'],\n",
       " ['BREAD', 'TEA', 'BOURNVITA'],\n",
       " ['JAM', 'MAGGI', 'BREAD', 'MILK'],\n",
       " ['MAGGI', 'TEA', 'BISCUIT'],\n",
       " ['BREAD', 'TEA', 'BOURNVITA'],\n",
       " ['MAGGI', 'TEA', 'CORNFLAKES'],\n",
       " ['MAGGI', 'BREAD', 'TEA,BISCUIT', 'BISCUIT'],\n",
       " ['JAM', 'MAGGI', 'BREAD', 'TEA'],\n",
       " ['BREAD', 'MILK'],\n",
       " ['COFFEE', 'COCK', 'BISCUIT', 'CORNFLAKES'],\n",
       " ['COFFEE', 'COCK', 'BISCUIT', 'CORNFLAKES'],\n",
       " ['COFFEE', 'SUGER', 'BOURNVITA'],\n",
       " ['BREAD', 'COFFEE', 'COCK'],\n",
       " ['BREAD', 'SUGER', 'BISCUIT'],\n",
       " ['COFFEE', 'SUGER', 'CORNFLAKES'],\n",
       " ['BREAD', 'SUGER', 'BOURNVITA'],\n",
       " ['BREAD', 'COFFEE', 'SUGER'],\n",
       " ['BREAD', 'COFFEE', 'SUGER'],\n",
       " ['TEA', 'MILK', 'COFFEE', 'CORNFLAKES']]"
      ]
     },
     "execution_count": 29,
     "metadata": {},
     "output_type": "execute_result"
    }
   ],
   "source": [
    "T = []\n",
    "for i in range(len(df)):\n",
    "    T.append([str(df.values[i,j]) for j in range(0,4) if str(df.values[i,j]) !='nan'])\n",
    "T"
   ]
  },
  {
   "cell_type": "code",
   "execution_count": 32,
   "id": "1034f458",
   "metadata": {},
   "outputs": [],
   "source": [
    "rules = apriori(T, min_support=0.03, min_confidence=0.35, min_length=2)"
   ]
  },
  {
   "cell_type": "code",
   "execution_count": 33,
   "id": "442eb444",
   "metadata": {},
   "outputs": [
    {
     "data": {
      "text/plain": [
       "[RelationRecord(items=frozenset({'BISCUIT'}), support=0.35, ordered_statistics=[OrderedStatistic(items_base=frozenset(), items_add=frozenset({'BISCUIT'}), confidence=0.35, lift=1.0)]),\n",
       " RelationRecord(items=frozenset({'BREAD'}), support=0.65, ordered_statistics=[OrderedStatistic(items_base=frozenset(), items_add=frozenset({'BREAD'}), confidence=0.65, lift=1.0)]),\n",
       " RelationRecord(items=frozenset({'COFFEE'}), support=0.4, ordered_statistics=[OrderedStatistic(items_base=frozenset(), items_add=frozenset({'COFFEE'}), confidence=0.4, lift=1.0)]),\n",
       " RelationRecord(items=frozenset({'BREAD', 'BISCUIT'}), support=0.2, ordered_statistics=[OrderedStatistic(items_base=frozenset({'BISCUIT'}), items_add=frozenset({'BREAD'}), confidence=0.5714285714285715, lift=0.8791208791208792)]),\n",
       " RelationRecord(items=frozenset({'COCK', 'BISCUIT'}), support=0.1, ordered_statistics=[OrderedStatistic(items_base=frozenset({'COCK'}), items_add=frozenset({'BISCUIT'}), confidence=0.6666666666666667, lift=1.904761904761905)]),\n",
       " RelationRecord(items=frozenset({'CORNFLAKES', 'BISCUIT'}), support=0.15, ordered_statistics=[OrderedStatistic(items_base=frozenset({'BISCUIT'}), items_add=frozenset({'CORNFLAKES'}), confidence=0.4285714285714286, lift=1.4285714285714288), OrderedStatistic(items_base=frozenset({'CORNFLAKES'}), items_add=frozenset({'BISCUIT'}), confidence=0.5, lift=1.4285714285714286)]),\n",
       " RelationRecord(items=frozenset({'MAGGI', 'BISCUIT'}), support=0.1, ordered_statistics=[OrderedStatistic(items_base=frozenset({'MAGGI'}), items_add=frozenset({'BISCUIT'}), confidence=0.4, lift=1.142857142857143)]),\n",
       " RelationRecord(items=frozenset({'MILK', 'BISCUIT'}), support=0.1, ordered_statistics=[OrderedStatistic(items_base=frozenset({'MILK'}), items_add=frozenset({'BISCUIT'}), confidence=0.4, lift=1.142857142857143)]),\n",
       " RelationRecord(items=frozenset({'TEA,BISCUIT', 'BISCUIT'}), support=0.05, ordered_statistics=[OrderedStatistic(items_base=frozenset({'TEA,BISCUIT'}), items_add=frozenset({'BISCUIT'}), confidence=1.0, lift=2.857142857142857)]),\n",
       " RelationRecord(items=frozenset({'BREAD', 'BOURNVITA'}), support=0.15, ordered_statistics=[OrderedStatistic(items_base=frozenset({'BOURNVITA'}), items_add=frozenset({'BREAD'}), confidence=0.7499999999999999, lift=1.1538461538461537)]),\n",
       " RelationRecord(items=frozenset({'SUGER', 'BOURNVITA'}), support=0.1, ordered_statistics=[OrderedStatistic(items_base=frozenset({'BOURNVITA'}), items_add=frozenset({'SUGER'}), confidence=0.5, lift=1.6666666666666667)]),\n",
       " RelationRecord(items=frozenset({'TEA', 'BOURNVITA'}), support=0.1, ordered_statistics=[OrderedStatistic(items_base=frozenset({'BOURNVITA'}), items_add=frozenset({'TEA'}), confidence=0.5, lift=1.6666666666666667)]),\n",
       " RelationRecord(items=frozenset({'BREAD', 'COFFEE'}), support=0.15, ordered_statistics=[OrderedStatistic(items_base=frozenset({'COFFEE'}), items_add=frozenset({'BREAD'}), confidence=0.37499999999999994, lift=0.5769230769230769)]),\n",
       " RelationRecord(items=frozenset({'JAM', 'BREAD'}), support=0.1, ordered_statistics=[OrderedStatistic(items_base=frozenset({'JAM'}), items_add=frozenset({'BREAD'}), confidence=1.0, lift=1.5384615384615383)]),\n",
       " RelationRecord(items=frozenset({'MAGGI', 'BREAD'}), support=0.15, ordered_statistics=[OrderedStatistic(items_base=frozenset({'MAGGI'}), items_add=frozenset({'BREAD'}), confidence=0.6, lift=0.923076923076923)]),\n",
       " RelationRecord(items=frozenset({'MILK', 'BREAD'}), support=0.2, ordered_statistics=[OrderedStatistic(items_base=frozenset({'MILK'}), items_add=frozenset({'BREAD'}), confidence=0.8, lift=1.2307692307692308)]),\n",
       " RelationRecord(items=frozenset({'SUGER', 'BREAD'}), support=0.2, ordered_statistics=[OrderedStatistic(items_base=frozenset({'SUGER'}), items_add=frozenset({'BREAD'}), confidence=0.6666666666666667, lift=1.0256410256410258)]),\n",
       " RelationRecord(items=frozenset({'BREAD', 'TEA'}), support=0.15, ordered_statistics=[OrderedStatistic(items_base=frozenset({'TEA'}), items_add=frozenset({'BREAD'}), confidence=0.5, lift=0.7692307692307692)]),\n",
       " RelationRecord(items=frozenset({'BREAD', 'TEA,BISCUIT'}), support=0.05, ordered_statistics=[OrderedStatistic(items_base=frozenset({'TEA,BISCUIT'}), items_add=frozenset({'BREAD'}), confidence=1.0, lift=1.5384615384615383)]),\n",
       " RelationRecord(items=frozenset({'COFFEE', 'COCK'}), support=0.15, ordered_statistics=[OrderedStatistic(items_base=frozenset({'COCK'}), items_add=frozenset({'COFFEE'}), confidence=1.0, lift=2.5), OrderedStatistic(items_base=frozenset({'COFFEE'}), items_add=frozenset({'COCK'}), confidence=0.37499999999999994, lift=2.4999999999999996)]),\n",
       " RelationRecord(items=frozenset({'CORNFLAKES', 'COCK'}), support=0.1, ordered_statistics=[OrderedStatistic(items_base=frozenset({'COCK'}), items_add=frozenset({'CORNFLAKES'}), confidence=0.6666666666666667, lift=2.2222222222222228)]),\n",
       " RelationRecord(items=frozenset({'CORNFLAKES', 'COFFEE'}), support=0.2, ordered_statistics=[OrderedStatistic(items_base=frozenset({'COFFEE'}), items_add=frozenset({'CORNFLAKES'}), confidence=0.5, lift=1.6666666666666667), OrderedStatistic(items_base=frozenset({'CORNFLAKES'}), items_add=frozenset({'COFFEE'}), confidence=0.6666666666666667, lift=1.6666666666666667)]),\n",
       " RelationRecord(items=frozenset({'SUGER', 'COFFEE'}), support=0.2, ordered_statistics=[OrderedStatistic(items_base=frozenset({'COFFEE'}), items_add=frozenset({'SUGER'}), confidence=0.5, lift=1.6666666666666667), OrderedStatistic(items_base=frozenset({'SUGER'}), items_add=frozenset({'COFFEE'}), confidence=0.6666666666666667, lift=1.6666666666666667)]),\n",
       " RelationRecord(items=frozenset({'MILK', 'CORNFLAKES'}), support=0.1, ordered_statistics=[OrderedStatistic(items_base=frozenset({'MILK'}), items_add=frozenset({'CORNFLAKES'}), confidence=0.4, lift=1.3333333333333335)]),\n",
       " RelationRecord(items=frozenset({'JAM', 'MAGGI'}), support=0.1, ordered_statistics=[OrderedStatistic(items_base=frozenset({'JAM'}), items_add=frozenset({'MAGGI'}), confidence=1.0, lift=4.0), OrderedStatistic(items_base=frozenset({'MAGGI'}), items_add=frozenset({'JAM'}), confidence=0.4, lift=4.0)]),\n",
       " RelationRecord(items=frozenset({'JAM', 'MILK'}), support=0.05, ordered_statistics=[OrderedStatistic(items_base=frozenset({'JAM'}), items_add=frozenset({'MILK'}), confidence=0.5, lift=2.0)]),\n",
       " RelationRecord(items=frozenset({'JAM', 'TEA'}), support=0.05, ordered_statistics=[OrderedStatistic(items_base=frozenset({'JAM'}), items_add=frozenset({'TEA'}), confidence=0.5, lift=1.6666666666666667)]),\n",
       " RelationRecord(items=frozenset({'MAGGI', 'TEA'}), support=0.15, ordered_statistics=[OrderedStatistic(items_base=frozenset({'MAGGI'}), items_add=frozenset({'TEA'}), confidence=0.6, lift=2.0), OrderedStatistic(items_base=frozenset({'TEA'}), items_add=frozenset({'MAGGI'}), confidence=0.5, lift=2.0)]),\n",
       " RelationRecord(items=frozenset({'MAGGI', 'TEA,BISCUIT'}), support=0.05, ordered_statistics=[OrderedStatistic(items_base=frozenset({'TEA,BISCUIT'}), items_add=frozenset({'MAGGI'}), confidence=1.0, lift=4.0)]),\n",
       " RelationRecord(items=frozenset({'BREAD', 'CORNFLAKES', 'BISCUIT'}), support=0.05, ordered_statistics=[OrderedStatistic(items_base=frozenset({'BREAD', 'CORNFLAKES'}), items_add=frozenset({'BISCUIT'}), confidence=1.0, lift=2.857142857142857)]),\n",
       " RelationRecord(items=frozenset({'MAGGI', 'BREAD', 'BISCUIT'}), support=0.05, ordered_statistics=[OrderedStatistic(items_base=frozenset({'MAGGI', 'BISCUIT'}), items_add=frozenset({'BREAD'}), confidence=0.5, lift=0.7692307692307692)]),\n",
       " RelationRecord(items=frozenset({'MILK', 'BREAD', 'BISCUIT'}), support=0.1, ordered_statistics=[OrderedStatistic(items_base=frozenset({'MILK'}), items_add=frozenset({'BREAD', 'BISCUIT'}), confidence=0.4, lift=2.0), OrderedStatistic(items_base=frozenset({'BREAD', 'BISCUIT'}), items_add=frozenset({'MILK'}), confidence=0.5, lift=2.0), OrderedStatistic(items_base=frozenset({'MILK', 'BISCUIT'}), items_add=frozenset({'BREAD'}), confidence=1.0, lift=1.5384615384615383), OrderedStatistic(items_base=frozenset({'MILK', 'BREAD'}), items_add=frozenset({'BISCUIT'}), confidence=0.5, lift=1.4285714285714286)]),\n",
       " RelationRecord(items=frozenset({'SUGER', 'BREAD', 'BISCUIT'}), support=0.05, ordered_statistics=[OrderedStatistic(items_base=frozenset({'SUGER', 'BISCUIT'}), items_add=frozenset({'BREAD'}), confidence=1.0, lift=1.5384615384615383)]),\n",
       " RelationRecord(items=frozenset({'BREAD', 'TEA,BISCUIT', 'BISCUIT'}), support=0.05, ordered_statistics=[OrderedStatistic(items_base=frozenset({'TEA,BISCUIT'}), items_add=frozenset({'BREAD', 'BISCUIT'}), confidence=1.0, lift=5.0), OrderedStatistic(items_base=frozenset({'TEA,BISCUIT', 'BISCUIT'}), items_add=frozenset({'BREAD'}), confidence=1.0, lift=1.5384615384615383), OrderedStatistic(items_base=frozenset({'BREAD', 'TEA,BISCUIT'}), items_add=frozenset({'BISCUIT'}), confidence=1.0, lift=2.857142857142857)]),\n",
       " RelationRecord(items=frozenset({'COFFEE', 'COCK', 'BISCUIT'}), support=0.1, ordered_statistics=[OrderedStatistic(items_base=frozenset({'COCK'}), items_add=frozenset({'COFFEE', 'BISCUIT'}), confidence=0.6666666666666667, lift=6.666666666666667), OrderedStatistic(items_base=frozenset({'COCK', 'BISCUIT'}), items_add=frozenset({'COFFEE'}), confidence=1.0, lift=2.5), OrderedStatistic(items_base=frozenset({'COFFEE', 'BISCUIT'}), items_add=frozenset({'COCK'}), confidence=1.0, lift=6.666666666666667), OrderedStatistic(items_base=frozenset({'COFFEE', 'COCK'}), items_add=frozenset({'BISCUIT'}), confidence=0.6666666666666667, lift=1.904761904761905)]),\n",
       " RelationRecord(items=frozenset({'CORNFLAKES', 'COCK', 'BISCUIT'}), support=0.1, ordered_statistics=[OrderedStatistic(items_base=frozenset({'COCK'}), items_add=frozenset({'CORNFLAKES', 'BISCUIT'}), confidence=0.6666666666666667, lift=4.4444444444444455), OrderedStatistic(items_base=frozenset({'COCK', 'BISCUIT'}), items_add=frozenset({'CORNFLAKES'}), confidence=1.0, lift=3.3333333333333335), OrderedStatistic(items_base=frozenset({'CORNFLAKES', 'BISCUIT'}), items_add=frozenset({'COCK'}), confidence=0.6666666666666667, lift=4.4444444444444455), OrderedStatistic(items_base=frozenset({'CORNFLAKES', 'COCK'}), items_add=frozenset({'BISCUIT'}), confidence=1.0, lift=2.857142857142857)]),\n",
       " RelationRecord(items=frozenset({'CORNFLAKES', 'COFFEE', 'BISCUIT'}), support=0.1, ordered_statistics=[OrderedStatistic(items_base=frozenset({'COFFEE', 'BISCUIT'}), items_add=frozenset({'CORNFLAKES'}), confidence=1.0, lift=3.3333333333333335), OrderedStatistic(items_base=frozenset({'CORNFLAKES', 'BISCUIT'}), items_add=frozenset({'COFFEE'}), confidence=0.6666666666666667, lift=1.6666666666666667), OrderedStatistic(items_base=frozenset({'CORNFLAKES', 'COFFEE'}), items_add=frozenset({'BISCUIT'}), confidence=0.5, lift=1.4285714285714286)]),\n",
       " RelationRecord(items=frozenset({'MILK', 'CORNFLAKES', 'BISCUIT'}), support=0.05, ordered_statistics=[OrderedStatistic(items_base=frozenset({'MILK', 'BISCUIT'}), items_add=frozenset({'CORNFLAKES'}), confidence=0.5, lift=1.6666666666666667), OrderedStatistic(items_base=frozenset({'MILK', 'CORNFLAKES'}), items_add=frozenset({'BISCUIT'}), confidence=0.5, lift=1.4285714285714286)]),\n",
       " RelationRecord(items=frozenset({'MAGGI', 'TEA', 'BISCUIT'}), support=0.05, ordered_statistics=[OrderedStatistic(items_base=frozenset({'MAGGI', 'BISCUIT'}), items_add=frozenset({'TEA'}), confidence=0.5, lift=1.6666666666666667), OrderedStatistic(items_base=frozenset({'TEA', 'BISCUIT'}), items_add=frozenset({'MAGGI'}), confidence=1.0, lift=4.0)]),\n",
       " RelationRecord(items=frozenset({'MAGGI', 'TEA,BISCUIT', 'BISCUIT'}), support=0.05, ordered_statistics=[OrderedStatistic(items_base=frozenset({'TEA,BISCUIT'}), items_add=frozenset({'MAGGI', 'BISCUIT'}), confidence=1.0, lift=10.0), OrderedStatistic(items_base=frozenset({'MAGGI', 'BISCUIT'}), items_add=frozenset({'TEA,BISCUIT'}), confidence=0.5, lift=10.0), OrderedStatistic(items_base=frozenset({'TEA,BISCUIT', 'BISCUIT'}), items_add=frozenset({'MAGGI'}), confidence=1.0, lift=4.0), OrderedStatistic(items_base=frozenset({'MAGGI', 'TEA,BISCUIT'}), items_add=frozenset({'BISCUIT'}), confidence=1.0, lift=2.857142857142857)]),\n",
       " RelationRecord(items=frozenset({'SUGER', 'BREAD', 'BOURNVITA'}), support=0.05, ordered_statistics=[OrderedStatistic(items_base=frozenset({'SUGER', 'BOURNVITA'}), items_add=frozenset({'BREAD'}), confidence=0.5, lift=0.7692307692307692)]),\n",
       " RelationRecord(items=frozenset({'BREAD', 'BOURNVITA', 'TEA'}), support=0.1, ordered_statistics=[OrderedStatistic(items_base=frozenset({'BOURNVITA'}), items_add=frozenset({'BREAD', 'TEA'}), confidence=0.5, lift=3.3333333333333335), OrderedStatistic(items_base=frozenset({'BREAD', 'BOURNVITA'}), items_add=frozenset({'TEA'}), confidence=0.6666666666666667, lift=2.2222222222222228), OrderedStatistic(items_base=frozenset({'TEA', 'BOURNVITA'}), items_add=frozenset({'BREAD'}), confidence=1.0, lift=1.5384615384615383), OrderedStatistic(items_base=frozenset({'BREAD', 'TEA'}), items_add=frozenset({'BOURNVITA'}), confidence=0.6666666666666667, lift=3.3333333333333335)]),\n",
       " RelationRecord(items=frozenset({'SUGER', 'BOURNVITA', 'COFFEE'}), support=0.05, ordered_statistics=[OrderedStatistic(items_base=frozenset({'BOURNVITA', 'COFFEE'}), items_add=frozenset({'SUGER'}), confidence=1.0, lift=3.3333333333333335), OrderedStatistic(items_base=frozenset({'SUGER', 'BOURNVITA'}), items_add=frozenset({'COFFEE'}), confidence=0.5, lift=1.25)]),\n",
       " RelationRecord(items=frozenset({'COFFEE', 'BREAD', 'COCK'}), support=0.05, ordered_statistics=[OrderedStatistic(items_base=frozenset({'BREAD', 'COCK'}), items_add=frozenset({'COFFEE'}), confidence=1.0, lift=2.5)]),\n",
       " RelationRecord(items=frozenset({'SUGER', 'BREAD', 'COFFEE'}), support=0.1, ordered_statistics=[OrderedStatistic(items_base=frozenset({'BREAD', 'COFFEE'}), items_add=frozenset({'SUGER'}), confidence=0.6666666666666667, lift=2.2222222222222228), OrderedStatistic(items_base=frozenset({'SUGER', 'BREAD'}), items_add=frozenset({'COFFEE'}), confidence=0.5, lift=1.25), OrderedStatistic(items_base=frozenset({'SUGER', 'COFFEE'}), items_add=frozenset({'BREAD'}), confidence=0.5, lift=0.7692307692307692)]),\n",
       " RelationRecord(items=frozenset({'MILK', 'BREAD', 'CORNFLAKES'}), support=0.05, ordered_statistics=[OrderedStatistic(items_base=frozenset({'BREAD', 'CORNFLAKES'}), items_add=frozenset({'MILK'}), confidence=1.0, lift=4.0), OrderedStatistic(items_base=frozenset({'MILK', 'CORNFLAKES'}), items_add=frozenset({'BREAD'}), confidence=0.5, lift=0.7692307692307692)]),\n",
       " RelationRecord(items=frozenset({'JAM', 'MAGGI', 'BREAD'}), support=0.1, ordered_statistics=[OrderedStatistic(items_base=frozenset({'JAM'}), items_add=frozenset({'MAGGI', 'BREAD'}), confidence=1.0, lift=6.666666666666667), OrderedStatistic(items_base=frozenset({'MAGGI'}), items_add=frozenset({'JAM', 'BREAD'}), confidence=0.4, lift=4.0), OrderedStatistic(items_base=frozenset({'JAM', 'BREAD'}), items_add=frozenset({'MAGGI'}), confidence=1.0, lift=4.0), OrderedStatistic(items_base=frozenset({'MAGGI', 'BREAD'}), items_add=frozenset({'JAM'}), confidence=0.6666666666666667, lift=6.666666666666667), OrderedStatistic(items_base=frozenset({'JAM', 'MAGGI'}), items_add=frozenset({'BREAD'}), confidence=1.0, lift=1.5384615384615383)]),\n",
       " RelationRecord(items=frozenset({'JAM', 'MILK', 'BREAD'}), support=0.05, ordered_statistics=[OrderedStatistic(items_base=frozenset({'JAM'}), items_add=frozenset({'MILK', 'BREAD'}), confidence=0.5, lift=2.5), OrderedStatistic(items_base=frozenset({'JAM', 'BREAD'}), items_add=frozenset({'MILK'}), confidence=0.5, lift=2.0), OrderedStatistic(items_base=frozenset({'JAM', 'MILK'}), items_add=frozenset({'BREAD'}), confidence=1.0, lift=1.5384615384615383)]),\n",
       " RelationRecord(items=frozenset({'JAM', 'BREAD', 'TEA'}), support=0.05, ordered_statistics=[OrderedStatistic(items_base=frozenset({'JAM'}), items_add=frozenset({'BREAD', 'TEA'}), confidence=0.5, lift=3.3333333333333335), OrderedStatistic(items_base=frozenset({'JAM', 'BREAD'}), items_add=frozenset({'TEA'}), confidence=0.5, lift=1.6666666666666667), OrderedStatistic(items_base=frozenset({'JAM', 'TEA'}), items_add=frozenset({'BREAD'}), confidence=1.0, lift=1.5384615384615383)]),\n",
       " RelationRecord(items=frozenset({'MILK', 'MAGGI', 'BREAD'}), support=0.05, ordered_statistics=[OrderedStatistic(items_base=frozenset({'MILK', 'MAGGI'}), items_add=frozenset({'BREAD'}), confidence=1.0, lift=1.5384615384615383)]),\n",
       " RelationRecord(items=frozenset({'MAGGI', 'BREAD', 'TEA,BISCUIT'}), support=0.05, ordered_statistics=[OrderedStatistic(items_base=frozenset({'TEA,BISCUIT'}), items_add=frozenset({'MAGGI', 'BREAD'}), confidence=1.0, lift=6.666666666666667), OrderedStatistic(items_base=frozenset({'BREAD', 'TEA,BISCUIT'}), items_add=frozenset({'MAGGI'}), confidence=1.0, lift=4.0), OrderedStatistic(items_base=frozenset({'MAGGI', 'TEA,BISCUIT'}), items_add=frozenset({'BREAD'}), confidence=1.0, lift=1.5384615384615383)]),\n",
       " RelationRecord(items=frozenset({'CORNFLAKES', 'COFFEE', 'COCK'}), support=0.1, ordered_statistics=[OrderedStatistic(items_base=frozenset({'COCK'}), items_add=frozenset({'COFFEE', 'CORNFLAKES'}), confidence=0.6666666666666667, lift=3.3333333333333335), OrderedStatistic(items_base=frozenset({'COFFEE', 'COCK'}), items_add=frozenset({'CORNFLAKES'}), confidence=0.6666666666666667, lift=2.2222222222222228), OrderedStatistic(items_base=frozenset({'CORNFLAKES', 'COCK'}), items_add=frozenset({'COFFEE'}), confidence=1.0, lift=2.5), OrderedStatistic(items_base=frozenset({'CORNFLAKES', 'COFFEE'}), items_add=frozenset({'COCK'}), confidence=0.5, lift=3.3333333333333335)]),\n",
       " RelationRecord(items=frozenset({'CORNFLAKES', 'MILK', 'COFFEE'}), support=0.05, ordered_statistics=[OrderedStatistic(items_base=frozenset({'MILK', 'COFFEE'}), items_add=frozenset({'CORNFLAKES'}), confidence=1.0, lift=3.3333333333333335), OrderedStatistic(items_base=frozenset({'MILK', 'CORNFLAKES'}), items_add=frozenset({'COFFEE'}), confidence=0.5, lift=1.25)]),\n",
       " RelationRecord(items=frozenset({'CORNFLAKES', 'SUGER', 'COFFEE'}), support=0.05, ordered_statistics=[OrderedStatistic(items_base=frozenset({'SUGER', 'CORNFLAKES'}), items_add=frozenset({'COFFEE'}), confidence=1.0, lift=2.5)]),\n",
       " RelationRecord(items=frozenset({'CORNFLAKES', 'TEA', 'COFFEE'}), support=0.05, ordered_statistics=[OrderedStatistic(items_base=frozenset({'TEA', 'COFFEE'}), items_add=frozenset({'CORNFLAKES'}), confidence=1.0, lift=3.3333333333333335), OrderedStatistic(items_base=frozenset({'TEA', 'CORNFLAKES'}), items_add=frozenset({'COFFEE'}), confidence=0.5, lift=1.25)]),\n",
       " RelationRecord(items=frozenset({'MILK', 'TEA', 'COFFEE'}), support=0.05, ordered_statistics=[OrderedStatistic(items_base=frozenset({'MILK', 'COFFEE'}), items_add=frozenset({'TEA'}), confidence=1.0, lift=3.3333333333333335), OrderedStatistic(items_base=frozenset({'TEA', 'COFFEE'}), items_add=frozenset({'MILK'}), confidence=1.0, lift=4.0), OrderedStatistic(items_base=frozenset({'MILK', 'TEA'}), items_add=frozenset({'COFFEE'}), confidence=1.0, lift=2.5)]),\n",
       " RelationRecord(items=frozenset({'MAGGI', 'TEA', 'CORNFLAKES'}), support=0.05, ordered_statistics=[OrderedStatistic(items_base=frozenset({'MAGGI', 'CORNFLAKES'}), items_add=frozenset({'TEA'}), confidence=1.0, lift=3.3333333333333335), OrderedStatistic(items_base=frozenset({'TEA', 'CORNFLAKES'}), items_add=frozenset({'MAGGI'}), confidence=0.5, lift=2.0)]),\n",
       " RelationRecord(items=frozenset({'MILK', 'TEA', 'CORNFLAKES'}), support=0.05, ordered_statistics=[OrderedStatistic(items_base=frozenset({'MILK', 'CORNFLAKES'}), items_add=frozenset({'TEA'}), confidence=0.5, lift=1.6666666666666667), OrderedStatistic(items_base=frozenset({'TEA', 'CORNFLAKES'}), items_add=frozenset({'MILK'}), confidence=0.5, lift=2.0), OrderedStatistic(items_base=frozenset({'MILK', 'TEA'}), items_add=frozenset({'CORNFLAKES'}), confidence=1.0, lift=3.3333333333333335)]),\n",
       " RelationRecord(items=frozenset({'JAM', 'MILK', 'MAGGI'}), support=0.05, ordered_statistics=[OrderedStatistic(items_base=frozenset({'JAM'}), items_add=frozenset({'MILK', 'MAGGI'}), confidence=0.5, lift=10.0), OrderedStatistic(items_base=frozenset({'JAM', 'MAGGI'}), items_add=frozenset({'MILK'}), confidence=0.5, lift=2.0), OrderedStatistic(items_base=frozenset({'JAM', 'MILK'}), items_add=frozenset({'MAGGI'}), confidence=1.0, lift=4.0), OrderedStatistic(items_base=frozenset({'MILK', 'MAGGI'}), items_add=frozenset({'JAM'}), confidence=1.0, lift=10.0)]),\n",
       " RelationRecord(items=frozenset({'JAM', 'MAGGI', 'TEA'}), support=0.05, ordered_statistics=[OrderedStatistic(items_base=frozenset({'JAM'}), items_add=frozenset({'MAGGI', 'TEA'}), confidence=0.5, lift=3.3333333333333335), OrderedStatistic(items_base=frozenset({'JAM', 'MAGGI'}), items_add=frozenset({'TEA'}), confidence=0.5, lift=1.6666666666666667), OrderedStatistic(items_base=frozenset({'JAM', 'TEA'}), items_add=frozenset({'MAGGI'}), confidence=1.0, lift=4.0)]),\n",
       " RelationRecord(items=frozenset({'MILK', 'BREAD', 'CORNFLAKES', 'BISCUIT'}), support=0.05, ordered_statistics=[OrderedStatistic(items_base=frozenset({'MILK', 'BISCUIT'}), items_add=frozenset({'BREAD', 'CORNFLAKES'}), confidence=0.5, lift=10.0), OrderedStatistic(items_base=frozenset({'BREAD', 'CORNFLAKES'}), items_add=frozenset({'MILK', 'BISCUIT'}), confidence=1.0, lift=10.0), OrderedStatistic(items_base=frozenset({'MILK', 'CORNFLAKES'}), items_add=frozenset({'BREAD', 'BISCUIT'}), confidence=0.5, lift=2.5), OrderedStatistic(items_base=frozenset({'BREAD', 'CORNFLAKES', 'BISCUIT'}), items_add=frozenset({'MILK'}), confidence=1.0, lift=4.0), OrderedStatistic(items_base=frozenset({'MILK', 'BREAD', 'BISCUIT'}), items_add=frozenset({'CORNFLAKES'}), confidence=0.5, lift=1.6666666666666667), OrderedStatistic(items_base=frozenset({'MILK', 'CORNFLAKES', 'BISCUIT'}), items_add=frozenset({'BREAD'}), confidence=1.0, lift=1.5384615384615383), OrderedStatistic(items_base=frozenset({'MILK', 'BREAD', 'CORNFLAKES'}), items_add=frozenset({'BISCUIT'}), confidence=1.0, lift=2.857142857142857)]),\n",
       " RelationRecord(items=frozenset({'MAGGI', 'BREAD', 'TEA,BISCUIT', 'BISCUIT'}), support=0.05, ordered_statistics=[OrderedStatistic(items_base=frozenset({'TEA,BISCUIT'}), items_add=frozenset({'MAGGI', 'BREAD', 'BISCUIT'}), confidence=1.0, lift=20.0), OrderedStatistic(items_base=frozenset({'MAGGI', 'BISCUIT'}), items_add=frozenset({'BREAD', 'TEA,BISCUIT'}), confidence=0.5, lift=10.0), OrderedStatistic(items_base=frozenset({'TEA,BISCUIT', 'BISCUIT'}), items_add=frozenset({'MAGGI', 'BREAD'}), confidence=1.0, lift=6.666666666666667), OrderedStatistic(items_base=frozenset({'BREAD', 'TEA,BISCUIT'}), items_add=frozenset({'MAGGI', 'BISCUIT'}), confidence=1.0, lift=10.0), OrderedStatistic(items_base=frozenset({'MAGGI', 'TEA,BISCUIT'}), items_add=frozenset({'BREAD', 'BISCUIT'}), confidence=1.0, lift=5.0), OrderedStatistic(items_base=frozenset({'MAGGI', 'BREAD', 'BISCUIT'}), items_add=frozenset({'TEA,BISCUIT'}), confidence=1.0, lift=20.0), OrderedStatistic(items_base=frozenset({'BREAD', 'TEA,BISCUIT', 'BISCUIT'}), items_add=frozenset({'MAGGI'}), confidence=1.0, lift=4.0), OrderedStatistic(items_base=frozenset({'MAGGI', 'TEA,BISCUIT', 'BISCUIT'}), items_add=frozenset({'BREAD'}), confidence=1.0, lift=1.5384615384615383), OrderedStatistic(items_base=frozenset({'MAGGI', 'BREAD', 'TEA,BISCUIT'}), items_add=frozenset({'BISCUIT'}), confidence=1.0, lift=2.857142857142857)]),\n",
       " RelationRecord(items=frozenset({'CORNFLAKES', 'COFFEE', 'COCK', 'BISCUIT'}), support=0.1, ordered_statistics=[OrderedStatistic(items_base=frozenset({'COCK'}), items_add=frozenset({'COFFEE', 'CORNFLAKES', 'BISCUIT'}), confidence=0.6666666666666667, lift=6.666666666666667), OrderedStatistic(items_base=frozenset({'COCK', 'BISCUIT'}), items_add=frozenset({'COFFEE', 'CORNFLAKES'}), confidence=1.0, lift=5.0), OrderedStatistic(items_base=frozenset({'COFFEE', 'BISCUIT'}), items_add=frozenset({'COCK', 'CORNFLAKES'}), confidence=1.0, lift=10.0), OrderedStatistic(items_base=frozenset({'CORNFLAKES', 'BISCUIT'}), items_add=frozenset({'COCK', 'COFFEE'}), confidence=0.6666666666666667, lift=4.4444444444444455), OrderedStatistic(items_base=frozenset({'COFFEE', 'COCK'}), items_add=frozenset({'CORNFLAKES', 'BISCUIT'}), confidence=0.6666666666666667, lift=4.4444444444444455), OrderedStatistic(items_base=frozenset({'CORNFLAKES', 'COCK'}), items_add=frozenset({'COFFEE', 'BISCUIT'}), confidence=1.0, lift=10.0), OrderedStatistic(items_base=frozenset({'CORNFLAKES', 'COFFEE'}), items_add=frozenset({'COCK', 'BISCUIT'}), confidence=0.5, lift=5.0), OrderedStatistic(items_base=frozenset({'COFFEE', 'COCK', 'BISCUIT'}), items_add=frozenset({'CORNFLAKES'}), confidence=1.0, lift=3.3333333333333335), OrderedStatistic(items_base=frozenset({'CORNFLAKES', 'COCK', 'BISCUIT'}), items_add=frozenset({'COFFEE'}), confidence=1.0, lift=2.5), OrderedStatistic(items_base=frozenset({'CORNFLAKES', 'COFFEE', 'BISCUIT'}), items_add=frozenset({'COCK'}), confidence=1.0, lift=6.666666666666667), OrderedStatistic(items_base=frozenset({'CORNFLAKES', 'COFFEE', 'COCK'}), items_add=frozenset({'BISCUIT'}), confidence=1.0, lift=2.857142857142857)]),\n",
       " RelationRecord(items=frozenset({'JAM', 'MILK', 'MAGGI', 'BREAD'}), support=0.05, ordered_statistics=[OrderedStatistic(items_base=frozenset({'JAM'}), items_add=frozenset({'MILK', 'MAGGI', 'BREAD'}), confidence=0.5, lift=10.0), OrderedStatistic(items_base=frozenset({'JAM', 'BREAD'}), items_add=frozenset({'MILK', 'MAGGI'}), confidence=0.5, lift=10.0), OrderedStatistic(items_base=frozenset({'JAM', 'MAGGI'}), items_add=frozenset({'MILK', 'BREAD'}), confidence=0.5, lift=2.5), OrderedStatistic(items_base=frozenset({'JAM', 'MILK'}), items_add=frozenset({'MAGGI', 'BREAD'}), confidence=1.0, lift=6.666666666666667), OrderedStatistic(items_base=frozenset({'MILK', 'MAGGI'}), items_add=frozenset({'JAM', 'BREAD'}), confidence=1.0, lift=10.0), OrderedStatistic(items_base=frozenset({'JAM', 'MAGGI', 'BREAD'}), items_add=frozenset({'MILK'}), confidence=0.5, lift=2.0), OrderedStatistic(items_base=frozenset({'JAM', 'MILK', 'BREAD'}), items_add=frozenset({'MAGGI'}), confidence=1.0, lift=4.0), OrderedStatistic(items_base=frozenset({'MILK', 'MAGGI', 'BREAD'}), items_add=frozenset({'JAM'}), confidence=1.0, lift=10.0), OrderedStatistic(items_base=frozenset({'JAM', 'MILK', 'MAGGI'}), items_add=frozenset({'BREAD'}), confidence=1.0, lift=1.5384615384615383)]),\n",
       " RelationRecord(items=frozenset({'JAM', 'MAGGI', 'BREAD', 'TEA'}), support=0.05, ordered_statistics=[OrderedStatistic(items_base=frozenset({'JAM'}), items_add=frozenset({'MAGGI', 'BREAD', 'TEA'}), confidence=0.5, lift=10.0), OrderedStatistic(items_base=frozenset({'JAM', 'BREAD'}), items_add=frozenset({'MAGGI', 'TEA'}), confidence=0.5, lift=3.3333333333333335), OrderedStatistic(items_base=frozenset({'JAM', 'MAGGI'}), items_add=frozenset({'BREAD', 'TEA'}), confidence=0.5, lift=3.3333333333333335), OrderedStatistic(items_base=frozenset({'JAM', 'TEA'}), items_add=frozenset({'MAGGI', 'BREAD'}), confidence=1.0, lift=6.666666666666667), OrderedStatistic(items_base=frozenset({'JAM', 'MAGGI', 'BREAD'}), items_add=frozenset({'TEA'}), confidence=0.5, lift=1.6666666666666667), OrderedStatistic(items_base=frozenset({'JAM', 'BREAD', 'TEA'}), items_add=frozenset({'MAGGI'}), confidence=1.0, lift=4.0), OrderedStatistic(items_base=frozenset({'MAGGI', 'BREAD', 'TEA'}), items_add=frozenset({'JAM'}), confidence=1.0, lift=10.0), OrderedStatistic(items_base=frozenset({'JAM', 'MAGGI', 'TEA'}), items_add=frozenset({'BREAD'}), confidence=1.0, lift=1.5384615384615383)]),\n",
       " RelationRecord(items=frozenset({'CORNFLAKES', 'MILK', 'TEA', 'COFFEE'}), support=0.05, ordered_statistics=[OrderedStatistic(items_base=frozenset({'MILK', 'COFFEE'}), items_add=frozenset({'TEA', 'CORNFLAKES'}), confidence=1.0, lift=10.0), OrderedStatistic(items_base=frozenset({'TEA', 'COFFEE'}), items_add=frozenset({'MILK', 'CORNFLAKES'}), confidence=1.0, lift=10.0), OrderedStatistic(items_base=frozenset({'MILK', 'CORNFLAKES'}), items_add=frozenset({'TEA', 'COFFEE'}), confidence=0.5, lift=10.0), OrderedStatistic(items_base=frozenset({'TEA', 'CORNFLAKES'}), items_add=frozenset({'MILK', 'COFFEE'}), confidence=0.5, lift=10.0), OrderedStatistic(items_base=frozenset({'MILK', 'TEA'}), items_add=frozenset({'COFFEE', 'CORNFLAKES'}), confidence=1.0, lift=5.0), OrderedStatistic(items_base=frozenset({'CORNFLAKES', 'MILK', 'COFFEE'}), items_add=frozenset({'TEA'}), confidence=1.0, lift=3.3333333333333335), OrderedStatistic(items_base=frozenset({'CORNFLAKES', 'TEA', 'COFFEE'}), items_add=frozenset({'MILK'}), confidence=1.0, lift=4.0), OrderedStatistic(items_base=frozenset({'MILK', 'TEA', 'COFFEE'}), items_add=frozenset({'CORNFLAKES'}), confidence=1.0, lift=3.3333333333333335), OrderedStatistic(items_base=frozenset({'MILK', 'TEA', 'CORNFLAKES'}), items_add=frozenset({'COFFEE'}), confidence=1.0, lift=2.5)])]"
      ]
     },
     "execution_count": 33,
     "metadata": {},
     "output_type": "execute_result"
    }
   ],
   "source": [
    "list(rules)"
   ]
  },
  {
   "cell_type": "code",
   "execution_count": null,
   "id": "930776f1",
   "metadata": {},
   "outputs": [],
   "source": []
  }
 ],
 "metadata": {
  "kernelspec": {
   "display_name": "Python 3 (ipykernel)",
   "language": "python",
   "name": "python3"
  },
  "language_info": {
   "codemirror_mode": {
    "name": "ipython",
    "version": 3
   },
   "file_extension": ".py",
   "mimetype": "text/x-python",
   "name": "python",
   "nbconvert_exporter": "python",
   "pygments_lexer": "ipython3",
   "version": "3.9.7"
  }
 },
 "nbformat": 4,
 "nbformat_minor": 5
}
