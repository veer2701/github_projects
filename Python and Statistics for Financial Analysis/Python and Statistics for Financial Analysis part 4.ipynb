{
 "cells": [
  {
   "cell_type": "code",
   "execution_count": 1,
   "id": "0de99f2b",
   "metadata": {},
   "outputs": [],
   "source": [
    "#import the packages \"Pandas\" and \"MatPlotLib\" into Jupyter Notebook\n",
    "import pandas as pd\n",
    "import matplotlib.pyplot as plt\n",
    "%matplotlib inline"
   ]
  },
  {
   "cell_type": "code",
   "execution_count": 2,
   "id": "c909fafe",
   "metadata": {},
   "outputs": [],
   "source": [
    "#We import the stock data of Facebook into Jupyter Notebook. The CSV file is located in the folder called \"Data\" in your Workspace\n",
    "#We then name the DataFrame name as 'fb'\n",
    "#fb = yf.DataFrame.from_csv('../data/facebook.csv')\n",
    "#fb.head()"
   ]
  },
  {
   "cell_type": "code",
   "execution_count": 3,
   "id": "b21395d2",
   "metadata": {},
   "outputs": [
    {
     "name": "stdout",
     "output_type": "stream",
     "text": [
      "[*********************100%***********************]  1 of 1 completed\n",
      "[*********************100%***********************]  1 of 1 completed\n"
     ]
    }
   ],
   "source": [
    "# yahoo finance is used to fetch data\n",
    "import yfinance as yf\n",
    "# Read data\n",
    "fb = yf.download('FB')\n",
    "ms = yf.download('MSFT')"
   ]
  },
  {
   "cell_type": "code",
   "execution_count": 4,
   "id": "241680ce",
   "metadata": {},
   "outputs": [
    {
     "data": {
      "text/html": [
       "<div>\n",
       "<style scoped>\n",
       "    .dataframe tbody tr th:only-of-type {\n",
       "        vertical-align: middle;\n",
       "    }\n",
       "\n",
       "    .dataframe tbody tr th {\n",
       "        vertical-align: top;\n",
       "    }\n",
       "\n",
       "    .dataframe thead th {\n",
       "        text-align: right;\n",
       "    }\n",
       "</style>\n",
       "<table border=\"1\" class=\"dataframe\">\n",
       "  <thead>\n",
       "    <tr style=\"text-align: right;\">\n",
       "      <th></th>\n",
       "      <th>Open</th>\n",
       "      <th>High</th>\n",
       "      <th>Low</th>\n",
       "      <th>Close</th>\n",
       "      <th>Adj Close</th>\n",
       "      <th>Volume</th>\n",
       "    </tr>\n",
       "    <tr>\n",
       "      <th>Date</th>\n",
       "      <th></th>\n",
       "      <th></th>\n",
       "      <th></th>\n",
       "      <th></th>\n",
       "      <th></th>\n",
       "      <th></th>\n",
       "    </tr>\n",
       "  </thead>\n",
       "  <tbody>\n",
       "    <tr>\n",
       "      <th>2021-11-23</th>\n",
       "      <td>337.049988</td>\n",
       "      <td>339.450012</td>\n",
       "      <td>333.559998</td>\n",
       "      <td>337.679993</td>\n",
       "      <td>337.679993</td>\n",
       "      <td>30427600</td>\n",
       "    </tr>\n",
       "    <tr>\n",
       "      <th>2021-11-24</th>\n",
       "      <td>336.279999</td>\n",
       "      <td>338.160004</td>\n",
       "      <td>333.910004</td>\n",
       "      <td>337.910004</td>\n",
       "      <td>337.910004</td>\n",
       "      <td>21661300</td>\n",
       "    </tr>\n",
       "    <tr>\n",
       "      <th>2021-11-26</th>\n",
       "      <td>334.350006</td>\n",
       "      <td>337.929993</td>\n",
       "      <td>328.119995</td>\n",
       "      <td>329.679993</td>\n",
       "      <td>329.679993</td>\n",
       "      <td>24217200</td>\n",
       "    </tr>\n",
       "    <tr>\n",
       "      <th>2021-11-29</th>\n",
       "      <td>334.940002</td>\n",
       "      <td>339.029999</td>\n",
       "      <td>334.739990</td>\n",
       "      <td>336.630005</td>\n",
       "      <td>336.630005</td>\n",
       "      <td>28563500</td>\n",
       "    </tr>\n",
       "    <tr>\n",
       "      <th>2021-11-30</th>\n",
       "      <td>335.320007</td>\n",
       "      <td>337.779999</td>\n",
       "      <td>328.989990</td>\n",
       "      <td>330.589996</td>\n",
       "      <td>330.589996</td>\n",
       "      <td>42833700</td>\n",
       "    </tr>\n",
       "  </tbody>\n",
       "</table>\n",
       "</div>"
      ],
      "text/plain": [
       "                  Open        High         Low       Close   Adj Close  \\\n",
       "Date                                                                     \n",
       "2021-11-23  337.049988  339.450012  333.559998  337.679993  337.679993   \n",
       "2021-11-24  336.279999  338.160004  333.910004  337.910004  337.910004   \n",
       "2021-11-26  334.350006  337.929993  328.119995  329.679993  329.679993   \n",
       "2021-11-29  334.940002  339.029999  334.739990  336.630005  336.630005   \n",
       "2021-11-30  335.320007  337.779999  328.989990  330.589996  330.589996   \n",
       "\n",
       "              Volume  \n",
       "Date                  \n",
       "2021-11-23  30427600  \n",
       "2021-11-24  21661300  \n",
       "2021-11-26  24217200  \n",
       "2021-11-29  28563500  \n",
       "2021-11-30  42833700  "
      ]
     },
     "execution_count": 4,
     "metadata": {},
     "output_type": "execute_result"
    }
   ],
   "source": [
    "ms.tail()"
   ]
  },
  {
   "cell_type": "code",
   "execution_count": 5,
   "id": "d7dcc65a",
   "metadata": {},
   "outputs": [
    {
     "data": {
      "text/html": [
       "<div>\n",
       "<style scoped>\n",
       "    .dataframe tbody tr th:only-of-type {\n",
       "        vertical-align: middle;\n",
       "    }\n",
       "\n",
       "    .dataframe tbody tr th {\n",
       "        vertical-align: top;\n",
       "    }\n",
       "\n",
       "    .dataframe thead th {\n",
       "        text-align: right;\n",
       "    }\n",
       "</style>\n",
       "<table border=\"1\" class=\"dataframe\">\n",
       "  <thead>\n",
       "    <tr style=\"text-align: right;\">\n",
       "      <th></th>\n",
       "      <th>Open</th>\n",
       "      <th>High</th>\n",
       "      <th>Low</th>\n",
       "      <th>Close</th>\n",
       "      <th>Adj Close</th>\n",
       "      <th>Volume</th>\n",
       "    </tr>\n",
       "    <tr>\n",
       "      <th>Date</th>\n",
       "      <th></th>\n",
       "      <th></th>\n",
       "      <th></th>\n",
       "      <th></th>\n",
       "      <th></th>\n",
       "      <th></th>\n",
       "    </tr>\n",
       "  </thead>\n",
       "  <tbody>\n",
       "    <tr>\n",
       "      <th>2021-11-23</th>\n",
       "      <td>337.049988</td>\n",
       "      <td>339.450012</td>\n",
       "      <td>333.559998</td>\n",
       "      <td>337.679993</td>\n",
       "      <td>337.679993</td>\n",
       "      <td>30427600</td>\n",
       "    </tr>\n",
       "    <tr>\n",
       "      <th>2021-11-24</th>\n",
       "      <td>336.279999</td>\n",
       "      <td>338.160004</td>\n",
       "      <td>333.910004</td>\n",
       "      <td>337.910004</td>\n",
       "      <td>337.910004</td>\n",
       "      <td>21661300</td>\n",
       "    </tr>\n",
       "    <tr>\n",
       "      <th>2021-11-26</th>\n",
       "      <td>334.350006</td>\n",
       "      <td>337.929993</td>\n",
       "      <td>328.119995</td>\n",
       "      <td>329.679993</td>\n",
       "      <td>329.679993</td>\n",
       "      <td>24217200</td>\n",
       "    </tr>\n",
       "    <tr>\n",
       "      <th>2021-11-29</th>\n",
       "      <td>334.940002</td>\n",
       "      <td>339.029999</td>\n",
       "      <td>334.739990</td>\n",
       "      <td>336.630005</td>\n",
       "      <td>336.630005</td>\n",
       "      <td>28563500</td>\n",
       "    </tr>\n",
       "    <tr>\n",
       "      <th>2021-11-30</th>\n",
       "      <td>335.320007</td>\n",
       "      <td>337.779999</td>\n",
       "      <td>328.989990</td>\n",
       "      <td>330.589996</td>\n",
       "      <td>330.589996</td>\n",
       "      <td>42833700</td>\n",
       "    </tr>\n",
       "  </tbody>\n",
       "</table>\n",
       "</div>"
      ],
      "text/plain": [
       "                  Open        High         Low       Close   Adj Close  \\\n",
       "Date                                                                     \n",
       "2021-11-23  337.049988  339.450012  333.559998  337.679993  337.679993   \n",
       "2021-11-24  336.279999  338.160004  333.910004  337.910004  337.910004   \n",
       "2021-11-26  334.350006  337.929993  328.119995  329.679993  329.679993   \n",
       "2021-11-29  334.940002  339.029999  334.739990  336.630005  336.630005   \n",
       "2021-11-30  335.320007  337.779999  328.989990  330.589996  330.589996   \n",
       "\n",
       "              Volume  \n",
       "Date                  \n",
       "2021-11-23  30427600  \n",
       "2021-11-24  21661300  \n",
       "2021-11-26  24217200  \n",
       "2021-11-29  28563500  \n",
       "2021-11-30  42833700  "
      ]
     },
     "execution_count": 5,
     "metadata": {},
     "output_type": "execute_result"
    }
   ],
   "source": [
    "ms.tail()"
   ]
  },
  {
   "cell_type": "markdown",
   "id": "fc0a4ecc",
   "metadata": {},
   "source": [
    "# Build a simple trading strategy for trading Facebook"
   ]
  },
  {
   "cell_type": "markdown",
   "id": "02c0f641",
   "metadata": {},
   "source": [
    "## 1. Munging the stock data and add two columns - MA10 and MA50"
   ]
  },
  {
   "cell_type": "code",
   "execution_count": 6,
   "id": "64bd9637",
   "metadata": {},
   "outputs": [
    {
     "data": {
      "text/html": [
       "<div>\n",
       "<style scoped>\n",
       "    .dataframe tbody tr th:only-of-type {\n",
       "        vertical-align: middle;\n",
       "    }\n",
       "\n",
       "    .dataframe tbody tr th {\n",
       "        vertical-align: top;\n",
       "    }\n",
       "\n",
       "    .dataframe thead th {\n",
       "        text-align: right;\n",
       "    }\n",
       "</style>\n",
       "<table border=\"1\" class=\"dataframe\">\n",
       "  <thead>\n",
       "    <tr style=\"text-align: right;\">\n",
       "      <th></th>\n",
       "      <th>Open</th>\n",
       "      <th>High</th>\n",
       "      <th>Low</th>\n",
       "      <th>Close</th>\n",
       "      <th>Adj Close</th>\n",
       "      <th>Volume</th>\n",
       "      <th>MA10</th>\n",
       "      <th>MA50</th>\n",
       "    </tr>\n",
       "    <tr>\n",
       "      <th>Date</th>\n",
       "      <th></th>\n",
       "      <th></th>\n",
       "      <th></th>\n",
       "      <th></th>\n",
       "      <th></th>\n",
       "      <th></th>\n",
       "      <th></th>\n",
       "      <th></th>\n",
       "    </tr>\n",
       "  </thead>\n",
       "  <tbody>\n",
       "    <tr>\n",
       "      <th>2012-07-30</th>\n",
       "      <td>24.000000</td>\n",
       "      <td>24.040001</td>\n",
       "      <td>23.030001</td>\n",
       "      <td>23.150000</td>\n",
       "      <td>23.150000</td>\n",
       "      <td>29285900</td>\n",
       "      <td>27.521</td>\n",
       "      <td>29.8390</td>\n",
       "    </tr>\n",
       "    <tr>\n",
       "      <th>2012-07-31</th>\n",
       "      <td>23.370001</td>\n",
       "      <td>23.370001</td>\n",
       "      <td>21.610001</td>\n",
       "      <td>21.709999</td>\n",
       "      <td>21.709999</td>\n",
       "      <td>56179400</td>\n",
       "      <td>26.883</td>\n",
       "      <td>29.5086</td>\n",
       "    </tr>\n",
       "    <tr>\n",
       "      <th>2012-08-01</th>\n",
       "      <td>21.500000</td>\n",
       "      <td>21.580000</td>\n",
       "      <td>20.840000</td>\n",
       "      <td>20.879999</td>\n",
       "      <td>20.879999</td>\n",
       "      <td>44604400</td>\n",
       "      <td>26.060</td>\n",
       "      <td>29.2456</td>\n",
       "    </tr>\n",
       "    <tr>\n",
       "      <th>2012-08-02</th>\n",
       "      <td>20.770000</td>\n",
       "      <td>20.840000</td>\n",
       "      <td>19.820000</td>\n",
       "      <td>20.040001</td>\n",
       "      <td>20.040001</td>\n",
       "      <td>56374500</td>\n",
       "      <td>25.164</td>\n",
       "      <td>29.0264</td>\n",
       "    </tr>\n",
       "    <tr>\n",
       "      <th>2012-08-03</th>\n",
       "      <td>20.360001</td>\n",
       "      <td>22.160000</td>\n",
       "      <td>19.900000</td>\n",
       "      <td>21.090000</td>\n",
       "      <td>21.090000</td>\n",
       "      <td>80647000</td>\n",
       "      <td>24.397</td>\n",
       "      <td>28.8082</td>\n",
       "    </tr>\n",
       "  </tbody>\n",
       "</table>\n",
       "</div>"
      ],
      "text/plain": [
       "                 Open       High        Low      Close  Adj Close    Volume  \\\n",
       "Date                                                                          \n",
       "2012-07-30  24.000000  24.040001  23.030001  23.150000  23.150000  29285900   \n",
       "2012-07-31  23.370001  23.370001  21.610001  21.709999  21.709999  56179400   \n",
       "2012-08-01  21.500000  21.580000  20.840000  20.879999  20.879999  44604400   \n",
       "2012-08-02  20.770000  20.840000  19.820000  20.040001  20.040001  56374500   \n",
       "2012-08-03  20.360001  22.160000  19.900000  21.090000  21.090000  80647000   \n",
       "\n",
       "              MA10     MA50  \n",
       "Date                         \n",
       "2012-07-30  27.521  29.8390  \n",
       "2012-07-31  26.883  29.5086  \n",
       "2012-08-01  26.060  29.2456  \n",
       "2012-08-02  25.164  29.0264  \n",
       "2012-08-03  24.397  28.8082  "
      ]
     },
     "execution_count": 6,
     "metadata": {},
     "output_type": "execute_result"
    }
   ],
   "source": [
    "#import FB's stock data, add two columns - MA10 and MA50\n",
    "#use dropna to remove any \"Not a Number\" data\n",
    "# fb = pd.DataFrame.from_csv('../data/facebook.csv')\n",
    "fb['MA10'] = fb['Close'].rolling(10).mean()\n",
    "fb['MA50'] = fb['Close'].rolling(50).mean()\n",
    "fb = fb.dropna()\n",
    "fb.head()"
   ]
  },
  {
   "cell_type": "markdown",
   "id": "947ed3e6",
   "metadata": {},
   "source": [
    "## 2. Add \"Shares\" column to make decisions base on the strategy"
   ]
  },
  {
   "cell_type": "code",
   "execution_count": 7,
   "id": "b550a374",
   "metadata": {},
   "outputs": [],
   "source": [
    "#Add a new column \"Shares\", if MA10>MA50, denote as 1 (long one share of stock), otherwise, denote as 0 (do nothing)\n",
    "\n",
    "fb['Shares'] = [1 if fb.loc[ei, 'MA10']>fb.loc[ei, 'MA50'] else 0 for ei in fb.index]"
   ]
  },
  {
   "cell_type": "code",
   "execution_count": 8,
   "id": "4dbfc579",
   "metadata": {},
   "outputs": [
    {
     "data": {
      "text/plain": [
       "<matplotlib.lines.Line2D at 0x221c80bddc0>"
      ]
     },
     "execution_count": 8,
     "metadata": {},
     "output_type": "execute_result"
    },
    {
     "data": {
      "image/png": "[encoded data removed]",
      "text/plain": [
       "<Figure size 432x288 with 1 Axes>"
      ]
     },
     "metadata": {
      "needs_background": "light"
     },
     "output_type": "display_data"
    }
   ],
   "source": [
    "#Add a new column \"Profit\" using List Comprehension, for any rows in fb, if Shares=1, the profit is calculated as the close price of \n",
    "#tomorrow - the close price of today. Otherwise the profit is 0.\n",
    "\n",
    "#Plot a graph to show the Profit/Loss\n",
    "\n",
    "fb['Close1'] = fb['Close'].shift(-1)\n",
    "fb['Profit'] = [fb.loc[ei, 'Close1'] - fb.loc[ei, 'Close'] if fb.loc[ei, 'Shares']==1 else 0 for ei in fb.index]\n",
    "fb['Profit'].plot()\n",
    "plt.axhline(y=0, color='red')"
   ]
  },
  {
   "cell_type": "markdown",
   "id": "66cb8342",
   "metadata": {},
   "source": [
    "## 3. Use .cumsum() to display our model's performance if we follow the strategy"
   ]
  },
  {
   "cell_type": "code",
   "execution_count": 9,
   "id": "11179c45",
   "metadata": {},
   "outputs": [
    {
     "data": {
      "text/html": [
       "<div>\n",
       "<style scoped>\n",
       "    .dataframe tbody tr th:only-of-type {\n",
       "        vertical-align: middle;\n",
       "    }\n",
       "\n",
       "    .dataframe tbody tr th {\n",
       "        vertical-align: top;\n",
       "    }\n",
       "\n",
       "    .dataframe thead th {\n",
       "        text-align: right;\n",
       "    }\n",
       "</style>\n",
       "<table border=\"1\" class=\"dataframe\">\n",
       "  <thead>\n",
       "    <tr style=\"text-align: right;\">\n",
       "      <th></th>\n",
       "      <th>Open</th>\n",
       "      <th>High</th>\n",
       "      <th>Low</th>\n",
       "      <th>Close</th>\n",
       "      <th>Adj Close</th>\n",
       "      <th>Volume</th>\n",
       "      <th>MA10</th>\n",
       "      <th>MA50</th>\n",
       "      <th>Shares</th>\n",
       "      <th>Close1</th>\n",
       "      <th>Profit</th>\n",
       "      <th>wealth</th>\n",
       "    </tr>\n",
       "    <tr>\n",
       "      <th>Date</th>\n",
       "      <th></th>\n",
       "      <th></th>\n",
       "      <th></th>\n",
       "      <th></th>\n",
       "      <th></th>\n",
       "      <th></th>\n",
       "      <th></th>\n",
       "      <th></th>\n",
       "      <th></th>\n",
       "      <th></th>\n",
       "      <th></th>\n",
       "      <th></th>\n",
       "    </tr>\n",
       "  </thead>\n",
       "  <tbody>\n",
       "    <tr>\n",
       "      <th>2021-11-23</th>\n",
       "      <td>338.929993</td>\n",
       "      <td>341.399994</td>\n",
       "      <td>333.500000</td>\n",
       "      <td>337.250000</td>\n",
       "      <td>337.250000</td>\n",
       "      <td>17225000</td>\n",
       "      <td>338.981000</td>\n",
       "      <td>337.453400</td>\n",
       "      <td>1</td>\n",
       "      <td>341.059998</td>\n",
       "      <td>3.809998</td>\n",
       "      <td>199.599995</td>\n",
       "    </tr>\n",
       "    <tr>\n",
       "      <th>2021-11-24</th>\n",
       "      <td>336.000000</td>\n",
       "      <td>341.779999</td>\n",
       "      <td>332.809998</td>\n",
       "      <td>341.059998</td>\n",
       "      <td>341.059998</td>\n",
       "      <td>13566200</td>\n",
       "      <td>340.322998</td>\n",
       "      <td>336.796200</td>\n",
       "      <td>1</td>\n",
       "      <td>333.119995</td>\n",
       "      <td>-7.940002</td>\n",
       "      <td>191.659992</td>\n",
       "    </tr>\n",
       "    <tr>\n",
       "      <th>2021-11-26</th>\n",
       "      <td>335.799988</td>\n",
       "      <td>337.750000</td>\n",
       "      <td>331.899994</td>\n",
       "      <td>333.119995</td>\n",
       "      <td>333.119995</td>\n",
       "      <td>14750700</td>\n",
       "      <td>340.860999</td>\n",
       "      <td>335.997400</td>\n",
       "      <td>1</td>\n",
       "      <td>338.029999</td>\n",
       "      <td>4.910004</td>\n",
       "      <td>196.569996</td>\n",
       "    </tr>\n",
       "    <tr>\n",
       "      <th>2021-11-29</th>\n",
       "      <td>336.890015</td>\n",
       "      <td>340.670013</td>\n",
       "      <td>335.309998</td>\n",
       "      <td>338.029999</td>\n",
       "      <td>338.029999</td>\n",
       "      <td>16650900</td>\n",
       "      <td>340.574997</td>\n",
       "      <td>335.463600</td>\n",
       "      <td>1</td>\n",
       "      <td>324.459991</td>\n",
       "      <td>-13.570007</td>\n",
       "      <td>182.999989</td>\n",
       "    </tr>\n",
       "    <tr>\n",
       "      <th>2021-11-30</th>\n",
       "      <td>335.000000</td>\n",
       "      <td>335.809998</td>\n",
       "      <td>323.429993</td>\n",
       "      <td>324.459991</td>\n",
       "      <td>324.459991</td>\n",
       "      <td>25348500</td>\n",
       "      <td>338.264996</td>\n",
       "      <td>334.838799</td>\n",
       "      <td>1</td>\n",
       "      <td>NaN</td>\n",
       "      <td>NaN</td>\n",
       "      <td>NaN</td>\n",
       "    </tr>\n",
       "  </tbody>\n",
       "</table>\n",
       "</div>"
      ],
      "text/plain": [
       "                  Open        High         Low       Close   Adj Close  \\\n",
       "Date                                                                     \n",
       "2021-11-23  338.929993  341.399994  333.500000  337.250000  337.250000   \n",
       "2021-11-24  336.000000  341.779999  332.809998  341.059998  341.059998   \n",
       "2021-11-26  335.799988  337.750000  331.899994  333.119995  333.119995   \n",
       "2021-11-29  336.890015  340.670013  335.309998  338.029999  338.029999   \n",
       "2021-11-30  335.000000  335.809998  323.429993  324.459991  324.459991   \n",
       "\n",
       "              Volume        MA10        MA50  Shares      Close1     Profit  \\\n",
       "Date                                                                          \n",
       "2021-11-23  17225000  338.981000  337.453400       1  341.059998   3.809998   \n",
       "2021-11-24  13566200  340.322998  336.796200       1  333.119995  -7.940002   \n",
       "2021-11-26  14750700  340.860999  335.997400       1  338.029999   4.910004   \n",
       "2021-11-29  16650900  340.574997  335.463600       1  324.459991 -13.570007   \n",
       "2021-11-30  25348500  338.264996  334.838799       1         NaN        NaN   \n",
       "\n",
       "                wealth  \n",
       "Date                    \n",
       "2021-11-23  199.599995  \n",
       "2021-11-24  191.659992  \n",
       "2021-11-26  196.569996  \n",
       "2021-11-29  182.999989  \n",
       "2021-11-30         NaN  "
      ]
     },
     "execution_count": 9,
     "metadata": {},
     "output_type": "execute_result"
    }
   ],
   "source": [
    "#Use .cumsum() to calculate the accumulated wealth over the period\n",
    "\n",
    "fb['wealth'] = fb['Profit'].cumsum()\n",
    "fb.tail()"
   ]
  },
  {
   "cell_type": "code",
   "execution_count": 10,
   "id": "5989163b",
   "metadata": {},
   "outputs": [
    {
     "data": {
      "text/plain": [
       "Text(0.5, 1.0, 'Total money you win is 182.9999885559082')"
      ]
     },
     "execution_count": 10,
     "metadata": {},
     "output_type": "execute_result"
    },
    {
     "data": {
      "image/png": "[encoded data removed]",
      "text/plain": [
       "<Figure size 432x288 with 1 Axes>"
      ]
     },
     "metadata": {
      "needs_background": "light"
     },
     "output_type": "display_data"
    }
   ],
   "source": [
    "#plot the wealth to show the growth of profit over the period\n",
    "\n",
    "fb['wealth'].plot()\n",
    "plt.title('Total money you win is {}'.format(fb.loc[fb.index[-2], 'wealth']))"
   ]
  },
  {
   "cell_type": "markdown",
   "id": "eb7f864f",
   "metadata": {},
   "source": [
    "# Build a simple trading strategy for trading Microsoft"
   ]
  },
  {
   "cell_type": "markdown",
   "id": "0c24491f",
   "metadata": {},
   "source": [
    "## 1. Munging the stock data and add two columns - MA10 and MA50"
   ]
  },
  {
   "cell_type": "code",
   "execution_count": 11,
   "id": "a3720824",
   "metadata": {},
   "outputs": [
    {
     "data": {
      "text/html": [
       "<div>\n",
       "<style scoped>\n",
       "    .dataframe tbody tr th:only-of-type {\n",
       "        vertical-align: middle;\n",
       "    }\n",
       "\n",
       "    .dataframe tbody tr th {\n",
       "        vertical-align: top;\n",
       "    }\n",
       "\n",
       "    .dataframe thead th {\n",
       "        text-align: right;\n",
       "    }\n",
       "</style>\n",
       "<table border=\"1\" class=\"dataframe\">\n",
       "  <thead>\n",
       "    <tr style=\"text-align: right;\">\n",
       "      <th></th>\n",
       "      <th>Open</th>\n",
       "      <th>High</th>\n",
       "      <th>Low</th>\n",
       "      <th>Close</th>\n",
       "      <th>Adj Close</th>\n",
       "      <th>Volume</th>\n",
       "      <th>MA10</th>\n",
       "      <th>MA50</th>\n",
       "    </tr>\n",
       "    <tr>\n",
       "      <th>Date</th>\n",
       "      <th></th>\n",
       "      <th></th>\n",
       "      <th></th>\n",
       "      <th></th>\n",
       "      <th></th>\n",
       "      <th></th>\n",
       "      <th></th>\n",
       "      <th></th>\n",
       "    </tr>\n",
       "  </thead>\n",
       "  <tbody>\n",
       "    <tr>\n",
       "      <th>1986-05-22</th>\n",
       "      <td>0.107639</td>\n",
       "      <td>0.108507</td>\n",
       "      <td>0.107639</td>\n",
       "      <td>0.107639</td>\n",
       "      <td>0.067955</td>\n",
       "      <td>4406400</td>\n",
       "      <td>0.110243</td>\n",
       "      <td>0.103463</td>\n",
       "    </tr>\n",
       "    <tr>\n",
       "      <th>1986-05-23</th>\n",
       "      <td>0.107639</td>\n",
       "      <td>0.109375</td>\n",
       "      <td>0.107639</td>\n",
       "      <td>0.107639</td>\n",
       "      <td>0.067955</td>\n",
       "      <td>4089600</td>\n",
       "      <td>0.109983</td>\n",
       "      <td>0.103672</td>\n",
       "    </tr>\n",
       "    <tr>\n",
       "      <th>1986-05-27</th>\n",
       "      <td>0.107639</td>\n",
       "      <td>0.111111</td>\n",
       "      <td>0.107639</td>\n",
       "      <td>0.111111</td>\n",
       "      <td>0.070147</td>\n",
       "      <td>13881600</td>\n",
       "      <td>0.109983</td>\n",
       "      <td>0.103880</td>\n",
       "    </tr>\n",
       "    <tr>\n",
       "      <th>1986-05-28</th>\n",
       "      <td>0.111111</td>\n",
       "      <td>0.114583</td>\n",
       "      <td>0.111111</td>\n",
       "      <td>0.114583</td>\n",
       "      <td>0.072339</td>\n",
       "      <td>15523200</td>\n",
       "      <td>0.110243</td>\n",
       "      <td>0.104123</td>\n",
       "    </tr>\n",
       "    <tr>\n",
       "      <th>1986-05-29</th>\n",
       "      <td>0.114583</td>\n",
       "      <td>0.118924</td>\n",
       "      <td>0.113715</td>\n",
       "      <td>0.117188</td>\n",
       "      <td>0.073983</td>\n",
       "      <td>45676800</td>\n",
       "      <td>0.110851</td>\n",
       "      <td>0.104470</td>\n",
       "    </tr>\n",
       "  </tbody>\n",
       "</table>\n",
       "</div>"
      ],
      "text/plain": [
       "                Open      High       Low     Close  Adj Close    Volume  \\\n",
       "Date                                                                      \n",
       "1986-05-22  0.107639  0.108507  0.107639  0.107639   0.067955   4406400   \n",
       "1986-05-23  0.107639  0.109375  0.107639  0.107639   0.067955   4089600   \n",
       "1986-05-27  0.107639  0.111111  0.107639  0.111111   0.070147  13881600   \n",
       "1986-05-28  0.111111  0.114583  0.111111  0.114583   0.072339  15523200   \n",
       "1986-05-29  0.114583  0.118924  0.113715  0.117188   0.073983  45676800   \n",
       "\n",
       "                MA10      MA50  \n",
       "Date                            \n",
       "1986-05-22  0.110243  0.103463  \n",
       "1986-05-23  0.109983  0.103672  \n",
       "1986-05-27  0.109983  0.103880  \n",
       "1986-05-28  0.110243  0.104123  \n",
       "1986-05-29  0.110851  0.104470  "
      ]
     },
     "execution_count": 11,
     "metadata": {},
     "output_type": "execute_result"
    }
   ],
   "source": [
    "#import ms's stock data, add two columns - MA10 and MA50\n",
    "#use dropna to remove any \"Not a Number\" data\n",
    "# ms = pd.DataFrame.from_csv('../data/facebook.csv')\n",
    "ms['MA10'] = ms['Close'].rolling(10).mean()\n",
    "ms['MA50'] = ms['Close'].rolling(50).mean()\n",
    "ms = ms.dropna()\n",
    "ms.head()"
   ]
  },
  {
   "cell_type": "code",
   "execution_count": 12,
   "id": "39894368",
   "metadata": {},
   "outputs": [
    {
     "data": {
      "text/plain": [
       "DatetimeIndex(['2012-07-30', '2012-07-31', '2012-08-01', '2012-08-02',\n",
       "               '2012-08-03', '2012-08-06', '2012-08-07', '2012-08-08',\n",
       "               '2012-08-09', '2012-08-10',\n",
       "               ...\n",
       "               '2021-11-16', '2021-11-17', '2021-11-18', '2021-11-19',\n",
       "               '2021-11-22', '2021-11-23', '2021-11-24', '2021-11-26',\n",
       "               '2021-11-29', '2021-11-30'],\n",
       "              dtype='datetime64[ns]', name='Date', length=2351, freq=None)"
      ]
     },
     "execution_count": 12,
     "metadata": {},
     "output_type": "execute_result"
    }
   ],
   "source": [
    "fb.index"
   ]
  },
  {
   "cell_type": "code",
   "execution_count": 13,
   "id": "4d44e848",
   "metadata": {},
   "outputs": [
    {
     "name": "stderr",
     "output_type": "stream",
     "text": [
      "<ipython-input-13-a5d73c0a322c>:3: SettingWithCopyWarning: \n",
      "A value is trying to be set on a copy of a slice from a DataFrame.\n",
      "Try using .loc[row_indexer,col_indexer] = value instead\n",
      "\n",
      "See the caveats in the documentation: https://pandas.pydata.org/pandas-docs/stable/user_guide/indexing.html#returning-a-view-versus-a-copy\n",
      "  ms['Shares'] = [1 if ms.loc[ei, 'MA10']>ms.loc[ei, 'MA50'] else 0 for ei in ms.index]\n"
     ]
    }
   ],
   "source": [
    "#Add a new column \"Shares\", if MA10>MA50, denote as 1 (long one share of stock), otherwise, denote as 0 (do nothing)\n",
    "\n",
    "ms['Shares'] = [1 if ms.loc[ei, 'MA10']>ms.loc[ei, 'MA50'] else 0 for ei in ms.index]"
   ]
  },
  {
   "cell_type": "code",
   "execution_count": 14,
   "id": "58bbf169",
   "metadata": {},
   "outputs": [
    {
     "name": "stderr",
     "output_type": "stream",
     "text": [
      "<ipython-input-14-de78998d9a3a>:6: SettingWithCopyWarning: \n",
      "A value is trying to be set on a copy of a slice from a DataFrame.\n",
      "Try using .loc[row_indexer,col_indexer] = value instead\n",
      "\n",
      "See the caveats in the documentation: https://pandas.pydata.org/pandas-docs/stable/user_guide/indexing.html#returning-a-view-versus-a-copy\n",
      "  ms['Close1'] = ms['Close'].shift(-1)\n",
      "<ipython-input-14-de78998d9a3a>:7: SettingWithCopyWarning: \n",
      "A value is trying to be set on a copy of a slice from a DataFrame.\n",
      "Try using .loc[row_indexer,col_indexer] = value instead\n",
      "\n",
      "See the caveats in the documentation: https://pandas.pydata.org/pandas-docs/stable/user_guide/indexing.html#returning-a-view-versus-a-copy\n",
      "  ms['Profit'] = [ms.loc[ei, 'Close1'] - ms.loc[ei, 'Close'] if ms.loc[ei, 'Shares']==1 else 0 for ei in ms.index]\n"
     ]
    },
    {
     "data": {
      "text/plain": [
       "<matplotlib.lines.Line2D at 0x221c87e9670>"
      ]
     },
     "execution_count": 14,
     "metadata": {},
     "output_type": "execute_result"
    },
    {
     "data": {
      "image/png": "[encoded data removed]",
      "text/plain": [
       "<Figure size 432x288 with 1 Axes>"
      ]
     },
     "metadata": {
      "needs_background": "light"
     },
     "output_type": "display_data"
    }
   ],
   "source": [
    "#Add a new column \"Profit\" using List Comprehension, for any rows in fb, if Shares=1, the profit is calculated as the close price of \n",
    "#tomorrow - the close price of today. Otherwise the profit is 0.\n",
    "\n",
    "#Plot a graph to show the Profit/Loss\n",
    "\n",
    "ms['Close1'] = ms['Close'].shift(-1)\n",
    "ms['Profit'] = [ms.loc[ei, 'Close1'] - ms.loc[ei, 'Close'] if ms.loc[ei, 'Shares']==1 else 0 for ei in ms.index]\n",
    "ms['Profit'].plot()\n",
    "plt.axhline(y=0, color='red')"
   ]
  },
  {
   "cell_type": "code",
   "execution_count": 15,
   "id": "7f5ad7a8",
   "metadata": {},
   "outputs": [
    {
     "name": "stderr",
     "output_type": "stream",
     "text": [
      "<ipython-input-15-078600d05685>:3: SettingWithCopyWarning: \n",
      "A value is trying to be set on a copy of a slice from a DataFrame.\n",
      "Try using .loc[row_indexer,col_indexer] = value instead\n",
      "\n",
      "See the caveats in the documentation: https://pandas.pydata.org/pandas-docs/stable/user_guide/indexing.html#returning-a-view-versus-a-copy\n",
      "  ms['wealth'] = ms['Profit'].cumsum()\n"
     ]
    },
    {
     "data": {
      "text/html": [
       "<div>\n",
       "<style scoped>\n",
       "    .dataframe tbody tr th:only-of-type {\n",
       "        vertical-align: middle;\n",
       "    }\n",
       "\n",
       "    .dataframe tbody tr th {\n",
       "        vertical-align: top;\n",
       "    }\n",
       "\n",
       "    .dataframe thead th {\n",
       "        text-align: right;\n",
       "    }\n",
       "</style>\n",
       "<table border=\"1\" class=\"dataframe\">\n",
       "  <thead>\n",
       "    <tr style=\"text-align: right;\">\n",
       "      <th></th>\n",
       "      <th>Open</th>\n",
       "      <th>High</th>\n",
       "      <th>Low</th>\n",
       "      <th>Close</th>\n",
       "      <th>Adj Close</th>\n",
       "      <th>Volume</th>\n",
       "      <th>MA10</th>\n",
       "      <th>MA50</th>\n",
       "      <th>Shares</th>\n",
       "      <th>Close1</th>\n",
       "      <th>Profit</th>\n",
       "      <th>wealth</th>\n",
       "    </tr>\n",
       "    <tr>\n",
       "      <th>Date</th>\n",
       "      <th></th>\n",
       "      <th></th>\n",
       "      <th></th>\n",
       "      <th></th>\n",
       "      <th></th>\n",
       "      <th></th>\n",
       "      <th></th>\n",
       "      <th></th>\n",
       "      <th></th>\n",
       "      <th></th>\n",
       "      <th></th>\n",
       "      <th></th>\n",
       "    </tr>\n",
       "  </thead>\n",
       "  <tbody>\n",
       "    <tr>\n",
       "      <th>2021-11-23</th>\n",
       "      <td>337.049988</td>\n",
       "      <td>339.450012</td>\n",
       "      <td>333.559998</td>\n",
       "      <td>337.679993</td>\n",
       "      <td>337.679993</td>\n",
       "      <td>30427600</td>\n",
       "      <td>337.653995</td>\n",
       "      <td>312.659600</td>\n",
       "      <td>1</td>\n",
       "      <td>337.910004</td>\n",
       "      <td>0.230011</td>\n",
       "      <td>153.081730</td>\n",
       "    </tr>\n",
       "    <tr>\n",
       "      <th>2021-11-24</th>\n",
       "      <td>336.279999</td>\n",
       "      <td>338.160004</td>\n",
       "      <td>333.910004</td>\n",
       "      <td>337.910004</td>\n",
       "      <td>337.910004</td>\n",
       "      <td>21661300</td>\n",
       "      <td>338.364996</td>\n",
       "      <td>313.321400</td>\n",
       "      <td>1</td>\n",
       "      <td>329.679993</td>\n",
       "      <td>-8.230011</td>\n",
       "      <td>144.851719</td>\n",
       "    </tr>\n",
       "    <tr>\n",
       "      <th>2021-11-26</th>\n",
       "      <td>334.350006</td>\n",
       "      <td>337.929993</td>\n",
       "      <td>328.119995</td>\n",
       "      <td>329.679993</td>\n",
       "      <td>329.679993</td>\n",
       "      <td>24217200</td>\n",
       "      <td>338.089996</td>\n",
       "      <td>313.810599</td>\n",
       "      <td>1</td>\n",
       "      <td>336.630005</td>\n",
       "      <td>6.950012</td>\n",
       "      <td>151.801731</td>\n",
       "    </tr>\n",
       "    <tr>\n",
       "      <th>2021-11-29</th>\n",
       "      <td>334.940002</td>\n",
       "      <td>339.029999</td>\n",
       "      <td>334.739990</td>\n",
       "      <td>336.630005</td>\n",
       "      <td>336.630005</td>\n",
       "      <td>28563500</td>\n",
       "      <td>338.080997</td>\n",
       "      <td>314.545800</td>\n",
       "      <td>1</td>\n",
       "      <td>330.589996</td>\n",
       "      <td>-6.040009</td>\n",
       "      <td>145.761722</td>\n",
       "    </tr>\n",
       "    <tr>\n",
       "      <th>2021-11-30</th>\n",
       "      <td>335.320007</td>\n",
       "      <td>337.779999</td>\n",
       "      <td>328.989990</td>\n",
       "      <td>330.589996</td>\n",
       "      <td>330.589996</td>\n",
       "      <td>42833700</td>\n",
       "      <td>337.532996</td>\n",
       "      <td>315.271600</td>\n",
       "      <td>1</td>\n",
       "      <td>NaN</td>\n",
       "      <td>NaN</td>\n",
       "      <td>NaN</td>\n",
       "    </tr>\n",
       "  </tbody>\n",
       "</table>\n",
       "</div>"
      ],
      "text/plain": [
       "                  Open        High         Low       Close   Adj Close  \\\n",
       "Date                                                                     \n",
       "2021-11-23  337.049988  339.450012  333.559998  337.679993  337.679993   \n",
       "2021-11-24  336.279999  338.160004  333.910004  337.910004  337.910004   \n",
       "2021-11-26  334.350006  337.929993  328.119995  329.679993  329.679993   \n",
       "2021-11-29  334.940002  339.029999  334.739990  336.630005  336.630005   \n",
       "2021-11-30  335.320007  337.779999  328.989990  330.589996  330.589996   \n",
       "\n",
       "              Volume        MA10        MA50  Shares      Close1    Profit  \\\n",
       "Date                                                                         \n",
       "2021-11-23  30427600  337.653995  312.659600       1  337.910004  0.230011   \n",
       "2021-11-24  21661300  338.364996  313.321400       1  329.679993 -8.230011   \n",
       "2021-11-26  24217200  338.089996  313.810599       1  336.630005  6.950012   \n",
       "2021-11-29  28563500  338.080997  314.545800       1  330.589996 -6.040009   \n",
       "2021-11-30  42833700  337.532996  315.271600       1         NaN       NaN   \n",
       "\n",
       "                wealth  \n",
       "Date                    \n",
       "2021-11-23  153.081730  \n",
       "2021-11-24  144.851719  \n",
       "2021-11-26  151.801731  \n",
       "2021-11-29  145.761722  \n",
       "2021-11-30         NaN  "
      ]
     },
     "execution_count": 15,
     "metadata": {},
     "output_type": "execute_result"
    }
   ],
   "source": [
    "#Use .cumsum() to calculate the accumulated wealth over the period\n",
    "\n",
    "ms['wealth'] = ms['Profit'].cumsum()\n",
    "ms.tail()"
   ]
  },
  {
   "cell_type": "code",
   "execution_count": 16,
   "id": "792402d8",
   "metadata": {},
   "outputs": [
    {
     "data": {
      "text/plain": [
       "Text(0.5, 1.0, 'Total money you win is 145.76172222942114')"
      ]
     },
     "execution_count": 16,
     "metadata": {},
     "output_type": "execute_result"
    },
    {
     "data": {
      "image/png": "[encoded data removed]",
      "text/plain": [
       "<Figure size 432x288 with 1 Axes>"
      ]
     },
     "metadata": {
      "needs_background": "light"
     },
     "output_type": "display_data"
    }
   ],
   "source": [
    "#plot the wealth to show the growth of profit over the period\n",
    "\n",
    "ms['wealth'].plot()\n",
    "plt.title('Total money you win is {}'.format(ms.loc[ms.index[-2], 'wealth']))"
   ]
  },
  {
   "cell_type": "code",
   "execution_count": null,
   "id": "1896605a",
   "metadata": {},
   "outputs": [],
   "source": []
  }
 ],
 "metadata": {
  "kernelspec": {
   "display_name": "Python 3",
   "language": "python",
   "name": "python3"
  },
  "language_info": {
   "codemirror_mode": {
    "name": "ipython",
    "version": 3
   },
   "file_extension": ".py",
   "mimetype": "text/x-python",
   "name": "python",
   "nbconvert_exporter": "python",
   "pygments_lexer": "ipython3",
   "version": "3.8.8"
  }
 },
 "nbformat": 4,
 "nbformat_minor": 5
}
