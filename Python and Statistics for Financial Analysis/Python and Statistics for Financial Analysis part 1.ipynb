{
 "cells": [
  {
   "cell_type": "code",
   "execution_count": 1,
   "id": "0de99f2b",
   "metadata": {},
   "outputs": [],
   "source": [
    "#import the package \"Pandas\" into Jupyter Notebook\n",
    "import pandas as pd"
   ]
  },
  {
   "cell_type": "code",
   "execution_count": 2,
   "id": "c909fafe",
   "metadata": {},
   "outputs": [],
   "source": [
    "#We import the stock data of Facebook into Jupyter Notebook. The CSV file is located in the folder called \"Data\" in your Workspace\n",
    "#We then name the DataFrame name as 'fb'\n",
    "#fb = yf.DataFrame.from_csv('../data/facebook.csv')\n",
    "#fb.head()"
   ]
  },
  {
   "cell_type": "code",
   "execution_count": 3,
   "id": "b21395d2",
   "metadata": {},
   "outputs": [
    {
     "name": "stdout",
     "output_type": "stream",
     "text": [
      "[*********************100%***********************]  1 of 1 completed\n"
     ]
    },
    {
     "data": {
      "text/html": [
       "<div>\n",
       "<style scoped>\n",
       "    .dataframe tbody tr th:only-of-type {\n",
       "        vertical-align: middle;\n",
       "    }\n",
       "\n",
       "    .dataframe tbody tr th {\n",
       "        vertical-align: top;\n",
       "    }\n",
       "\n",
       "    .dataframe thead th {\n",
       "        text-align: right;\n",
       "    }\n",
       "</style>\n",
       "<table border=\"1\" class=\"dataframe\">\n",
       "  <thead>\n",
       "    <tr style=\"text-align: right;\">\n",
       "      <th></th>\n",
       "      <th>Open</th>\n",
       "      <th>High</th>\n",
       "      <th>Low</th>\n",
       "      <th>Close</th>\n",
       "      <th>Volume</th>\n",
       "    </tr>\n",
       "    <tr>\n",
       "      <th>Date</th>\n",
       "      <th></th>\n",
       "      <th></th>\n",
       "      <th></th>\n",
       "      <th></th>\n",
       "      <th></th>\n",
       "    </tr>\n",
       "  </thead>\n",
       "  <tbody>\n",
       "    <tr>\n",
       "      <th>2021-11-22</th>\n",
       "      <td>349.049988</td>\n",
       "      <td>353.829987</td>\n",
       "      <td>340.510010</td>\n",
       "      <td>341.010010</td>\n",
       "      <td>27116800</td>\n",
       "    </tr>\n",
       "    <tr>\n",
       "      <th>2021-11-23</th>\n",
       "      <td>338.929993</td>\n",
       "      <td>341.399994</td>\n",
       "      <td>333.500000</td>\n",
       "      <td>337.250000</td>\n",
       "      <td>17225000</td>\n",
       "    </tr>\n",
       "    <tr>\n",
       "      <th>2021-11-24</th>\n",
       "      <td>336.000000</td>\n",
       "      <td>341.779999</td>\n",
       "      <td>332.809998</td>\n",
       "      <td>341.059998</td>\n",
       "      <td>13566200</td>\n",
       "    </tr>\n",
       "    <tr>\n",
       "      <th>2021-11-26</th>\n",
       "      <td>335.799988</td>\n",
       "      <td>337.750000</td>\n",
       "      <td>331.899994</td>\n",
       "      <td>333.119995</td>\n",
       "      <td>14750700</td>\n",
       "    </tr>\n",
       "    <tr>\n",
       "      <th>2021-11-29</th>\n",
       "      <td>336.890015</td>\n",
       "      <td>340.670013</td>\n",
       "      <td>335.309998</td>\n",
       "      <td>338.029999</td>\n",
       "      <td>16629200</td>\n",
       "    </tr>\n",
       "  </tbody>\n",
       "</table>\n",
       "</div>"
      ],
      "text/plain": [
       "                  Open        High         Low       Close    Volume\n",
       "Date                                                                \n",
       "2021-11-22  349.049988  353.829987  340.510010  341.010010  27116800\n",
       "2021-11-23  338.929993  341.399994  333.500000  337.250000  17225000\n",
       "2021-11-24  336.000000  341.779999  332.809998  341.059998  13566200\n",
       "2021-11-26  335.799988  337.750000  331.899994  333.119995  14750700\n",
       "2021-11-29  336.890015  340.670013  335.309998  338.029999  16629200"
      ]
     },
     "execution_count": 3,
     "metadata": {},
     "output_type": "execute_result"
    }
   ],
   "source": [
    "# yahoo finance is used to fetch data\n",
    "import yfinance as yf\n",
    "#See the yahoo finance ticker for your stock symbol\n",
    "stock_symbol = 'FB'\n",
    "# Read data\n",
    "fb = yf.download('FB', '2016-10-01', '2021-11-30', auto_adjust=True)\n",
    "fb.tail()"
   ]
  },
  {
   "cell_type": "code",
   "execution_count": 4,
   "id": "241680ce",
   "metadata": {},
   "outputs": [
    {
     "name": "stdout",
     "output_type": "stream",
     "text": [
      "[*********************100%***********************]  1 of 1 completed\n"
     ]
    },
    {
     "data": {
      "text/html": [
       "<div>\n",
       "<style scoped>\n",
       "    .dataframe tbody tr th:only-of-type {\n",
       "        vertical-align: middle;\n",
       "    }\n",
       "\n",
       "    .dataframe tbody tr th {\n",
       "        vertical-align: top;\n",
       "    }\n",
       "\n",
       "    .dataframe thead th {\n",
       "        text-align: right;\n",
       "    }\n",
       "</style>\n",
       "<table border=\"1\" class=\"dataframe\">\n",
       "  <thead>\n",
       "    <tr style=\"text-align: right;\">\n",
       "      <th></th>\n",
       "      <th>Open</th>\n",
       "      <th>High</th>\n",
       "      <th>Low</th>\n",
       "      <th>Close</th>\n",
       "      <th>Volume</th>\n",
       "    </tr>\n",
       "    <tr>\n",
       "      <th>Date</th>\n",
       "      <th></th>\n",
       "      <th></th>\n",
       "      <th></th>\n",
       "      <th></th>\n",
       "      <th></th>\n",
       "    </tr>\n",
       "  </thead>\n",
       "  <tbody>\n",
       "    <tr>\n",
       "      <th>2021-11-22</th>\n",
       "      <td>344.619995</td>\n",
       "      <td>349.670013</td>\n",
       "      <td>339.549988</td>\n",
       "      <td>339.829987</td>\n",
       "      <td>31031100</td>\n",
       "    </tr>\n",
       "    <tr>\n",
       "      <th>2021-11-23</th>\n",
       "      <td>337.049988</td>\n",
       "      <td>339.450012</td>\n",
       "      <td>333.559998</td>\n",
       "      <td>337.679993</td>\n",
       "      <td>30427600</td>\n",
       "    </tr>\n",
       "    <tr>\n",
       "      <th>2021-11-24</th>\n",
       "      <td>336.279999</td>\n",
       "      <td>338.160004</td>\n",
       "      <td>333.910004</td>\n",
       "      <td>337.910004</td>\n",
       "      <td>21661300</td>\n",
       "    </tr>\n",
       "    <tr>\n",
       "      <th>2021-11-26</th>\n",
       "      <td>334.350006</td>\n",
       "      <td>337.929993</td>\n",
       "      <td>328.119995</td>\n",
       "      <td>329.679993</td>\n",
       "      <td>24217200</td>\n",
       "    </tr>\n",
       "    <tr>\n",
       "      <th>2021-11-29</th>\n",
       "      <td>334.940002</td>\n",
       "      <td>339.029999</td>\n",
       "      <td>334.739990</td>\n",
       "      <td>336.630005</td>\n",
       "      <td>28534600</td>\n",
       "    </tr>\n",
       "  </tbody>\n",
       "</table>\n",
       "</div>"
      ],
      "text/plain": [
       "                  Open        High         Low       Close    Volume\n",
       "Date                                                                \n",
       "2021-11-22  344.619995  349.670013  339.549988  339.829987  31031100\n",
       "2021-11-23  337.049988  339.450012  333.559998  337.679993  30427600\n",
       "2021-11-24  336.279999  338.160004  333.910004  337.910004  21661300\n",
       "2021-11-26  334.350006  337.929993  328.119995  329.679993  24217200\n",
       "2021-11-29  334.940002  339.029999  334.739990  336.630005  28534600"
      ]
     },
     "execution_count": 4,
     "metadata": {},
     "output_type": "execute_result"
    }
   ],
   "source": [
    "ms = yf.download('MSFT', '2020-10-01', '2021-11-30', auto_adjust=True)\n",
    "ms.tail()"
   ]
  },
  {
   "cell_type": "code",
   "execution_count": 5,
   "id": "8c891c2d",
   "metadata": {},
   "outputs": [
    {
     "name": "stdout",
     "output_type": "stream",
     "text": [
      "[*********************100%***********************]  1 of 1 completed\n"
     ]
    },
    {
     "data": {
      "text/html": [
       "<div>\n",
       "<style scoped>\n",
       "    .dataframe tbody tr th:only-of-type {\n",
       "        vertical-align: middle;\n",
       "    }\n",
       "\n",
       "    .dataframe tbody tr th {\n",
       "        vertical-align: top;\n",
       "    }\n",
       "\n",
       "    .dataframe thead th {\n",
       "        text-align: right;\n",
       "    }\n",
       "</style>\n",
       "<table border=\"1\" class=\"dataframe\">\n",
       "  <thead>\n",
       "    <tr style=\"text-align: right;\">\n",
       "      <th></th>\n",
       "      <th>Open</th>\n",
       "      <th>High</th>\n",
       "      <th>Low</th>\n",
       "      <th>Close</th>\n",
       "      <th>Volume</th>\n",
       "    </tr>\n",
       "    <tr>\n",
       "      <th>Date</th>\n",
       "      <th></th>\n",
       "      <th></th>\n",
       "      <th></th>\n",
       "      <th></th>\n",
       "      <th></th>\n",
       "    </tr>\n",
       "  </thead>\n",
       "  <tbody>\n",
       "    <tr>\n",
       "      <th>2021-11-22</th>\n",
       "      <td>344.619995</td>\n",
       "      <td>349.670013</td>\n",
       "      <td>339.549988</td>\n",
       "      <td>339.829987</td>\n",
       "      <td>31031100</td>\n",
       "    </tr>\n",
       "    <tr>\n",
       "      <th>2021-11-23</th>\n",
       "      <td>337.049988</td>\n",
       "      <td>339.450012</td>\n",
       "      <td>333.559998</td>\n",
       "      <td>337.679993</td>\n",
       "      <td>30427600</td>\n",
       "    </tr>\n",
       "    <tr>\n",
       "      <th>2021-11-24</th>\n",
       "      <td>336.279999</td>\n",
       "      <td>338.160004</td>\n",
       "      <td>333.910004</td>\n",
       "      <td>337.910004</td>\n",
       "      <td>21661300</td>\n",
       "    </tr>\n",
       "    <tr>\n",
       "      <th>2021-11-26</th>\n",
       "      <td>334.350006</td>\n",
       "      <td>337.929993</td>\n",
       "      <td>328.119995</td>\n",
       "      <td>329.679993</td>\n",
       "      <td>24217200</td>\n",
       "    </tr>\n",
       "    <tr>\n",
       "      <th>2021-11-29</th>\n",
       "      <td>334.940002</td>\n",
       "      <td>339.029999</td>\n",
       "      <td>334.739990</td>\n",
       "      <td>336.630005</td>\n",
       "      <td>28534600</td>\n",
       "    </tr>\n",
       "  </tbody>\n",
       "</table>\n",
       "</div>"
      ],
      "text/plain": [
       "                  Open        High         Low       Close    Volume\n",
       "Date                                                                \n",
       "2021-11-22  344.619995  349.670013  339.549988  339.829987  31031100\n",
       "2021-11-23  337.049988  339.450012  333.559998  337.679993  30427600\n",
       "2021-11-24  336.279999  338.160004  333.910004  337.910004  21661300\n",
       "2021-11-26  334.350006  337.929993  328.119995  329.679993  24217200\n",
       "2021-11-29  334.940002  339.029999  334.739990  336.630005  28534600"
      ]
     },
     "execution_count": 5,
     "metadata": {},
     "output_type": "execute_result"
    }
   ],
   "source": [
    "ms1 = yf.download('MSFT', auto_adjust=True)\n",
    "ms1.tail()"
   ]
  },
  {
   "cell_type": "code",
   "execution_count": 6,
   "id": "d88415cf",
   "metadata": {},
   "outputs": [
    {
     "name": "stdout",
     "output_type": "stream",
     "text": [
      "205.46529628839568\n"
     ]
    }
   ],
   "source": [
    "print(ms.iloc[0, 0])"
   ]
  },
  {
   "cell_type": "code",
   "execution_count": 7,
   "id": "64ead12c",
   "metadata": {},
   "outputs": [
    {
     "name": "stdout",
     "output_type": "stream",
     "text": [
      "0.0558984901507837\n"
     ]
    }
   ],
   "source": [
    "print(ms1.iloc[0, 0])"
   ]
  },
  {
   "cell_type": "code",
   "execution_count": 8,
   "id": "8deb189a",
   "metadata": {},
   "outputs": [
    {
     "data": {
      "text/plain": [
       "<bound method DataFrame.info of                   Open        High         Low       Close    Volume\n",
       "Date                                                                \n",
       "2020-09-30  205.465296  209.668962  204.288267  208.036957  33829100\n",
       "2020-10-01  211.162507  211.657056  209.016167  210.143738  27158400\n",
       "2020-10-02  205.732358  208.689766  203.299170  203.942093  33154800\n",
       "2020-10-05  204.960873  208.116098  204.723484  208.086426  21331600\n",
       "2020-10-06  206.543424  207.888583  202.587033  203.665146  28554300\n",
       "...                ...         ...         ...         ...       ...\n",
       "2021-11-22  344.619995  349.670013  339.549988  339.829987  31031100\n",
       "2021-11-23  337.049988  339.450012  333.559998  337.679993  30427600\n",
       "2021-11-24  336.279999  338.160004  333.910004  337.910004  21661300\n",
       "2021-11-26  334.350006  337.929993  328.119995  329.679993  24217200\n",
       "2021-11-29  334.940002  339.029999  334.739990  336.630005  28534600\n",
       "\n",
       "[294 rows x 5 columns]>"
      ]
     },
     "execution_count": 8,
     "metadata": {},
     "output_type": "execute_result"
    }
   ],
   "source": [
    "ms.info"
   ]
  },
  {
   "cell_type": "code",
   "execution_count": 9,
   "id": "2b08459a",
   "metadata": {},
   "outputs": [
    {
     "name": "stdout",
     "output_type": "stream",
     "text": [
      "334.94000244140625\n"
     ]
    }
   ],
   "source": [
    "print(ms.iloc[293, 0])"
   ]
  },
  {
   "cell_type": "code",
   "execution_count": 10,
   "id": "a4261c02",
   "metadata": {},
   "outputs": [
    {
     "data": {
      "text/plain": [
       "<bound method DataFrame.info of                   Open        High         Low       Close      Volume\n",
       "Date                                                                  \n",
       "1986-03-13    0.055898    0.064119    0.055898    0.061378  1031788800\n",
       "1986-03-14    0.061378    0.064667    0.061378    0.063570   308160000\n",
       "1986-03-17    0.063570    0.065215    0.063570    0.064667   133171200\n",
       "1986-03-18    0.064667    0.065215    0.062474    0.063022    67766400\n",
       "1986-03-19    0.063022    0.063570    0.061378    0.061926    47894400\n",
       "...                ...         ...         ...         ...         ...\n",
       "2021-11-22  344.619995  349.670013  339.549988  339.829987    31031100\n",
       "2021-11-23  337.049988  339.450012  333.559998  337.679993    30427600\n",
       "2021-11-24  336.279999  338.160004  333.910004  337.910004    21661300\n",
       "2021-11-26  334.350006  337.929993  328.119995  329.679993    24217200\n",
       "2021-11-29  334.940002  339.029999  334.739990  336.630005    28534600\n",
       "\n",
       "[9003 rows x 5 columns]>"
      ]
     },
     "execution_count": 10,
     "metadata": {},
     "output_type": "execute_result"
    }
   ],
   "source": [
    "ms1.info"
   ]
  },
  {
   "cell_type": "code",
   "execution_count": 11,
   "id": "ac6e541c",
   "metadata": {},
   "outputs": [
    {
     "name": "stdout",
     "output_type": "stream",
     "text": [
      "334.94000244140625\n"
     ]
    }
   ],
   "source": [
    "print(ms1.iloc[9002, 0])"
   ]
  },
  {
   "cell_type": "markdown",
   "id": "183487b8",
   "metadata": {},
   "source": [
    "# Data Attributes"
   ]
  },
  {
   "cell_type": "code",
   "execution_count": 12,
   "id": "6f86650d",
   "metadata": {},
   "outputs": [
    {
     "data": {
      "text/plain": [
       "Timestamp('2021-11-29 00:00:00')"
      ]
     },
     "execution_count": 12,
     "metadata": {},
     "output_type": "execute_result"
    }
   ],
   "source": [
    "fb.index\n",
    "fb.index[0]\n",
    "fb.index[-1]"
   ]
  },
  {
   "cell_type": "code",
   "execution_count": 13,
   "id": "1ede9cc9",
   "metadata": {},
   "outputs": [
    {
     "data": {
      "text/plain": [
       "DatetimeIndex(['2016-09-30', '2016-10-03', '2016-10-04', '2016-10-05',\n",
       "               '2016-10-06', '2016-10-07', '2016-10-10', '2016-10-11',\n",
       "               '2016-10-12', '2016-10-13',\n",
       "               ...\n",
       "               '2021-11-15', '2021-11-16', '2021-11-17', '2021-11-18',\n",
       "               '2021-11-19', '2021-11-22', '2021-11-23', '2021-11-24',\n",
       "               '2021-11-26', '2021-11-29'],\n",
       "              dtype='datetime64[ns]', name='Date', length=1300, freq=None)"
      ]
     },
     "execution_count": 13,
     "metadata": {},
     "output_type": "execute_result"
    }
   ],
   "source": [
    "fb.index"
   ]
  },
  {
   "cell_type": "code",
   "execution_count": 14,
   "id": "5a28f4e5",
   "metadata": {},
   "outputs": [
    {
     "data": {
      "text/plain": [
       "Timestamp('2016-09-30 00:00:00')"
      ]
     },
     "execution_count": 14,
     "metadata": {},
     "output_type": "execute_result"
    }
   ],
   "source": [
    "fb.index[0]"
   ]
  },
  {
   "cell_type": "code",
   "execution_count": 15,
   "id": "220cba25",
   "metadata": {},
   "outputs": [
    {
     "data": {
      "text/plain": [
       "Timestamp('2021-11-29 00:00:00')"
      ]
     },
     "execution_count": 15,
     "metadata": {},
     "output_type": "execute_result"
    }
   ],
   "source": [
    "fb.index[-1]"
   ]
  },
  {
   "cell_type": "code",
   "execution_count": 16,
   "id": "7659a2de",
   "metadata": {},
   "outputs": [
    {
     "data": {
      "text/plain": [
       "(1300, 5)"
      ]
     },
     "execution_count": 16,
     "metadata": {},
     "output_type": "execute_result"
    }
   ],
   "source": [
    "fb.shape"
   ]
  },
  {
   "cell_type": "code",
   "execution_count": 17,
   "id": "1fd8ba31",
   "metadata": {},
   "outputs": [
    {
     "data": {
      "text/html": [
       "<div>\n",
       "<style scoped>\n",
       "    .dataframe tbody tr th:only-of-type {\n",
       "        vertical-align: middle;\n",
       "    }\n",
       "\n",
       "    .dataframe tbody tr th {\n",
       "        vertical-align: top;\n",
       "    }\n",
       "\n",
       "    .dataframe thead th {\n",
       "        text-align: right;\n",
       "    }\n",
       "</style>\n",
       "<table border=\"1\" class=\"dataframe\">\n",
       "  <thead>\n",
       "    <tr style=\"text-align: right;\">\n",
       "      <th></th>\n",
       "      <th>Open</th>\n",
       "      <th>High</th>\n",
       "      <th>Low</th>\n",
       "      <th>Close</th>\n",
       "      <th>Volume</th>\n",
       "    </tr>\n",
       "  </thead>\n",
       "  <tbody>\n",
       "    <tr>\n",
       "      <th>count</th>\n",
       "      <td>1300.000000</td>\n",
       "      <td>1300.000000</td>\n",
       "      <td>1300.000000</td>\n",
       "      <td>1300.000000</td>\n",
       "      <td>1.300000e+03</td>\n",
       "    </tr>\n",
       "    <tr>\n",
       "      <th>mean</th>\n",
       "      <td>206.576177</td>\n",
       "      <td>208.983054</td>\n",
       "      <td>204.181623</td>\n",
       "      <td>206.661646</td>\n",
       "      <td>2.045759e+07</td>\n",
       "    </tr>\n",
       "    <tr>\n",
       "      <th>std</th>\n",
       "      <td>65.711376</td>\n",
       "      <td>66.548498</td>\n",
       "      <td>64.922093</td>\n",
       "      <td>65.735831</td>\n",
       "      <td>1.238951e+07</td>\n",
       "    </tr>\n",
       "    <tr>\n",
       "      <th>min</th>\n",
       "      <td>114.480003</td>\n",
       "      <td>116.480003</td>\n",
       "      <td>113.550003</td>\n",
       "      <td>115.050003</td>\n",
       "      <td>6.046300e+06</td>\n",
       "    </tr>\n",
       "    <tr>\n",
       "      <th>25%</th>\n",
       "      <td>162.542503</td>\n",
       "      <td>165.007496</td>\n",
       "      <td>160.834999</td>\n",
       "      <td>162.867496</td>\n",
       "      <td>1.328928e+07</td>\n",
       "    </tr>\n",
       "    <tr>\n",
       "      <th>50%</th>\n",
       "      <td>183.855003</td>\n",
       "      <td>185.779999</td>\n",
       "      <td>182.159996</td>\n",
       "      <td>184.190002</td>\n",
       "      <td>1.732210e+07</td>\n",
       "    </tr>\n",
       "    <tr>\n",
       "      <th>75%</th>\n",
       "      <td>253.864994</td>\n",
       "      <td>256.385002</td>\n",
       "      <td>249.049999</td>\n",
       "      <td>252.814999</td>\n",
       "      <td>2.328498e+07</td>\n",
       "    </tr>\n",
       "    <tr>\n",
       "      <th>max</th>\n",
       "      <td>381.679993</td>\n",
       "      <td>384.329987</td>\n",
       "      <td>378.809998</td>\n",
       "      <td>382.179993</td>\n",
       "      <td>1.698037e+08</td>\n",
       "    </tr>\n",
       "  </tbody>\n",
       "</table>\n",
       "</div>"
      ],
      "text/plain": [
       "              Open         High          Low        Close        Volume\n",
       "count  1300.000000  1300.000000  1300.000000  1300.000000  1.300000e+03\n",
       "mean    206.576177   208.983054   204.181623   206.661646  2.045759e+07\n",
       "std      65.711376    66.548498    64.922093    65.735831  1.238951e+07\n",
       "min     114.480003   116.480003   113.550003   115.050003  6.046300e+06\n",
       "25%     162.542503   165.007496   160.834999   162.867496  1.328928e+07\n",
       "50%     183.855003   185.779999   182.159996   184.190002  1.732210e+07\n",
       "75%     253.864994   256.385002   249.049999   252.814999  2.328498e+07\n",
       "max     381.679993   384.329987   378.809998   382.179993  1.698037e+08"
      ]
     },
     "execution_count": 17,
     "metadata": {},
     "output_type": "execute_result"
    }
   ],
   "source": [
    "fb.describe()"
   ]
  },
  {
   "cell_type": "markdown",
   "id": "f5637c59",
   "metadata": {},
   "source": [
    "# Slicicng DataFrame\n",
    "### Selection by label\n",
    ".loc\n",
    "### Selection by position\n",
    ".iloc"
   ]
  },
  {
   "cell_type": "markdown",
   "id": "bed24e37",
   "metadata": {},
   "source": [
    "Selection by label (.loc)"
   ]
  },
  {
   "cell_type": "code",
   "execution_count": 18,
   "id": "8fa58758",
   "metadata": {},
   "outputs": [
    {
     "data": {
      "text/plain": [
       "338.0299987792969"
      ]
     },
     "execution_count": 18,
     "metadata": {},
     "output_type": "execute_result"
    }
   ],
   "source": [
    "fb.loc['2021-11-29', 'Close']"
   ]
  },
  {
   "cell_type": "code",
   "execution_count": 19,
   "id": "42a1f47f",
   "metadata": {},
   "outputs": [
    {
     "data": {
      "text/plain": [
       "258.3299865722656"
      ]
     },
     "execution_count": 19,
     "metadata": {},
     "output_type": "execute_result"
    }
   ],
   "source": [
    "fb.loc['2021-1-29', 'Close']"
   ]
  },
  {
   "cell_type": "markdown",
   "id": "aeddc16a",
   "metadata": {},
   "source": [
    "Selection by position (.iloc)"
   ]
  },
  {
   "cell_type": "code",
   "execution_count": 20,
   "id": "b8051493",
   "metadata": {},
   "outputs": [
    {
     "data": {
      "text/plain": [
       "128.77000427246094"
      ]
     },
     "execution_count": 20,
     "metadata": {},
     "output_type": "execute_result"
    }
   ],
   "source": [
    "fb.iloc[1,3]"
   ]
  },
  {
   "cell_type": "markdown",
   "id": "3e8a9f5b",
   "metadata": {},
   "source": [
    "Find close price between 2015-1-29 and 2021-11-29"
   ]
  },
  {
   "cell_type": "code",
   "execution_count": 21,
   "id": "12ea28d6",
   "metadata": {},
   "outputs": [
    {
     "data": {
      "text/plain": [
       "Date\n",
       "2016-09-30    128.270004\n",
       "2016-10-03    128.770004\n",
       "2016-10-04    128.190002\n",
       "2016-10-05    128.470001\n",
       "2016-10-06    128.740005\n",
       "                 ...    \n",
       "2021-11-22    341.010010\n",
       "2021-11-23    337.250000\n",
       "2021-11-24    341.059998\n",
       "2021-11-26    333.119995\n",
       "2021-11-29    338.029999\n",
       "Name: Close, Length: 1300, dtype: float64"
      ]
     },
     "execution_count": 21,
     "metadata": {},
     "output_type": "execute_result"
    }
   ],
   "source": [
    "fb.loc['2015-1-29':'2021-11-29','Close']"
   ]
  },
  {
   "cell_type": "markdown",
   "id": "2cea98f5",
   "metadata": {},
   "source": [
    "Slicing Multiple columns"
   ]
  },
  {
   "cell_type": "code",
   "execution_count": 22,
   "id": "ab081752",
   "metadata": {},
   "outputs": [
    {
     "data": {
      "text/html": [
       "<div>\n",
       "<style scoped>\n",
       "    .dataframe tbody tr th:only-of-type {\n",
       "        vertical-align: middle;\n",
       "    }\n",
       "\n",
       "    .dataframe tbody tr th {\n",
       "        vertical-align: top;\n",
       "    }\n",
       "\n",
       "    .dataframe thead th {\n",
       "        text-align: right;\n",
       "    }\n",
       "</style>\n",
       "<table border=\"1\" class=\"dataframe\">\n",
       "  <thead>\n",
       "    <tr style=\"text-align: right;\">\n",
       "      <th></th>\n",
       "      <th>Open</th>\n",
       "      <th>High</th>\n",
       "      <th>Low</th>\n",
       "      <th>Close</th>\n",
       "      <th>Volume</th>\n",
       "    </tr>\n",
       "    <tr>\n",
       "      <th>Date</th>\n",
       "      <th></th>\n",
       "      <th></th>\n",
       "      <th></th>\n",
       "      <th></th>\n",
       "      <th></th>\n",
       "    </tr>\n",
       "  </thead>\n",
       "  <tbody>\n",
       "    <tr>\n",
       "      <th>2019-03-27</th>\n",
       "      <td>167.850006</td>\n",
       "      <td>168.940002</td>\n",
       "      <td>164.789993</td>\n",
       "      <td>165.869995</td>\n",
       "      <td>10620300</td>\n",
       "    </tr>\n",
       "    <tr>\n",
       "      <th>2019-03-28</th>\n",
       "      <td>164.570007</td>\n",
       "      <td>166.720001</td>\n",
       "      <td>163.330002</td>\n",
       "      <td>165.550003</td>\n",
       "      <td>10443000</td>\n",
       "    </tr>\n",
       "    <tr>\n",
       "      <th>2019-03-29</th>\n",
       "      <td>166.389999</td>\n",
       "      <td>167.190002</td>\n",
       "      <td>164.809998</td>\n",
       "      <td>166.690002</td>\n",
       "      <td>13455500</td>\n",
       "    </tr>\n",
       "    <tr>\n",
       "      <th>2019-04-01</th>\n",
       "      <td>167.830002</td>\n",
       "      <td>168.899994</td>\n",
       "      <td>167.279999</td>\n",
       "      <td>168.699997</td>\n",
       "      <td>10381500</td>\n",
       "    </tr>\n",
       "    <tr>\n",
       "      <th>2019-04-02</th>\n",
       "      <td>170.139999</td>\n",
       "      <td>174.899994</td>\n",
       "      <td>169.550003</td>\n",
       "      <td>174.199997</td>\n",
       "      <td>23946500</td>\n",
       "    </tr>\n",
       "    <tr>\n",
       "      <th>...</th>\n",
       "      <td>...</td>\n",
       "      <td>...</td>\n",
       "      <td>...</td>\n",
       "      <td>...</td>\n",
       "      <td>...</td>\n",
       "    </tr>\n",
       "    <tr>\n",
       "      <th>2021-11-22</th>\n",
       "      <td>349.049988</td>\n",
       "      <td>353.829987</td>\n",
       "      <td>340.510010</td>\n",
       "      <td>341.010010</td>\n",
       "      <td>27116800</td>\n",
       "    </tr>\n",
       "    <tr>\n",
       "      <th>2021-11-23</th>\n",
       "      <td>338.929993</td>\n",
       "      <td>341.399994</td>\n",
       "      <td>333.500000</td>\n",
       "      <td>337.250000</td>\n",
       "      <td>17225000</td>\n",
       "    </tr>\n",
       "    <tr>\n",
       "      <th>2021-11-24</th>\n",
       "      <td>336.000000</td>\n",
       "      <td>341.779999</td>\n",
       "      <td>332.809998</td>\n",
       "      <td>341.059998</td>\n",
       "      <td>13566200</td>\n",
       "    </tr>\n",
       "    <tr>\n",
       "      <th>2021-11-26</th>\n",
       "      <td>335.799988</td>\n",
       "      <td>337.750000</td>\n",
       "      <td>331.899994</td>\n",
       "      <td>333.119995</td>\n",
       "      <td>14750700</td>\n",
       "    </tr>\n",
       "    <tr>\n",
       "      <th>2021-11-29</th>\n",
       "      <td>336.890015</td>\n",
       "      <td>340.670013</td>\n",
       "      <td>335.309998</td>\n",
       "      <td>338.029999</td>\n",
       "      <td>16629200</td>\n",
       "    </tr>\n",
       "  </tbody>\n",
       "</table>\n",
       "<p>676 rows × 5 columns</p>\n",
       "</div>"
      ],
      "text/plain": [
       "                  Open        High         Low       Close    Volume\n",
       "Date                                                                \n",
       "2019-03-27  167.850006  168.940002  164.789993  165.869995  10620300\n",
       "2019-03-28  164.570007  166.720001  163.330002  165.550003  10443000\n",
       "2019-03-29  166.389999  167.190002  164.809998  166.690002  13455500\n",
       "2019-04-01  167.830002  168.899994  167.279999  168.699997  10381500\n",
       "2019-04-02  170.139999  174.899994  169.550003  174.199997  23946500\n",
       "...                ...         ...         ...         ...       ...\n",
       "2021-11-22  349.049988  353.829987  340.510010  341.010010  27116800\n",
       "2021-11-23  338.929993  341.399994  333.500000  337.250000  17225000\n",
       "2021-11-24  336.000000  341.779999  332.809998  341.059998  13566200\n",
       "2021-11-26  335.799988  337.750000  331.899994  333.119995  14750700\n",
       "2021-11-29  336.890015  340.670013  335.309998  338.029999  16629200\n",
       "\n",
       "[676 rows x 5 columns]"
      ]
     },
     "execution_count": 22,
     "metadata": {},
     "output_type": "execute_result"
    }
   ],
   "source": [
    "fb.iloc[624: , : ]"
   ]
  },
  {
   "cell_type": "markdown",
   "id": "5b8f56bc",
   "metadata": {},
   "source": [
    "# Visualizing Stock Price"
   ]
  },
  {
   "cell_type": "code",
   "execution_count": 23,
   "id": "4d089419",
   "metadata": {},
   "outputs": [
    {
     "data": {
      "text/plain": [
       "<AxesSubplot:xlabel='Date'>"
      ]
     },
     "execution_count": 23,
     "metadata": {},
     "output_type": "execute_result"
    }
   ],
   "source": [
    "fb.loc['2015-1-1':'2015-12-31','Close'].plot() # 2015\n",
    "fb.loc['2016-1-1':'2016-12-31','Close'].plot() # 2016\n",
    "fb.loc['2017-1-1':'2017-12-31','Close'].plot() # 2017\n",
    "fb.loc['2018-1-1':'2018-12-31','Close'].plot() # 2018\n",
    "fb.loc['2019-1-1':'2019-12-31','Close'].plot() # 2019\n",
    "fb.loc['2020-1-1':'2020-12-31','Close'].plot() # 2020\n",
    "fb.loc['2021-1-1':'2021-12-31','Close'].plot() # 2021"
   ]
  }
 ],
 "metadata": {
  "kernelspec": {
   "display_name": "Python 3",
   "language": "python",
   "name": "python3"
  },
  "language_info": {
   "codemirror_mode": {
    "name": "ipython",
    "version": 3
   },
   "file_extension": ".py",
   "mimetype": "text/x-python",
   "name": "python",
   "nbconvert_exporter": "python",
   "pygments_lexer": "ipython3",
   "version": "3.8.8"
  }
 },
 "nbformat": 4,
 "nbformat_minor": 5
}
