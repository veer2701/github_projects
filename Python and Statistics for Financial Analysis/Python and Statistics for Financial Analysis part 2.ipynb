{
 "cells": [
  {
   "cell_type": "code",
   "execution_count": 1,
   "id": "0de99f2b",
   "metadata": {},
   "outputs": [],
   "source": [
    "#import the packages \"Pandas\" and \"MatPlotLib\" into Jupyter Notebook\n",
    "import pandas as pd\n",
    "import pandas as pd\n",
    "import matplotlib.pyplot as plt\n",
    "%matplotlib inline"
   ]
  },
  {
   "cell_type": "code",
   "execution_count": 2,
   "id": "c909fafe",
   "metadata": {},
   "outputs": [],
   "source": [
    "#We import the stock data of Facebook into Jupyter Notebook. The CSV file is located in the folder called \"Data\" in your Workspace\n",
    "#We then name the DataFrame name as 'fb'\n",
    "#fb = yf.DataFrame.from_csv('../data/facebook.csv')\n",
    "#fb.head()"
   ]
  },
  {
   "cell_type": "code",
   "execution_count": 46,
   "id": "b21395d2",
   "metadata": {},
   "outputs": [
    {
     "name": "stdout",
     "output_type": "stream",
     "text": [
      "[*********************100%***********************]  1 of 1 completed\n"
     ]
    },
    {
     "data": {
      "text/html": [
       "<div>\n",
       "<style scoped>\n",
       "    .dataframe tbody tr th:only-of-type {\n",
       "        vertical-align: middle;\n",
       "    }\n",
       "\n",
       "    .dataframe tbody tr th {\n",
       "        vertical-align: top;\n",
       "    }\n",
       "\n",
       "    .dataframe thead th {\n",
       "        text-align: right;\n",
       "    }\n",
       "</style>\n",
       "<table border=\"1\" class=\"dataframe\">\n",
       "  <thead>\n",
       "    <tr style=\"text-align: right;\">\n",
       "      <th></th>\n",
       "      <th>Open</th>\n",
       "      <th>High</th>\n",
       "      <th>Low</th>\n",
       "      <th>Close</th>\n",
       "      <th>Volume</th>\n",
       "    </tr>\n",
       "    <tr>\n",
       "      <th>Date</th>\n",
       "      <th></th>\n",
       "      <th></th>\n",
       "      <th></th>\n",
       "      <th></th>\n",
       "      <th></th>\n",
       "    </tr>\n",
       "  </thead>\n",
       "  <tbody>\n",
       "    <tr>\n",
       "      <th>2021-11-22</th>\n",
       "      <td>349.049988</td>\n",
       "      <td>353.829987</td>\n",
       "      <td>340.510010</td>\n",
       "      <td>341.010010</td>\n",
       "      <td>27116800</td>\n",
       "    </tr>\n",
       "    <tr>\n",
       "      <th>2021-11-23</th>\n",
       "      <td>338.929993</td>\n",
       "      <td>341.399994</td>\n",
       "      <td>333.500000</td>\n",
       "      <td>337.250000</td>\n",
       "      <td>17225000</td>\n",
       "    </tr>\n",
       "    <tr>\n",
       "      <th>2021-11-24</th>\n",
       "      <td>336.000000</td>\n",
       "      <td>341.779999</td>\n",
       "      <td>332.809998</td>\n",
       "      <td>341.059998</td>\n",
       "      <td>13566200</td>\n",
       "    </tr>\n",
       "    <tr>\n",
       "      <th>2021-11-26</th>\n",
       "      <td>335.799988</td>\n",
       "      <td>337.750000</td>\n",
       "      <td>331.899994</td>\n",
       "      <td>333.119995</td>\n",
       "      <td>14750700</td>\n",
       "    </tr>\n",
       "    <tr>\n",
       "      <th>2021-11-29</th>\n",
       "      <td>336.890015</td>\n",
       "      <td>340.670013</td>\n",
       "      <td>335.309998</td>\n",
       "      <td>338.029999</td>\n",
       "      <td>16629200</td>\n",
       "    </tr>\n",
       "  </tbody>\n",
       "</table>\n",
       "</div>"
      ],
      "text/plain": [
       "                  Open        High         Low       Close    Volume\n",
       "Date                                                                \n",
       "2021-11-22  349.049988  353.829987  340.510010  341.010010  27116800\n",
       "2021-11-23  338.929993  341.399994  333.500000  337.250000  17225000\n",
       "2021-11-24  336.000000  341.779999  332.809998  341.059998  13566200\n",
       "2021-11-26  335.799988  337.750000  331.899994  333.119995  14750700\n",
       "2021-11-29  336.890015  340.670013  335.309998  338.029999  16629200"
      ]
     },
     "execution_count": 46,
     "metadata": {},
     "output_type": "execute_result"
    }
   ],
   "source": [
    "# yahoo finance is used to fetch data\n",
    "import yfinance as yf\n",
    "#See the yahoo finance ticker for your stock symbol\n",
    "stock_symbol = 'FB'\n",
    "# Read data\n",
    "fb = yf.download('FB', '2015-1-01', '2021-11-30', auto_adjust=True)\n",
    "fb.tail()"
   ]
  },
  {
   "cell_type": "code",
   "execution_count": 51,
   "id": "241680ce",
   "metadata": {},
   "outputs": [
    {
     "name": "stdout",
     "output_type": "stream",
     "text": [
      "[*********************100%***********************]  1 of 1 completed\n"
     ]
    },
    {
     "data": {
      "text/html": [
       "<div>\n",
       "<style scoped>\n",
       "    .dataframe tbody tr th:only-of-type {\n",
       "        vertical-align: middle;\n",
       "    }\n",
       "\n",
       "    .dataframe tbody tr th {\n",
       "        vertical-align: top;\n",
       "    }\n",
       "\n",
       "    .dataframe thead th {\n",
       "        text-align: right;\n",
       "    }\n",
       "</style>\n",
       "<table border=\"1\" class=\"dataframe\">\n",
       "  <thead>\n",
       "    <tr style=\"text-align: right;\">\n",
       "      <th></th>\n",
       "      <th>Open</th>\n",
       "      <th>High</th>\n",
       "      <th>Low</th>\n",
       "      <th>Close</th>\n",
       "      <th>Volume</th>\n",
       "    </tr>\n",
       "    <tr>\n",
       "      <th>Date</th>\n",
       "      <th></th>\n",
       "      <th></th>\n",
       "      <th></th>\n",
       "      <th></th>\n",
       "      <th></th>\n",
       "    </tr>\n",
       "  </thead>\n",
       "  <tbody>\n",
       "    <tr>\n",
       "      <th>2021-11-22</th>\n",
       "      <td>344.619995</td>\n",
       "      <td>349.670013</td>\n",
       "      <td>339.549988</td>\n",
       "      <td>339.829987</td>\n",
       "      <td>31031100</td>\n",
       "    </tr>\n",
       "    <tr>\n",
       "      <th>2021-11-23</th>\n",
       "      <td>337.049988</td>\n",
       "      <td>339.450012</td>\n",
       "      <td>333.559998</td>\n",
       "      <td>337.679993</td>\n",
       "      <td>30427600</td>\n",
       "    </tr>\n",
       "    <tr>\n",
       "      <th>2021-11-24</th>\n",
       "      <td>336.279999</td>\n",
       "      <td>338.160004</td>\n",
       "      <td>333.910004</td>\n",
       "      <td>337.910004</td>\n",
       "      <td>21661300</td>\n",
       "    </tr>\n",
       "    <tr>\n",
       "      <th>2021-11-26</th>\n",
       "      <td>334.350006</td>\n",
       "      <td>337.929993</td>\n",
       "      <td>328.119995</td>\n",
       "      <td>329.679993</td>\n",
       "      <td>24217200</td>\n",
       "    </tr>\n",
       "    <tr>\n",
       "      <th>2021-11-29</th>\n",
       "      <td>334.940002</td>\n",
       "      <td>339.029999</td>\n",
       "      <td>334.739990</td>\n",
       "      <td>336.630005</td>\n",
       "      <td>28534600</td>\n",
       "    </tr>\n",
       "  </tbody>\n",
       "</table>\n",
       "</div>"
      ],
      "text/plain": [
       "                  Open        High         Low       Close    Volume\n",
       "Date                                                                \n",
       "2021-11-22  344.619995  349.670013  339.549988  339.829987  31031100\n",
       "2021-11-23  337.049988  339.450012  333.559998  337.679993  30427600\n",
       "2021-11-24  336.279999  338.160004  333.910004  337.910004  21661300\n",
       "2021-11-26  334.350006  337.929993  328.119995  329.679993  24217200\n",
       "2021-11-29  334.940002  339.029999  334.739990  336.630005  28534600"
      ]
     },
     "execution_count": 51,
     "metadata": {},
     "output_type": "execute_result"
    }
   ],
   "source": [
    "ms = yf.download('MSFT', '2016-1-01', '2021-11-30', auto_adjust=True)\n",
    "ms.tail()"
   ]
  },
  {
   "cell_type": "code",
   "execution_count": 5,
   "id": "8c891c2d",
   "metadata": {},
   "outputs": [
    {
     "name": "stdout",
     "output_type": "stream",
     "text": [
      "[*********************100%***********************]  1 of 1 completed\n"
     ]
    },
    {
     "data": {
      "text/html": [
       "<div>\n",
       "<style scoped>\n",
       "    .dataframe tbody tr th:only-of-type {\n",
       "        vertical-align: middle;\n",
       "    }\n",
       "\n",
       "    .dataframe tbody tr th {\n",
       "        vertical-align: top;\n",
       "    }\n",
       "\n",
       "    .dataframe thead th {\n",
       "        text-align: right;\n",
       "    }\n",
       "</style>\n",
       "<table border=\"1\" class=\"dataframe\">\n",
       "  <thead>\n",
       "    <tr style=\"text-align: right;\">\n",
       "      <th></th>\n",
       "      <th>Open</th>\n",
       "      <th>High</th>\n",
       "      <th>Low</th>\n",
       "      <th>Close</th>\n",
       "      <th>Volume</th>\n",
       "    </tr>\n",
       "    <tr>\n",
       "      <th>Date</th>\n",
       "      <th></th>\n",
       "      <th></th>\n",
       "      <th></th>\n",
       "      <th></th>\n",
       "      <th></th>\n",
       "    </tr>\n",
       "  </thead>\n",
       "  <tbody>\n",
       "    <tr>\n",
       "      <th>2021-11-22</th>\n",
       "      <td>344.619995</td>\n",
       "      <td>349.670013</td>\n",
       "      <td>339.549988</td>\n",
       "      <td>339.829987</td>\n",
       "      <td>31031100</td>\n",
       "    </tr>\n",
       "    <tr>\n",
       "      <th>2021-11-23</th>\n",
       "      <td>337.049988</td>\n",
       "      <td>339.450012</td>\n",
       "      <td>333.559998</td>\n",
       "      <td>337.679993</td>\n",
       "      <td>30427600</td>\n",
       "    </tr>\n",
       "    <tr>\n",
       "      <th>2021-11-24</th>\n",
       "      <td>336.279999</td>\n",
       "      <td>338.160004</td>\n",
       "      <td>333.910004</td>\n",
       "      <td>337.910004</td>\n",
       "      <td>21661300</td>\n",
       "    </tr>\n",
       "    <tr>\n",
       "      <th>2021-11-26</th>\n",
       "      <td>334.350006</td>\n",
       "      <td>337.929993</td>\n",
       "      <td>328.119995</td>\n",
       "      <td>329.679993</td>\n",
       "      <td>24217200</td>\n",
       "    </tr>\n",
       "    <tr>\n",
       "      <th>2021-11-29</th>\n",
       "      <td>334.940002</td>\n",
       "      <td>339.029999</td>\n",
       "      <td>334.739990</td>\n",
       "      <td>336.630005</td>\n",
       "      <td>28534600</td>\n",
       "    </tr>\n",
       "  </tbody>\n",
       "</table>\n",
       "</div>"
      ],
      "text/plain": [
       "                  Open        High         Low       Close    Volume\n",
       "Date                                                                \n",
       "2021-11-22  344.619995  349.670013  339.549988  339.829987  31031100\n",
       "2021-11-23  337.049988  339.450012  333.559998  337.679993  30427600\n",
       "2021-11-24  336.279999  338.160004  333.910004  337.910004  21661300\n",
       "2021-11-26  334.350006  337.929993  328.119995  329.679993  24217200\n",
       "2021-11-29  334.940002  339.029999  334.739990  336.630005  28534600"
      ]
     },
     "execution_count": 5,
     "metadata": {},
     "output_type": "execute_result"
    }
   ],
   "source": [
    "ms1 = yf.download('MSFT', auto_adjust=True)\n",
    "ms1.tail()"
   ]
  },
  {
   "cell_type": "code",
   "execution_count": null,
   "id": "ab081752",
   "metadata": {},
   "outputs": [],
   "source": [
    "fb.iloc[624: , : ]"
   ]
  },
  {
   "cell_type": "markdown",
   "id": "b0b63f46",
   "metadata": {},
   "source": [
    "# Show the size of a DataFrameusing \"Shape\""
   ]
  },
  {
   "cell_type": "code",
   "execution_count": 39,
   "id": "bd311c71",
   "metadata": {},
   "outputs": [
    {
     "name": "stdout",
     "output_type": "stream",
     "text": [
      "(1553, 5)\n"
     ]
    }
   ],
   "source": [
    "print(fb.shape)"
   ]
  },
  {
   "cell_type": "code",
   "execution_count": 41,
   "id": "f5baec11",
   "metadata": {},
   "outputs": [
    {
     "name": "stdout",
     "output_type": "stream",
     "text": [
      "(9003, 5)\n"
     ]
    }
   ],
   "source": [
    "# print the shape of ms, 1 line\n",
    "print(ms1.shape)"
   ]
  },
  {
   "cell_type": "markdown",
   "id": "6b113d60",
   "metadata": {},
   "source": [
    "# Show summary of a DataFrame"
   ]
  },
  {
   "cell_type": "code",
   "execution_count": 42,
   "id": "bbf87382",
   "metadata": {},
   "outputs": [
    {
     "name": "stdout",
     "output_type": "stream",
     "text": [
      "              Open         High          Low        Close        Volume\n",
      "count  1553.000000  1553.000000  1553.000000  1553.000000  1.553000e+03\n",
      "mean    191.134095   193.317733   188.937721   191.211932  2.139434e+07\n",
      "std      69.683796    70.594671    68.841008    69.711630  1.286281e+07\n",
      "min      88.440002    90.019997    88.010002    89.900002  5.913100e+06\n",
      "25%     139.250000   140.190002   137.600006   139.389999  1.375520e+07\n",
      "50%     177.139999   178.850006   175.529999   177.199997  1.810130e+07\n",
      "75%     221.610001   222.380005   219.210007   221.440002  2.445940e+07\n",
      "max     381.679993   384.329987   378.809998   382.179993  1.698037e+08\n"
     ]
    }
   ],
   "source": [
    "# print summary statistics of Facebook\n",
    "print(fb.describe())"
   ]
  },
  {
   "cell_type": "code",
   "execution_count": 43,
   "id": "6e90dca6",
   "metadata": {},
   "outputs": [
    {
     "data": {
      "text/html": [
       "<div>\n",
       "<style scoped>\n",
       "    .dataframe tbody tr th:only-of-type {\n",
       "        vertical-align: middle;\n",
       "    }\n",
       "\n",
       "    .dataframe tbody tr th {\n",
       "        vertical-align: top;\n",
       "    }\n",
       "\n",
       "    .dataframe thead th {\n",
       "        text-align: right;\n",
       "    }\n",
       "</style>\n",
       "<table border=\"1\" class=\"dataframe\">\n",
       "  <thead>\n",
       "    <tr style=\"text-align: right;\">\n",
       "      <th></th>\n",
       "      <th>Open</th>\n",
       "      <th>High</th>\n",
       "      <th>Low</th>\n",
       "      <th>Close</th>\n",
       "      <th>Volume</th>\n",
       "    </tr>\n",
       "  </thead>\n",
       "  <tbody>\n",
       "    <tr>\n",
       "      <th>count</th>\n",
       "      <td>294.000000</td>\n",
       "      <td>294.000000</td>\n",
       "      <td>294.000000</td>\n",
       "      <td>294.000000</td>\n",
       "      <td>2.940000e+02</td>\n",
       "    </tr>\n",
       "    <tr>\n",
       "      <th>mean</th>\n",
       "      <td>256.435051</td>\n",
       "      <td>258.674704</td>\n",
       "      <td>254.386331</td>\n",
       "      <td>256.701611</td>\n",
       "      <td>2.625912e+07</td>\n",
       "    </tr>\n",
       "    <tr>\n",
       "      <th>std</th>\n",
       "      <td>38.149408</td>\n",
       "      <td>38.153640</td>\n",
       "      <td>38.104832</td>\n",
       "      <td>38.263496</td>\n",
       "      <td>8.135063e+06</td>\n",
       "    </tr>\n",
       "    <tr>\n",
       "      <th>min</th>\n",
       "      <td>201.281419</td>\n",
       "      <td>202.062800</td>\n",
       "      <td>197.443715</td>\n",
       "      <td>200.124176</td>\n",
       "      <td>1.055060e+07</td>\n",
       "    </tr>\n",
       "    <tr>\n",
       "      <th>25%</th>\n",
       "      <td>222.140900</td>\n",
       "      <td>223.972600</td>\n",
       "      <td>219.723228</td>\n",
       "      <td>222.130535</td>\n",
       "      <td>2.108652e+07</td>\n",
       "    </tr>\n",
       "    <tr>\n",
       "      <th>50%</th>\n",
       "      <td>249.202150</td>\n",
       "      <td>250.446474</td>\n",
       "      <td>246.585935</td>\n",
       "      <td>248.570633</td>\n",
       "      <td>2.468005e+07</td>\n",
       "    </tr>\n",
       "    <tr>\n",
       "      <th>75%</th>\n",
       "      <td>287.649560</td>\n",
       "      <td>289.026867</td>\n",
       "      <td>285.026890</td>\n",
       "      <td>288.342674</td>\n",
       "      <td>3.011682e+07</td>\n",
       "    </tr>\n",
       "    <tr>\n",
       "      <th>max</th>\n",
       "      <td>344.619995</td>\n",
       "      <td>349.670013</td>\n",
       "      <td>342.200012</td>\n",
       "      <td>343.109985</td>\n",
       "      <td>6.987060e+07</td>\n",
       "    </tr>\n",
       "  </tbody>\n",
       "</table>\n",
       "</div>"
      ],
      "text/plain": [
       "             Open        High         Low       Close        Volume\n",
       "count  294.000000  294.000000  294.000000  294.000000  2.940000e+02\n",
       "mean   256.435051  258.674704  254.386331  256.701611  2.625912e+07\n",
       "std     38.149408   38.153640   38.104832   38.263496  8.135063e+06\n",
       "min    201.281419  202.062800  197.443715  200.124176  1.055060e+07\n",
       "25%    222.140900  223.972600  219.723228  222.130535  2.108652e+07\n",
       "50%    249.202150  250.446474  246.585935  248.570633  2.468005e+07\n",
       "75%    287.649560  289.026867  285.026890  288.342674  3.011682e+07\n",
       "max    344.619995  349.670013  342.200012  343.109985  6.987060e+07"
      ]
     },
     "execution_count": 43,
     "metadata": {},
     "output_type": "execute_result"
    }
   ],
   "source": [
    "# print summary statistics of Microsoft\n",
    "ms.describe()"
   ]
  },
  {
   "cell_type": "markdown",
   "id": "4b58a141",
   "metadata": {},
   "source": [
    "# Locate a particular row of data using \"Selection by label\""
   ]
  },
  {
   "cell_type": "code",
   "execution_count": 47,
   "id": "4f9390e5",
   "metadata": {},
   "outputs": [
    {
     "data": {
      "text/html": [
       "<div>\n",
       "<style scoped>\n",
       "    .dataframe tbody tr th:only-of-type {\n",
       "        vertical-align: middle;\n",
       "    }\n",
       "\n",
       "    .dataframe tbody tr th {\n",
       "        vertical-align: top;\n",
       "    }\n",
       "\n",
       "    .dataframe thead th {\n",
       "        text-align: right;\n",
       "    }\n",
       "</style>\n",
       "<table border=\"1\" class=\"dataframe\">\n",
       "  <thead>\n",
       "    <tr style=\"text-align: right;\">\n",
       "      <th></th>\n",
       "      <th>Open</th>\n",
       "      <th>High</th>\n",
       "      <th>Low</th>\n",
       "      <th>Close</th>\n",
       "      <th>Volume</th>\n",
       "    </tr>\n",
       "    <tr>\n",
       "      <th>Date</th>\n",
       "      <th></th>\n",
       "      <th></th>\n",
       "      <th></th>\n",
       "      <th></th>\n",
       "      <th></th>\n",
       "    </tr>\n",
       "  </thead>\n",
       "  <tbody>\n",
       "    <tr>\n",
       "      <th>2015-01-02</th>\n",
       "      <td>78.580002</td>\n",
       "      <td>78.930000</td>\n",
       "      <td>77.699997</td>\n",
       "      <td>78.449997</td>\n",
       "      <td>18177500</td>\n",
       "    </tr>\n",
       "    <tr>\n",
       "      <th>2015-01-05</th>\n",
       "      <td>77.980003</td>\n",
       "      <td>79.250000</td>\n",
       "      <td>76.860001</td>\n",
       "      <td>77.190002</td>\n",
       "      <td>26452200</td>\n",
       "    </tr>\n",
       "    <tr>\n",
       "      <th>2015-01-06</th>\n",
       "      <td>77.230003</td>\n",
       "      <td>77.589996</td>\n",
       "      <td>75.360001</td>\n",
       "      <td>76.150002</td>\n",
       "      <td>27399300</td>\n",
       "    </tr>\n",
       "    <tr>\n",
       "      <th>2015-01-07</th>\n",
       "      <td>76.760002</td>\n",
       "      <td>77.360001</td>\n",
       "      <td>75.820000</td>\n",
       "      <td>76.150002</td>\n",
       "      <td>22045300</td>\n",
       "    </tr>\n",
       "    <tr>\n",
       "      <th>2015-01-08</th>\n",
       "      <td>76.739998</td>\n",
       "      <td>78.230003</td>\n",
       "      <td>76.080002</td>\n",
       "      <td>78.180000</td>\n",
       "      <td>23961000</td>\n",
       "    </tr>\n",
       "  </tbody>\n",
       "</table>\n",
       "</div>"
      ],
      "text/plain": [
       "                 Open       High        Low      Close    Volume\n",
       "Date                                                            \n",
       "2015-01-02  78.580002  78.930000  77.699997  78.449997  18177500\n",
       "2015-01-05  77.980003  79.250000  76.860001  77.190002  26452200\n",
       "2015-01-06  77.230003  77.589996  75.360001  76.150002  27399300\n",
       "2015-01-07  76.760002  77.360001  75.820000  76.150002  22045300\n",
       "2015-01-08  76.739998  78.230003  76.080002  78.180000  23961000"
      ]
     },
     "execution_count": 47,
     "metadata": {},
     "output_type": "execute_result"
    }
   ],
   "source": [
    "# select all the price information of Facebook in 2016.\n",
    "fb_2015 = fb.loc['2015-01-01':'2015-12-31']\n",
    "fb_2015.head()"
   ]
  },
  {
   "cell_type": "code",
   "execution_count": 48,
   "id": "d345d5e1",
   "metadata": {},
   "outputs": [
    {
     "name": "stdout",
     "output_type": "stream",
     "text": [
      "Open      7.796000e+01\n",
      "High      7.812000e+01\n",
      "Low       7.736000e+01\n",
      "Close     7.807000e+01\n",
      "Volume    1.930540e+07\n",
      "Name: 2015-03-16 00:00:00, dtype: float64\n"
     ]
    }
   ],
   "source": [
    "print(fb_2015.loc['2015-03-16'])"
   ]
  },
  {
   "cell_type": "code",
   "execution_count": 53,
   "id": "1177192d",
   "metadata": {},
   "outputs": [
    {
     "data": {
      "text/html": [
       "<div>\n",
       "<style scoped>\n",
       "    .dataframe tbody tr th:only-of-type {\n",
       "        vertical-align: middle;\n",
       "    }\n",
       "\n",
       "    .dataframe tbody tr th {\n",
       "        vertical-align: top;\n",
       "    }\n",
       "\n",
       "    .dataframe thead th {\n",
       "        text-align: right;\n",
       "    }\n",
       "</style>\n",
       "<table border=\"1\" class=\"dataframe\">\n",
       "  <thead>\n",
       "    <tr style=\"text-align: right;\">\n",
       "      <th></th>\n",
       "      <th>Open</th>\n",
       "      <th>High</th>\n",
       "      <th>Low</th>\n",
       "      <th>Close</th>\n",
       "      <th>Volume</th>\n",
       "    </tr>\n",
       "    <tr>\n",
       "      <th>Date</th>\n",
       "      <th></th>\n",
       "      <th></th>\n",
       "      <th></th>\n",
       "      <th></th>\n",
       "      <th></th>\n",
       "    </tr>\n",
       "  </thead>\n",
       "  <tbody>\n",
       "    <tr>\n",
       "      <th>2016-01-04</th>\n",
       "      <td>49.156683</td>\n",
       "      <td>49.591057</td>\n",
       "      <td>48.315083</td>\n",
       "      <td>49.591057</td>\n",
       "      <td>53778000</td>\n",
       "    </tr>\n",
       "    <tr>\n",
       "      <th>2016-01-05</th>\n",
       "      <td>49.708699</td>\n",
       "      <td>50.124973</td>\n",
       "      <td>49.355770</td>\n",
       "      <td>49.817291</td>\n",
       "      <td>34079700</td>\n",
       "    </tr>\n",
       "    <tr>\n",
       "      <th>2016-01-06</th>\n",
       "      <td>49.156678</td>\n",
       "      <td>49.229075</td>\n",
       "      <td>48.541314</td>\n",
       "      <td>48.912342</td>\n",
       "      <td>39518900</td>\n",
       "    </tr>\n",
       "    <tr>\n",
       "      <th>2016-01-07</th>\n",
       "      <td>47.690664</td>\n",
       "      <td>48.405573</td>\n",
       "      <td>47.120547</td>\n",
       "      <td>47.211040</td>\n",
       "      <td>56564900</td>\n",
       "    </tr>\n",
       "    <tr>\n",
       "      <th>2016-01-08</th>\n",
       "      <td>47.392038</td>\n",
       "      <td>48.215539</td>\n",
       "      <td>47.192952</td>\n",
       "      <td>47.355843</td>\n",
       "      <td>48754000</td>\n",
       "    </tr>\n",
       "  </tbody>\n",
       "</table>\n",
       "</div>"
      ],
      "text/plain": [
       "                 Open       High        Low      Close    Volume\n",
       "Date                                                            \n",
       "2016-01-04  49.156683  49.591057  48.315083  49.591057  53778000\n",
       "2016-01-05  49.708699  50.124973  49.355770  49.817291  34079700\n",
       "2016-01-06  49.156678  49.229075  48.541314  48.912342  39518900\n",
       "2016-01-07  47.690664  48.405573  47.120547  47.211040  56564900\n",
       "2016-01-08  47.392038  48.215539  47.192952  47.355843  48754000"
      ]
     },
     "execution_count": 53,
     "metadata": {},
     "output_type": "execute_result"
    }
   ],
   "source": [
    "# select all the price information of Microsoft in 2016.\n",
    "ms_2016 = ms.loc['2016-01-01':'2016-12-31']\n",
    "ms_2016.head()"
   ]
  },
  {
   "cell_type": "code",
   "execution_count": 54,
   "id": "5dff1f9d",
   "metadata": {},
   "outputs": [
    {
     "name": "stdout",
     "output_type": "stream",
     "text": [
      "Open      4.871667e+01\n",
      "High      4.976483e+01\n",
      "Low       4.867110e+01\n",
      "Close     4.953696e+01\n",
      "Volume    3.169170e+07\n",
      "Name: 2016-03-16 00:00:00, dtype: float64\n"
     ]
    }
   ],
   "source": [
    "# print the price of Microsoft on '2016-03-16'\n",
    "print(ms_2016.loc['2016-03-16'])"
   ]
  },
  {
   "cell_type": "code",
   "execution_count": 55,
   "id": "f5ef7638",
   "metadata": {},
   "outputs": [
    {
     "name": "stdout",
     "output_type": "stream",
     "text": [
      "79.54000091552734\n"
     ]
    }
   ],
   "source": [
    "# print the opening price of the first row\n",
    "print(fb.iloc[0, 0])"
   ]
  },
  {
   "cell_type": "code",
   "execution_count": 56,
   "id": "d6183523",
   "metadata": {},
   "outputs": [
    {
     "name": "stdout",
     "output_type": "stream",
     "text": [
      "103.46834258147688\n"
     ]
    }
   ],
   "source": [
    "# print the opening price of the last row\n",
    "print(ms.iloc[779, 0])"
   ]
  },
  {
   "cell_type": "markdown",
   "id": "5b8f56bc",
   "metadata": {},
   "source": [
    "# Visualizing Stock Price"
   ]
  },
  {
   "cell_type": "code",
   "execution_count": 57,
   "id": "559c3d4b",
   "metadata": {},
   "outputs": [
    {
     "data": {
      "image/png": "[encoded data removed]",
      "text/plain": [
       "<Figure size 720x576 with 1 Axes>"
      ]
     },
     "metadata": {
      "needs_background": "light"
     },
     "output_type": "display_data"
    }
   ],
   "source": [
    "plt.figure(figsize=(10, 8))\n",
    "fb['Close'].plot()\n",
    "plt.show()"
   ]
  },
  {
   "cell_type": "code",
   "execution_count": 58,
   "id": "9385580a",
   "metadata": {},
   "outputs": [
    {
     "data": {
      "image/png": "[encoded data removed]",
      "text/plain": [
       "<Figure size 720x576 with 1 Axes>"
      ]
     },
     "metadata": {
      "needs_background": "light"
     },
     "output_type": "display_data"
    }
   ],
   "source": [
    "plt.figure(figsize=(10, 8))\n",
    "# plot only the Close price of 2016 of Microsoft, 1 line \n",
    "ms_2016['Close'].plot()\n",
    "plt.show()"
   ]
  },
  {
   "cell_type": "code",
   "execution_count": 60,
   "id": "4d089419",
   "metadata": {},
   "outputs": [
    {
     "data": {
      "text/plain": [
       "<AxesSubplot:xlabel='Date'>"
      ]
     },
     "execution_count": 60,
     "metadata": {},
     "output_type": "execute_result"
    },
    {
     "data": {
      "image/png": "[encoded data removed]",
      "text/plain": [
       "<Figure size 720x576 with 1 Axes>"
      ]
     },
     "metadata": {
      "needs_background": "light"
     },
     "output_type": "display_data"
    }
   ],
   "source": [
    "plt.figure(figsize=(10, 8))\n",
    "fb.loc['2015-1-1':'2015-12-31','Close'].plot() # 2015\n",
    "fb.loc['2016-1-1':'2016-12-31','Close'].plot() # 2016\n",
    "fb.loc['2017-1-1':'2017-12-31','Close'].plot() # 2017\n",
    "fb.loc['2018-1-1':'2018-12-31','Close'].plot() # 2018\n",
    "fb.loc['2019-1-1':'2019-12-31','Close'].plot() # 2019\n",
    "fb.loc['2020-1-1':'2020-12-31','Close'].plot() # 2020\n",
    "fb.loc['2021-1-1':'2021-12-31','Close'].plot() # 2021"
   ]
  },
  {
   "cell_type": "code",
   "execution_count": null,
   "id": "c4a7ff66",
   "metadata": {},
   "outputs": [],
   "source": []
  }
 ],
 "metadata": {
  "kernelspec": {
   "display_name": "Python 3",
   "language": "python",
   "name": "python3"
  },
  "language_info": {
   "codemirror_mode": {
    "name": "ipython",
    "version": 3
   },
   "file_extension": ".py",
   "mimetype": "text/x-python",
   "name": "python",
   "nbconvert_exporter": "python",
   "pygments_lexer": "ipython3",
   "version": "3.8.8"
  }
 },
 "nbformat": 4,
 "nbformat_minor": 5
}
