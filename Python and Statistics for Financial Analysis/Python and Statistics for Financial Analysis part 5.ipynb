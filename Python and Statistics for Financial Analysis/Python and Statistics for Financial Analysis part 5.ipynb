{
 "cells": [
  {
   "cell_type": "code",
   "execution_count": 1,
   "id": "0de99f2b",
   "metadata": {},
   "outputs": [],
   "source": [
    "#import numpy and pandas package\n",
    "import numpy as np\n",
    "import pandas as pd"
   ]
  },
  {
   "cell_type": "code",
   "execution_count": 10,
   "id": "c909fafe",
   "metadata": {},
   "outputs": [
    {
     "name": "stdout",
     "output_type": "stream",
     "text": [
      "Sum of dice is 7\n"
     ]
    }
   ],
   "source": [
    "# roll two dice for multiple times\n",
    "die = pd.DataFrame([1, 2, 3, 4, 5, 6])\n",
    "sum_of_dice = die.sample(2, replace=True).sum().loc[0]\n",
    "print('Sum of dice is', sum_of_dice)  \n",
    "\n",
    "# you may get different outcomes as we now mimic the result of rolling 2 dice, but the range must be limited between 2 and 12. "
   ]
  },
  {
   "cell_type": "code",
   "execution_count": 11,
   "id": "b21395d2",
   "metadata": {},
   "outputs": [],
   "source": [
    "# It is your turn! let's replace the none with the code of rolling three dice, instead of two\n",
    "\n",
    "np.random.seed(1)  # This is for checking answer, do NOT modify this line of code\n",
    "\n",
    "#Modify the code, replace the None\n",
    "sum_of_three_dice = die.sample(3, replace=True).sum().loc[0]"
   ]
  },
  {
   "cell_type": "code",
   "execution_count": 12,
   "id": "241680ce",
   "metadata": {},
   "outputs": [
    {
     "name": "stdout",
     "output_type": "stream",
     "text": [
      "Sum of three dice is 15\n"
     ]
    }
   ],
   "source": [
    "print('Sum of three dice is', sum_of_three_dice)"
   ]
  },
  {
   "cell_type": "code",
   "execution_count": 13,
   "id": "d7dcc65a",
   "metadata": {},
   "outputs": [],
   "source": [
    "# The following code mimics the roll dice game for 50 times. And the results are all stored into \"Result\"\n",
    "# Lets try and get the results of 50 sum of faces.\n",
    "\n",
    "trial = 50\n",
    "result = [die.sample(2, replace=True).sum().loc[0] for i in range(trial)]"
   ]
  },
  {
   "cell_type": "code",
   "execution_count": 14,
   "id": "3fa7303d",
   "metadata": {},
   "outputs": [
    {
     "name": "stdout",
     "output_type": "stream",
     "text": [
      "[3, 10, 2, 7, 11, 5, 11, 8, 9, 8]\n"
     ]
    }
   ],
   "source": [
    "#print the first 10 results\n",
    "print(result[:10])"
   ]
  },
  {
   "cell_type": "code",
   "execution_count": 15,
   "id": "1896605a",
   "metadata": {},
   "outputs": [
    {
     "name": "stdout",
     "output_type": "stream",
     "text": [
      "[5, 9, 10, 11, 3, 8, 7, 8, 4, 4, 10, 6, 7, 3, 7, 5, 10, 6, 3, 6]\n"
     ]
    }
   ],
   "source": [
    "trial = 100\n",
    "result = [die.sample(2, replace=True).sum().loc[0] for i in range(trial)]\n",
    "#print the first 20 results\n",
    "print(result[:20])"
   ]
  },
  {
   "cell_type": "code",
   "execution_count": 16,
   "id": "f513b902",
   "metadata": {},
   "outputs": [
    {
     "name": "stdout",
     "output_type": "stream",
     "text": [
      "[17, 14, 8, 15, 12, 13, 9, 10, 9, 10, 7, 9, 14, 11, 14, 10, 11, 5, 17, 11]\n"
     ]
    }
   ],
   "source": [
    "trial = 100\n",
    "result = [die.sample(3, replace=True).sum().loc[0] for i in range(trial)]\n",
    "#print the first 20 results\n",
    "print(result[:20])"
   ]
  },
  {
   "cell_type": "code",
   "execution_count": null,
   "id": "1e275e20",
   "metadata": {},
   "outputs": [],
   "source": []
  }
 ],
 "metadata": {
  "kernelspec": {
   "display_name": "Python 3",
   "language": "python",
   "name": "python3"
  },
  "language_info": {
   "codemirror_mode": {
    "name": "ipython",
    "version": 3
   },
   "file_extension": ".py",
   "mimetype": "text/x-python",
   "name": "python",
   "nbconvert_exporter": "python",
   "pygments_lexer": "ipython3",
   "version": "3.8.8"
  }
 },
 "nbformat": 4,
 "nbformat_minor": 5
}
