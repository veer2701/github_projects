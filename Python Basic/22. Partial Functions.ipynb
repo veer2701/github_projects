{
 "cells": [
  {
   "cell_type": "markdown",
   "id": "0f1c9216",
   "metadata": {},
   "source": [
    "# Partial functions\n"
   ]
  },
  {
   "cell_type": "code",
   "execution_count": 1,
   "id": "8ee0f98b",
   "metadata": {},
   "outputs": [],
   "source": [
    "# You can create partial functions in python by using the partial function from the functools library.\n",
    "\n",
    "# Partial functions allow one to derive a function with x parameters to a function with fewer parameters and fixed values \n",
    "# set for the more limited function."
   ]
  },
  {
   "cell_type": "code",
   "execution_count": 1,
   "id": "ec340669",
   "metadata": {},
   "outputs": [
    {
     "name": "stdout",
     "output_type": "stream",
     "text": [
      "8\n"
     ]
    }
   ],
   "source": [
    "# This code will return 8.\n",
    "\n",
    "\n",
    "from functools import partial\n",
    "\n",
    "def multiply(x,y):\n",
    "        return x * y\n",
    "\n",
    "# create a new function that multiplies by 2\n",
    "dbl = partial(multiply,2)\n",
    "print(dbl(4))"
   ]
  },
  {
   "cell_type": "code",
   "execution_count": 9,
   "id": "b964af0a",
   "metadata": {},
   "outputs": [],
   "source": [
    "# An important note: the default values will start replacing variables from the left. The 2 will replace x. y will equal \n",
    "# 4 when dbl(4) is called. It does not make a difference in this example, but it does in the example below."
   ]
  },
  {
   "cell_type": "markdown",
   "id": "b4fe594d",
   "metadata": {},
   "source": [
    "# Q?\n"
   ]
  },
  {
   "cell_type": "code",
   "execution_count": null,
   "id": "32d79d31",
   "metadata": {},
   "outputs": [],
   "source": [
    "# Edit the function provided by calling partial() and replacing the first three variables in func(). Then print with the \n",
    "# new partial function using only one input variable so that the output equals 60."
   ]
  },
  {
   "cell_type": "code",
   "execution_count": 2,
   "id": "57b96d66",
   "metadata": {},
   "outputs": [],
   "source": [
    "#Following is the exercise, function provided:\n",
    "from functools import partial\n",
    "def func(u,v,w,x):\n",
    "    return u*4 + v*3 + w*2 + x\n",
    "#Enter your code here to create and print with your partial function"
   ]
  },
  {
   "cell_type": "code",
   "execution_count": 5,
   "id": "62a8602d",
   "metadata": {},
   "outputs": [
    {
     "name": "stdout",
     "output_type": "stream",
     "text": [
      "60\n"
     ]
    }
   ],
   "source": [
    "from functools import partial\n",
    "def func(u,v,w,x):\n",
    "    return u*4 + v*3 + w*2 + x\n",
    "\n",
    "p = partial(func,5,6,7)\n",
    "print(p(8))"
   ]
  },
  {
   "cell_type": "code",
   "execution_count": null,
   "id": "3579512f",
   "metadata": {},
   "outputs": [],
   "source": []
  },
  {
   "cell_type": "code",
   "execution_count": null,
   "id": "08087364",
   "metadata": {},
   "outputs": [],
   "source": []
  }
 ],
 "metadata": {
  "kernelspec": {
   "display_name": "Python 3",
   "language": "python",
   "name": "python3"
  },
  "language_info": {
   "codemirror_mode": {
    "name": "ipython",
    "version": 3
   },
   "file_extension": ".py",
   "mimetype": "text/x-python",
   "name": "python",
   "nbconvert_exporter": "python",
   "pygments_lexer": "ipython3",
   "version": "3.8.8"
  }
 },
 "nbformat": 4,
 "nbformat_minor": 5
}
