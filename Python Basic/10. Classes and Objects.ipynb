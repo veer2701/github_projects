{
 "cells": [
  {
   "cell_type": "markdown",
   "id": "0f1c9216",
   "metadata": {},
   "source": [
    "# Classes and Objects"
   ]
  },
  {
   "cell_type": "code",
   "execution_count": null,
   "id": "52f1549b",
   "metadata": {},
   "outputs": [],
   "source": [
    "# Objects are an encapsulation of variables and functions into a single entity. Objects get their variables and functions \n",
    "# from classes. Classes are essentially a template to create your objects."
   ]
  },
  {
   "cell_type": "markdown",
   "id": "f5a86d98",
   "metadata": {},
   "source": [
    "# Basic Class"
   ]
  },
  {
   "cell_type": "code",
   "execution_count": 1,
   "id": "cb773c6c",
   "metadata": {},
   "outputs": [],
   "source": [
    "class MyClass:\n",
    "    variable = \"blah\"\n",
    "\n",
    "    def function(self):\n",
    "        print(\"This is a message inside the class.\")"
   ]
  },
  {
   "cell_type": "code",
   "execution_count": null,
   "id": "d8a2a25e",
   "metadata": {},
   "outputs": [],
   "source": [
    "# We'll explain why you have to include that \"self\" as a parameter a little bit later. First, to assign the above class\n",
    "# (template) to an object you would do the following:"
   ]
  },
  {
   "cell_type": "code",
   "execution_count": 2,
   "id": "a98fc56f",
   "metadata": {},
   "outputs": [],
   "source": [
    "class MyClass:\n",
    "    variable = \"blah\"\n",
    "\n",
    "    def function(self):\n",
    "        print(\"This is a message inside the class.\")\n",
    "\n",
    "myobjectx = MyClass()"
   ]
  },
  {
   "cell_type": "code",
   "execution_count": null,
   "id": "c8cd2ad4",
   "metadata": {},
   "outputs": [],
   "source": [
    "# Now the variable \"myobjectx\" holds an object of the class \"MyClass\" that contains the variable and the function defined \n",
    "# within the class called \"MyClass\"."
   ]
  },
  {
   "cell_type": "markdown",
   "id": "a21ed46d",
   "metadata": {},
   "source": [
    "# Accessing Object Variables\n"
   ]
  },
  {
   "cell_type": "code",
   "execution_count": 3,
   "id": "800fd3ff",
   "metadata": {},
   "outputs": [
    {
     "data": {
      "text/plain": [
       "'blah'"
      ]
     },
     "execution_count": 3,
     "metadata": {},
     "output_type": "execute_result"
    }
   ],
   "source": [
    "# To access the variable inside of the newly created object \"myobjectx\" you would do the following:\n",
    "\n",
    "\n",
    "class MyClass:\n",
    "    variable = \"blah\"\n",
    "\n",
    "    def function(self):\n",
    "        print(\"This is a message inside the class.\")\n",
    "\n",
    "myobjectx = MyClass()\n",
    "\n",
    "myobjectx.variable"
   ]
  },
  {
   "cell_type": "code",
   "execution_count": 4,
   "id": "1a8237d3",
   "metadata": {},
   "outputs": [
    {
     "name": "stdout",
     "output_type": "stream",
     "text": [
      "blah\n"
     ]
    }
   ],
   "source": [
    "# So for instance the below would output the string \"blah\":\n",
    "\n",
    "\n",
    "class MyClass:\n",
    "    variable = \"blah\"\n",
    "\n",
    "    def function(self):\n",
    "        print(\"This is a message inside the class.\")\n",
    "\n",
    "myobjectx = MyClass()\n",
    "\n",
    "print(myobjectx.variable)"
   ]
  },
  {
   "cell_type": "code",
   "execution_count": 5,
   "id": "60622a73",
   "metadata": {},
   "outputs": [
    {
     "name": "stdout",
     "output_type": "stream",
     "text": [
      "blah\n",
      "yackity\n"
     ]
    }
   ],
   "source": [
    "# You can create multiple different objects that are of the same class(have the same variables and functions defined). \n",
    "# However, each object contains independent copies of the variables defined in the class. For instance, if we were to \n",
    "# define another object with the \"MyClass\" class and then change the string in the variable above:\n",
    "\n",
    "class MyClass:\n",
    "    variable = \"blah\"\n",
    "\n",
    "    def function(self):\n",
    "        print(\"This is a message inside the class.\")\n",
    "\n",
    "myobjectx = MyClass()\n",
    "myobjecty = MyClass()\n",
    "\n",
    "myobjecty.variable = \"yackity\"\n",
    "\n",
    "# Then print out both values\n",
    "print(myobjectx.variable)\n",
    "print(myobjecty.variable)"
   ]
  },
  {
   "cell_type": "markdown",
   "id": "cba94f20",
   "metadata": {},
   "source": [
    "# Accessing Object Functions\n",
    "\n"
   ]
  },
  {
   "cell_type": "code",
   "execution_count": 6,
   "id": "be4fd1ee",
   "metadata": {},
   "outputs": [
    {
     "name": "stdout",
     "output_type": "stream",
     "text": [
      "This is a message inside the class.\n"
     ]
    }
   ],
   "source": [
    "# To access a function inside of an object you use notation similar to accessing a variable:\n",
    "\n",
    "class MyClass:\n",
    "    variable = \"blah\"\n",
    "\n",
    "    def function(self):\n",
    "        print(\"This is a message inside the class.\")\n",
    "\n",
    "myobjectx = MyClass()\n",
    "\n",
    "myobjectx.function()"
   ]
  },
  {
   "cell_type": "markdown",
   "id": "b4fe594d",
   "metadata": {},
   "source": [
    "# Q?\n"
   ]
  },
  {
   "cell_type": "code",
   "execution_count": 5,
   "id": "b964af0a",
   "metadata": {},
   "outputs": [],
   "source": [
    "# We have a class defined for vehicles. Create two new vehicles called car1 and car2. Set car1 to be a red convertible \n",
    "# worth $60,000.00 with a name of Fer, and car2 to be a blue van named Jump worth $10,000.00."
   ]
  },
  {
   "cell_type": "code",
   "execution_count": null,
   "id": "57b96d66",
   "metadata": {},
   "outputs": [],
   "source": [
    "# define the Vehicle class\n",
    "class Vehicle:\n",
    "    name = \"\"\n",
    "    kind = \"car\"\n",
    "    color = \"\"\n",
    "    value = 100.00\n",
    "    def description(self):\n",
    "        desc_str = \"%s is a %s %s worth $%.2f.\" % (self.name, self.color, self.kind, self.value)\n",
    "        return desc_str\n",
    "# your code goes here\n",
    "\n",
    "# test code\n",
    "print(car1.description())\n",
    "print(car2.description())"
   ]
  },
  {
   "cell_type": "code",
   "execution_count": 8,
   "id": "62a8602d",
   "metadata": {},
   "outputs": [
    {
     "name": "stdout",
     "output_type": "stream",
     "text": [
      "Fer is a red convertible worth $60000.00.\n",
      "Jump is a blue van worth $10000.00.\n"
     ]
    }
   ],
   "source": [
    "# Solution\n",
    "\n",
    "# define the Vehicle class\n",
    "class Vehicle:\n",
    "    name = \"\"\n",
    "    kind = \"car\"\n",
    "    color = \"\"\n",
    "    value = 100.00\n",
    "    def description(self):\n",
    "        desc_str = \"%s is a %s %s worth $%.2f.\" % (self.name, self.color, self.kind, self.value)\n",
    "        return desc_str\n",
    "    \n",
    "# your code goes here\n",
    "car1=Vehicle()\n",
    "car1.name=\"Fer\"\n",
    "car1.color=\"red\"\n",
    "car1.kind=\"convertible\"\n",
    "car1.value=60000.00\n",
    "\n",
    "car2=Vehicle()\n",
    "car2.name=\"Jump\"\n",
    "car2.color=\"blue\"\n",
    "car2.kind=\"van\"\n",
    "car2.value=10000.00\n",
    "\n",
    "# test code\n",
    "print(car1.description())\n",
    "print(car2.description())"
   ]
  },
  {
   "cell_type": "code",
   "execution_count": null,
   "id": "fe6e73af",
   "metadata": {},
   "outputs": [],
   "source": []
  }
 ],
 "metadata": {
  "kernelspec": {
   "display_name": "Python 3",
   "language": "python",
   "name": "python3"
  },
  "language_info": {
   "codemirror_mode": {
    "name": "ipython",
    "version": 3
   },
   "file_extension": ".py",
   "mimetype": "text/x-python",
   "name": "python",
   "nbconvert_exporter": "python",
   "pygments_lexer": "ipython3",
   "version": "3.8.8"
  }
 },
 "nbformat": 4,
 "nbformat_minor": 5
}
