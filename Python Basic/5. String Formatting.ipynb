{
 "cells": [
  {
   "cell_type": "markdown",
   "id": "0f1c9216",
   "metadata": {},
   "source": [
    "# String Formatting"
   ]
  },
  {
   "cell_type": "code",
   "execution_count": 1,
   "id": "8ee0f98b",
   "metadata": {},
   "outputs": [],
   "source": [
    "# Python uses C-style string formatting to create new, formatted strings. The \"%\" operator is used to format a set of \n",
    "# variables enclosed in a \"tuple\" (a fixed size list), together with a format string, which contains normal text together \n",
    "# with \"argument specifiers\", special symbols like \"%s\" and \"%d\"."
   ]
  },
  {
   "cell_type": "code",
   "execution_count": 2,
   "id": "ee8083b1",
   "metadata": {},
   "outputs": [
    {
     "name": "stdout",
     "output_type": "stream",
     "text": [
      "Hello, John!\n"
     ]
    }
   ],
   "source": [
    "# Let's say you have a variable called \"name\" with your user name in it, and you would then like to print(out a greeting\n",
    "# to that user.)\n",
    "\n",
    "\n",
    "# This prints out \"Hello, John!\"\n",
    "name = \"John\"\n",
    "print(\"Hello, %s!\" % name)"
   ]
  },
  {
   "cell_type": "code",
   "execution_count": 4,
   "id": "ec340669",
   "metadata": {},
   "outputs": [],
   "source": [
    "# To use two or more argument specifiers, use a tuple (parentheses):"
   ]
  },
  {
   "cell_type": "code",
   "execution_count": 5,
   "id": "93e18495",
   "metadata": {},
   "outputs": [
    {
     "name": "stdout",
     "output_type": "stream",
     "text": [
      "John is 23 years old.\n"
     ]
    }
   ],
   "source": [
    "# This prints out \"John is 23 years old.\"\n",
    "name = \"John\"\n",
    "age = 23\n",
    "print(\"%s is %d years old.\" % (name, age))"
   ]
  },
  {
   "cell_type": "code",
   "execution_count": 6,
   "id": "5f5fe4aa",
   "metadata": {},
   "outputs": [
    {
     "name": "stdout",
     "output_type": "stream",
     "text": [
      "A list: [1, 2, 3]\n"
     ]
    }
   ],
   "source": [
    "# Any object which is not a string can be formatted using the %s operator as well. The string which returns from the \n",
    "# \"repr\" method of that object is formatted as the string. For example:\n",
    "\n",
    "\n",
    "# This prints out: A list: [1, 2, 3]\n",
    "mylist = [1,2,3]\n",
    "print(\"A list: %s\" % mylist)"
   ]
  },
  {
   "cell_type": "markdown",
   "id": "e21e02a0",
   "metadata": {},
   "source": [
    "# Here are some basic argument specifiers you should know:\n",
    "\n",
    "%s - String (or any object with a string representation, like numbers)\n",
    "\n",
    "%d - Integers\n",
    "\n",
    "%f - Floating point numbers\n",
    "\n",
    "%.<number of digits>f - Floating point numbers with a fixed amount of digits to the right of the dot.\n",
    "\n",
    "%x/%X - Integers in hex representation (lowercase/uppercase)"
   ]
  },
  {
   "cell_type": "code",
   "execution_count": null,
   "id": "b2e74d6a",
   "metadata": {},
   "outputs": [],
   "source": []
  },
  {
   "cell_type": "markdown",
   "id": "b4fe594d",
   "metadata": {},
   "source": [
    "# Q?\n"
   ]
  },
  {
   "cell_type": "code",
   "execution_count": 13,
   "id": "b964af0a",
   "metadata": {},
   "outputs": [],
   "source": [
    "# You will need to write a format string which prints out the data using the following syntax: Hello John Doe. Your \n",
    "# current balance is $53.44."
   ]
  },
  {
   "cell_type": "code",
   "execution_count": null,
   "id": "57b96d66",
   "metadata": {},
   "outputs": [],
   "source": [
    "data = (\"John\", \"Doe\", 53.44)\n",
    "format_string = \"Hello\"\n",
    "\n",
    "print(format_string % data)"
   ]
  },
  {
   "cell_type": "code",
   "execution_count": 1,
   "id": "62a8602d",
   "metadata": {},
   "outputs": [
    {
     "name": "stdout",
     "output_type": "stream",
     "text": [
      "Hello John Doe. Your current balance is $53.44.\n"
     ]
    }
   ],
   "source": [
    "data = (\"John\", \"Doe\", 53.44)\n",
    "format_string = \"Hello %s %s. Your current balance is $%s.\"\n",
    "\n",
    "print(format_string % data)"
   ]
  },
  {
   "cell_type": "code",
   "execution_count": null,
   "id": "3579512f",
   "metadata": {},
   "outputs": [],
   "source": []
  }
 ],
 "metadata": {
  "kernelspec": {
   "display_name": "Python 3",
   "language": "python",
   "name": "python3"
  },
  "language_info": {
   "codemirror_mode": {
    "name": "ipython",
    "version": 3
   },
   "file_extension": ".py",
   "mimetype": "text/x-python",
   "name": "python",
   "nbconvert_exporter": "python",
   "pygments_lexer": "ipython3",
   "version": "3.8.8"
  }
 },
 "nbformat": 4,
 "nbformat_minor": 5
}
