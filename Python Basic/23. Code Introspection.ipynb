{
 "cells": [
  {
   "cell_type": "markdown",
   "id": "0f1c9216",
   "metadata": {},
   "source": [
    "# Code Introspection"
   ]
  },
  {
   "cell_type": "code",
   "execution_count": 1,
   "id": "8ee0f98b",
   "metadata": {},
   "outputs": [],
   "source": [
    "# Code introspection is the ability to examine classes, functions and keywords to know what they are, what they do and \n",
    "# what they know."
   ]
  },
  {
   "cell_type": "code",
   "execution_count": null,
   "id": "ec340669",
   "metadata": {},
   "outputs": [
    {
     "name": "stdout",
     "output_type": "stream",
     "text": [
      "\n",
      "Welcome to Python 3.8's help utility!\n",
      "\n",
      "If this is your first time using Python, you should definitely check out\n",
      "the tutorial on the Internet at https://docs.python.org/3.8/tutorial/.\n",
      "\n",
      "Enter the name of any module, keyword, or topic to get help on writing\n",
      "Python programs and using Python modules.  To quit this help utility and\n",
      "return to the interpreter, just type \"quit\".\n",
      "\n",
      "To get a list of available modules, keywords, symbols, or topics, type\n",
      "\"modules\", \"keywords\", \"symbols\", or \"topics\".  Each module also comes\n",
      "with a one-line summary of what it does; to list the modules whose name\n",
      "or summary contain a given string such as \"spam\", type \"modules spam\".\n",
      "\n"
     ]
    }
   ],
   "source": [
    "help()\n",
    "dir() \n",
    "hasattr() \n",
    "id() \n",
    "type() \n",
    "repr() \n",
    "callable() \n",
    "issubclass() \n",
    "isinstance() \n",
    "__doc__ \n",
    "__name__"
   ]
  },
  {
   "cell_type": "code",
   "execution_count": 3,
   "id": "93e18495",
   "metadata": {},
   "outputs": [],
   "source": [
    "# Sets are a powerful tool in Python since they have the ability to calculate differences and intersections between other \n",
    "# sets. For example, say you have a list of participants in events A and B:"
   ]
  },
  {
   "cell_type": "code",
   "execution_count": 4,
   "id": "cb773c6c",
   "metadata": {},
   "outputs": [
    {
     "name": "stdout",
     "output_type": "stream",
     "text": [
      "{'Eric', 'Jake', 'John'}\n",
      "{'Jill', 'John'}\n"
     ]
    }
   ],
   "source": [
    "a = set([\"Jake\", \"John\", \"Eric\"])\n",
    "print(a)\n",
    "b = set([\"John\", \"Jill\"])\n",
    "print(b)"
   ]
  },
  {
   "cell_type": "code",
   "execution_count": 5,
   "id": "1c827066",
   "metadata": {},
   "outputs": [
    {
     "name": "stdout",
     "output_type": "stream",
     "text": [
      "{'John'}\n",
      "{'John'}\n"
     ]
    }
   ],
   "source": [
    "# To find out which members attended both events, you may use the \"intersection\" method:\n",
    "\n",
    "\n",
    "a = set([\"Jake\", \"John\", \"Eric\"])\n",
    "b = set([\"John\", \"Jill\"])\n",
    "\n",
    "print(a.intersection(b))\n",
    "print(b.intersection(a))"
   ]
  },
  {
   "cell_type": "code",
   "execution_count": 6,
   "id": "7f46af38",
   "metadata": {},
   "outputs": [
    {
     "name": "stdout",
     "output_type": "stream",
     "text": [
      "{'Eric', 'Jill', 'Jake'}\n",
      "{'Eric', 'Jill', 'Jake'}\n"
     ]
    }
   ],
   "source": [
    "# To find out which members attended only one of the events, use the \"symmetric_difference\" method:\n",
    "\n",
    "\n",
    "a = set([\"Jake\", \"John\", \"Eric\"])\n",
    "b = set([\"John\", \"Jill\"])\n",
    "\n",
    "print(a.symmetric_difference(b))\n",
    "print(b.symmetric_difference(a))"
   ]
  },
  {
   "cell_type": "code",
   "execution_count": 7,
   "id": "5e02babd",
   "metadata": {},
   "outputs": [
    {
     "name": "stdout",
     "output_type": "stream",
     "text": [
      "{'Eric', 'Jake'}\n",
      "{'Jill'}\n"
     ]
    }
   ],
   "source": [
    "# To find out which members attended only one event and not the other, use the \"difference\" method:\n",
    "\n",
    "a = set([\"Jake\", \"John\", \"Eric\"])\n",
    "b = set([\"John\", \"Jill\"])\n",
    "\n",
    "print(a.difference(b))\n",
    "print(b.difference(a))"
   ]
  },
  {
   "cell_type": "code",
   "execution_count": 8,
   "id": "9468b859",
   "metadata": {},
   "outputs": [
    {
     "name": "stdout",
     "output_type": "stream",
     "text": [
      "{'Jill', 'John', 'Eric', 'Jake'}\n"
     ]
    }
   ],
   "source": [
    "# To receive a list of all participants, use the \"union\" method:\n",
    "\n",
    "\n",
    "a = set([\"Jake\", \"John\", \"Eric\"])\n",
    "b = set([\"John\", \"Jill\"])\n",
    "\n",
    "print(a.union(b))"
   ]
  },
  {
   "cell_type": "code",
   "execution_count": null,
   "id": "32d79d31",
   "metadata": {},
   "outputs": [],
   "source": []
  },
  {
   "cell_type": "markdown",
   "id": "b4fe594d",
   "metadata": {},
   "source": [
    "# Q?\n"
   ]
  },
  {
   "cell_type": "code",
   "execution_count": 9,
   "id": "b964af0a",
   "metadata": {},
   "outputs": [],
   "source": [
    "# Print a list of all attributes of the given Vehicle object."
   ]
  },
  {
   "cell_type": "code",
   "execution_count": 10,
   "id": "57b96d66",
   "metadata": {},
   "outputs": [],
   "source": [
    "# Use the help function to see what each function does.\n",
    "# Delete this when you are done.\n",
    "help(dir)\n",
    "help(hasattr)\n",
    "help(id)\n",
    "\n",
    "# Define the Vehicle class.\n",
    "class Vehicle:\n",
    "    name = \"\"\n",
    "    kind = \"car\"\n",
    "    color = \"\"\n",
    "    value = 100.00\n",
    "    def description(self):\n",
    "        desc_str = \"%s is a %s %s worth $%.2f.\" % (self.name, self.color, self.kind, self.value)\n",
    "        return desc_str\n",
    "\n",
    "# Print a list of all attributes of the Vehicle class.\n",
    "# Your code goes here"
   ]
  },
  {
   "cell_type": "code",
   "execution_count": null,
   "id": "62a8602d",
   "metadata": {},
   "outputs": [],
   "source": [
    "# Define the Vehicle class\n",
    "class Vehicle:\n",
    "    name = \"\"\n",
    "    kind = \"car\"\n",
    "    color = \"\"\n",
    "    value = 100.00\n",
    "    def description(self):\n",
    "        desc_str = \"%s is a %s %s worth $%.2f.\" % (self.name, self.color, self.kind, self.value)\n",
    "        return desc_str\n",
    "\n",
    "# Print a list of all attributes of the Vehicle class.\n",
    "print(dir(Vehicle))"
   ]
  },
  {
   "cell_type": "code",
   "execution_count": null,
   "id": "3579512f",
   "metadata": {},
   "outputs": [],
   "source": []
  }
 ],
 "metadata": {
  "kernelspec": {
   "display_name": "Python 3",
   "language": "python",
   "name": "python3"
  },
  "language_info": {
   "codemirror_mode": {
    "name": "ipython",
    "version": 3
   },
   "file_extension": ".py",
   "mimetype": "text/x-python",
   "name": "python",
   "nbconvert_exporter": "python",
   "pygments_lexer": "ipython3",
   "version": "3.8.8"
  }
 },
 "nbformat": 4,
 "nbformat_minor": 5
}
