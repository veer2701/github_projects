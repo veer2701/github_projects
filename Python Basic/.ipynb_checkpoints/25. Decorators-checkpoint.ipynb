{
 "cells": [
  {
   "cell_type": "markdown",
   "id": "0f1c9216",
   "metadata": {},
   "source": [
    "# Decorators\n"
   ]
  },
  {
   "cell_type": "code",
   "execution_count": 1,
   "id": "8ee0f98b",
   "metadata": {},
   "outputs": [],
   "source": [
    "# Decorators allow you to make simple modifications to callable objects like functions, methods, or classes. We shall \n",
    "# deal with functions for this tutorial. The syntax"
   ]
  },
  {
   "cell_type": "code",
   "execution_count": 1,
   "id": "ec340669",
   "metadata": {},
   "outputs": [
    {
     "ename": "NameError",
     "evalue": "name 'decorator' is not defined",
     "output_type": "error",
     "traceback": [
      "\u001b[1;31m---------------------------------------------------------------------------\u001b[0m",
      "\u001b[1;31mNameError\u001b[0m                                 Traceback (most recent call last)",
      "\u001b[1;32m<ipython-input-1-c85fd4d19ca9>\u001b[0m in \u001b[0;36m<module>\u001b[1;34m\u001b[0m\n\u001b[1;32m----> 1\u001b[1;33m \u001b[1;33m@\u001b[0m\u001b[0mdecorator\u001b[0m\u001b[1;33m\u001b[0m\u001b[1;33m\u001b[0m\u001b[0m\n\u001b[0m\u001b[0;32m      2\u001b[0m \u001b[1;32mdef\u001b[0m \u001b[0mfunctions\u001b[0m\u001b[1;33m(\u001b[0m\u001b[0marg\u001b[0m\u001b[1;33m)\u001b[0m\u001b[1;33m:\u001b[0m\u001b[1;33m\u001b[0m\u001b[1;33m\u001b[0m\u001b[0m\n\u001b[0;32m      3\u001b[0m     \u001b[1;32mreturn\u001b[0m \u001b[1;34m\"value\"\u001b[0m\u001b[1;33m\u001b[0m\u001b[1;33m\u001b[0m\u001b[0m\n",
      "\u001b[1;31mNameError\u001b[0m: name 'decorator' is not defined"
     ]
    }
   ],
   "source": [
    "@decorator\n",
    "def functions(arg):\n",
    "    return \"value\""
   ]
  },
  {
   "cell_type": "code",
   "execution_count": 3,
   "id": "93e18495",
   "metadata": {},
   "outputs": [],
   "source": [
    "# Is equivalent to:"
   ]
  },
  {
   "cell_type": "code",
   "execution_count": 2,
   "id": "cb773c6c",
   "metadata": {},
   "outputs": [
    {
     "ename": "NameError",
     "evalue": "name 'decorator' is not defined",
     "output_type": "error",
     "traceback": [
      "\u001b[1;31m---------------------------------------------------------------------------\u001b[0m",
      "\u001b[1;31mNameError\u001b[0m                                 Traceback (most recent call last)",
      "\u001b[1;32m<ipython-input-2-628d01641d59>\u001b[0m in \u001b[0;36m<module>\u001b[1;34m\u001b[0m\n\u001b[0;32m      1\u001b[0m \u001b[1;32mdef\u001b[0m \u001b[0mfunction\u001b[0m\u001b[1;33m(\u001b[0m\u001b[0marg\u001b[0m\u001b[1;33m)\u001b[0m\u001b[1;33m:\u001b[0m\u001b[1;33m\u001b[0m\u001b[1;33m\u001b[0m\u001b[0m\n\u001b[0;32m      2\u001b[0m     \u001b[1;32mreturn\u001b[0m \u001b[1;34m\"value\"\u001b[0m\u001b[1;33m\u001b[0m\u001b[1;33m\u001b[0m\u001b[0m\n\u001b[1;32m----> 3\u001b[1;33m \u001b[0mfunction\u001b[0m \u001b[1;33m=\u001b[0m \u001b[0mdecorator\u001b[0m\u001b[1;33m(\u001b[0m\u001b[0mfunction\u001b[0m\u001b[1;33m)\u001b[0m \u001b[1;31m# this passes the function to the decorator, and reassigns it to the functions\u001b[0m\u001b[1;33m\u001b[0m\u001b[1;33m\u001b[0m\u001b[0m\n\u001b[0m",
      "\u001b[1;31mNameError\u001b[0m: name 'decorator' is not defined"
     ]
    }
   ],
   "source": [
    "def function(arg):\n",
    "    return \"value\"\n",
    "function = decorator(function) # this passes the function to the decorator, and reassigns it to the functions"
   ]
  },
  {
   "cell_type": "markdown",
   "id": "a0f4192b",
   "metadata": {},
   "source": [
    "As you may have seen, a decorator is just another function which takes a functions and returns one. For example you could do this:"
   ]
  },
  {
   "cell_type": "code",
   "execution_count": 4,
   "id": "800fd3ff",
   "metadata": {},
   "outputs": [],
   "source": [
    "def repeater(old_function):\n",
    "    def new_function(*args, **kwds): # See learnpython.org/en/Multiple%20Function%20Arguments for how *args and **kwds works\n",
    "        old_function(*args, **kwds) # we run the old function\n",
    "        old_function(*args, **kwds) # we do it twice\n",
    "    return new_function # we have to return the new_function, or it wouldn't reassign it to the value"
   ]
  },
  {
   "cell_type": "code",
   "execution_count": null,
   "id": "c78ce175",
   "metadata": {},
   "outputs": [],
   "source": []
  },
  {
   "cell_type": "code",
   "execution_count": null,
   "id": "5e05843d",
   "metadata": {},
   "outputs": [],
   "source": [
    "# Let's say you want to multiply the output by a variable amount. You could define the decorator and use it as follows:"
   ]
  },
  {
   "cell_type": "code",
   "execution_count": 7,
   "id": "dcb1c191",
   "metadata": {},
   "outputs": [
    {
     "data": {
      "text/plain": [
       "15"
      ]
     },
     "execution_count": 7,
     "metadata": {},
     "output_type": "execute_result"
    }
   ],
   "source": [
    "def multiply(multiplier):\n",
    "    def multiply_generator(old_function):\n",
    "        def new_function(*args, **kwds):\n",
    "            return multiplier * old_function(*args, **kwds)\n",
    "        return new_function\n",
    "    return multiply_generator # it returns the new generator\n",
    "\n",
    "# Usage\n",
    "@multiply(3) # multiply is not a generator, but multiply(3) is\n",
    "def return_num(num):\n",
    "    return num\n",
    "\n",
    "# Now return_num is decorated and reassigned into itself\n",
    "return_num(5) # should return 15"
   ]
  },
  {
   "cell_type": "markdown",
   "id": "b4fe594d",
   "metadata": {},
   "source": [
    "# Q?\n"
   ]
  },
  {
   "cell_type": "code",
   "execution_count": 13,
   "id": "b964af0a",
   "metadata": {},
   "outputs": [],
   "source": [
    "# Make a decorator factory which returns a decorator that decorates functions with one argument. The factory should take \n",
    "# one argument, a type, and then returns a decorator that makes function should check if the input is the correct type. \n",
    "# If it is wrong, it should print(\"Bad Type\") (In reality, it should raise an error, but error raising isn't in this \n",
    "# tutorial). Look at the tutorial code and expected output to see what it is if you are confused (I know I would be.) \n",
    "# Using isinstance(object, type_of_object) or type(object) might help."
   ]
  },
  {
   "cell_type": "code",
   "execution_count": 5,
   "id": "57b96d66",
   "metadata": {},
   "outputs": [
    {
     "ename": "IndentationError",
     "evalue": "expected an indented block (<ipython-input-5-b93f49f9d673>, line 4)",
     "output_type": "error",
     "traceback": [
      "\u001b[1;36m  File \u001b[1;32m\"<ipython-input-5-b93f49f9d673>\"\u001b[1;36m, line \u001b[1;32m4\u001b[0m\n\u001b[1;33m    @type_check(int)\u001b[0m\n\u001b[1;37m    ^\u001b[0m\n\u001b[1;31mIndentationError\u001b[0m\u001b[1;31m:\u001b[0m expected an indented block\n"
     ]
    }
   ],
   "source": [
    "def type_check(correct_type):\n",
    "    #put code here\n",
    "\n",
    "@type_check(int)\n",
    "def times2(num):\n",
    "    return num*2\n",
    "\n",
    "print(times2(2))\n",
    "times2('Not A Number')\n",
    "\n",
    "@type_check(str)\n",
    "def first_letter(word):\n",
    "    return word[0]\n",
    "\n",
    "print(first_letter('Hello World'))\n",
    "first_letter(['Not', 'A', 'String'])"
   ]
  },
  {
   "cell_type": "code",
   "execution_count": 6,
   "id": "62a8602d",
   "metadata": {},
   "outputs": [
    {
     "name": "stdout",
     "output_type": "stream",
     "text": [
      "4\n",
      "Bad Type\n",
      "H\n",
      "Bad Type\n"
     ]
    }
   ],
   "source": [
    "# Solution\n",
    "\n",
    "def type_check(correct_type):\n",
    "    def check(old_function):\n",
    "        def new_function(arg):\n",
    "            if (isinstance(arg, correct_type)):\n",
    "                return old_function(arg)\n",
    "            else:\n",
    "                print(\"Bad Type\")\n",
    "        return new_function\n",
    "    return check\n",
    "\n",
    "@type_check(int)\n",
    "def times2(num):\n",
    "    return num*2\n",
    "\n",
    "print(times2(2))\n",
    "times2('Not A Number')\n",
    "\n",
    "@type_check(str)\n",
    "def first_letter(word):\n",
    "    return word[0]\n",
    "\n",
    "print(first_letter('Hello World'))\n",
    "first_letter(['Not', 'A', 'String'])"
   ]
  },
  {
   "cell_type": "code",
   "execution_count": null,
   "id": "3579512f",
   "metadata": {},
   "outputs": [],
   "source": []
  }
 ],
 "metadata": {
  "kernelspec": {
   "display_name": "Python 3",
   "language": "python",
   "name": "python3"
  },
  "language_info": {
   "codemirror_mode": {
    "name": "ipython",
    "version": 3
   },
   "file_extension": ".py",
   "mimetype": "text/x-python",
   "name": "python",
   "nbconvert_exporter": "python",
   "pygments_lexer": "ipython3",
   "version": "3.8.8"
  }
 },
 "nbformat": 4,
 "nbformat_minor": 5
}
