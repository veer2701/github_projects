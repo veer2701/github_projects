{
 "cells": [
  {
   "cell_type": "markdown",
   "id": "0f1c9216",
   "metadata": {},
   "source": [
    "# Generators\n"
   ]
  },
  {
   "cell_type": "code",
   "execution_count": 1,
   "id": "c8c46573",
   "metadata": {},
   "outputs": [],
   "source": [
    "# Generators are very easy to implement, but a bit difficult to understand."
   ]
  },
  {
   "cell_type": "code",
   "execution_count": 3,
   "id": "52f1549b",
   "metadata": {},
   "outputs": [],
   "source": [
    "# Generators are used to create iterators, but with a different approach. Generators are simple functions which return an \n",
    "# iterable set of items, one at a time, in a special way.\n",
    "\n",
    "# When an iteration over a set of item starts using the for statement, the generator is run. Once the generator's function \n",
    "# code reaches a \"yield\" statement, the generator yields its execution back to the for loop, returning a new value from \n",
    "# the set. The generator function can generate as many values (possibly infinite) as it wants, yielding each one in its \n",
    "# turn."
   ]
  },
  {
   "cell_type": "code",
   "execution_count": 4,
   "id": "cb773c6c",
   "metadata": {},
   "outputs": [
    {
     "name": "stdout",
     "output_type": "stream",
     "text": [
      "And the next number is... 5!\n",
      "And the next number is... 5!\n",
      "And the next number is... 2!\n",
      "And the next number is... 3!\n",
      "And the next number is... 22!\n",
      "And the next number is... 32!\n",
      "And the next number is... 4!\n"
     ]
    }
   ],
   "source": [
    "import random\n",
    "\n",
    "def lottery():\n",
    "    # returns 6 numbers between 1 and 40\n",
    "    for i in range(6):\n",
    "        yield random.randint(1, 40)\n",
    "\n",
    "    # returns a 7th number between 1 and 15\n",
    "    yield random.randint(1,15)\n",
    "\n",
    "for random_number in lottery():\n",
    "       print(\"And the next number is... %d!\" %(random_number))"
   ]
  },
  {
   "cell_type": "code",
   "execution_count": 5,
   "id": "800fd3ff",
   "metadata": {},
   "outputs": [],
   "source": [
    "# This function decides how to generate the random numbers on its own, and executes the yield statements one at a time, \n",
    "# pausing in between to yield execution back to the main for loop."
   ]
  },
  {
   "cell_type": "code",
   "execution_count": null,
   "id": "c78ce175",
   "metadata": {},
   "outputs": [],
   "source": []
  },
  {
   "cell_type": "markdown",
   "id": "b4fe594d",
   "metadata": {},
   "source": [
    "# Q?\n"
   ]
  },
  {
   "cell_type": "code",
   "execution_count": null,
   "id": "b964af0a",
   "metadata": {},
   "outputs": [],
   "source": [
    "# Write a generator function which returns the Fibonacci series. They are calculated using the following formula: The first \n",
    "# two numbers of the series is always equal to 1, and each consecutive number returned is the sum of the last two numbers. \n",
    "# Hint: Can you use only two variables in the generator function? Remember that assignments can be done simultaneously. \n",
    "# The code"
   ]
  },
  {
   "cell_type": "code",
   "execution_count": 5,
   "id": "57b96d66",
   "metadata": {},
   "outputs": [
    {
     "name": "stdout",
     "output_type": "stream",
     "text": [
      "2 1\n"
     ]
    }
   ],
   "source": [
    "a = 1\n",
    "b = 2\n",
    "a, b = b, a\n",
    "print(a,b)"
   ]
  },
  {
   "cell_type": "code",
   "execution_count": null,
   "id": "fbac60c2",
   "metadata": {},
   "outputs": [],
   "source": [
    "# will simultaneously switch the values of a and b."
   ]
  },
  {
   "cell_type": "code",
   "execution_count": null,
   "id": "62a8602d",
   "metadata": {},
   "outputs": [],
   "source": [
    "# fill in this function\n",
    "def fib():\n",
    "    pass #this is a null statement which does nothing when executed, useful as a placeholder.\n",
    "\n",
    "# testing code\n",
    "import types\n",
    "if type(fib()) == types.GeneratorType:\n",
    "    print(\"Good, The fib function is a generator.\")\n",
    "\n",
    "    counter = 0\n",
    "    for n in fib():\n",
    "        print(n)\n",
    "        counter += 1\n",
    "        if counter == 10:\n",
    "            break"
   ]
  },
  {
   "cell_type": "code",
   "execution_count": 6,
   "id": "913c2697",
   "metadata": {},
   "outputs": [
    {
     "name": "stdout",
     "output_type": "stream",
     "text": [
      "Good, The fib function is a generator.\n",
      "1\n",
      "1\n",
      "2\n",
      "3\n",
      "5\n",
      "8\n",
      "13\n",
      "21\n",
      "34\n",
      "55\n"
     ]
    }
   ],
   "source": [
    "# Solution\n",
    "\n",
    "# fill in this function\n",
    "def fib():\n",
    "    a, b = 1, 1\n",
    "    while 1:\n",
    "        yield a\n",
    "        a, b = b, a + b\n",
    "\n",
    "# testing code\n",
    "import types\n",
    "if type(fib()) == types.GeneratorType:\n",
    "    print(\"Good, The fib function is a generator.\")\n",
    "\n",
    "    counter = 0\n",
    "    for n in fib():\n",
    "        print(n)\n",
    "        counter += 1\n",
    "        if counter == 10:\n",
    "            break"
   ]
  },
  {
   "cell_type": "code",
   "execution_count": null,
   "id": "137f25b2",
   "metadata": {},
   "outputs": [],
   "source": []
  }
 ],
 "metadata": {
  "kernelspec": {
   "display_name": "Python 3",
   "language": "python",
   "name": "python3"
  },
  "language_info": {
   "codemirror_mode": {
    "name": "ipython",
    "version": 3
   },
   "file_extension": ".py",
   "mimetype": "text/x-python",
   "name": "python",
   "nbconvert_exporter": "python",
   "pygments_lexer": "ipython3",
   "version": "3.8.8"
  }
 },
 "nbformat": 4,
 "nbformat_minor": 5
}
