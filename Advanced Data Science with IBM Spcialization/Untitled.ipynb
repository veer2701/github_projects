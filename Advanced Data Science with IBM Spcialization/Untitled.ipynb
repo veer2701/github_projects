{
 "cells": [
  {
   "cell_type": "markdown",
   "id": "d90be440",
   "metadata": {},
   "source": [
    "# Practice notebook for confidence intervals using NHANES data\n",
    "\n",
    "This notebook will give you the opportunity to practice working with confidence intervals using the NHANES data.\n",
    "\n",
    "You can enter your code into the cells that say \"enter your code here\", and you can type responses to the questions into the cells that say \"Type Markdown and Latex\".\n",
    "\n",
    "Note that most of the code that you will need to write below is very similar to code that appears in the case study notebook.  You will need to edit code from that notebook in small ways to adapt it to the prompts below.\n",
    "\n",
    "To get started, we will use the same module imports and read the data in the same way as we did in the case study:"
   ]
  },
  {
   "cell_type": "code",
   "execution_count": 1,
   "id": "b7f871d6",
   "metadata": {},
   "outputs": [],
   "source": [
    "%matplotlib inline\n",
    "import matplotlib.pyplot as plt\n",
    "import pandas as pd\n",
    "import numpy as np\n",
    "import seaborn as sns\n",
    "import statsmodels.api as sm\n",
    "\n",
    "da = pd.read_csv(\"nhanes_2015_2016.csv\")"
   ]
  },
  {
   "cell_type": "markdown",
   "id": "fd59d4a2",
   "metadata": {},
   "source": [
    "## Question 1\n",
    "\n",
    "Restrict the sample to women between 35 and 50, then use the marital status variable [DMDMARTL](https://wwwn.cdc.gov/Nchs/Nhanes/2015-2016/DEMO_I.htm#DMDMARTL) to partition this sample into two groups - women who are currently married, and women who are not currently married.  Within each of these groups, calculate the proportion of women who have completed college.  Calculate 95% confidence intervals for each of these proportions."
   ]
  },
  {
   "cell_type": "code",
   "execution_count": 2,
   "id": "2a9e3b50",
   "metadata": {},
   "outputs": [],
   "source": [
    "da_female_35_50=da[(da['RIAGENDR']==2)&(da['RIDAGEYR']>=35)&(da['RIDAGEYR']<=50)]\n",
    "da_female_35_50.reset_index(inplace=True, drop=True)"
   ]
  },
  {
   "cell_type": "code",
   "execution_count": 3,
   "id": "b53683f0",
   "metadata": {},
   "outputs": [],
   "source": [
    "da_female_35_50_married=da_female_35_50[da_female_35_50['DMDMARTL']==1]\n",
    "da_female_35_50_not_married=da_female_35_50[da_female_35_50['DMDMARTL'].isin([2,3,4,5,6])]\n",
    "da_female_35_50_married.reset_index(inplace=True, drop=True)\n",
    "da_female_35_50_not_married.reset_index(inplace=True, drop=True)"
   ]
  },
  {
   "cell_type": "code",
   "execution_count": 4,
   "id": "42a56788",
   "metadata": {},
   "outputs": [],
   "source": [
    "proportion_married=sum(da_female_35_50_married['DMDEDUC2']==5)/len(da_female_35_50_married)"
   ]
  },
  {
   "cell_type": "code",
   "execution_count": 5,
   "id": "3705ee08",
   "metadata": {},
   "outputs": [
    {
     "data": {
      "text/plain": [
       "0.36080178173719374"
      ]
     },
     "execution_count": 5,
     "metadata": {},
     "output_type": "execute_result"
    }
   ],
   "source": [
    "proportion_married"
   ]
  },
  {
   "cell_type": "code",
   "execution_count": 6,
   "id": "8309d3f1",
   "metadata": {},
   "outputs": [],
   "source": [
    "se_married=proportion_married*(1-proportion_married)"
   ]
  },
  {
   "cell_type": "code",
   "execution_count": 7,
   "id": "0415deef",
   "metadata": {},
   "outputs": [
    {
     "data": {
      "text/plain": [
       "0.23062385603246013"
      ]
     },
     "execution_count": 7,
     "metadata": {},
     "output_type": "execute_result"
    }
   ],
   "source": [
    "se_married"
   ]
  },
  {
   "cell_type": "code",
   "execution_count": 8,
   "id": "2801d392",
   "metadata": {},
   "outputs": [],
   "source": [
    "n_married=len(da_female_35_50_married['DMDEDUC2'])"
   ]
  },
  {
   "cell_type": "code",
   "execution_count": 9,
   "id": "6b908e19",
   "metadata": {},
   "outputs": [
    {
     "data": {
      "text/plain": [
       "449"
      ]
     },
     "execution_count": 9,
     "metadata": {},
     "output_type": "execute_result"
    }
   ],
   "source": [
    "n_married"
   ]
  },
  {
   "cell_type": "code",
   "execution_count": 10,
   "id": "704578cb",
   "metadata": {},
   "outputs": [
    {
     "name": "stdout",
     "output_type": "stream",
     "text": [
      "Lower Boundary:  0.3163811208674688\n",
      "Upper Boundary:  0.4052224426069187\n"
     ]
    }
   ],
   "source": [
    "print('Lower Boundary: ', proportion_married-1.96*np.sqrt((se_married/n_married)))\n",
    "print('Upper Boundary: ', proportion_married+1.96*np.sqrt((se_married/n_married)))"
   ]
  },
  {
   "cell_type": "code",
   "execution_count": 15,
   "id": "0732602c",
   "metadata": {},
   "outputs": [],
   "source": [
    "from statsmodels.stats.proportion import proportion_confint"
   ]
  },
  {
   "cell_type": "code",
   "execution_count": 17,
   "id": "be17a9b2",
   "metadata": {},
   "outputs": [
    {
     "data": {
      "text/plain": [
       "(0.16936816767089768, 0.2566673352876822)"
      ]
     },
     "execution_count": 17,
     "metadata": {},
     "output_type": "execute_result"
    }
   ],
   "source": [
    "ci_low, ci_upp = proportion_confint(72, 338, alpha=0.05, method='normal')\n",
    "ci_low, ci_upp"
   ]
  },
  {
   "cell_type": "code",
   "execution_count": 19,
   "id": "b3be0e9d",
   "metadata": {},
   "outputs": [
    {
     "data": {
      "text/plain": [
       "0.08729916761678452"
      ]
     },
     "execution_count": 19,
     "metadata": {},
     "output_type": "execute_result"
    }
   ],
   "source": [
    "difference = ci_upp-ci_low\n",
    "difference"
   ]
  },
  {
   "cell_type": "markdown",
   "id": "f608607f",
   "metadata": {},
   "source": [
    "## Question 2\n",
    "\n",
    "Construct a 95% confidence interval for the proportion of smokers who are female. Construct a 95% confidence interval for the proportion of smokers who are male. Construct a 95% confidence interval for the **difference** between those two gender proportions."
   ]
  },
  {
   "cell_type": "code",
   "execution_count": null,
   "id": "90e76b54",
   "metadata": {},
   "outputs": [],
   "source": [
    "### https://github.com/karimkmafifi/Inferential-Statistical-Analysis-with-Python---Coursera/blob/master/nhanes_confidence_intervals_practice.ipynb"
   ]
  }
 ],
 "metadata": {
  "kernelspec": {
   "display_name": "Python 3 (ipykernel)",
   "language": "python",
   "name": "python3"
  },
  "language_info": {
   "codemirror_mode": {
    "name": "ipython",
    "version": 3
   },
   "file_extension": ".py",
   "mimetype": "text/x-python",
   "name": "python",
   "nbconvert_exporter": "python",
   "pygments_lexer": "ipython3",
   "version": "3.9.7"
  }
 },
 "nbformat": 4,
 "nbformat_minor": 5
}
