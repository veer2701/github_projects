{
 "cells": [
  {
   "cell_type": "code",
   "execution_count": 4,
   "id": "2e07d6f4",
   "metadata": {},
   "outputs": [
    {
     "ename": "FileNotFoundError",
     "evalue": "[Errno 2] No such file or directory: 'crypto_data_input.npy'",
     "output_type": "error",
     "traceback": [
      "\u001b[1;31m---------------------------------------------------------------------------\u001b[0m",
      "\u001b[1;31mFileNotFoundError\u001b[0m                         Traceback (most recent call last)",
      "\u001b[1;32m~\\AppData\\Local\\Temp/ipykernel_10648/1276984239.py\u001b[0m in \u001b[0;36m<module>\u001b[1;34m\u001b[0m\n\u001b[0;32m      6\u001b[0m \u001b[0mticker_list\u001b[0m \u001b[1;33m=\u001b[0m \u001b[1;33m[\u001b[0m\u001b[1;34m'BTC'\u001b[0m\u001b[1;33m,\u001b[0m \u001b[1;34m'ETH'\u001b[0m\u001b[1;33m,\u001b[0m \u001b[1;34m'LTC'\u001b[0m\u001b[1;33m,\u001b[0m \u001b[1;34m'XEM'\u001b[0m\u001b[1;33m,\u001b[0m \u001b[1;34m'XMR'\u001b[0m\u001b[1;33m,\u001b[0m \u001b[1;34m'XRP'\u001b[0m\u001b[1;33m]\u001b[0m\u001b[1;33m\u001b[0m\u001b[1;33m\u001b[0m\u001b[0m\n\u001b[0;32m      7\u001b[0m \u001b[1;33m\u001b[0m\u001b[0m\n\u001b[1;32m----> 8\u001b[1;33m \u001b[0mdata\u001b[0m \u001b[1;33m=\u001b[0m \u001b[0mnp\u001b[0m\u001b[1;33m.\u001b[0m\u001b[0mload\u001b[0m\u001b[1;33m(\u001b[0m\u001b[0mdata_path\u001b[0m\u001b[1;33m)\u001b[0m\u001b[1;33m\u001b[0m\u001b[1;33m\u001b[0m\u001b[0m\n\u001b[0m\u001b[0;32m      9\u001b[0m \u001b[0mohlc_features_num\u001b[0m \u001b[1;33m=\u001b[0m \u001b[0mdata\u001b[0m\u001b[1;33m.\u001b[0m\u001b[0mshape\u001b[0m\u001b[1;33m[\u001b[0m\u001b[1;36m0\u001b[0m\u001b[1;33m]\u001b[0m\u001b[1;33m\u001b[0m\u001b[1;33m\u001b[0m\u001b[0m\n\u001b[0;32m     10\u001b[0m \u001b[0mticker_num\u001b[0m \u001b[1;33m=\u001b[0m \u001b[0mdata\u001b[0m\u001b[1;33m.\u001b[0m\u001b[0mshape\u001b[0m\u001b[1;33m[\u001b[0m\u001b[1;36m1\u001b[0m\u001b[1;33m]\u001b[0m\u001b[1;33m\u001b[0m\u001b[1;33m\u001b[0m\u001b[0m\n",
      "\u001b[1;32m~\\anaconda3\\lib\\site-packages\\numpy\\lib\\npyio.py\u001b[0m in \u001b[0;36mload\u001b[1;34m(file, mmap_mode, allow_pickle, fix_imports, encoding)\u001b[0m\n\u001b[0;32m    415\u001b[0m             \u001b[0mown_fid\u001b[0m \u001b[1;33m=\u001b[0m \u001b[1;32mFalse\u001b[0m\u001b[1;33m\u001b[0m\u001b[1;33m\u001b[0m\u001b[0m\n\u001b[0;32m    416\u001b[0m         \u001b[1;32melse\u001b[0m\u001b[1;33m:\u001b[0m\u001b[1;33m\u001b[0m\u001b[1;33m\u001b[0m\u001b[0m\n\u001b[1;32m--> 417\u001b[1;33m             \u001b[0mfid\u001b[0m \u001b[1;33m=\u001b[0m \u001b[0mstack\u001b[0m\u001b[1;33m.\u001b[0m\u001b[0menter_context\u001b[0m\u001b[1;33m(\u001b[0m\u001b[0mopen\u001b[0m\u001b[1;33m(\u001b[0m\u001b[0mos_fspath\u001b[0m\u001b[1;33m(\u001b[0m\u001b[0mfile\u001b[0m\u001b[1;33m)\u001b[0m\u001b[1;33m,\u001b[0m \u001b[1;34m\"rb\"\u001b[0m\u001b[1;33m)\u001b[0m\u001b[1;33m)\u001b[0m\u001b[1;33m\u001b[0m\u001b[1;33m\u001b[0m\u001b[0m\n\u001b[0m\u001b[0;32m    418\u001b[0m             \u001b[0mown_fid\u001b[0m \u001b[1;33m=\u001b[0m \u001b[1;32mTrue\u001b[0m\u001b[1;33m\u001b[0m\u001b[1;33m\u001b[0m\u001b[0m\n\u001b[0;32m    419\u001b[0m \u001b[1;33m\u001b[0m\u001b[0m\n",
      "\u001b[1;31mFileNotFoundError\u001b[0m: [Errno 2] No such file or directory: 'crypto_data_input.npy'"
     ]
    }
   ],
   "source": [
    "import numpy as np \n",
    "import tensorflow as tf\n",
    "\n",
    "#dataset information\n",
    "data_path = 'crypto_data_input.npy'\n",
    "ticker_list = ['BTC', 'ETH', 'LTC', 'XEM', 'XMR', 'XRP']\n",
    "\n",
    "data = np.load(data_path)\n",
    "ohlc_features_num = data.shape[0]\n",
    "ticker_num = data.shape[1]\n",
    "trading_days_captured = data.shape[2]\n",
    "\n",
    "print('number of ohlc features : ' + str(ohlc_features_num))\n",
    "print('number of crypto currencies considered : ' + str(ticker_num))\n",
    "print('number of trading days captured : ' + str(trading_days_captured))\n",
    "\n",
    "#hyper parameters of the CNN network\n",
    "num_filters_layer_1 = 2\n",
    "num_filters_layer_2 = 20\n",
    "kernel_size = (1, 3)\n",
    "\n",
    "#train-validation-test split\n",
    "train_data_ratio = 0.6\n",
    "training_steps = 0.6 * trading_days_captured\n",
    "validation_steps = 0.2 * trading_days_captured\n",
    "test_steps = 0.2 * trading_days_captured\n",
    "\n",
    "#hyper parameters for RL framework\n",
    "training_batch_size = 50\n",
    "beta_pvm = 5e-5  \n",
    "num_trading_periods = 10\n",
    "\n",
    "weight_vector_init = np.array(np.array([1] + [0] * ticker_num))\n",
    "portfolio_value_init = 10000\n",
    "weight_vector_init_test = np.array(np.array([1] + [0] * ticker_num))\n",
    "portfolio_value_init_test = 10000\n",
    "num_episodes = 1\n",
    "num_batches = 1\n",
    "equiweight_vector = np.array(np.array([1/(ticker_num + 1)] * (ticker_num + 1)))\n",
    "#probability of exploitation in the RL framework (acting greedily)\n",
    "epsilon = 0.8\n",
    "#used while calculating the adjusted rewards\n",
    "adjusted_rewards_alpha = 0.1\n",
    "\n",
    "#hyper parameters for the optimizer\n",
    "l2_reg_coef = 1e-8\n",
    "adam_opt_alpha = 9e-2\n",
    "optimizer = tf.train.AdamOptimizer(adam_opt_alpha)\n",
    "\n",
    "#hyper parameters for trading \n",
    "trading_cost = 1/100000\n",
    "interest_rate = 0.02/250\n",
    "cash_bias_init = 0.7"
   ]
  },
  {
   "cell_type": "code",
   "execution_count": null,
   "id": "52a8687b",
   "metadata": {},
   "outputs": [],
   "source": []
  }
 ],
 "metadata": {
  "kernelspec": {
   "display_name": "Python 3 (ipykernel)",
   "language": "python",
   "name": "python3"
  },
  "language_info": {
   "codemirror_mode": {
    "name": "ipython",
    "version": 3
   },
   "file_extension": ".py",
   "mimetype": "text/x-python",
   "name": "python",
   "nbconvert_exporter": "python",
   "pygments_lexer": "ipython3",
   "version": "3.9.7"
  }
 },
 "nbformat": 4,
 "nbformat_minor": 5
}
