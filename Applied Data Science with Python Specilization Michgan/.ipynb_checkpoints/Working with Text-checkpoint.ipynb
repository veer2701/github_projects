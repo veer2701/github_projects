{
 "cells": [
  {
   "cell_type": "markdown",
   "id": "0f1c9216",
   "metadata": {},
   "source": [
    "# Working with Text"
   ]
  },
  {
   "cell_type": "code",
   "execution_count": 1,
   "id": "94c833ab",
   "metadata": {},
   "outputs": [],
   "source": [
    "text=\"Ethics are built right into the ideas and the objectives of the United States\""
   ]
  },
  {
   "cell_type": "code",
   "execution_count": 2,
   "id": "3e7b1b8e",
   "metadata": {},
   "outputs": [
    {
     "data": {
      "text/plain": [
       "77"
      ]
     },
     "execution_count": 2,
     "metadata": {},
     "output_type": "execute_result"
    }
   ],
   "source": [
    "len(text)"
   ]
  },
  {
   "cell_type": "code",
   "execution_count": 5,
   "id": "f6785138",
   "metadata": {},
   "outputs": [
    {
     "data": {
      "text/plain": [
       "14"
      ]
     },
     "execution_count": 5,
     "metadata": {},
     "output_type": "execute_result"
    }
   ],
   "source": [
    "text1=text.split(' ')     # return a list of words in text1, seperated by ''\n",
    "\n",
    "len(text1)"
   ]
  },
  {
   "cell_type": "code",
   "execution_count": 6,
   "id": "43f0f21d",
   "metadata": {},
   "outputs": [
    {
     "data": {
      "text/plain": [
       "['Ethics',\n",
       " 'are',\n",
       " 'built',\n",
       " 'right',\n",
       " 'into',\n",
       " 'the',\n",
       " 'ideas',\n",
       " 'and',\n",
       " 'the',\n",
       " 'objectives',\n",
       " 'of',\n",
       " 'the',\n",
       " 'United',\n",
       " 'States']"
      ]
     },
     "execution_count": 6,
     "metadata": {},
     "output_type": "execute_result"
    }
   ],
   "source": [
    "text1"
   ]
  },
  {
   "cell_type": "markdown",
   "id": "195e4d03",
   "metadata": {},
   "source": [
    "# Working with specific words"
   ]
  },
  {
   "cell_type": "code",
   "execution_count": 7,
   "id": "de52266f",
   "metadata": {},
   "outputs": [
    {
     "data": {
      "text/plain": [
       "['Ethics', 'built', 'right', 'into', 'ideas', 'objectives', 'United', 'States']"
      ]
     },
     "execution_count": 7,
     "metadata": {},
     "output_type": "execute_result"
    }
   ],
   "source": [
    "[w for w in text1 if len(w)>3]     # Words that are greater than 3 letters in text1"
   ]
  },
  {
   "cell_type": "code",
   "execution_count": 9,
   "id": "79336aca",
   "metadata": {},
   "outputs": [
    {
     "data": {
      "text/plain": [
       "['Ethics', 'United', 'States']"
      ]
     },
     "execution_count": 9,
     "metadata": {},
     "output_type": "execute_result"
    }
   ],
   "source": [
    "[b for b in text1 if b.istitle()]     # Words that stats with capital letters"
   ]
  },
  {
   "cell_type": "code",
   "execution_count": 10,
   "id": "07e84d28",
   "metadata": {},
   "outputs": [
    {
     "data": {
      "text/plain": [
       "['Ethics', 'ideas', 'objectives', 'States']"
      ]
     },
     "execution_count": 10,
     "metadata": {},
     "output_type": "execute_result"
    }
   ],
   "source": [
    "[b for b in text1 if b.endswith('s')]     # Words in text1 that end in 's'"
   ]
  },
  {
   "cell_type": "markdown",
   "id": "beacb69e",
   "metadata": {},
   "source": [
    "# Find Unique words"
   ]
  },
  {
   "cell_type": "code",
   "execution_count": 11,
   "id": "a511c17a",
   "metadata": {},
   "outputs": [
    {
     "data": {
      "text/plain": [
       "6"
      ]
     },
     "execution_count": 11,
     "metadata": {},
     "output_type": "execute_result"
    }
   ],
   "source": [
    "text2=\"To be or not to be\"\n",
    "\n",
    "text3=text2.split(' ')\n",
    "\n",
    "len(text3)"
   ]
  },
  {
   "cell_type": "code",
   "execution_count": 12,
   "id": "d3e340be",
   "metadata": {},
   "outputs": [
    {
     "data": {
      "text/plain": [
       "5"
      ]
     },
     "execution_count": 12,
     "metadata": {},
     "output_type": "execute_result"
    }
   ],
   "source": [
    "len(set(text3))      # words without repeting"
   ]
  },
  {
   "cell_type": "code",
   "execution_count": 13,
   "id": "6e416f5a",
   "metadata": {},
   "outputs": [
    {
     "data": {
      "text/plain": [
       "{'To', 'be', 'not', 'or', 'to'}"
      ]
     },
     "execution_count": 13,
     "metadata": {},
     "output_type": "execute_result"
    }
   ],
   "source": [
    "set(text3)"
   ]
  },
  {
   "cell_type": "code",
   "execution_count": 15,
   "id": "8adbcda7",
   "metadata": {},
   "outputs": [
    {
     "data": {
      "text/plain": [
       "{'be', 'not', 'or', 'to'}"
      ]
     },
     "execution_count": 15,
     "metadata": {},
     "output_type": "execute_result"
    }
   ],
   "source": [
    "set([b.lower() for b in text3])     # words that starts with small letters"
   ]
  },
  {
   "cell_type": "markdown",
   "id": "1b69000b",
   "metadata": {},
   "source": [
    "# Processing free-text"
   ]
  },
  {
   "cell_type": "code",
   "execution_count": 16,
   "id": "b12612e9",
   "metadata": {},
   "outputs": [
    {
     "data": {
      "text/plain": [
       "['\"Ethics',\n",
       " 'are',\n",
       " 'built',\n",
       " 'right',\n",
       " 'into',\n",
       " 'the',\n",
       " 'ideals',\n",
       " 'and',\n",
       " 'objectives',\n",
       " 'of',\n",
       " 'the',\n",
       " 'United',\n",
       " 'Nations\"',\n",
       " '#UNSG',\n",
       " '@',\n",
       " 'NY',\n",
       " 'Society',\n",
       " 'for',\n",
       " 'Ethical',\n",
       " 'Culture',\n",
       " 'bit.ly/2guVelr']"
      ]
     },
     "execution_count": 16,
     "metadata": {},
     "output_type": "execute_result"
    }
   ],
   "source": [
    "text4 = '\"Ethics are built right into the ideals and objectives of the United Nations\" \\\n",
    "#UNSG @ NY Society for Ethical Culture bit.ly/2guVelr'\n",
    "text5 = text4.split(' ')\n",
    "\n",
    "text5"
   ]
  },
  {
   "cell_type": "markdown",
   "id": "224b9f91",
   "metadata": {},
   "source": [
    "## Finding hastags"
   ]
  },
  {
   "cell_type": "code",
   "execution_count": 18,
   "id": "c0a50192",
   "metadata": {},
   "outputs": [
    {
     "data": {
      "text/plain": [
       "['#UNSG']"
      ]
     },
     "execution_count": 18,
     "metadata": {},
     "output_type": "execute_result"
    }
   ],
   "source": [
    "[c for c in text5 if c.startswith('#')]"
   ]
  },
  {
   "cell_type": "markdown",
   "id": "8bde392b",
   "metadata": {},
   "source": [
    "## Finding callouts"
   ]
  },
  {
   "cell_type": "code",
   "execution_count": 19,
   "id": "042fffeb",
   "metadata": {},
   "outputs": [
    {
     "data": {
      "text/plain": [
       "['@']"
      ]
     },
     "execution_count": 19,
     "metadata": {},
     "output_type": "execute_result"
    }
   ],
   "source": [
    "[c for c in text5 if c.startswith('@')]"
   ]
  },
  {
   "cell_type": "code",
   "execution_count": null,
   "id": "ed1e014d",
   "metadata": {},
   "outputs": [],
   "source": []
  },
  {
   "cell_type": "code",
   "execution_count": 20,
   "id": "f7904f4e",
   "metadata": {},
   "outputs": [],
   "source": [
    "text6 = '@UN @UN_Women \"Ethics are built right into the ideals and objectives of the United Nations\" \\\n",
    "#UNSG @ NY Society for Ethical Culture bit.ly/2guVelr'\n",
    "text7 = text6.split(' ')"
   ]
  },
  {
   "cell_type": "markdown",
   "id": "3e60d484",
   "metadata": {},
   "source": [
    "# We can use regular expressions to help us with more complex parsing.\n",
    "\n",
    "For example '@[A-Za-z0-9_]+' will return all words that:\n",
    "1. start with '@' and are followed by at least one:\n",
    "2. capital letter ('A-Z')\n",
    "3. lowercase letter ('a-z')\n",
    "4. number ('0-9')\n",
    "5. or underscore ('_')"
   ]
  },
  {
   "cell_type": "code",
   "execution_count": 23,
   "id": "57076889",
   "metadata": {},
   "outputs": [
    {
     "data": {
      "text/plain": [
       "['@UN', '@UN_Women']"
      ]
     },
     "execution_count": 23,
     "metadata": {},
     "output_type": "execute_result"
    }
   ],
   "source": [
    "import re # import re - a module that provides support for regular expressions\n",
    "\n",
    "[d for d in text7 if re.search('@[A-Za-z0-9_]+', d)]"
   ]
  },
  {
   "cell_type": "code",
   "execution_count": null,
   "id": "c65f0082",
   "metadata": {},
   "outputs": [],
   "source": []
  }
 ],
 "metadata": {
  "kernelspec": {
   "display_name": "Python 3",
   "language": "python",
   "name": "python3"
  },
  "language_info": {
   "codemirror_mode": {
    "name": "ipython",
    "version": 3
   },
   "file_extension": ".py",
   "mimetype": "text/x-python",
   "name": "python",
   "nbconvert_exporter": "python",
   "pygments_lexer": "ipython3",
   "version": "3.8.8"
  }
 },
 "nbformat": 4,
 "nbformat_minor": 5
}
