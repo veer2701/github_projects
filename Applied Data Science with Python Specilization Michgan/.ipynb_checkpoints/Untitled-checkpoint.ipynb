{
 "cells": [
  {
   "cell_type": "markdown",
   "id": "1a73e119",
   "metadata": {},
   "source": [
    "# Primitive constructs in Text\n",
    "Sentences / Input strings\n",
    "\n",
    "Words or Tokens\n",
    "\n",
    "Characters\n",
    "\n",
    "Document, Larger Files"
   ]
  },
  {
   "cell_type": "code",
   "execution_count": 1,
   "id": "3404932d",
   "metadata": {},
   "outputs": [],
   "source": [
    "text1 = \"Ethics are build right into the ideas and objectives of the United Nations\""
   ]
  },
  {
   "cell_type": "code",
   "execution_count": null,
   "id": "a63d246a",
   "metadata": {},
   "outputs": [],
   "source": [
    "## Number of characters in text1"
   ]
  },
  {
   "cell_type": "code",
   "execution_count": 2,
   "id": "a9a18278",
   "metadata": {},
   "outputs": [
    {
     "data": {
      "text/plain": [
       "74"
      ]
     },
     "execution_count": 2,
     "metadata": {},
     "output_type": "execute_result"
    }
   ],
   "source": [
    "len(text1)"
   ]
  },
  {
   "cell_type": "code",
   "execution_count": 3,
   "id": "64798198",
   "metadata": {},
   "outputs": [],
   "source": [
    "text2 = text1.split(' ')"
   ]
  },
  {
   "cell_type": "code",
   "execution_count": null,
   "id": "65550eec",
   "metadata": {},
   "outputs": [],
   "source": [
    "## All words counts in text2"
   ]
  },
  {
   "cell_type": "code",
   "execution_count": 4,
   "id": "9a1c6fc9",
   "metadata": {},
   "outputs": [
    {
     "data": {
      "text/plain": [
       "13"
      ]
     },
     "execution_count": 4,
     "metadata": {},
     "output_type": "execute_result"
    }
   ],
   "source": [
    "len(text2)"
   ]
  },
  {
   "cell_type": "code",
   "execution_count": null,
   "id": "c1793c22",
   "metadata": {},
   "outputs": [],
   "source": [
    "## All words in text2"
   ]
  },
  {
   "cell_type": "code",
   "execution_count": 5,
   "id": "f515c351",
   "metadata": {},
   "outputs": [
    {
     "data": {
      "text/plain": [
       "['Ethics',\n",
       " 'are',\n",
       " 'build',\n",
       " 'right',\n",
       " 'into',\n",
       " 'the',\n",
       " 'ideas',\n",
       " 'and',\n",
       " 'objectives',\n",
       " 'of',\n",
       " 'the',\n",
       " 'United',\n",
       " 'Nations']"
      ]
     },
     "execution_count": 5,
     "metadata": {},
     "output_type": "execute_result"
    }
   ],
   "source": [
    "text2"
   ]
  },
  {
   "cell_type": "code",
   "execution_count": null,
   "id": "53b18b97",
   "metadata": {},
   "outputs": [],
   "source": [
    "## Long words - Words that are more than 3 letters long"
   ]
  },
  {
   "cell_type": "code",
   "execution_count": 6,
   "id": "3502558f",
   "metadata": {},
   "outputs": [
    {
     "data": {
      "text/plain": [
       "['Ethics',\n",
       " 'build',\n",
       " 'right',\n",
       " 'into',\n",
       " 'ideas',\n",
       " 'objectives',\n",
       " 'United',\n",
       " 'Nations']"
      ]
     },
     "execution_count": 6,
     "metadata": {},
     "output_type": "execute_result"
    }
   ],
   "source": [
    "[w for w in text2 if len(w)>3]"
   ]
  },
  {
   "cell_type": "code",
   "execution_count": null,
   "id": "8da21b6c",
   "metadata": {},
   "outputs": [],
   "source": [
    "## Capitalized Words"
   ]
  },
  {
   "cell_type": "code",
   "execution_count": 7,
   "id": "536113df",
   "metadata": {},
   "outputs": [
    {
     "data": {
      "text/plain": [
       "['Ethics', 'United', 'Nations']"
      ]
     },
     "execution_count": 7,
     "metadata": {},
     "output_type": "execute_result"
    }
   ],
   "source": [
    "[w for w in text2 if w.istitle()]"
   ]
  },
  {
   "cell_type": "code",
   "execution_count": null,
   "id": "4f7e1f7f",
   "metadata": {},
   "outputs": [],
   "source": []
  }
 ],
 "metadata": {
  "kernelspec": {
   "display_name": "Python 3 (ipykernel)",
   "language": "python",
   "name": "python3"
  },
  "language_info": {
   "codemirror_mode": {
    "name": "ipython",
    "version": 3
   },
   "file_extension": ".py",
   "mimetype": "text/x-python",
   "name": "python",
   "nbconvert_exporter": "python",
   "pygments_lexer": "ipython3",
   "version": "3.9.7"
  }
 },
 "nbformat": 4,
 "nbformat_minor": 5
}
