{
 "cells": [
  {
   "cell_type": "markdown",
   "id": "0f1c9216",
   "metadata": {},
   "source": [
    "# Week 3 DataFrames"
   ]
  },
  {
   "cell_type": "markdown",
   "id": "7ad35885",
   "metadata": {},
   "source": [
    "### Pandas for Statistics"
   ]
  },
  {
   "cell_type": "markdown",
   "id": "43c1ae89",
   "metadata": {},
   "source": [
    "### Binomial Distribution"
   ]
  },
  {
   "cell_type": "code",
   "execution_count": 1,
   "id": "439a6d1a",
   "metadata": {},
   "outputs": [],
   "source": [
    "import pandas as pd\n",
    "import numpy as np"
   ]
  },
  {
   "cell_type": "code",
   "execution_count": 2,
   "id": "a60a6ad2",
   "metadata": {},
   "outputs": [
    {
     "data": {
      "text/plain": [
       "0"
      ]
     },
     "execution_count": 2,
     "metadata": {},
     "output_type": "execute_result"
    }
   ],
   "source": [
    "np.random.binomial(1,0.5)"
   ]
  },
  {
   "cell_type": "code",
   "execution_count": 3,
   "id": "95cf27a1",
   "metadata": {},
   "outputs": [
    {
     "data": {
      "text/plain": [
       "1"
      ]
     },
     "execution_count": 3,
     "metadata": {},
     "output_type": "execute_result"
    }
   ],
   "source": [
    "np.random.binomial(1,0.7)"
   ]
  },
  {
   "cell_type": "code",
   "execution_count": 7,
   "id": "562ce37b",
   "metadata": {},
   "outputs": [
    {
     "data": {
      "text/plain": [
       "47"
      ]
     },
     "execution_count": 7,
     "metadata": {},
     "output_type": "execute_result"
    }
   ],
   "source": [
    "np.random.binomial(100,0.5)"
   ]
  },
  {
   "cell_type": "code",
   "execution_count": 8,
   "id": "20fa9539",
   "metadata": {},
   "outputs": [
    {
     "data": {
      "text/plain": [
       "0.42"
      ]
     },
     "execution_count": 8,
     "metadata": {},
     "output_type": "execute_result"
    }
   ],
   "source": [
    "np.random.binomial(100,0.5)/100"
   ]
  },
  {
   "cell_type": "code",
   "execution_count": 9,
   "id": "100e979f",
   "metadata": {},
   "outputs": [
    {
     "data": {
      "text/plain": [
       "7"
      ]
     },
     "execution_count": 9,
     "metadata": {},
     "output_type": "execute_result"
    }
   ],
   "source": [
    "# Chance of Tornado\n",
    "\n",
    "chance_of_tornado=0.01/100\n",
    "\n",
    "np.random.binomial(100000,chance_of_tornado)"
   ]
  },
  {
   "cell_type": "code",
   "execution_count": 14,
   "id": "cfec2322",
   "metadata": {},
   "outputs": [
    {
     "name": "stdout",
     "output_type": "stream",
     "text": [
      "8 tornado back to back in 273.972602739726 years\n"
     ]
    }
   ],
   "source": [
    "chance_of_tornado=0.01\n",
    "\n",
    "tornado_events=np.random.binomial(1,chance_of_tornado,100000)\n",
    "\n",
    "two_days_in_a_row=0\n",
    "for j in range(1,len(tornado_events)-1):\n",
    "    if tornado_events[j]==1 and tornado_events[j-1]==1:\n",
    "        two_days_in_a_row+=1\n",
    "\n",
    "print('{} tornado back to back in {} years'.format(two_days_in_a_row, 100000/365))"
   ]
  },
  {
   "cell_type": "markdown",
   "id": "cec95c13",
   "metadata": {},
   "source": [
    "### Uniform Distribution"
   ]
  },
  {
   "cell_type": "code",
   "execution_count": 15,
   "id": "452a02ab",
   "metadata": {},
   "outputs": [
    {
     "data": {
      "text/plain": [
       "0.7440857048063289"
      ]
     },
     "execution_count": 15,
     "metadata": {},
     "output_type": "execute_result"
    }
   ],
   "source": [
    "np.random.uniform(0, 1)"
   ]
  },
  {
   "cell_type": "markdown",
   "id": "7eda4ae1",
   "metadata": {},
   "source": [
    "### Normal Distribution"
   ]
  },
  {
   "cell_type": "code",
   "execution_count": 12,
   "id": "6f53bfaf",
   "metadata": {},
   "outputs": [
    {
     "data": {
      "text/plain": [
       "-0.7445060450901104"
      ]
     },
     "execution_count": 12,
     "metadata": {},
     "output_type": "execute_result"
    }
   ],
   "source": [
    "np.random.normal(0.75)"
   ]
  },
  {
   "cell_type": "markdown",
   "id": "14bc7810",
   "metadata": {},
   "source": [
    "### Standard Deviation"
   ]
  },
  {
   "cell_type": "code",
   "execution_count": 16,
   "id": "a1089871",
   "metadata": {},
   "outputs": [
    {
     "data": {
      "text/plain": [
       "1.0288185605914624"
      ]
     },
     "execution_count": 16,
     "metadata": {},
     "output_type": "execute_result"
    }
   ],
   "source": [
    "distribution = np.random.normal(0.75,size=1000)\n",
    "\n",
    "np.sqrt(np.sum((np.mean(distribution)-distribution)**2)/len(distribution))\n"
   ]
  },
  {
   "cell_type": "code",
   "execution_count": 17,
   "id": "2fe09fa2",
   "metadata": {},
   "outputs": [
    {
     "data": {
      "text/plain": [
       "1.0288185605914624"
      ]
     },
     "execution_count": 17,
     "metadata": {},
     "output_type": "execute_result"
    }
   ],
   "source": [
    "np.std(distribution)"
   ]
  },
  {
   "cell_type": "markdown",
   "id": "5b7d4622",
   "metadata": {},
   "source": [
    "### Kurtosis"
   ]
  },
  {
   "cell_type": "code",
   "execution_count": 18,
   "id": "1889907d",
   "metadata": {},
   "outputs": [
    {
     "data": {
      "text/plain": [
       "-0.1005665335434962"
      ]
     },
     "execution_count": 18,
     "metadata": {},
     "output_type": "execute_result"
    }
   ],
   "source": [
    "import scipy.stats as stats\n",
    "\n",
    "stats.kurtosis(distribution)"
   ]
  },
  {
   "cell_type": "code",
   "execution_count": 19,
   "id": "643646d1",
   "metadata": {},
   "outputs": [
    {
     "data": {
      "text/plain": [
       "0.02130316694554183"
      ]
     },
     "execution_count": 19,
     "metadata": {},
     "output_type": "execute_result"
    }
   ],
   "source": [
    "stats.skew(distribution)"
   ]
  },
  {
   "cell_type": "markdown",
   "id": "f5c17ad1",
   "metadata": {},
   "source": [
    "### Chi Square"
   ]
  },
  {
   "cell_type": "code",
   "execution_count": 20,
   "id": "2fe0a1d6",
   "metadata": {},
   "outputs": [
    {
     "data": {
      "text/plain": [
       "1.9588293054817665"
      ]
     },
     "execution_count": 20,
     "metadata": {},
     "output_type": "execute_result"
    }
   ],
   "source": [
    "chi_squared_df2 = np.random.chisquare(2, size=10000)\n",
    "\n",
    "stats.skew(chi_squared_df2)"
   ]
  },
  {
   "cell_type": "code",
   "execution_count": 21,
   "id": "9cd20eff",
   "metadata": {},
   "outputs": [
    {
     "data": {
      "text/plain": [
       "1.2847056133042822"
      ]
     },
     "execution_count": 21,
     "metadata": {},
     "output_type": "execute_result"
    }
   ],
   "source": [
    "chi_squared_df5 = np.random.chisquare(5, size=10000)\n",
    "stats.skew(chi_squared_df5)"
   ]
  },
  {
   "cell_type": "code",
   "execution_count": 25,
   "id": "523b818f",
   "metadata": {},
   "outputs": [
    {
     "data": {
      "text/plain": [
       "<matplotlib.legend.Legend at 0x240b1530910>"
      ]
     },
     "execution_count": 25,
     "metadata": {},
     "output_type": "execute_result"
    },
    {
     "data": {
      "image/png": "[encoded data removed]",
      "text/plain": [
       "<Figure size 432x288 with 1 Axes>"
      ]
     },
     "metadata": {
      "needs_background": "light"
     },
     "output_type": "display_data"
    }
   ],
   "source": [
    "%matplotlib inline\n",
    "import matplotlib\n",
    "import matplotlib.pyplot as plt\n",
    "\n",
    "output = plt.hist([chi_squared_df2,chi_squared_df5], bins=50, histtype='step', \n",
    "                  label=['2 degrees of freedom','5 degrees of freedom'])\n",
    "plt.legend(loc='upper right')"
   ]
  },
  {
   "cell_type": "markdown",
   "id": "5181a923",
   "metadata": {},
   "source": [
    "### Hypothesis Testing"
   ]
  },
  {
   "cell_type": "code",
   "execution_count": 27,
   "id": "5b507556",
   "metadata": {},
   "outputs": [
    {
     "data": {
      "text/html": [
       "<div>\n",
       "<style scoped>\n",
       "    .dataframe tbody tr th:only-of-type {\n",
       "        vertical-align: middle;\n",
       "    }\n",
       "\n",
       "    .dataframe tbody tr th {\n",
       "        vertical-align: top;\n",
       "    }\n",
       "\n",
       "    .dataframe thead th {\n",
       "        text-align: right;\n",
       "    }\n",
       "</style>\n",
       "<table border=\"1\" class=\"dataframe\">\n",
       "  <thead>\n",
       "    <tr style=\"text-align: right;\">\n",
       "      <th></th>\n",
       "      <th>student_id</th>\n",
       "      <th>assignment1_grade</th>\n",
       "      <th>assignment1_submission</th>\n",
       "      <th>assignment2_grade</th>\n",
       "      <th>assignment2_submission</th>\n",
       "      <th>assignment3_grade</th>\n",
       "      <th>assignment3_submission</th>\n",
       "      <th>assignment4_grade</th>\n",
       "      <th>assignment4_submission</th>\n",
       "      <th>assignment5_grade</th>\n",
       "      <th>assignment5_submission</th>\n",
       "      <th>assignment6_grade</th>\n",
       "      <th>assignment6_submission</th>\n",
       "    </tr>\n",
       "  </thead>\n",
       "  <tbody>\n",
       "    <tr>\n",
       "      <th>0</th>\n",
       "      <td>B73F2C11-70F0-E37D-8B10-1D20AFED50B1</td>\n",
       "      <td>92.733946</td>\n",
       "      <td>55:34.3</td>\n",
       "      <td>83.030552</td>\n",
       "      <td>22:58.9</td>\n",
       "      <td>67.164441</td>\n",
       "      <td>58:34.0</td>\n",
       "      <td>53.011553</td>\n",
       "      <td>21:24.7</td>\n",
       "      <td>47.710398</td>\n",
       "      <td>24:59.7</td>\n",
       "      <td>38.168318</td>\n",
       "      <td>31:15.9</td>\n",
       "    </tr>\n",
       "    <tr>\n",
       "      <th>1</th>\n",
       "      <td>98A0FAE0-A19A-13D2-4BB5-CFBFD94031D1</td>\n",
       "      <td>86.790821</td>\n",
       "      <td>57:44.4</td>\n",
       "      <td>86.290821</td>\n",
       "      <td>41:18.4</td>\n",
       "      <td>69.772657</td>\n",
       "      <td>54:55.9</td>\n",
       "      <td>55.098125</td>\n",
       "      <td>32:30.9</td>\n",
       "      <td>49.588313</td>\n",
       "      <td>26:39.3</td>\n",
       "      <td>44.629482</td>\n",
       "      <td>07:24.3</td>\n",
       "    </tr>\n",
       "    <tr>\n",
       "      <th>2</th>\n",
       "      <td>D0F62040-CEB0-904C-F563-2F8620916C4E</td>\n",
       "      <td>85.512541</td>\n",
       "      <td>36:02.4</td>\n",
       "      <td>85.512541</td>\n",
       "      <td>39:44.4</td>\n",
       "      <td>68.410033</td>\n",
       "      <td>22:45.9</td>\n",
       "      <td>54.728026</td>\n",
       "      <td>41:50.7</td>\n",
       "      <td>49.255224</td>\n",
       "      <td>31:12.5</td>\n",
       "      <td>44.329701</td>\n",
       "      <td>24:42.8</td>\n",
       "    </tr>\n",
       "    <tr>\n",
       "      <th>3</th>\n",
       "      <td>FFDF2B2C-F514-EF7F-6538-A6A53518E9DC</td>\n",
       "      <td>86.030665</td>\n",
       "      <td>50:39.8</td>\n",
       "      <td>68.824532</td>\n",
       "      <td>20:38.7</td>\n",
       "      <td>61.942079</td>\n",
       "      <td>47:16.3</td>\n",
       "      <td>49.553663</td>\n",
       "      <td>09:20.5</td>\n",
       "      <td>49.553663</td>\n",
       "      <td>51:18.0</td>\n",
       "      <td>44.598297</td>\n",
       "      <td>09:12.1</td>\n",
       "    </tr>\n",
       "    <tr>\n",
       "      <th>4</th>\n",
       "      <td>5ECBEEB6-F1CE-80AE-3164-E45E99473FB4</td>\n",
       "      <td>64.813800</td>\n",
       "      <td>06:10.8</td>\n",
       "      <td>51.491040</td>\n",
       "      <td>25:12.1</td>\n",
       "      <td>41.932832</td>\n",
       "      <td>25:22.6</td>\n",
       "      <td>36.929549</td>\n",
       "      <td>29:55.9</td>\n",
       "      <td>33.236594</td>\n",
       "      <td>46:06.6</td>\n",
       "      <td>33.236594</td>\n",
       "      <td>06:59.5</td>\n",
       "    </tr>\n",
       "  </tbody>\n",
       "</table>\n",
       "</div>"
      ],
      "text/plain": [
       "                             student_id  assignment1_grade  \\\n",
       "0  B73F2C11-70F0-E37D-8B10-1D20AFED50B1          92.733946   \n",
       "1  98A0FAE0-A19A-13D2-4BB5-CFBFD94031D1          86.790821   \n",
       "2  D0F62040-CEB0-904C-F563-2F8620916C4E          85.512541   \n",
       "3  FFDF2B2C-F514-EF7F-6538-A6A53518E9DC          86.030665   \n",
       "4  5ECBEEB6-F1CE-80AE-3164-E45E99473FB4          64.813800   \n",
       "\n",
       "  assignment1_submission  assignment2_grade assignment2_submission  \\\n",
       "0                55:34.3          83.030552                22:58.9   \n",
       "1                57:44.4          86.290821                41:18.4   \n",
       "2                36:02.4          85.512541                39:44.4   \n",
       "3                50:39.8          68.824532                20:38.7   \n",
       "4                06:10.8          51.491040                25:12.1   \n",
       "\n",
       "   assignment3_grade assignment3_submission  assignment4_grade  \\\n",
       "0          67.164441                58:34.0          53.011553   \n",
       "1          69.772657                54:55.9          55.098125   \n",
       "2          68.410033                22:45.9          54.728026   \n",
       "3          61.942079                47:16.3          49.553663   \n",
       "4          41.932832                25:22.6          36.929549   \n",
       "\n",
       "  assignment4_submission  assignment5_grade assignment5_submission  \\\n",
       "0                21:24.7          47.710398                24:59.7   \n",
       "1                32:30.9          49.588313                26:39.3   \n",
       "2                41:50.7          49.255224                31:12.5   \n",
       "3                09:20.5          49.553663                51:18.0   \n",
       "4                29:55.9          33.236594                46:06.6   \n",
       "\n",
       "   assignment6_grade assignment6_submission  \n",
       "0          38.168318                31:15.9  \n",
       "1          44.629482                07:24.3  \n",
       "2          44.329701                24:42.8  \n",
       "3          44.598297                09:12.1  \n",
       "4          33.236594                06:59.5  "
      ]
     },
     "execution_count": 27,
     "metadata": {},
     "output_type": "execute_result"
    }
   ],
   "source": [
    "df = pd.read_csv('grades.csv')\n",
    "df.head()"
   ]
  },
  {
   "cell_type": "code",
   "execution_count": 28,
   "id": "231a3e97",
   "metadata": {},
   "outputs": [
    {
     "data": {
      "text/plain": [
       "2315"
      ]
     },
     "execution_count": 28,
     "metadata": {},
     "output_type": "execute_result"
    }
   ],
   "source": [
    "len(df)"
   ]
  },
  {
   "cell_type": "code",
   "execution_count": 29,
   "id": "79fa7b39",
   "metadata": {},
   "outputs": [],
   "source": [
    "early = df[df['assignment1_submission'] <= '2015-12-31']\n",
    "late = df[df['assignment1_submission'] > '2015-12-31']"
   ]
  },
  {
   "cell_type": "code",
   "execution_count": 30,
   "id": "7ca71979",
   "metadata": {},
   "outputs": [
    {
     "data": {
      "text/plain": [
       "assignment1_grade    74.409388\n",
       "assignment2_grade    66.571152\n",
       "assignment3_grade    60.661158\n",
       "assignment4_grade    54.017086\n",
       "assignment5_grade    48.464067\n",
       "assignment6_grade    43.691570\n",
       "dtype: float64"
      ]
     },
     "execution_count": 30,
     "metadata": {},
     "output_type": "execute_result"
    }
   ],
   "source": [
    "early.mean()"
   ]
  },
  {
   "cell_type": "code",
   "execution_count": 31,
   "id": "154dca51",
   "metadata": {},
   "outputs": [
    {
     "data": {
      "text/plain": [
       "assignment1_grade    74.602704\n",
       "assignment2_grade    66.996290\n",
       "assignment3_grade    60.603075\n",
       "assignment4_grade    54.162483\n",
       "assignment5_grade    48.700394\n",
       "assignment6_grade    43.920900\n",
       "dtype: float64"
      ]
     },
     "execution_count": 31,
     "metadata": {},
     "output_type": "execute_result"
    }
   ],
   "source": [
    "late.mean()"
   ]
  },
  {
   "cell_type": "code",
   "execution_count": 35,
   "id": "f9ff6e90",
   "metadata": {},
   "outputs": [
    {
     "data": {
      "text/plain": [
       "<function scipy.stats.stats.ttest_ind(a, b, axis=0, equal_var=True, nan_policy='propagate', alternative='two-sided')>"
      ]
     },
     "execution_count": 35,
     "metadata": {},
     "output_type": "execute_result"
    }
   ],
   "source": [
    "from scipy import stats\n",
    "stats.ttest_ind"
   ]
  },
  {
   "cell_type": "code",
   "execution_count": 36,
   "id": "820ae629",
   "metadata": {},
   "outputs": [
    {
     "data": {
      "text/plain": [
       "Ttest_indResult(statistic=-0.270587455293599, pvalue=0.7867324873933794)"
      ]
     },
     "execution_count": 36,
     "metadata": {},
     "output_type": "execute_result"
    }
   ],
   "source": [
    "stats.ttest_ind(early['assignment1_grade'], late['assignment1_grade'])"
   ]
  },
  {
   "cell_type": "code",
   "execution_count": 37,
   "id": "3d297fa2",
   "metadata": {},
   "outputs": [
    {
     "data": {
      "text/plain": [
       "Ttest_indResult(statistic=-0.6098051843387805, pvalue=0.5420507665743797)"
      ]
     },
     "execution_count": 37,
     "metadata": {},
     "output_type": "execute_result"
    }
   ],
   "source": [
    "stats.ttest_ind(early['assignment2_grade'], late['assignment2_grade'])"
   ]
  },
  {
   "cell_type": "code",
   "execution_count": 38,
   "id": "14ca6136",
   "metadata": {},
   "outputs": [
    {
     "data": {
      "text/plain": [
       "Ttest_indResult(statistic=0.08581616588221054, pvalue=0.931619982780735)"
      ]
     },
     "execution_count": 38,
     "metadata": {},
     "output_type": "execute_result"
    }
   ],
   "source": [
    "stats.ttest_ind(early['assignment3_grade'], late['assignment3_grade'])"
   ]
  },
  {
   "cell_type": "code",
   "execution_count": null,
   "id": "0548742c",
   "metadata": {},
   "outputs": [],
   "source": []
  },
  {
   "cell_type": "code",
   "execution_count": 40,
   "id": "d325a98f",
   "metadata": {},
   "outputs": [],
   "source": [
    "import numpy as np\n",
    "\n",
    "a = np.arange(8)\n",
    "b = a[4:6]\n",
    "b[:] = 40\n",
    "c = a[4] + a[6]"
   ]
  },
  {
   "cell_type": "code",
   "execution_count": 41,
   "id": "fb6ae792",
   "metadata": {},
   "outputs": [
    {
     "data": {
      "text/plain": [
       "array([0, 1, 2, 3, 4, 5, 6, 7])"
      ]
     },
     "execution_count": 41,
     "metadata": {},
     "output_type": "execute_result"
    }
   ],
   "source": [
    "import numpy as np\n",
    "\n",
    "a = np.arange(8)\n",
    "a\n"
   ]
  },
  {
   "cell_type": "code",
   "execution_count": 42,
   "id": "7a119674",
   "metadata": {},
   "outputs": [
    {
     "data": {
      "text/plain": [
       "array([4, 5])"
      ]
     },
     "execution_count": 42,
     "metadata": {},
     "output_type": "execute_result"
    }
   ],
   "source": [
    "b = a[4:6]\n",
    "b"
   ]
  },
  {
   "cell_type": "code",
   "execution_count": 43,
   "id": "29aa8147",
   "metadata": {},
   "outputs": [
    {
     "data": {
      "text/plain": [
       "array([40, 40])"
      ]
     },
     "execution_count": 43,
     "metadata": {},
     "output_type": "execute_result"
    }
   ],
   "source": [
    "b[:] = 40\n",
    "b"
   ]
  },
  {
   "cell_type": "code",
   "execution_count": 44,
   "id": "83664bd7",
   "metadata": {},
   "outputs": [
    {
     "data": {
      "text/plain": [
       "46"
      ]
     },
     "execution_count": 44,
     "metadata": {},
     "output_type": "execute_result"
    }
   ],
   "source": [
    "c=a[4]+a[6]\n",
    "c"
   ]
  },
  {
   "cell_type": "code",
   "execution_count": 47,
   "id": "4139be81",
   "metadata": {},
   "outputs": [],
   "source": [
    "import re\n",
    "s = 'ABCAC'"
   ]
  },
  {
   "cell_type": "code",
   "execution_count": 48,
   "id": "434fe375",
   "metadata": {},
   "outputs": [
    {
     "data": {
      "text/plain": [
       "False"
      ]
     },
     "execution_count": 48,
     "metadata": {},
     "output_type": "execute_result"
    }
   ],
   "source": [
    "len(re.split('A', s)) == 2"
   ]
  },
  {
   "cell_type": "code",
   "execution_count": 49,
   "id": "b63da1f6",
   "metadata": {},
   "outputs": [
    {
     "data": {
      "text/plain": [
       "True"
      ]
     },
     "execution_count": 49,
     "metadata": {},
     "output_type": "execute_result"
    }
   ],
   "source": [
    "bool(re.match('A', s)) == True"
   ]
  },
  {
   "cell_type": "code",
   "execution_count": 50,
   "id": "6aa5d62f",
   "metadata": {},
   "outputs": [
    {
     "ename": "TypeError",
     "evalue": "object of type 're.Match' has no len()",
     "output_type": "error",
     "traceback": [
      "\u001b[1;31m---------------------------------------------------------------------------\u001b[0m",
      "\u001b[1;31mTypeError\u001b[0m                                 Traceback (most recent call last)",
      "\u001b[1;32m<ipython-input-50-20b090624ab6>\u001b[0m in \u001b[0;36m<module>\u001b[1;34m\u001b[0m\n\u001b[1;32m----> 1\u001b[1;33m \u001b[0mlen\u001b[0m\u001b[1;33m(\u001b[0m\u001b[0mre\u001b[0m\u001b[1;33m.\u001b[0m\u001b[0msearch\u001b[0m\u001b[1;33m(\u001b[0m\u001b[1;34m'A'\u001b[0m\u001b[1;33m,\u001b[0m \u001b[0ms\u001b[0m\u001b[1;33m)\u001b[0m\u001b[1;33m)\u001b[0m \u001b[1;33m==\u001b[0m \u001b[1;36m2\u001b[0m\u001b[1;33m\u001b[0m\u001b[1;33m\u001b[0m\u001b[0m\n\u001b[0m",
      "\u001b[1;31mTypeError\u001b[0m: object of type 're.Match' has no len()"
     ]
    }
   ],
   "source": [
    "len(re.search('A', s)) == 2"
   ]
  },
  {
   "cell_type": "code",
   "execution_count": 51,
   "id": "6e805eab",
   "metadata": {},
   "outputs": [
    {
     "data": {
      "text/plain": [
       "False"
      ]
     },
     "execution_count": 51,
     "metadata": {},
     "output_type": "execute_result"
    }
   ],
   "source": [
    "re.match('A', s) == True"
   ]
  },
  {
   "cell_type": "code",
   "execution_count": null,
   "id": "0a4395a8",
   "metadata": {},
   "outputs": [],
   "source": []
  }
 ],
 "metadata": {
  "kernelspec": {
   "display_name": "Python 3",
   "language": "python",
   "name": "python3"
  },
  "language_info": {
   "codemirror_mode": {
    "name": "ipython",
    "version": 3
   },
   "file_extension": ".py",
   "mimetype": "text/x-python",
   "name": "python",
   "nbconvert_exporter": "python",
   "pygments_lexer": "ipython3",
   "version": "3.8.8"
  }
 },
 "nbformat": 4,
 "nbformat_minor": 5
}
