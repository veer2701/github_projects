{
 "cells": [
  {
   "cell_type": "markdown",
   "id": "52bc3a99",
   "metadata": {},
   "source": [
    "# Assignment 3"
   ]
  },
  {
   "cell_type": "code",
   "execution_count": 2,
   "id": "18013147",
   "metadata": {},
   "outputs": [],
   "source": [
    "import pandas as pd\n",
    "import numpy as np\n",
    "import re\n",
    "\n",
    "# Filter all warnings. If you would like to see the warnings, please comment the two lines below.\n",
    "import warnings\n",
    "warnings.filterwarnings('ignore')\n"
   ]
  },
  {
   "cell_type": "code",
   "execution_count": 3,
   "id": "b318b10f",
   "metadata": {},
   "outputs": [],
   "source": [
    "def answer_one():\n",
    "    # YOUR CODE HERE\n",
    "    Energy = pd.read_excel(\"assets/Energy Indicators.xls\")\n",
    "    Energy.drop(columns=['Unnamed: 0', 'Unnamed: 1'],inplace=True)\n",
    "    Energy.drop(Energy.index[0:17],0,inplace=True)\n",
    "    Energy.drop(Energy.index[227:],0,inplace=True)\n",
    "    Energy.rename(columns={'Unnamed: 2': 'Country', 'Unnamed: 3': 'Energy Supply', 'Unnamed: 4': 'Energy Supply per Capita', 'Unnamed: 5': '% Renewable' }, inplace=True )\n",
    "    Energy.replace({'...':np.nan}, inplace= True)\n",
    "    Energy['Energy Supply'] = Energy['Energy Supply']*1000000\n",
    "    \n",
    "    l= []\n",
    "    for i in Energy['Country']:\n",
    "        i=i.split(' (')\n",
    "        l.append(i[0])\n",
    "    Energy['Country'] = l\n",
    "    \n",
    "    li = []\n",
    "    for i in Energy['Country']:\n",
    "        i = re.findall(\"[^0-9]+\", i)\n",
    "        li.append(i[0])\n",
    "    Energy['Country'] = li\n",
    "    \n",
    "    Energy.replace({\"Republic of Korea\": \"South Korea\",\n",
    "    \"United States of America\": \"United States\",\n",
    "    \"United Kingdom of Great Britain and Northern Ireland\": \"United Kingdom\",\n",
    "    \"China, Hong Kong Special Administrative Region\": \"Hong Kong\"}, inplace= True)\n",
    "    \n",
    "    GDP = pd.read_csv(\"assets/world_bank.csv\")\n",
    "    GDP.drop(GDP.index[0:3],0,inplace=True)\n",
    "    GDP.replace({\"Korea, Rep.\": \"South Korea\", \"Iran, Islamic Rep.\": \"Iran\", \"Hong Kong SAR, China\": \"Hong Kong\"}, inplace=True)\n",
    "    \n",
    "    il = GDP.iloc[0]\n",
    "    di = {}\n",
    "    i = 0\n",
    "    for d in GDP.columns:\n",
    "        if type(il[i]) == np.float64:\n",
    "            di[d] = str(int(il[i]))\n",
    "        else:\n",
    "            di[d] = il[i]\n",
    "        i += 1\n",
    "    \n",
    "    GDP.rename(columns=di, inplace=True)\n",
    "    GDP.drop(GDP.index[0:1],0,inplace=True)\n",
    "    GDP.rename(columns={'Country Name': 'Country'}, inplace=True)\n",
    "    \n",
    "    ScimEn = pd.read_excel(\"assets/scimagojr-3.xlsx\")\n",
    "    \n",
    "    j1 = pd.merge(ScimEn,Energy)\n",
    "    j2 = pd.merge(j1, GDP)\n",
    "    j2.set_index('Country', inplace = True)\n",
    "    j2 = j2[0:15]\n",
    "    j2.drop(j2.columns[[np.arange(10,59)]], axis='columns', inplace = True)\n",
    "    \n",
    "    return j2\n",
    "    \n",
    "    #raise NotImplementedError()"
   ]
  },
  {
   "cell_type": "code",
   "execution_count": null,
   "id": "1edafaf3",
   "metadata": {},
   "outputs": [],
   "source": [
    "assert type(answer_one()) == pd.DataFrame, \"Q1: You should return a DataFrame!\"\n",
    "\n",
    "assert answer_one().shape == (15,20), \"Q1: Your DataFrame should have 20 columns and 15 entries!\""
   ]
  },
  {
   "cell_type": "code",
   "execution_count": null,
   "id": "4ab94f91",
   "metadata": {},
   "outputs": [],
   "source": [
    "def answer_one():\n",
    "    df_energy=pr.read_excel('assets/Energy Indicators.xls')\n",
    "    df_energy.drop(columns=['Unnamed: 0', 'Unnamed: 1'],inplace=True)\n",
    "    df_energy.drop(df_energy.index[0:17],0,inplace=True)\n",
    "    df_energy.drop(df_energy.index[227:],0,inplace=True)\n",
    "    df_energy.rename(columns={'Unnamed: 2': 'Country', 'Unnamed: 3': 'Energy Supply', 'Unnamed: 4': 'Energy Supply per Capita', 'Unnamed: 5': '% Renewable' }, inplace=True )\n",
    "    df_energy.replace({'...':np.nan}, inplace= True)\n",
    "    df_energy['Energy Supply'] = Energy['Energy Supply']*1000000"
   ]
  },
  {
   "cell_type": "code",
   "execution_count": null,
   "id": "307adba3",
   "metadata": {},
   "outputs": [],
   "source": []
  }
 ],
 "metadata": {
  "kernelspec": {
   "display_name": "Python 3",
   "language": "python",
   "name": "python3"
  },
  "language_info": {
   "codemirror_mode": {
    "name": "ipython",
    "version": 3
   },
   "file_extension": ".py",
   "mimetype": "text/x-python",
   "name": "python",
   "nbconvert_exporter": "python",
   "pygments_lexer": "ipython3",
   "version": "3.8.8"
  }
 },
 "nbformat": 4,
 "nbformat_minor": 5
}
