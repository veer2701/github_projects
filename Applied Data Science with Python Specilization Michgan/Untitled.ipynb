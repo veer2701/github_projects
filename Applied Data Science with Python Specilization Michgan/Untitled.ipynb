{
 "cells": [
  {
   "cell_type": "markdown",
   "id": "249cd066",
   "metadata": {},
   "source": [
    "# Primitive constructs in Text\n",
    "Sentences / Input strings\n",
    "\n",
    "Words or Tokens\n",
    "\n",
    "Characters\n",
    "\n",
    "Document, Larger Files"
   ]
  },
  {
   "cell_type": "code",
   "execution_count": 1,
   "id": "be3d5efa",
   "metadata": {},
   "outputs": [],
   "source": [
    "text1 = \"Ethics are build right into the ideas and objectives of the United Nations\""
   ]
  },
  {
   "cell_type": "code",
   "execution_count": null,
   "id": "28c495c6",
   "metadata": {},
   "outputs": [],
   "source": [
    "## Number of characters in text1"
   ]
  },
  {
   "cell_type": "code",
   "execution_count": 2,
   "id": "239092cc",
   "metadata": {},
   "outputs": [
    {
     "data": {
      "text/plain": [
       "74"
      ]
     },
     "execution_count": 2,
     "metadata": {},
     "output_type": "execute_result"
    }
   ],
   "source": [
    "len(text1)"
   ]
  },
  {
   "cell_type": "code",
   "execution_count": 3,
   "id": "3e003c38",
   "metadata": {},
   "outputs": [],
   "source": [
    "text2 = text1.split(' ')"
   ]
  },
  {
   "cell_type": "code",
   "execution_count": null,
   "id": "420d713e",
   "metadata": {},
   "outputs": [],
   "source": [
    "## All words counts in text2"
   ]
  },
  {
   "cell_type": "code",
   "execution_count": 4,
   "id": "5d70ab25",
   "metadata": {},
   "outputs": [
    {
     "data": {
      "text/plain": [
       "13"
      ]
     },
     "execution_count": 4,
     "metadata": {},
     "output_type": "execute_result"
    }
   ],
   "source": [
    "len(text2)"
   ]
  },
  {
   "cell_type": "code",
   "execution_count": null,
   "id": "5cbcc82d",
   "metadata": {},
   "outputs": [],
   "source": [
    "## All words in text2"
   ]
  },
  {
   "cell_type": "code",
   "execution_count": 5,
   "id": "e840767b",
   "metadata": {},
   "outputs": [
    {
     "data": {
      "text/plain": [
       "['Ethics',\n",
       " 'are',\n",
       " 'build',\n",
       " 'right',\n",
       " 'into',\n",
       " 'the',\n",
       " 'ideas',\n",
       " 'and',\n",
       " 'objectives',\n",
       " 'of',\n",
       " 'the',\n",
       " 'United',\n",
       " 'Nations']"
      ]
     },
     "execution_count": 5,
     "metadata": {},
     "output_type": "execute_result"
    }
   ],
   "source": [
    "text2"
   ]
  },
  {
   "cell_type": "code",
   "execution_count": null,
   "id": "89e8c0ec",
   "metadata": {},
   "outputs": [],
   "source": [
    "## Long words - Words that are more than 3 letters long"
   ]
  },
  {
   "cell_type": "code",
   "execution_count": 6,
   "id": "b1908be1",
   "metadata": {},
   "outputs": [
    {
     "data": {
      "text/plain": [
       "['Ethics',\n",
       " 'build',\n",
       " 'right',\n",
       " 'into',\n",
       " 'ideas',\n",
       " 'objectives',\n",
       " 'United',\n",
       " 'Nations']"
      ]
     },
     "execution_count": 6,
     "metadata": {},
     "output_type": "execute_result"
    }
   ],
   "source": [
    "[w for w in text2 if len(w)>3]"
   ]
  },
  {
   "cell_type": "code",
   "execution_count": null,
   "id": "ef54b390",
   "metadata": {},
   "outputs": [],
   "source": [
    "## Capitalized Words"
   ]
  },
  {
   "cell_type": "code",
   "execution_count": 7,
   "id": "93368e44",
   "metadata": {},
   "outputs": [
    {
     "data": {
      "text/plain": [
       "['Ethics', 'United', 'Nations']"
      ]
     },
     "execution_count": 7,
     "metadata": {},
     "output_type": "execute_result"
    }
   ],
   "source": [
    "[w for w in text2 if w.istitle()]"
   ]
  },
  {
   "cell_type": "code",
   "execution_count": null,
   "id": "65649fb2",
   "metadata": {},
   "outputs": [],
   "source": [
    "## Words that end with s"
   ]
  },
  {
   "cell_type": "code",
   "execution_count": 9,
   "id": "5f982da3",
   "metadata": {},
   "outputs": [
    {
     "data": {
      "text/plain": [
       "['Ethics', 'ideas', 'objectives', 'Nations']"
      ]
     },
     "execution_count": 9,
     "metadata": {},
     "output_type": "execute_result"
    }
   ],
   "source": [
    "[w for w in text2 if w.endswith('s')]"
   ]
  },
  {
   "cell_type": "markdown",
   "id": "a25ec568",
   "metadata": {},
   "source": [
    "# Find unique words using set function"
   ]
  },
  {
   "cell_type": "code",
   "execution_count": 10,
   "id": "c7384607",
   "metadata": {},
   "outputs": [],
   "source": [
    "text3 = 'To be or not to be'"
   ]
  },
  {
   "cell_type": "code",
   "execution_count": 11,
   "id": "feddfc10",
   "metadata": {},
   "outputs": [
    {
     "data": {
      "text/plain": [
       "6"
      ]
     },
     "execution_count": 11,
     "metadata": {},
     "output_type": "execute_result"
    }
   ],
   "source": [
    "text4 = text3.split(' ')\n",
    "len(text4)"
   ]
  },
  {
   "cell_type": "code",
   "execution_count": null,
   "id": "0d0e24d9",
   "metadata": {},
   "outputs": [],
   "source": [
    "## set function only allows unique words"
   ]
  },
  {
   "cell_type": "code",
   "execution_count": 12,
   "id": "af8a1940",
   "metadata": {},
   "outputs": [
    {
     "data": {
      "text/plain": [
       "5"
      ]
     },
     "execution_count": 12,
     "metadata": {},
     "output_type": "execute_result"
    }
   ],
   "source": [
    "len(set(text4))"
   ]
  },
  {
   "cell_type": "code",
   "execution_count": 13,
   "id": "22166da0",
   "metadata": {},
   "outputs": [
    {
     "data": {
      "text/plain": [
       "{'To', 'be', 'not', 'or', 'to'}"
      ]
     },
     "execution_count": 13,
     "metadata": {},
     "output_type": "execute_result"
    }
   ],
   "source": [
    "set(text4)  # Here To and to are same so repeted but both start with diffrent character 'T' and 't'"
   ]
  },
  {
   "cell_type": "code",
   "execution_count": 14,
   "id": "5ea8efef",
   "metadata": {},
   "outputs": [
    {
     "data": {
      "text/plain": [
       "4"
      ]
     },
     "execution_count": 14,
     "metadata": {},
     "output_type": "execute_result"
    }
   ],
   "source": [
    "len(set([w.lower() for w in text4]))  # convert all words start with small"
   ]
  },
  {
   "cell_type": "code",
   "execution_count": 15,
   "id": "383c460a",
   "metadata": {},
   "outputs": [
    {
     "data": {
      "text/plain": [
       "{'be', 'not', 'or', 'to'}"
      ]
     },
     "execution_count": 15,
     "metadata": {},
     "output_type": "execute_result"
    }
   ],
   "source": [
    "set([w.lower() for w in text4])"
   ]
  },
  {
   "cell_type": "markdown",
   "id": "41ae9c8a",
   "metadata": {},
   "source": [
    "# Some words comparison functions\n",
    "s.startswith(t)\n",
    "\n",
    "s.endsswith(t)\n",
    "\n",
    "t in s\n",
    "\n",
    "s.isupper()\n",
    "\n",
    "s.islower()\n",
    "\n",
    "s.istitle()\n",
    "\n",
    "s.isalpha()\n",
    "\n",
    "s.isdigit()\n",
    "\n",
    "s.isalnum()"
   ]
  },
  {
   "cell_type": "markdown",
   "id": "1d65a450",
   "metadata": {},
   "source": [
    "# String Operations\n",
    "s.lower(); s.upper(); s.titlecase()\n",
    "\n",
    "s.split(t)\n",
    "\n",
    "s.splitlines()\n",
    "\n",
    "s.join(t)\n",
    "\n",
    "s.strip(); s.rstrip()\n",
    "\n",
    "s.find(t); s.rfind(t)\n",
    "\n",
    "s.replace(u,v)"
   ]
  },
  {
   "cell_type": "code",
   "execution_count": 16,
   "id": "33618e38",
   "metadata": {},
   "outputs": [],
   "source": [
    "text5 = 'ouagadougou'"
   ]
  },
  {
   "cell_type": "code",
   "execution_count": 17,
   "id": "9781d914",
   "metadata": {},
   "outputs": [],
   "source": [
    "text6=text5.split('ou')"
   ]
  },
  {
   "cell_type": "code",
   "execution_count": 18,
   "id": "b7dc29e6",
   "metadata": {},
   "outputs": [
    {
     "data": {
      "text/plain": [
       "['', 'agad', 'g', '']"
      ]
     },
     "execution_count": 18,
     "metadata": {},
     "output_type": "execute_result"
    }
   ],
   "source": [
    "text6"
   ]
  },
  {
   "cell_type": "code",
   "execution_count": 19,
   "id": "edb87fd8",
   "metadata": {},
   "outputs": [],
   "source": [
    "# if ou appear three times than four groups appear "
   ]
  },
  {
   "cell_type": "code",
   "execution_count": 20,
   "id": "bea2b904",
   "metadata": {},
   "outputs": [
    {
     "data": {
      "text/plain": [
       "'ouagadougou'"
      ]
     },
     "execution_count": 20,
     "metadata": {},
     "output_type": "execute_result"
    }
   ],
   "source": [
    "'ou'.join(text6)"
   ]
  },
  {
   "cell_type": "code",
   "execution_count": 21,
   "id": "547833cd",
   "metadata": {},
   "outputs": [
    {
     "data": {
      "text/plain": [
       "['ouagadougou']"
      ]
     },
     "execution_count": 21,
     "metadata": {},
     "output_type": "execute_result"
    }
   ],
   "source": [
    "text5.split(' ')  # "
   ]
  },
  {
   "cell_type": "code",
   "execution_count": 22,
   "id": "05b0c1ed",
   "metadata": {},
   "outputs": [
    {
     "data": {
      "text/plain": [
       "['o', 'u', 'a', 'g', 'a', 'd', 'o', 'u', 'g', 'o', 'u']"
      ]
     },
     "execution_count": 22,
     "metadata": {},
     "output_type": "execute_result"
    }
   ],
   "source": [
    "list(text5)"
   ]
  },
  {
   "cell_type": "code",
   "execution_count": 27,
   "id": "bd46d1ce",
   "metadata": {},
   "outputs": [
    {
     "data": {
      "text/plain": [
       "['o', 'u', 'a', 'g', 'a', 'd', 'o', 'u', 'g', 'o', 'u']"
      ]
     },
     "execution_count": 27,
     "metadata": {},
     "output_type": "execute_result"
    }
   ],
   "source": [
    "[c for c in text5]"
   ]
  },
  {
   "cell_type": "markdown",
   "id": "7dd888a5",
   "metadata": {},
   "source": [
    "# Cleaning text"
   ]
  },
  {
   "cell_type": "code",
   "execution_count": 29,
   "id": "48c88e55",
   "metadata": {},
   "outputs": [
    {
     "data": {
      "text/plain": [
       "['',\n",
       " '',\n",
       " '',\n",
       " 'A',\n",
       " 'quick',\n",
       " 'brown',\n",
       " 'fox',\n",
       " 'jumped',\n",
       " 'over',\n",
       " 'the',\n",
       " 'lazy',\n",
       " 'dog.',\n",
       " '']"
      ]
     },
     "execution_count": 29,
     "metadata": {},
     "output_type": "execute_result"
    }
   ],
   "source": [
    "text8 = '   A quick brown fox jumped over the lazy dog. '\n",
    "text8.split(' ')"
   ]
  },
  {
   "cell_type": "code",
   "execution_count": 30,
   "id": "51a1085c",
   "metadata": {},
   "outputs": [],
   "source": [
    "text9 = text8.strip()"
   ]
  },
  {
   "cell_type": "code",
   "execution_count": 31,
   "id": "533b111a",
   "metadata": {},
   "outputs": [
    {
     "data": {
      "text/plain": [
       "['A', 'quick', 'brown', 'fox', 'jumped', 'over', 'the', 'lazy', 'dog.']"
      ]
     },
     "execution_count": 31,
     "metadata": {},
     "output_type": "execute_result"
    }
   ],
   "source": [
    "text9.split(' ')"
   ]
  },
  {
   "cell_type": "markdown",
   "id": "29c663c4",
   "metadata": {},
   "source": [
    "# Changing text"
   ]
  },
  {
   "cell_type": "markdown",
   "id": "d2781144",
   "metadata": {},
   "source": [
    "## Find and replace"
   ]
  },
  {
   "cell_type": "code",
   "execution_count": 32,
   "id": "e76d223f",
   "metadata": {},
   "outputs": [
    {
     "data": {
      "text/plain": [
       "'A quick brown fox jumped over the lazy dog.'"
      ]
     },
     "execution_count": 32,
     "metadata": {},
     "output_type": "execute_result"
    }
   ],
   "source": [
    "text9"
   ]
  },
  {
   "cell_type": "code",
   "execution_count": 33,
   "id": "e461289e",
   "metadata": {},
   "outputs": [
    {
     "data": {
      "text/plain": [
       "10"
      ]
     },
     "execution_count": 33,
     "metadata": {},
     "output_type": "execute_result"
    }
   ],
   "source": [
    "text9.find('o')    #find the first 'o'"
   ]
  },
  {
   "cell_type": "code",
   "execution_count": 34,
   "id": "89254372",
   "metadata": {},
   "outputs": [
    {
     "data": {
      "text/plain": [
       "40"
      ]
     },
     "execution_count": 34,
     "metadata": {},
     "output_type": "execute_result"
    }
   ],
   "source": [
    "text9.rfind('o')    # rfind means revers find"
   ]
  },
  {
   "cell_type": "code",
   "execution_count": 36,
   "id": "b0bed22a",
   "metadata": {},
   "outputs": [
    {
     "data": {
      "text/plain": [
       "'A quick brOwn fOx jumped Over the lazy dOg.'"
      ]
     },
     "execution_count": 36,
     "metadata": {},
     "output_type": "execute_result"
    }
   ],
   "source": [
    "text9.replace('o', 'O')"
   ]
  },
  {
   "cell_type": "markdown",
   "id": "27c0ef2d",
   "metadata": {},
   "source": [
    "# Handling larger texts"
   ]
  },
  {
   "cell_type": "markdown",
   "id": "c78c857c",
   "metadata": {},
   "source": [
    "## Reading files line by line"
   ]
  },
  {
   "cell_type": "code",
   "execution_count": 40,
   "id": "da5f5f9a",
   "metadata": {},
   "outputs": [
    {
     "ename": "FileNotFoundError",
     "evalue": "[Errno 2] No such file or directory: 'UNDHR.txt'",
     "output_type": "error",
     "traceback": [
      "\u001b[1;31m---------------------------------------------------------------------------\u001b[0m",
      "\u001b[1;31mFileNotFoundError\u001b[0m                         Traceback (most recent call last)",
      "\u001b[1;32m~\\AppData\\Local\\Temp/ipykernel_12044/2480929292.py\u001b[0m in \u001b[0;36m<module>\u001b[1;34m\u001b[0m\n\u001b[1;32m----> 1\u001b[1;33m \u001b[0mf\u001b[0m \u001b[1;33m=\u001b[0m \u001b[0mopen\u001b[0m\u001b[1;33m(\u001b[0m\u001b[1;34m'UNDHR.txt'\u001b[0m\u001b[1;33m,\u001b[0m\u001b[1;34m'r'\u001b[0m\u001b[1;33m)\u001b[0m\u001b[1;33m\u001b[0m\u001b[1;33m\u001b[0m\u001b[0m\n\u001b[0m\u001b[0;32m      2\u001b[0m \u001b[0mf\u001b[0m\u001b[1;33m.\u001b[0m\u001b[0mreadline\u001b[0m\u001b[1;33m(\u001b[0m\u001b[1;33m)\u001b[0m\u001b[1;33m\u001b[0m\u001b[1;33m\u001b[0m\u001b[0m\n",
      "\u001b[1;31mFileNotFoundError\u001b[0m: [Errno 2] No such file or directory: 'UNDHR.txt'"
     ]
    }
   ],
   "source": [
    "f = open('UNDHR.txt','r')\n",
    "f.readline()"
   ]
  },
  {
   "cell_type": "code",
   "execution_count": null,
   "id": "a44aeee7",
   "metadata": {},
   "outputs": [],
   "source": []
  }
 ],
 "metadata": {
  "kernelspec": {
   "display_name": "Python 3 (ipykernel)",
   "language": "python",
   "name": "python3"
  },
  "language_info": {
   "codemirror_mode": {
    "name": "ipython",
    "version": 3
   },
   "file_extension": ".py",
   "mimetype": "text/x-python",
   "name": "python",
   "nbconvert_exporter": "python",
   "pygments_lexer": "ipython3",
   "version": "3.9.7"
  }
 },
 "nbformat": 4,
 "nbformat_minor": 5
}
