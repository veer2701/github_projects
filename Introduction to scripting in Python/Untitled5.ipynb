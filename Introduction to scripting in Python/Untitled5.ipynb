{
 "cells": [
  {
   "cell_type": "code",
   "execution_count": 1,
   "id": "444dc11f",
   "metadata": {},
   "outputs": [
    {
     "name": "stdout",
     "output_type": "stream",
     "text": [
      "Updating Items\n",
      "==============\n",
      "[0, 1, 2, 3, 4]\n",
      "[0, -7, 2, 17, 4]\n",
      "\n",
      "Adding Items\n",
      "============\n",
      "[0, -7, 2, 17, 4, 42]\n",
      "[0, -7, 75, 2, 17, 4, 42]\n",
      "[0, -7, 75, 2, 17, 4, 42, -56, 27, 8]\n",
      "[0, -7, 75, 2, 17, 4, 42, -56, 27, 8, [-56, 27, 8]]\n",
      "\n",
      "Removing Items\n",
      "==============\n",
      "[0, -7, 75, 2, 17, 4, 42, -56, 27, 8]\n",
      "[0, -7, 75, 17, 4, 42, -56, 27, 8]\n"
     ]
    }
   ],
   "source": [
    "\"\"\"\n",
    "Mutating Lists.\n",
    "\"\"\"\n",
    "\n",
    "print(\"Updating Items\")\n",
    "print(\"==============\")\n",
    "\n",
    "lst = list(range(5))\n",
    "print(lst)\n",
    "\n",
    "lst[1] = -7\n",
    "lst[3] = 17\n",
    "print(lst)\n",
    "\n",
    "print(\"\")\n",
    "print(\"Adding Items\")\n",
    "print(\"============\")\n",
    "\n",
    "lst.append(42)\n",
    "print(lst)\n",
    "\n",
    "lst.insert(2, 75)\n",
    "print(lst)\n",
    "\n",
    "lst2 = [-56, 27, 8]\n",
    "lst.extend(lst2)\n",
    "print(lst)\n",
    "lst.append(lst2)\n",
    "print(lst)\n",
    "\n",
    "print(\"\")\n",
    "print(\"Removing Items\")\n",
    "print(\"==============\")\n",
    "\n",
    "lst.pop()\n",
    "print(lst)\n",
    "lst.pop(3)\n",
    "print(lst)"
   ]
  },
  {
   "cell_type": "code",
   "execution_count": 2,
   "id": "ac8773db",
   "metadata": {},
   "outputs": [
    {
     "name": "stdout",
     "output_type": "stream",
     "text": [
      "Updating Items\n",
      "==============\n",
      "[0, 1, 2, 3, 4]\n"
     ]
    }
   ],
   "source": [
    "\"\"\"\n",
    "Mutating Lists.\n",
    "\"\"\"\n",
    "\n",
    "print(\"Updating Items\")\n",
    "print(\"==============\")\n",
    "\n",
    "lst = list(range(5))\n",
    "print(lst)\n"
   ]
  },
  {
   "cell_type": "code",
   "execution_count": 3,
   "id": "cf02f7f6",
   "metadata": {},
   "outputs": [
    {
     "name": "stdout",
     "output_type": "stream",
     "text": [
      "[0, -7, 2, 17, 4]\n"
     ]
    }
   ],
   "source": [
    "lst[1] = -7\n",
    "lst[3] = 17\n",
    "print(lst)"
   ]
  },
  {
   "cell_type": "code",
   "execution_count": 4,
   "id": "d99d5cfc",
   "metadata": {},
   "outputs": [
    {
     "name": "stdout",
     "output_type": "stream",
     "text": [
      "\n",
      "Adding Items\n",
      "============\n",
      "[0, -7, 2, 17, 4, 42]\n"
     ]
    }
   ],
   "source": [
    "print(\"\")\n",
    "print(\"Adding Items\")\n",
    "print(\"============\")\n",
    "\n",
    "lst.append(42)\n",
    "print(lst)"
   ]
  },
  {
   "cell_type": "code",
   "execution_count": 5,
   "id": "5c2331ac",
   "metadata": {},
   "outputs": [
    {
     "name": "stdout",
     "output_type": "stream",
     "text": [
      "[0, -7, 75, 2, 17, 4, 42]\n"
     ]
    }
   ],
   "source": [
    "lst.insert(2, 75)\n",
    "print(lst)"
   ]
  },
  {
   "cell_type": "code",
   "execution_count": 6,
   "id": "d0a9e5ff",
   "metadata": {},
   "outputs": [
    {
     "name": "stdout",
     "output_type": "stream",
     "text": [
      "[0, -7, 75, 2, 17, 4, 42, -56, 27, 8]\n",
      "[0, -7, 75, 2, 17, 4, 42, -56, 27, 8, [-56, 27, 8]]\n"
     ]
    }
   ],
   "source": [
    "lst2 = [-56, 27, 8]\n",
    "lst.extend(lst2)\n",
    "print(lst)\n",
    "lst.append(lst2)\n",
    "print(lst)"
   ]
  },
  {
   "cell_type": "code",
   "execution_count": 7,
   "id": "e39f46ad",
   "metadata": {},
   "outputs": [
    {
     "name": "stdout",
     "output_type": "stream",
     "text": [
      "\n",
      "Removing Items\n",
      "==============\n",
      "[0, -7, 75, 2, 17, 4, 42, -56, 27, 8]\n",
      "[0, -7, 75, 17, 4, 42, -56, 27, 8]\n"
     ]
    }
   ],
   "source": [
    "print(\"\")\n",
    "print(\"Removing Items\")\n",
    "print(\"==============\")\n",
    "\n",
    "lst.pop()\n",
    "print(lst)\n",
    "lst.pop(3)\n",
    "print(lst)"
   ]
  },
  {
   "cell_type": "code",
   "execution_count": 8,
   "id": "b23a5399",
   "metadata": {},
   "outputs": [
    {
     "name": "stdout",
     "output_type": "stream",
     "text": [
      "Sequences\n",
      "=========\n",
      "[1, 5, 7, 3] (1, 5, 7, 3)\n",
      "7\n",
      "7\n",
      "(1, 5)\n",
      "(7,)\n",
      "[9, 5, 7, 3]\n",
      "\n",
      "Tuple Methods\n",
      "=============\n",
      "2\n",
      "0\n",
      "\n",
      "Iteration\n",
      "=========\n",
      "1\n",
      "5\n",
      "7\n",
      "3\n",
      "\n",
      "Conversion\n",
      "==========\n",
      "[8, 6, 4, 8, 2]\n",
      "(8, 6, 4, 8, 2)\n",
      "[8, 6, 4, 8, 2]\n",
      "[8, 6, 4, 8, 2] (8, 6, 4, 8, 2) [8, 6, 7, 8, 2]\n"
     ]
    }
   ],
   "source": [
    "\"\"\"\n",
    "Tuple examples.\n",
    "\"\"\"\n",
    "\n",
    "# Lists and tuples are both sequences\n",
    "print(\"Sequences\")\n",
    "print(\"=========\")\n",
    "lst = [1, 5, 7, 3]\n",
    "tup = (1, 5, 7, 3)\n",
    "\n",
    "print(lst, tup)\n",
    "print(lst[2])\n",
    "print(tup[2])\n",
    "print(tup[:2])\n",
    "print(tup[2:3])\n",
    "\n",
    "# Tuples are immutable\n",
    "lst[0] = 9\n",
    "print(lst)\n",
    "# tup[0] = 9\n",
    "# print(tup)\n",
    "\n",
    "print(\"\")\n",
    "print(\"Tuple Methods\")\n",
    "print(\"=============\")\n",
    "\n",
    "print(tup.index(7))\n",
    "print(tup.count(4))\n",
    "\n",
    "print(\"\")\n",
    "print(\"Iteration\")\n",
    "print(\"=========\")\n",
    "\n",
    "for item in tup:\n",
    "    print(item)\n",
    "\n",
    "print(\"\")\n",
    "print(\"Conversion\")\n",
    "print(\"==========\")\n",
    "\n",
    "lst2 = [8, 6, 4, 8, 2]\n",
    "print(lst2)\n",
    "tup2 = tuple(lst2)\n",
    "print(tup2)\n",
    "# tup2[3] = 7\n",
    "lst3 = list(tup2)\n",
    "print(lst3)\n",
    "lst3[2] = 7\n",
    "print(lst2, tup2, lst3)"
   ]
  },
  {
   "cell_type": "code",
   "execution_count": 9,
   "id": "8cbb66e7",
   "metadata": {},
   "outputs": [
    {
     "name": "stdout",
     "output_type": "stream",
     "text": [
      "Sequences\n",
      "=========\n"
     ]
    }
   ],
   "source": [
    "\"\"\"\n",
    "Tuple examples.\n",
    "\"\"\"\n",
    "\n",
    "# Lists and tuples are both sequences\n",
    "print(\"Sequences\")\n",
    "print(\"=========\")\n",
    "lst = [1, 5, 7, 3]\n",
    "tup = (1, 5, 7, 3)\n"
   ]
  },
  {
   "cell_type": "code",
   "execution_count": 10,
   "id": "cfd95532",
   "metadata": {},
   "outputs": [
    {
     "name": "stdout",
     "output_type": "stream",
     "text": [
      "[1, 5, 7, 3] (1, 5, 7, 3)\n",
      "7\n",
      "7\n",
      "(1, 5)\n",
      "(7,)\n"
     ]
    }
   ],
   "source": [
    "print(lst, tup)\n",
    "print(lst[2])\n",
    "print(tup[2])\n",
    "print(tup[:2])\n",
    "print(tup[2:3])"
   ]
  },
  {
   "cell_type": "code",
   "execution_count": 11,
   "id": "a91f686c",
   "metadata": {},
   "outputs": [
    {
     "name": "stdout",
     "output_type": "stream",
     "text": [
      "[9, 5, 7, 3]\n"
     ]
    }
   ],
   "source": [
    "# Tuples are immutable\n",
    "lst[0] = 9\n",
    "print(lst)\n",
    "# tup[0] = 9\n",
    "# print(tup)"
   ]
  },
  {
   "cell_type": "code",
   "execution_count": 12,
   "id": "60962d13",
   "metadata": {},
   "outputs": [
    {
     "name": "stdout",
     "output_type": "stream",
     "text": [
      "\n",
      "Tuple Methods\n",
      "=============\n",
      "2\n",
      "0\n"
     ]
    }
   ],
   "source": [
    "print(\"\")\n",
    "print(\"Tuple Methods\")\n",
    "print(\"=============\")\n",
    "\n",
    "print(tup.index(7))\n",
    "print(tup.count(4))"
   ]
  },
  {
   "cell_type": "code",
   "execution_count": 13,
   "id": "ce8d2447",
   "metadata": {},
   "outputs": [
    {
     "name": "stdout",
     "output_type": "stream",
     "text": [
      "\n",
      "Iteration\n",
      "=========\n",
      "1\n",
      "5\n",
      "7\n",
      "3\n"
     ]
    }
   ],
   "source": [
    "print(\"\")\n",
    "print(\"Iteration\")\n",
    "print(\"=========\")\n",
    "\n",
    "for item in tup:\n",
    "    print(item)\n"
   ]
  },
  {
   "cell_type": "code",
   "execution_count": 16,
   "id": "51ffd4e1",
   "metadata": {},
   "outputs": [
    {
     "name": "stdout",
     "output_type": "stream",
     "text": [
      "\n",
      "Conversion\n",
      "==========\n",
      "[8, 6, 4, 8, 2]\n",
      "(8, 6, 4, 8, 2)\n",
      "[8, 6, 4, 8, 2]\n",
      "[8, 6, 4, 8, 2] (8, 6, 4, 8, 2) [8, 6, 7, 8, 2]\n"
     ]
    }
   ],
   "source": [
    "print(\"\")\n",
    "print(\"Conversion\")\n",
    "print(\"==========\")\n",
    "\n",
    "lst2 = [8, 6, 4, 8, 2]\n",
    "print(lst2)\n",
    "tup2 = tuple(lst2)\n",
    "print(tup2)\n",
    "# tup2[3] = 7\n",
    "lst3 = list(tup2)\n",
    "print(lst3)\n",
    "lst3[2] = 7\n",
    "print(lst2, tup2, lst3)"
   ]
  },
  {
   "cell_type": "code",
   "execution_count": 17,
   "id": "2d1b7f26",
   "metadata": {},
   "outputs": [
    {
     "name": "stdout",
     "output_type": "stream",
     "text": [
      "Look Alikes\n",
      "===========\n",
      "[7, 3, 2] [7, 3, 2]\n",
      "[7, -8, 2] [7, 3, 2]\n",
      "\n",
      "Aliases\n",
      "=======\n",
      "[1, 5, 9] [1, 5, 9]\n",
      "[1, 17, 9] [1, 17, 9]\n",
      "\n",
      "Copies\n",
      "======\n",
      "[8, 9, 4] [8, 9, 4]\n",
      "[8, -2, 4] [8, 9, 4]\n",
      "\n",
      "Function Arguments\n",
      "==================\n",
      "[1, 2, 3]\n",
      "[1, 2, 3, 42]\n"
     ]
    }
   ],
   "source": [
    "\"\"\"\n",
    "List Objects and References.\n",
    "\"\"\"\n",
    "\n",
    "print(\"Look Alikes\")\n",
    "print(\"===========\")\n",
    "\n",
    "lst1 = [7, 3, 2]\n",
    "lst2 = [7, 3, 2]\n",
    "print(lst1, lst2)\n",
    "\n",
    "lst1[1] = -8\n",
    "print(lst1, lst2)\n",
    "\n",
    "print(\"\")\n",
    "print(\"Aliases\")\n",
    "print(\"=======\")\n",
    "\n",
    "lst3 = [1, 5, 9]\n",
    "lst4 = lst3\n",
    "print(lst3, lst4)\n",
    "\n",
    "lst3[1] = 17\n",
    "print(lst3, lst4)\n",
    "\n",
    "print(\"\")\n",
    "print(\"Copies\")\n",
    "print(\"======\")\n",
    "\n",
    "lst5 = [8, 9, 4]\n",
    "# This makes a shallow copy\n",
    "lst6 = list(lst5)\n",
    "print(lst5, lst6)\n",
    "\n",
    "lst5[1] = -2\n",
    "print(lst5, lst6)\n",
    "\n",
    "print(\"\")\n",
    "print(\"Function Arguments\")\n",
    "print(\"==================\")\n",
    "\n",
    "def mutate_list(alist):\n",
    "    \"\"\"\n",
    "    Add an element to the input.\n",
    "    \"\"\"\n",
    "    alist.append(42)\n",
    "\n",
    "lst7 = [1, 2, 3]\n",
    "print(lst7)\n",
    "mutate_list(lst7)\n",
    "print(lst7)"
   ]
  },
  {
   "cell_type": "code",
   "execution_count": 18,
   "id": "d816be17",
   "metadata": {},
   "outputs": [
    {
     "name": "stdout",
     "output_type": "stream",
     "text": [
      "Look Alikes\n",
      "===========\n",
      "[7, 3, 2] [7, 3, 2]\n",
      "[7, -8, 2] [7, 3, 2]\n"
     ]
    }
   ],
   "source": [
    "\"\"\"\n",
    "List Objects and References.\n",
    "\"\"\"\n",
    "\n",
    "print(\"Look Alikes\")\n",
    "print(\"===========\")\n",
    "\n",
    "lst1 = [7, 3, 2]\n",
    "lst2 = [7, 3, 2]\n",
    "print(lst1, lst2)\n",
    "\n",
    "lst1[1] = -8\n",
    "print(lst1, lst2)"
   ]
  },
  {
   "cell_type": "code",
   "execution_count": 19,
   "id": "120219e5",
   "metadata": {},
   "outputs": [
    {
     "name": "stdout",
     "output_type": "stream",
     "text": [
      "\n",
      "Aliases\n",
      "=======\n",
      "[1, 5, 9] [1, 5, 9]\n",
      "[1, 17, 9] [1, 17, 9]\n"
     ]
    }
   ],
   "source": [
    "print(\"\")\n",
    "print(\"Aliases\")\n",
    "print(\"=======\")\n",
    "\n",
    "lst3 = [1, 5, 9]\n",
    "lst4 = lst3\n",
    "print(lst3, lst4)\n",
    "\n",
    "lst3[1] = 17\n",
    "print(lst3, lst4)"
   ]
  },
  {
   "cell_type": "code",
   "execution_count": 20,
   "id": "648e5de8",
   "metadata": {},
   "outputs": [
    {
     "name": "stdout",
     "output_type": "stream",
     "text": [
      "\n",
      "Copies\n",
      "======\n",
      "[8, 9, 4] [8, 9, 4]\n",
      "[8, -2, 4] [8, 9, 4]\n"
     ]
    }
   ],
   "source": [
    "print(\"\")\n",
    "print(\"Copies\")\n",
    "print(\"======\")\n",
    "\n",
    "lst5 = [8, 9, 4]\n",
    "# This makes a shallow copy\n",
    "lst6 = list(lst5)\n",
    "print(lst5, lst6)\n",
    "\n",
    "lst5[1] = -2\n",
    "print(lst5, lst6)"
   ]
  },
  {
   "cell_type": "code",
   "execution_count": 21,
   "id": "335e181a",
   "metadata": {},
   "outputs": [
    {
     "ename": "TypeError",
     "evalue": "'tuple' object does not support item assignment",
     "output_type": "error",
     "traceback": [
      "\u001b[1;31m---------------------------------------------------------------------------\u001b[0m",
      "\u001b[1;31mTypeError\u001b[0m                                 Traceback (most recent call last)",
      "\u001b[1;32m~\\AppData\\Local\\Temp/ipykernel_10016/2899272257.py\u001b[0m in \u001b[0;36m<module>\u001b[1;34m\u001b[0m\n\u001b[0;32m      1\u001b[0m \u001b[0minstructors\u001b[0m \u001b[1;33m=\u001b[0m \u001b[1;33m(\u001b[0m\u001b[1;34m\"Scott\"\u001b[0m\u001b[1;33m,\u001b[0m \u001b[1;34m\"Joe\"\u001b[0m\u001b[1;33m,\u001b[0m \u001b[1;34m\"John\"\u001b[0m\u001b[1;33m,\u001b[0m \u001b[1;34m\"Stephen\"\u001b[0m\u001b[1;33m)\u001b[0m\u001b[1;33m\u001b[0m\u001b[1;33m\u001b[0m\u001b[0m\n\u001b[1;32m----> 2\u001b[1;33m \u001b[0minstructors\u001b[0m\u001b[1;33m[\u001b[0m\u001b[1;36m2\u001b[0m \u001b[1;33m:\u001b[0m \u001b[1;36m4\u001b[0m\u001b[1;33m]\u001b[0m \u001b[1;33m=\u001b[0m \u001b[1;33m[\u001b[0m\u001b[1;33m]\u001b[0m\u001b[1;33m\u001b[0m\u001b[1;33m\u001b[0m\u001b[0m\n\u001b[0m\u001b[0;32m      3\u001b[0m \u001b[0mprint\u001b[0m\u001b[1;33m(\u001b[0m\u001b[0minstructors\u001b[0m\u001b[1;33m)\u001b[0m\u001b[1;33m\u001b[0m\u001b[1;33m\u001b[0m\u001b[0m\n",
      "\u001b[1;31mTypeError\u001b[0m: 'tuple' object does not support item assignment"
     ]
    }
   ],
   "source": [
    "instructors = (\"Scott\", \"Joe\", \"John\", \"Stephen\")\n",
    "instructors[2 : 4] = []\n",
    "print(instructors)"
   ]
  },
  {
   "cell_type": "code",
   "execution_count": 22,
   "id": "e3f1ba82",
   "metadata": {},
   "outputs": [
    {
     "name": "stdout",
     "output_type": "stream",
     "text": [
      "None\n"
     ]
    }
   ],
   "source": [
    "my_list = [1, 3, 5, 7, 9]\n",
    "my_list.reverse()\n",
    "print(my_list.reverse())"
   ]
  },
  {
   "cell_type": "code",
   "execution_count": 23,
   "id": "a7a098a7",
   "metadata": {},
   "outputs": [],
   "source": [
    "my_list = [1, 3, 5, 7, 9]\n",
    "my_list.reverse()"
   ]
  },
  {
   "cell_type": "code",
   "execution_count": 26,
   "id": "f8f5f294",
   "metadata": {},
   "outputs": [
    {
     "name": "stdout",
     "output_type": "stream",
     "text": [
      "89\n"
     ]
    }
   ],
   "source": [
    "def fib():\n",
    "    \"\"\"(None) -> int\n",
    "    \n",
    "    Given a list fib = [0, 1], write a loop that appends the sum of the last two\n",
    "    items in fib to the end of fib. What is the value of the last item in fib after\n",
    "    twenty iterations of this loop?\n",
    "    \n",
    "    \"\"\"\n",
    "    l = [0,1]\n",
    "    for i in range(10):\n",
    "        l.append(l[-1] + l[-2])\n",
    "    return l[-1]\n",
    "\n",
    "print(fib())"
   ]
  },
  {
   "cell_type": "code",
   "execution_count": 25,
   "id": "a2f0f43e",
   "metadata": {},
   "outputs": [
    {
     "name": "stdout",
     "output_type": "stream",
     "text": [
      "10946\n"
     ]
    }
   ],
   "source": [
    "def fib():\n",
    "    \"\"\"(None) -> int\n",
    "    \n",
    "    Given a list fib = [0, 1], write a loop that appends the sum of the last two\n",
    "    items in fib to the end of fib. What is the value of the last item in fib after\n",
    "    twenty iterations of this loop?\n",
    "    \n",
    "    \"\"\"\n",
    "    l = [0,1]\n",
    "    for i in range(20):\n",
    "        l.append(l[-1] + l[-2])\n",
    "    return l[-1]\n",
    "\n",
    "print(fib())"
   ]
  },
  {
   "cell_type": "code",
   "execution_count": 27,
   "id": "5f41e82e",
   "metadata": {},
   "outputs": [
    {
     "name": "stdout",
     "output_type": "stream",
     "text": [
      "[2, 3, 5, 7]\n",
      "46\n",
      "303\n"
     ]
    }
   ],
   "source": [
    "\"\"\"\n",
    "Implement the Sieve of Eratosthenes\n",
    "https://en.wikipedia.org/wiki/Sieve_of_Eratosthenes\n",
    "\"\"\"\n",
    "\n",
    "def compute_primes(bound):\n",
    "    \"\"\"\n",
    "    Return a list of the prime numbers in range(2, bound)\n",
    "    \"\"\"\n",
    "    \n",
    "    answer = list(range(2, bound))\n",
    "    for divisor in range(2, bound):\n",
    "        for i in answer:\n",
    "            if i % divisor == 0 and not i == divisor:\n",
    "                answer.remove(i)\n",
    "\n",
    "    return answer\n",
    "\n",
    "print(compute_primes(10))\n",
    "print(len(compute_primes(200)))\n",
    "print(len(compute_primes(2000)))\n"
   ]
  },
  {
   "cell_type": "code",
   "execution_count": null,
   "id": "11e5cba3",
   "metadata": {},
   "outputs": [],
   "source": []
  }
 ],
 "metadata": {
  "kernelspec": {
   "display_name": "Python 3 (ipykernel)",
   "language": "python",
   "name": "python3"
  },
  "language_info": {
   "codemirror_mode": {
    "name": "ipython",
    "version": 3
   },
   "file_extension": ".py",
   "mimetype": "text/x-python",
   "name": "python",
   "nbconvert_exporter": "python",
   "pygments_lexer": "ipython3",
   "version": "3.9.7"
  }
 },
 "nbformat": 4,
 "nbformat_minor": 5
}
