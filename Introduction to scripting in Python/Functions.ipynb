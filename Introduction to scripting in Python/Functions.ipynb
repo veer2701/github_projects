{
 "cells": [
  {
   "cell_type": "markdown",
   "id": "4cdf9f41",
   "metadata": {},
   "source": [
    "Question 1\n",
    "\n",
    "Consider the following Python function definition:\n",
    "    \n",
    "    def cube_root(val):\n",
    "        \"\"\"\n",
    "        Given number, return the cube root of the number\n",
    "        \"\"\"\n",
    "        return val ** (1 / 3)\n",
    "    \n",
    "Which of the expression below is a valid call to the function \\color{red}{\\verb|cube_root|}cube_root?"
   ]
  },
  {
   "cell_type": "code",
   "execution_count": 1,
   "id": "a32917df",
   "metadata": {},
   "outputs": [
    {
     "name": "stdout",
     "output_type": "stream",
     "text": [
      "1.0\n"
     ]
    }
   ],
   "source": [
    "def cube_root(val):\n",
    "    \"\"\"\n",
    "    Given number, return the cube root of the number\n",
    "    \"\"\"\n",
    "    return val ** (1 / 3)\n",
    "\n",
    "\n",
    "result = cube_root(1)\n",
    "print(result)"
   ]
  },
  {
   "cell_type": "markdown",
   "id": "807e1758",
   "metadata": {},
   "source": [
    "Question 2\n",
    "\n",
    "Running the following program results in the error\n",
    "\n",
    "\\color{red}{\\verb|SyntaxError: bad input on line 5 ('return')|}SyntaxError: bad input on line 5 (’return’).\n",
    "\n",
    "Which of the following describes the problem?"
   ]
  },
  {
   "cell_type": "code",
   "execution_count": 4,
   "id": "a4c51877",
   "metadata": {},
   "outputs": [],
   "source": [
    "def max_of_2(val1, val2):\n",
    "    if val1 > val2:\n",
    "        return val1\n",
    "    else:\n",
    "        return val2\n",
    "\n",
    "def max_of_3(val1, val2, val3):\n",
    "    return max_of_2(val1, max_of_2(val2, val3))"
   ]
  },
  {
   "cell_type": "markdown",
   "id": "a9285e7e",
   "metadata": {},
   "source": [
    "The following code has a number of syntactic errors in it. The intended math calculations are correct, so the only errors are syntactic. Fix these errors.\n",
    "\n",
    "Once the code has been fully corrected, it should print out two numbers. The first should be 1.09888451159. Submit the second number printed in CodeSkulptor3. Make sure that you enter at least four digits after the decimal point."
   ]
  },
  {
   "cell_type": "code",
   "execution_count": 7,
   "id": "bd5d3575",
   "metadata": {},
   "outputs": [
    {
     "name": "stdout",
     "output_type": "stream",
     "text": [
      "1.0988845115895123 3.846095790563293\n"
     ]
    }
   ],
   "source": [
    "def project_to_distance(point_x, point_y, distance):\n",
    "    dist_to_origin = (point_x ** 2 + point_y ** 2) ** 0.5\n",
    "    scale = distance / dist_to_origin\n",
    "    print (point_x * scale, point_y * scale)\n",
    "\n",
    "project_to_distance(2, 7, 4)"
   ]
  },
  {
   "cell_type": "markdown",
   "id": "2233ddba",
   "metadata": {},
   "source": [
    "Question 4\n",
    "A common error for beginning programmers is to confuse the behavior of \\color{red}{\\verb|print|}print statements and \\color{red}{\\verb|return|}return statements.\n",
    "\n",
    "\\color{red}{\\verb|print|}print statements can appear anywhere in your program and print a specified value(s) in the console. Note that execution of your Python program continues onward to the following statement. Remember that executing a \\color{red}{\\verb|print|}print statement inside a function definition does not return a value from the function.\n",
    "\n",
    "\\color{red}{\\verb|return|}return statements appear inside functions. The value associated with the \\color{red}{\\verb|return|}return statement is substituted for the expression that called the function. Note that executing a \\color{red}{\\verb|return|}return statement terminates execution of the function definition immediately. Any statements in the function definition following the \\color{red}{\\verb|return|}return statement are ignored. Execution of your Python code resumes with the execution of the statement after the function call.\n",
    "\n",
    "As an example to illustrate these points, consider the following piece of code:"
   ]
  },
  {
   "cell_type": "code",
   "execution_count": 8,
   "id": "2c6fbf6e",
   "metadata": {},
   "outputs": [
    {
     "name": "stdout",
     "output_type": "stream",
     "text": [
      "Hello world\n",
      "Is it over yet?\n"
     ]
    }
   ],
   "source": [
    "def do_stuff():\n",
    "    \"\"\"\n",
    "    Example of print vs. return\n",
    "    \"\"\"\n",
    "    print(\"Hello world\")\n",
    "    return \"Is it over yet?\"\n",
    "    print(\"Goodbye cruel world!\")\n",
    "\n",
    "print(do_stuff())"
   ]
  },
  {
   "cell_type": "markdown",
   "id": "afcd9192",
   "metadata": {},
   "source": [
    "Question 5\n",
    " Implement the mathematical function  f(x) = -5 x^5 + 67 x^2 - 47 f(x)=−5x \n",
    "5\n",
    " +67x \n",
    "2\n",
    " −47 as a Python function. Then use Python to compute the function values f(0)f(0), f(1)f(1), f(2)f(2), and f(3)f(3). Enter the maximum (largest) of these four values calculated below.\n",
    "\n",
    "A common error for this question is to fail to read the directions above carefully and submit your answer in the incorrect form. As a coder, always remember to note exactly what answers your code (and quiz questions) should produce."
   ]
  },
  {
   "cell_type": "code",
   "execution_count": 9,
   "id": "c3b2a062",
   "metadata": {},
   "outputs": [
    {
     "name": "stdout",
     "output_type": "stream",
     "text": [
      "-47 for 0\n",
      "15 for 1\n",
      "61 for 2\n",
      "-659 for 3\n"
     ]
    }
   ],
   "source": [
    "class fx:\n",
    "    def __init__(self,x):\n",
    "        self.x=x\n",
    "    def __str__(self):\n",
    "        return (\"You are MR.\",str(self.x))\n",
    "\n",
    "    def cl(self):\n",
    "        #f(x) = -5 x5 + 67 x2 - 47\n",
    "        self.a=-5*self.x**5+67*self.x**2-47\n",
    "        print(self.a, \"for\", self.x)\n",
    "\n",
    "\n",
    "a=fx(0)\n",
    "a.cl()\n",
    "\n",
    "a=fx(1)\n",
    "a.cl()\n",
    "\n",
    "a=fx(2)\n",
    "a.cl()\n",
    "\n",
    "a=fx(3)\n",
    "a.cl()"
   ]
  },
  {
   "cell_type": "markdown",
   "id": "bd5e0a2f",
   "metadata": {},
   "source": [
    "When investing money, an important concept to know is compound interest.\n",
    "\n",
    "The equation  FV = PV (1+rate)^{periods} FV=PV(1+rate) \n",
    "periods\n",
    "  relates the following four quantities.\n",
    "\n",
    "The present value (PV) of your money is how much money you have now.\n",
    "\n",
    "The future value (FV) of your money is how much money you will have in the future.\n",
    "\n",
    "The nominal interest rate per period (rate) is how much interest you earn during a particular length of time, before accounting for compounding. This is typically expressed as a percentage.\n",
    "\n",
    "The number of periods (periods) is how many periods in the future this calculation is for.\n",
    "\n",
    "Finish the following code, run it, and submit the printed number. Provide at least four digits of precision after the decimal point."
   ]
  },
  {
   "cell_type": "code",
   "execution_count": 10,
   "id": "f85de046",
   "metadata": {},
   "outputs": [
    {
     "name": "stdout",
     "output_type": "stream",
     "text": [
      "$1000 at 2% compounded daily for 3 years yields $ 1061.8348011259045\n",
      "745.3174428239327\n"
     ]
    }
   ],
   "source": [
    "#The present value (PV) of your money is how much money you have now.\n",
    "#The future value (FV) of your money is how much money you will have in the future.\n",
    "#The nominal interest rate per period (rate) is how much interest you earn during a particular length of time, before accounting for compounding. This is typically expressed as a percentage.\n",
    "#The number of periods (periods) is how many periods in the future this calculation is for.\n",
    "\n",
    "def future_value(present_value, annual_rate, periods_per_year, years):\n",
    "    rate_per_period = annual_rate / periods_per_year\n",
    "    periods = periods_per_year * years\n",
    "    FV = present_value*(1+rate_per_period)**periods\n",
    "    return FV\n",
    "\n",
    "\n",
    "print (\"$1000 at 2% compounded daily for 3 years yields $\", future_value(1000, .02, 365, 3))\n",
    "print(future_value(500, .04, 10, 10))"
   ]
  },
  {
   "cell_type": "markdown",
   "id": "9167d290",
   "metadata": {},
   "source": [
    "Question 7\n",
    "For this final question, your task is to find the formula for a simple geometric problem using Google and then implement that formula in Python.  While you may think that it is silly that we don't just give you the formula, scripting in Python often requires one to do a substantial amount of searching for information.  This question requires you to practice this important task.\n",
    "\n",
    "Write a Python function that computes the area of an equilateral triangle given the length of one of its sides.   Search for a mathematical formula that specifies this relation and translate that formula into Python. Hint: The desired formula involves taking a square root.  Remember that you compute a square root of a number in Python by raising that number to the 0.50.5 power using the \\color{red}{\\verb|**|}** operator.\n",
    "\n",
    " As a test, your area function should return an area of 1.73205080757 for an equilateral triangle with sides of length 2.  Now, use this function to compute the area of equilateral triangle with sides of length 5.  Enter this area as a number (and not the units) with at least four digits of precision after the decimal point."
   ]
  },
  {
   "cell_type": "code",
   "execution_count": 11,
   "id": "b0349fe0",
   "metadata": {},
   "outputs": [
    {
     "name": "stdout",
     "output_type": "stream",
     "text": [
      "\n",
      " Area of Equilateral Triangle = 10.83\n"
     ]
    }
   ],
   "source": [
    "# Python Program to find Area of an Equilateral Triangle\n",
    "import math\n",
    "\n",
    "side = 5\n",
    "\n",
    "# calculate the area\n",
    "Area = (math.sqrt(3)/ 4)*(side * side)\n",
    "\n",
    "print(\"\\n Area of Equilateral Triangle = %.2f\" %Area)"
   ]
  },
  {
   "cell_type": "code",
   "execution_count": null,
   "id": "18a6081f",
   "metadata": {},
   "outputs": [],
   "source": []
  }
 ],
 "metadata": {
  "kernelspec": {
   "display_name": "Python 3 (ipykernel)",
   "language": "python",
   "name": "python3"
  },
  "language_info": {
   "codemirror_mode": {
    "name": "ipython",
    "version": 3
   },
   "file_extension": ".py",
   "mimetype": "text/x-python",
   "name": "python",
   "nbconvert_exporter": "python",
   "pygments_lexer": "ipython3",
   "version": "3.9.7"
  }
 },
 "nbformat": 4,
 "nbformat_minor": 5
}
