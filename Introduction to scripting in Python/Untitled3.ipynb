{
 "cells": [
  {
   "cell_type": "code",
   "execution_count": 1,
   "id": "103a56c9",
   "metadata": {},
   "outputs": [
    {
     "name": "stdout",
     "output_type": "stream",
     "text": [
      "Scott Rixner\n",
      "Rice\n",
      "\n",
      "Address\n",
      "=======\n",
      "Rice University\n",
      "Houston, TX\n",
      "\n",
      "First Fig\n",
      "=========\n",
      "My candle burns at both ends;\n",
      "  It will not last the night;\n",
      "But ah, my foes, and oh, my friends---\n",
      "  It gives a lovely light!\n",
      "\n",
      "abc'DEF*&$\n",
      "\t\"abc\"\n",
      "def'\n",
      "Concatenating strings\n",
      "Scott Rixner Rice\n",
      "\n",
      "\n",
      "Repeating strings\n",
      "RiceRiceRiceRice\n",
      "number: 3.87\n"
     ]
    }
   ],
   "source": [
    "\"\"\"\n",
    "Simple string literal examples.\n",
    "\"\"\"\n",
    "\n",
    "# Strings are enclosed in quotes\n",
    "name = 'Scott Rixner'\n",
    "university = \"Rice\"\n",
    "\n",
    "print(name)\n",
    "print(university)\n",
    "\n",
    "# Multiline strings use triple quotes\n",
    "address = '''Rice University\n",
    "Houston, TX\n",
    "'''\n",
    "\n",
    "# First Fig by Edna St. Vincent Millay\n",
    "poem = \"\"\"My candle burns at both ends;\n",
    "  It will not last the night;\n",
    "But ah, my foes, and oh, my friends---\n",
    "  It gives a lovely light!\n",
    "\"\"\"\n",
    "\n",
    "print(\"\")\n",
    "\n",
    "print(\"Address\")\n",
    "print(\"=======\")\n",
    "print(address)\n",
    "\n",
    "print(\"First Fig\")\n",
    "print(\"=========\")\n",
    "print(poem)\n",
    "\n",
    "\n",
    "# Characters\n",
    "chars = \"abc'DEF*&$\"\n",
    "print(chars)\n",
    "chars2 = '\\t\"abc\"\\ndef\\''\n",
    "print(chars2)\n",
    "\n",
    "# String \"arithmetic\"\n",
    "print(\"Concatenating strings\")\n",
    "name_and_uni = name + \" \" + university\n",
    "print(name_and_uni)\n",
    "\n",
    "print(\"\")\n",
    "print(\"\")\n",
    "print(\"Repeating strings\")\n",
    "lots_o_rice = university * 4\n",
    "print(lots_o_rice)\n",
    "\n",
    "# Using str\n",
    "num = 3.87\n",
    "strnum = str(num)\n",
    "print(\"number: \" + strnum)\n",
    "# print(\"number: \" + num)"
   ]
  },
  {
   "cell_type": "code",
   "execution_count": 2,
   "id": "cb393ffb",
   "metadata": {},
   "outputs": [
    {
     "name": "stdout",
     "output_type": "stream",
     "text": [
      "P\n",
      "h\n",
      "<class 'str'>\n",
      "<class 'str'>\n",
      "16\n",
      "!\n",
      "!\n",
      "h\n"
     ]
    }
   ],
   "source": [
    "\"\"\"\n",
    "String indexing examples.\n",
    "\"\"\"\n",
    "\n",
    "phrase = \"Python is great!\"\n",
    "\n",
    "# first character\n",
    "print(phrase[0])\n",
    "\n",
    "# fourth character\n",
    "fourth = phrase[3]\n",
    "print(fourth)\n",
    "print(type(phrase))\n",
    "print(type(fourth))\n",
    "\n",
    "# length of string\n",
    "phraselen = len(phrase)\n",
    "print(phraselen)\n",
    "\n",
    "# last character\n",
    "print(phrase[phraselen - 1])\n",
    "print(phrase[-1])\n",
    "\n",
    "# thirteenth from last (fourth) character\n",
    "print(phrase[-13])\n",
    "\n",
    "# Out of bounds\n",
    "#print(phrase[phraselen])\n",
    "#print(phrase[-20])\n",
    "\n",
    "# Indices\n",
    "# string = \"abcde\"\n",
    "# character   a  b  c  d  e\n",
    "# pos index   0  1  2  3  4\n",
    "# neg index  -5 -4 -3 -2 -1"
   ]
  },
  {
   "cell_type": "code",
   "execution_count": 3,
   "id": "976deff2",
   "metadata": {},
   "outputs": [
    {
     "name": "stdout",
     "output_type": "stream",
     "text": [
      "P\n"
     ]
    }
   ],
   "source": [
    "\"\"\"\n",
    "String indexing examples.\n",
    "\"\"\"\n",
    "\n",
    "phrase = \"Python is great!\"\n",
    "\n",
    "# first character\n",
    "print(phrase[0])"
   ]
  },
  {
   "cell_type": "code",
   "execution_count": 4,
   "id": "33769114",
   "metadata": {},
   "outputs": [
    {
     "name": "stdout",
     "output_type": "stream",
     "text": [
      "P\n",
      "h\n"
     ]
    }
   ],
   "source": [
    "\"\"\"\n",
    "String indexing examples.\n",
    "\"\"\"\n",
    "\n",
    "phrase = \"Python is great!\"\n",
    "\n",
    "# first character\n",
    "print(phrase[0])\n",
    "\n",
    "# fourth character\n",
    "fourth = phrase[3]\n",
    "print(fourth)"
   ]
  },
  {
   "cell_type": "code",
   "execution_count": 6,
   "id": "5c8eb306",
   "metadata": {},
   "outputs": [
    {
     "name": "stdout",
     "output_type": "stream",
     "text": [
      "<class 'str'>\n"
     ]
    }
   ],
   "source": [
    "print(type(phrase))"
   ]
  },
  {
   "cell_type": "code",
   "execution_count": 7,
   "id": "0a28e742",
   "metadata": {},
   "outputs": [
    {
     "name": "stdout",
     "output_type": "stream",
     "text": [
      "<class 'str'>\n"
     ]
    }
   ],
   "source": [
    "print(type(fourth))"
   ]
  },
  {
   "cell_type": "code",
   "execution_count": 8,
   "id": "3fbd0c64",
   "metadata": {},
   "outputs": [
    {
     "name": "stdout",
     "output_type": "stream",
     "text": [
      "16\n"
     ]
    }
   ],
   "source": [
    "# length of string\n",
    "phraselen = len(phrase)\n",
    "print(phraselen)"
   ]
  },
  {
   "cell_type": "code",
   "execution_count": 9,
   "id": "9b7ad6d0",
   "metadata": {},
   "outputs": [
    {
     "name": "stdout",
     "output_type": "stream",
     "text": [
      "!\n",
      "!\n"
     ]
    }
   ],
   "source": [
    "# last character\n",
    "print(phrase[phraselen - 1])\n",
    "print(phrase[-1])"
   ]
  },
  {
   "cell_type": "code",
   "execution_count": 10,
   "id": "5e1e3311",
   "metadata": {},
   "outputs": [
    {
     "name": "stdout",
     "output_type": "stream",
     "text": [
      "h\n"
     ]
    }
   ],
   "source": [
    "# thirteenth from last (fourth) character\n",
    "print(phrase[-13])"
   ]
  },
  {
   "cell_type": "code",
   "execution_count": 9,
   "id": "c11cb493",
   "metadata": {},
   "outputs": [
    {
     "ename": "IndexError",
     "evalue": "string index out of range",
     "output_type": "error",
     "traceback": [
      "\u001b[1;31m---------------------------------------------------------------------------\u001b[0m",
      "\u001b[1;31mIndexError\u001b[0m                                Traceback (most recent call last)",
      "\u001b[1;32m~\\AppData\\Local\\Temp/ipykernel_6608/3422029408.py\u001b[0m in \u001b[0;36m<module>\u001b[1;34m\u001b[0m\n\u001b[0;32m      1\u001b[0m \u001b[1;31m# Out of bounds\u001b[0m\u001b[1;33m\u001b[0m\u001b[1;33m\u001b[0m\u001b[0m\n\u001b[1;32m----> 2\u001b[1;33m \u001b[0mprint\u001b[0m\u001b[1;33m(\u001b[0m\u001b[0mphrase\u001b[0m\u001b[1;33m[\u001b[0m\u001b[0mphraselen\u001b[0m\u001b[1;33m]\u001b[0m\u001b[1;33m)\u001b[0m\u001b[1;33m\u001b[0m\u001b[1;33m\u001b[0m\u001b[0m\n\u001b[0m\u001b[0;32m      3\u001b[0m \u001b[0mprint\u001b[0m\u001b[1;33m(\u001b[0m\u001b[0mphrase\u001b[0m\u001b[1;33m[\u001b[0m\u001b[1;33m-\u001b[0m\u001b[1;36m20\u001b[0m\u001b[1;33m]\u001b[0m\u001b[1;33m)\u001b[0m\u001b[1;33m\u001b[0m\u001b[1;33m\u001b[0m\u001b[0m\n",
      "\u001b[1;31mIndexError\u001b[0m: string index out of range"
     ]
    }
   ],
   "source": [
    "# Out of bounds\n",
    "print(phrase[phraselen])\n",
    "print(phrase[-20])"
   ]
  },
  {
   "cell_type": "code",
   "execution_count": 10,
   "id": "f240bc72",
   "metadata": {},
   "outputs": [
    {
     "ename": "IndexError",
     "evalue": "string index out of range",
     "output_type": "error",
     "traceback": [
      "\u001b[1;31m---------------------------------------------------------------------------\u001b[0m",
      "\u001b[1;31mIndexError\u001b[0m                                Traceback (most recent call last)",
      "\u001b[1;32m~\\AppData\\Local\\Temp/ipykernel_6608/2738816825.py\u001b[0m in \u001b[0;36m<module>\u001b[1;34m\u001b[0m\n\u001b[1;32m----> 1\u001b[1;33m \u001b[0mprint\u001b[0m\u001b[1;33m(\u001b[0m\u001b[0mphrase\u001b[0m\u001b[1;33m[\u001b[0m\u001b[1;33m-\u001b[0m\u001b[1;36m20\u001b[0m\u001b[1;33m]\u001b[0m\u001b[1;33m)\u001b[0m\u001b[1;33m\u001b[0m\u001b[1;33m\u001b[0m\u001b[0m\n\u001b[0m",
      "\u001b[1;31mIndexError\u001b[0m: string index out of range"
     ]
    }
   ],
   "source": [
    "print(phrase[-20])"
   ]
  },
  {
   "cell_type": "code",
   "execution_count": 11,
   "id": "3582afb0",
   "metadata": {},
   "outputs": [
    {
     "name": "stdout",
     "output_type": "stream",
     "text": [
      "Finding lefts\n",
      "28 l\n",
      "102 l\n",
      "\n",
      "Finding rights\n",
      "54 r\n",
      "83 r\n",
      "\n",
      "Finding Rixner\n",
      "-1\n",
      "\n",
      "Counting substrings\n",
      "Number of lefts: 2\n",
      "Number of apples: 0\n",
      "\n",
      "True\n",
      "False\n"
     ]
    }
   ],
   "source": [
    "\"\"\"\n",
    "String searching examples.\n",
    "\"\"\"\n",
    "\n",
    "sentence = \"When I tell you pick up the \" + \\\n",
    "           \"left rock, it will be the \" + \\\n",
    "           \"right one, and then only \" + \\\n",
    "           \"the right rock will be left.\"\n",
    "\n",
    "# Finding strings within strings\n",
    "print(\"Finding lefts\")\n",
    "firstleft = sentence.find(\"left\")\n",
    "print(firstleft, sentence[firstleft])\n",
    "lastleft = sentence.rfind(\"left\")\n",
    "print(lastleft, sentence[lastleft])\n",
    "\n",
    "print(\"\")\n",
    "print(\"Finding rights\")\n",
    "firstright = sentence.index(\"right\")\n",
    "print(firstright, sentence[firstright])\n",
    "lastright = sentence.rindex(\"right\")\n",
    "print(lastright, sentence[lastright])\n",
    "\n",
    "print(\"\")\n",
    "print(\"Finding Rixner\")\n",
    "firstrixner1 = sentence.find(\"Rixner\")\n",
    "print(firstrixner1)\n",
    "# firstrixner2 = sentence.index(\"Rixner\")\n",
    "# print(firstrixner2)\n",
    "\n",
    "# Counting strings within strings\n",
    "print(\"\")\n",
    "print(\"Counting substrings\")\n",
    "print(\"Number of lefts:\", sentence.count(\"left\"))\n",
    "print(\"Number of apples:\", sentence.count(\"apple\"))\n",
    "\n",
    "# Checking start/ends\n",
    "print(\"\")\n",
    "print(sentence.startswith(\"When\"))\n",
    "print(sentence.endswith(\"The end.\"))"
   ]
  },
  {
   "cell_type": "code",
   "execution_count": 12,
   "id": "3492edd0",
   "metadata": {},
   "outputs": [
    {
     "name": "stdout",
     "output_type": "stream",
     "text": [
      "Finding lefts\n",
      "28 l\n",
      "102 l\n"
     ]
    }
   ],
   "source": [
    "\"\"\"\n",
    "String searching examples.\n",
    "\"\"\"\n",
    "\n",
    "sentence = \"When I tell you pick up the \" + \\\n",
    "           \"left rock, it will be the \" + \\\n",
    "           \"right one, and then only \" + \\\n",
    "           \"the right rock will be left.\"\n",
    "\n",
    "# Finding strings within strings\n",
    "print(\"Finding lefts\")\n",
    "firstleft = sentence.find(\"left\")\n",
    "print(firstleft, sentence[firstleft])\n",
    "lastleft = sentence.rfind(\"left\")\n",
    "print(lastleft, sentence[lastleft])\n"
   ]
  },
  {
   "cell_type": "code",
   "execution_count": 13,
   "id": "94b68c88",
   "metadata": {},
   "outputs": [
    {
     "name": "stdout",
     "output_type": "stream",
     "text": [
      "\n",
      "Finding rights\n",
      "54 r\n",
      "83 r\n"
     ]
    }
   ],
   "source": [
    "\n",
    "print(\"\")\n",
    "print(\"Finding rights\")\n",
    "firstright = sentence.index(\"right\")\n",
    "print(firstright, sentence[firstright])\n",
    "lastright = sentence.rindex(\"right\")\n",
    "print(lastright, sentence[lastright])"
   ]
  },
  {
   "cell_type": "code",
   "execution_count": 14,
   "id": "5ca2cea9",
   "metadata": {},
   "outputs": [
    {
     "name": "stdout",
     "output_type": "stream",
     "text": [
      "\n",
      "Finding Rixner\n",
      "-1\n"
     ]
    }
   ],
   "source": [
    "print(\"\")\n",
    "print(\"Finding Rixner\")\n",
    "firstrixner1 = sentence.find(\"Rixner\")\n",
    "print(firstrixner1)"
   ]
  },
  {
   "cell_type": "code",
   "execution_count": 15,
   "id": "7068fa5d",
   "metadata": {},
   "outputs": [
    {
     "ename": "ValueError",
     "evalue": "substring not found",
     "output_type": "error",
     "traceback": [
      "\u001b[1;31m---------------------------------------------------------------------------\u001b[0m",
      "\u001b[1;31mValueError\u001b[0m                                Traceback (most recent call last)",
      "\u001b[1;32m~\\AppData\\Local\\Temp/ipykernel_6608/3359749025.py\u001b[0m in \u001b[0;36m<module>\u001b[1;34m\u001b[0m\n\u001b[1;32m----> 1\u001b[1;33m \u001b[0mfirstrixner2\u001b[0m \u001b[1;33m=\u001b[0m \u001b[0msentence\u001b[0m\u001b[1;33m.\u001b[0m\u001b[0mindex\u001b[0m\u001b[1;33m(\u001b[0m\u001b[1;34m\"Rixner\"\u001b[0m\u001b[1;33m)\u001b[0m\u001b[1;33m\u001b[0m\u001b[1;33m\u001b[0m\u001b[0m\n\u001b[0m\u001b[0;32m      2\u001b[0m \u001b[0mprint\u001b[0m\u001b[1;33m(\u001b[0m\u001b[0mfirstrixner2\u001b[0m\u001b[1;33m)\u001b[0m\u001b[1;33m\u001b[0m\u001b[1;33m\u001b[0m\u001b[0m\n",
      "\u001b[1;31mValueError\u001b[0m: substring not found"
     ]
    }
   ],
   "source": [
    "firstrixner2 = sentence.index(\"Rixner\")\n",
    "print(firstrixner2)"
   ]
  },
  {
   "cell_type": "code",
   "execution_count": 16,
   "id": "1c6908e4",
   "metadata": {},
   "outputs": [
    {
     "name": "stdout",
     "output_type": "stream",
     "text": [
      "\n",
      "Counting substrings\n",
      "Number of lefts: 2\n",
      "Number of apples: 0\n"
     ]
    }
   ],
   "source": [
    "# Counting strings within strings\n",
    "print(\"\")\n",
    "print(\"Counting substrings\")\n",
    "print(\"Number of lefts:\", sentence.count(\"left\"))\n",
    "print(\"Number of apples:\", sentence.count(\"apple\"))"
   ]
  },
  {
   "cell_type": "code",
   "execution_count": 17,
   "id": "4514b374",
   "metadata": {},
   "outputs": [
    {
     "name": "stdout",
     "output_type": "stream",
     "text": [
      "\n",
      "True\n",
      "False\n"
     ]
    }
   ],
   "source": [
    "# Checking start/ends\n",
    "print(\"\")\n",
    "print(sentence.startswith(\"When\"))\n",
    "print(sentence.endswith(\"The end.\"))"
   ]
  },
  {
   "cell_type": "code",
   "execution_count": 18,
   "id": "69fb3d51",
   "metadata": {},
   "outputs": [
    {
     "name": "stdout",
     "output_type": "stream",
     "text": [
      "very\n",
      "thin\n",
      "thing\n",
      "ever\n",
      "ing\n",
      "eryth\n",
      "ng\n",
      "$^\n",
      "\n",
      "\n"
     ]
    }
   ],
   "source": [
    "\"\"\"\n",
    "Slicing strings.\n",
    "\"\"\"\n",
    "\n",
    "word = \"everything\"\n",
    "\n",
    "# Selecting substrings\n",
    "print(word[1:5])\n",
    "print(word[5:9])\n",
    "\n",
    "# Open ended slices\n",
    "print(word[5:])\n",
    "print(word[:4])\n",
    "\n",
    "# Using negative indices\n",
    "print(word[-3:])\n",
    "print(word[2:-3])\n",
    "\n",
    "# Indexing past the end\n",
    "print(word[8:20])\n",
    "print(\"$\" + word[22:29] + \"^\")\n",
    "\n",
    "# Empty slices\n",
    "print(word[6:6])\n",
    "print(word[4:2])"
   ]
  },
  {
   "cell_type": "code",
   "execution_count": 19,
   "id": "3180fb6d",
   "metadata": {},
   "outputs": [
    {
     "name": "stdout",
     "output_type": "stream",
     "text": [
      "very\n",
      "thin\n"
     ]
    }
   ],
   "source": [
    "\"\"\"\n",
    "Slicing strings.\n",
    "\"\"\"\n",
    "\n",
    "word = \"everything\"\n",
    "\n",
    "# Selecting substrings\n",
    "print(word[1:5])\n",
    "print(word[5:9])"
   ]
  },
  {
   "cell_type": "code",
   "execution_count": 20,
   "id": "b7f128ab",
   "metadata": {},
   "outputs": [
    {
     "name": "stdout",
     "output_type": "stream",
     "text": [
      "thing\n",
      "ever\n"
     ]
    }
   ],
   "source": [
    "# Open ended slices\n",
    "print(word[5:])\n",
    "print(word[:4])"
   ]
  },
  {
   "cell_type": "code",
   "execution_count": 21,
   "id": "de73cfa3",
   "metadata": {},
   "outputs": [
    {
     "name": "stdout",
     "output_type": "stream",
     "text": [
      "ing\n",
      "eryth\n"
     ]
    }
   ],
   "source": [
    "# Using negative indices\n",
    "print(word[-3:])\n",
    "print(word[2:-3])"
   ]
  },
  {
   "cell_type": "code",
   "execution_count": 22,
   "id": "95b55feb",
   "metadata": {},
   "outputs": [
    {
     "name": "stdout",
     "output_type": "stream",
     "text": [
      "ng\n",
      "$^\n"
     ]
    }
   ],
   "source": [
    "# Indexing past the end\n",
    "print(word[8:20])\n",
    "print(\"$\" + word[22:29] + \"^\")\n"
   ]
  },
  {
   "cell_type": "code",
   "execution_count": 23,
   "id": "94509890",
   "metadata": {},
   "outputs": [
    {
     "name": "stdout",
     "output_type": "stream",
     "text": [
      "\n",
      "\n"
     ]
    }
   ],
   "source": [
    "# Empty slices\n",
    "print(word[6:6])\n",
    "print(word[4:2])"
   ]
  },
  {
   "cell_type": "code",
   "execution_count": 25,
   "id": "9de06285",
   "metadata": {},
   "outputs": [
    {
     "name": "stdout",
     "output_type": "stream",
     "text": [
      "13\n",
      "17\n"
     ]
    }
   ],
   "source": [
    "#Write a function count_vowels(word) that takes the string word as input and \n",
    "#returns the number of occurrences of lowercase vowels (i.e. the lowercase letters \"aeiou\") \n",
    "#in word. Hint: Python has a built-in string method that can count the number of occurrences \n",
    "#of a letter in a strin.\n",
    "\n",
    "def count_vowels(word):\n",
    "    total = 0\n",
    "    for i in word:\n",
    "        if i in 'aeiou':\n",
    "            total += 1\n",
    "    return total\n",
    "print(count_vowels(\"aaassseefffgggiiijjjoOOkkkuuuu\"))\n",
    "print(count_vowels(\"aovvouOucvicIIOveeOIclOeuvvauouuvciOIsle\"))"
   ]
  },
  {
   "cell_type": "code",
   "execution_count": 26,
   "id": "04897f98",
   "metadata": {},
   "outputs": [
    {
     "name": "stdout",
     "output_type": "stream",
     "text": [
      "aaabbbabababbbbaaa\n",
      "bbbababbabbaaabaaabaaabbbbbaabbabaababbb\n"
     ]
    }
   ],
   "source": [
    "#Write a function demystify(l1_string) that takes a string composed of the characters \n",
    "#\"l\" and \"1\" and returns the string formed by replacing each instance of \"l\" by \"a\"\n",
    "# and each instance of \"1\" by \"b\".\n",
    "\n",
    "def demystify(key):\n",
    "    key = key.replace('1', 'b',)\n",
    "    key =  key.replace('l', 'a',)\n",
    "    return key\n",
    "print(demystify(\"lll111l1l1l1111lll\"))\n",
    "print(demystify(\"111l1l11l11lll1lll1lll11111ll11l1ll1l111\"))"
   ]
  },
  {
   "cell_type": "code",
   "execution_count": null,
   "id": "6c896069",
   "metadata": {},
   "outputs": [],
   "source": []
  }
 ],
 "metadata": {
  "kernelspec": {
   "display_name": "Python 3 (ipykernel)",
   "language": "python",
   "name": "python3"
  },
  "language_info": {
   "codemirror_mode": {
    "name": "ipython",
    "version": 3
   },
   "file_extension": ".py",
   "mimetype": "text/x-python",
   "name": "python",
   "nbconvert_exporter": "python",
   "pygments_lexer": "ipython3",
   "version": "3.9.7"
  }
 },
 "nbformat": 4,
 "nbformat_minor": 5
}
