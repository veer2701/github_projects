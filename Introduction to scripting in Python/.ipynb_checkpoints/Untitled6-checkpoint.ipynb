{
 "cells": [
  {
   "cell_type": "code",
   "execution_count": 1,
   "id": "00b8a54e",
   "metadata": {},
   "outputs": [
    {
     "name": "stdout",
     "output_type": "stream",
     "text": [
      "Dictionary Literals\n",
      "===================\n",
      "{}\n",
      "{1: 2}\n",
      "{1: 1, 2: 4, 3: 9, 4: 16}\n",
      "{'p': 'o', 'y': 'h', 't': 'n', 'h': 't', 'o': 'y', 'n': 'p'}\n",
      "{'Rixner': True, 'Warren': False}\n",
      "{'China': ['Shanghai', 'Beijing'], 'USA': ['New York', 'Los Angeles'], 'Spain': ['Madrid', 'Barcelona'], 'Australia': ['Sydney', 'Melbourne'], 'Texas': ['Houston', 'San Antonio']}\n",
      "\n",
      "Creating Dictionaries\n",
      "=====================\n",
      "{}\n",
      "{1: 'one', 2: 'two', 3: 'three'}\n",
      "{'p': 'o', 'y': 'h', 't': 'n', 'h': 't', 'o': 'y', 'n': 'p'}\n"
     ]
    }
   ],
   "source": [
    "\"\"\"\n",
    "Dictionary creation.\n",
    "\"\"\"\n",
    "\n",
    "print(\"Dictionary Literals\")\n",
    "print(\"===================\")\n",
    "\n",
    "# Dictionary literals\n",
    "empty = {}\n",
    "print(empty)\n",
    "\n",
    "simple = {1: 2}\n",
    "print(simple)\n",
    "\n",
    "squares = {1: 1, 2: 4, 3: 9, 4: 16}\n",
    "print(squares)\n",
    "\n",
    "cipher = {'p': 'o', 'y': 'h', 't': 'n',\n",
    "          'h': 't', 'o': 'y', 'n': 'p'} \n",
    "print(cipher)\n",
    "\n",
    "goodinstructors = {'Rixner': True, 'Warren': False}\n",
    "print(goodinstructors)\n",
    "\n",
    "cities = {'China': ['Shanghai', 'Beijing'],\n",
    "          'USA': ['New York', 'Los Angeles'],\n",
    "          'Spain': ['Madrid', 'Barcelona'],\n",
    "          'Australia': ['Sydney', 'Melbourne'],\n",
    "          'Texas': ['Houston', 'San Antonio']}\n",
    "print(cities)\n",
    "\n",
    "print(\"\")\n",
    "print(\"Creating Dictionaries\")\n",
    "print(\"=====================\")\n",
    "\n",
    "empty2 = dict()\n",
    "print(empty2)\n",
    "\n",
    "data = [(1, 'one'), (2, 'two'), (3, 'three')]\n",
    "names = dict(data)\n",
    "print(names)\n",
    "\n",
    "cipher2 = dict(cipher)\n",
    "print(cipher2)\n"
   ]
  },
  {
   "cell_type": "code",
   "execution_count": 2,
   "id": "329b2d9b",
   "metadata": {},
   "outputs": [
    {
     "name": "stdout",
     "output_type": "stream",
     "text": [
      "Dictionary Literals\n",
      "===================\n",
      "{}\n",
      "{1: 2}\n",
      "{1: 1, 2: 4, 3: 9, 4: 16}\n"
     ]
    }
   ],
   "source": [
    "\"\"\"\n",
    "Dictionary creation.\n",
    "\"\"\"\n",
    "\n",
    "print(\"Dictionary Literals\")\n",
    "print(\"===================\")\n",
    "\n",
    "# Dictionary literals\n",
    "empty = {}\n",
    "print(empty)\n",
    "\n",
    "simple = {1: 2}\n",
    "print(simple)\n",
    "\n",
    "squares = {1: 1, 2: 4, 3: 9, 4: 16}\n",
    "print(squares)"
   ]
  },
  {
   "cell_type": "code",
   "execution_count": 3,
   "id": "15f992b7",
   "metadata": {},
   "outputs": [
    {
     "name": "stdout",
     "output_type": "stream",
     "text": [
      "{'p': 'o', 'y': 'h', 't': 'n', 'h': 't', 'o': 'y', 'n': 'p'}\n"
     ]
    }
   ],
   "source": [
    "cipher = {'p': 'o', 'y': 'h', 't': 'n',\n",
    "          'h': 't', 'o': 'y', 'n': 'p'} \n",
    "print(cipher)\n"
   ]
  },
  {
   "cell_type": "code",
   "execution_count": 4,
   "id": "f9167b5a",
   "metadata": {},
   "outputs": [
    {
     "name": "stdout",
     "output_type": "stream",
     "text": [
      "{'Rixner': True, 'Warren': False}\n"
     ]
    }
   ],
   "source": [
    "goodinstructors = {'Rixner': True, 'Warren': False}\n",
    "print(goodinstructors)"
   ]
  },
  {
   "cell_type": "code",
   "execution_count": 5,
   "id": "52445d87",
   "metadata": {},
   "outputs": [
    {
     "name": "stdout",
     "output_type": "stream",
     "text": [
      "{'China': ['Shanghai', 'Beijing'], 'USA': ['New York', 'Los Angeles'], 'Spain': ['Madrid', 'Barcelona'], 'Australia': ['Sydney', 'Melbourne'], 'Texas': ['Houston', 'San Antonio']}\n"
     ]
    }
   ],
   "source": [
    "cities = {'China': ['Shanghai', 'Beijing'],\n",
    "          'USA': ['New York', 'Los Angeles'],\n",
    "          'Spain': ['Madrid', 'Barcelona'],\n",
    "          'Australia': ['Sydney', 'Melbourne'],\n",
    "          'Texas': ['Houston', 'San Antonio']}\n",
    "print(cities)"
   ]
  },
  {
   "cell_type": "code",
   "execution_count": 6,
   "id": "ea9fed29",
   "metadata": {},
   "outputs": [
    {
     "name": "stdout",
     "output_type": "stream",
     "text": [
      "\n",
      "Creating Dictionaries\n",
      "=====================\n",
      "{}\n"
     ]
    }
   ],
   "source": [
    "print(\"\")\n",
    "print(\"Creating Dictionaries\")\n",
    "print(\"=====================\")\n",
    "\n",
    "empty2 = dict()\n",
    "print(empty2)"
   ]
  },
  {
   "cell_type": "code",
   "execution_count": 7,
   "id": "4ad35559",
   "metadata": {},
   "outputs": [
    {
     "name": "stdout",
     "output_type": "stream",
     "text": [
      "{1: 'one', 2: 'two', 3: 'three'}\n"
     ]
    }
   ],
   "source": [
    "data = [(1, 'one'), (2, 'two'), (3, 'three')]\n",
    "names = dict(data)\n",
    "print(names)"
   ]
  },
  {
   "cell_type": "code",
   "execution_count": 8,
   "id": "54ce402e",
   "metadata": {},
   "outputs": [
    {
     "name": "stdout",
     "output_type": "stream",
     "text": [
      "{'p': 'o', 'y': 'h', 't': 'n', 'h': 't', 'o': 'y', 'n': 'p'}\n"
     ]
    }
   ],
   "source": [
    "cipher2 = dict(cipher)\n",
    "print(cipher2)"
   ]
  },
  {
   "cell_type": "code",
   "execution_count": 9,
   "id": "d787ec0e",
   "metadata": {},
   "outputs": [
    {
     "name": "stdout",
     "output_type": "stream",
     "text": [
      "Dictionary Lookup\n",
      "=================\n",
      "{'p': 'o', 'y': 'h', 't': 'n', 'h': 't', 'o': 'y', 'n': 'p'}\n",
      "n\n",
      "p\n",
      "python ohntyp\n",
      "n\n",
      "None\n",
      "z\n",
      "\n",
      "Dictionary Update\n",
      "=================\n",
      "{'p': 'o', 'y': 'h', 't': 'n', 'h': 't', 'o': 'y', 'n': 'p'}\n",
      "{'p': 'q', 'y': 'h', 't': 'n', 'h': 't', 'o': 'y', 'n': 'p'}\n",
      "{'p': 'q', 'y': 'h', 't': 'n', 'h': 't', 'o': 'y', 'n': 'p', 'r': 'z'}\n",
      "python ohntyp qhntyp\n"
     ]
    }
   ],
   "source": [
    "\"\"\"\n",
    "Dictionary lookup and update.\n",
    "\"\"\"\n",
    "\n",
    "\n",
    "print(\"Dictionary Lookup\")\n",
    "print(\"=================\")\n",
    "\n",
    "cipher = {'p': 'o', 'y': 'h', 't': 'n',\n",
    "          'h': 't', 'o': 'y', 'n': 'p'} \n",
    "print(cipher)\n",
    "\n",
    "# Use indexing with keys to access values\n",
    "print(cipher['t'])\n",
    "print(cipher['n'])\n",
    "\n",
    "def encrypt(cipher, word):\n",
    "    \"\"\"encrypt word using cipher\"\"\"\n",
    "    encrypted = \"\"\n",
    "    for char in word:\n",
    "        encrypted += cipher[char]\n",
    "    return encrypted\n",
    "\n",
    "python = \"python\"\n",
    "enc = encrypt(cipher, python)\n",
    "print(python, enc)\n",
    "\n",
    "# It is an error to use a non-existent key\n",
    "# print(cipher[1])\n",
    "\n",
    "# Use .get when you are unsure if the key exists\n",
    "print(cipher.get('t'))\n",
    "print(cipher.get(1))\n",
    "print(cipher.get(1, 'z'))\n",
    "\n",
    "print(\"\")\n",
    "print(\"Dictionary Update\")\n",
    "print(\"=================\")\n",
    "\n",
    "print(cipher)\n",
    "\n",
    "# Modify an existing key->value mapping\n",
    "cipher['p'] = 'q'\n",
    "print(cipher)\n",
    "\n",
    "# Create a new key->value mapping\n",
    "cipher['r'] = 'z'\n",
    "print(cipher)\n",
    "\n",
    "enc2 = encrypt(cipher, python)\n",
    "print(python, enc, enc2)"
   ]
  },
  {
   "cell_type": "code",
   "execution_count": 10,
   "id": "4d1dee47",
   "metadata": {},
   "outputs": [
    {
     "name": "stdout",
     "output_type": "stream",
     "text": [
      "Dictionary Lookup\n",
      "=================\n",
      "{'p': 'o', 'y': 'h', 't': 'n', 'h': 't', 'o': 'y', 'n': 'p'}\n",
      "n\n",
      "p\n"
     ]
    }
   ],
   "source": [
    "\"\"\"\n",
    "Dictionary lookup and update.\n",
    "\"\"\"\n",
    "\n",
    "\n",
    "print(\"Dictionary Lookup\")\n",
    "print(\"=================\")\n",
    "\n",
    "cipher = {'p': 'o', 'y': 'h', 't': 'n',\n",
    "          'h': 't', 'o': 'y', 'n': 'p'} \n",
    "print(cipher)\n",
    "\n",
    "# Use indexing with keys to access values\n",
    "print(cipher['t'])\n",
    "print(cipher['n'])\n",
    "\n",
    "def encrypt(cipher, word):\n",
    "    \"\"\"encrypt word using cipher\"\"\"\n",
    "    encrypted = \"\"\n",
    "    for char in word:\n",
    "        encrypted += cipher[char]\n",
    "    return encrypted"
   ]
  },
  {
   "cell_type": "code",
   "execution_count": 11,
   "id": "3593f83c",
   "metadata": {},
   "outputs": [
    {
     "name": "stdout",
     "output_type": "stream",
     "text": [
      "python ohntyp\n"
     ]
    }
   ],
   "source": [
    "python = \"python\"\n",
    "enc = encrypt(cipher, python)\n",
    "print(python, enc)"
   ]
  },
  {
   "cell_type": "code",
   "execution_count": 30,
   "id": "25df25b1",
   "metadata": {},
   "outputs": [
    {
     "ename": "KeyError",
     "evalue": "1",
     "output_type": "error",
     "traceback": [
      "\u001b[1;31m---------------------------------------------------------------------------\u001b[0m",
      "\u001b[1;31mKeyError\u001b[0m                                  Traceback (most recent call last)",
      "\u001b[1;32m~\\AppData\\Local\\Temp/ipykernel_15156/2620212456.py\u001b[0m in \u001b[0;36m<module>\u001b[1;34m\u001b[0m\n\u001b[0;32m      1\u001b[0m \u001b[1;31m# It is an error to use a non-existent key\u001b[0m\u001b[1;33m\u001b[0m\u001b[1;33m\u001b[0m\u001b[0m\n\u001b[1;32m----> 2\u001b[1;33m \u001b[0mprint\u001b[0m\u001b[1;33m(\u001b[0m\u001b[0mcipher\u001b[0m\u001b[1;33m[\u001b[0m\u001b[1;36m1\u001b[0m\u001b[1;33m]\u001b[0m\u001b[1;33m)\u001b[0m\u001b[1;33m\u001b[0m\u001b[1;33m\u001b[0m\u001b[0m\n\u001b[0m",
      "\u001b[1;31mKeyError\u001b[0m: 1"
     ]
    }
   ],
   "source": [
    "# It is an error to use a non-existent key\n",
    "print(cipher[1])"
   ]
  },
  {
   "cell_type": "code",
   "execution_count": 13,
   "id": "cb3f69bc",
   "metadata": {},
   "outputs": [
    {
     "name": "stdout",
     "output_type": "stream",
     "text": [
      "n\n",
      "None\n",
      "z\n"
     ]
    }
   ],
   "source": [
    "# Use .get when you are unsure if the key exists\n",
    "print(cipher.get('t'))\n",
    "print(cipher.get(1))\n",
    "print(cipher.get(1, 'z'))\n"
   ]
  },
  {
   "cell_type": "code",
   "execution_count": 14,
   "id": "e6b7abe3",
   "metadata": {},
   "outputs": [
    {
     "name": "stdout",
     "output_type": "stream",
     "text": [
      "\n",
      "Dictionary Update\n",
      "=================\n",
      "{'p': 'o', 'y': 'h', 't': 'n', 'h': 't', 'o': 'y', 'n': 'p'}\n",
      "{'p': 'q', 'y': 'h', 't': 'n', 'h': 't', 'o': 'y', 'n': 'p'}\n"
     ]
    }
   ],
   "source": [
    "print(\"\")\n",
    "print(\"Dictionary Update\")\n",
    "print(\"=================\")\n",
    "\n",
    "print(cipher)\n",
    "\n",
    "# Modify an existing key->value mapping\n",
    "cipher['p'] = 'q'\n",
    "print(cipher)"
   ]
  },
  {
   "cell_type": "code",
   "execution_count": 15,
   "id": "e9fca786",
   "metadata": {},
   "outputs": [
    {
     "name": "stdout",
     "output_type": "stream",
     "text": [
      "{'p': 'q', 'y': 'h', 't': 'n', 'h': 't', 'o': 'y', 'n': 'p', 'r': 'z'}\n"
     ]
    }
   ],
   "source": [
    "# Create a new key->value mapping\n",
    "cipher['r'] = 'z'\n",
    "print(cipher)"
   ]
  },
  {
   "cell_type": "code",
   "execution_count": 16,
   "id": "445c3441",
   "metadata": {},
   "outputs": [
    {
     "name": "stdout",
     "output_type": "stream",
     "text": [
      "python ohntyp qhntyp\n"
     ]
    }
   ],
   "source": [
    "enc2 = encrypt(cipher, python)\n",
    "print(python, enc, enc2)"
   ]
  },
  {
   "cell_type": "code",
   "execution_count": 17,
   "id": "bfbf40c8",
   "metadata": {},
   "outputs": [
    {
     "name": "stdout",
     "output_type": "stream",
     "text": [
      "Using 'in'\n",
      "==========\n",
      "True\n",
      "True\n",
      "False\n",
      "False\n",
      "True\n",
      "False\n",
      "\n",
      "Protecting from Errors\n",
      "======================\n",
      "8 -3\n",
      "14 not in mapping\n",
      "22 17\n",
      "25 not in mapping\n",
      "Issues with Keys\n",
      "================\n",
      "{4.0: 2, 'a': 3, True: 'true', False: 9}\n",
      "{4.0: 2, 'a': 3, True: 7, False: 9}\n",
      "{4.0: 2, 'a': 3, True: 7, False: 'false'}\n",
      "{4.0: 7, 'a': 3, True: 7, False: 'false'}\n",
      "{4.0: 7, 'a': 3, True: 7, False: 'false', 'A': 'abc'}\n"
     ]
    }
   ],
   "source": [
    "\"\"\"\n",
    "Checking for keys in a dictionary.\n",
    "\"\"\"\n",
    "\n",
    "print(\"Using 'in'\")\n",
    "print(\"==========\")\n",
    "\n",
    "mapping = {1: 5, 8: -3, 7: 22, 4: 13, 22: 17}\n",
    "\n",
    "# Keys\n",
    "print(1 in mapping)\n",
    "print(8 in mapping)\n",
    "\n",
    "# Values\n",
    "print(5 in mapping)\n",
    "print(-3 in mapping)\n",
    "\n",
    "# Both\n",
    "print(22 in mapping)\n",
    "\n",
    "# Neither\n",
    "print(82 in mapping)\n",
    "\n",
    "print(\"\")\n",
    "\n",
    "print(\"Protecting from Errors\")\n",
    "print(\"======================\")\n",
    "\n",
    "keys = [8, 14, 22, 25]\n",
    "\n",
    "#for key in keys:\n",
    "#    print(key, mapping[key])\n",
    "\n",
    "for key in keys:\n",
    "    if key in mapping:\n",
    "        print(key, mapping[key])\n",
    "    else:\n",
    "        print(\"{} not in mapping\".format(key))\n",
    "\n",
    "\n",
    "print(\"Issues with Keys\")\n",
    "print(\"================\")\n",
    "        \n",
    "# Be careful with what you use as keys!\n",
    "# If all keys are of the same type, you won't run\n",
    "#  into these issues\n",
    "mapping = {4.0: 2, 'a': 3, True: 'true', False: 9}\n",
    "print(mapping)\n",
    "\n",
    "mapping[1] = 7\n",
    "print(mapping)\n",
    "\n",
    "mapping[0] = 'false'\n",
    "print(mapping)\n",
    "\n",
    "mapping[4] = 7\n",
    "print(mapping)\n",
    "\n",
    "mapping['A'] = 'abc'\n",
    "print(mapping)"
   ]
  },
  {
   "cell_type": "code",
   "execution_count": 18,
   "id": "7af0bec2",
   "metadata": {},
   "outputs": [
    {
     "name": "stdout",
     "output_type": "stream",
     "text": [
      "Using 'in'\n",
      "==========\n",
      "True\n",
      "True\n"
     ]
    }
   ],
   "source": [
    "\"\"\"\n",
    "Checking for keys in a dictionary.\n",
    "\"\"\"\n",
    "\n",
    "print(\"Using 'in'\")\n",
    "print(\"==========\")\n",
    "\n",
    "mapping = {1: 5, 8: -3, 7: 22, 4: 13, 22: 17}\n",
    "\n",
    "# Keys\n",
    "print(1 in mapping)\n",
    "print(8 in mapping)"
   ]
  },
  {
   "cell_type": "code",
   "execution_count": 19,
   "id": "93b3f1e9",
   "metadata": {},
   "outputs": [
    {
     "name": "stdout",
     "output_type": "stream",
     "text": [
      "False\n",
      "False\n"
     ]
    }
   ],
   "source": [
    "# Values\n",
    "print(5 in mapping)\n",
    "print(-3 in mapping)"
   ]
  },
  {
   "cell_type": "code",
   "execution_count": 20,
   "id": "53ef79c6",
   "metadata": {},
   "outputs": [
    {
     "name": "stdout",
     "output_type": "stream",
     "text": [
      "True\n"
     ]
    }
   ],
   "source": [
    "# Both\n",
    "print(22 in mapping)"
   ]
  },
  {
   "cell_type": "code",
   "execution_count": 21,
   "id": "48153b1f",
   "metadata": {},
   "outputs": [
    {
     "name": "stdout",
     "output_type": "stream",
     "text": [
      "False\n",
      "\n"
     ]
    }
   ],
   "source": [
    "# Neither\n",
    "print(82 in mapping)\n",
    "\n",
    "print(\"\")"
   ]
  },
  {
   "cell_type": "code",
   "execution_count": 23,
   "id": "94251c00",
   "metadata": {},
   "outputs": [
    {
     "name": "stdout",
     "output_type": "stream",
     "text": [
      "Protecting from Errors\n",
      "======================\n"
     ]
    }
   ],
   "source": [
    "print(\"Protecting from Errors\")\n",
    "print(\"======================\")\n",
    "\n",
    "keys = [8, 14, 22, 25]"
   ]
  },
  {
   "cell_type": "code",
   "execution_count": 24,
   "id": "27cc81e8",
   "metadata": {},
   "outputs": [
    {
     "name": "stdout",
     "output_type": "stream",
     "text": [
      "8 -3\n",
      "14 not in mapping\n",
      "22 17\n",
      "25 not in mapping\n"
     ]
    }
   ],
   "source": [
    "for key in keys:\n",
    "    if key in mapping:\n",
    "        print(key, mapping[key])\n",
    "    else:\n",
    "        print(\"{} not in mapping\".format(key))"
   ]
  },
  {
   "cell_type": "code",
   "execution_count": 25,
   "id": "2aa6c2f4",
   "metadata": {},
   "outputs": [
    {
     "name": "stdout",
     "output_type": "stream",
     "text": [
      "Issues with Keys\n",
      "================\n",
      "{4.0: 2, 'a': 3, True: 'true', False: 9}\n"
     ]
    }
   ],
   "source": [
    "print(\"Issues with Keys\")\n",
    "print(\"================\")\n",
    "        \n",
    "# Be careful with what you use as keys!\n",
    "# If all keys are of the same type, you won't run\n",
    "#  into these issues\n",
    "mapping = {4.0: 2, 'a': 3, True: 'true', False: 9}\n",
    "print(mapping)"
   ]
  },
  {
   "cell_type": "code",
   "execution_count": 26,
   "id": "4830d899",
   "metadata": {},
   "outputs": [
    {
     "name": "stdout",
     "output_type": "stream",
     "text": [
      "{4.0: 2, 'a': 3, True: 7, False: 9}\n"
     ]
    }
   ],
   "source": [
    "mapping[1] = 7\n",
    "print(mapping)"
   ]
  },
  {
   "cell_type": "code",
   "execution_count": 27,
   "id": "d8cd3196",
   "metadata": {},
   "outputs": [
    {
     "name": "stdout",
     "output_type": "stream",
     "text": [
      "{4.0: 2, 'a': 3, True: 7, False: 'false'}\n"
     ]
    }
   ],
   "source": [
    "mapping[0] = 'false'\n",
    "print(mapping)"
   ]
  },
  {
   "cell_type": "code",
   "execution_count": 28,
   "id": "01507584",
   "metadata": {},
   "outputs": [
    {
     "name": "stdout",
     "output_type": "stream",
     "text": [
      "{4.0: 7, 'a': 3, True: 7, False: 'false'}\n"
     ]
    }
   ],
   "source": [
    "mapping[4] = 7\n",
    "print(mapping)"
   ]
  },
  {
   "cell_type": "code",
   "execution_count": 29,
   "id": "48918ef1",
   "metadata": {},
   "outputs": [
    {
     "name": "stdout",
     "output_type": "stream",
     "text": [
      "{4.0: 7, 'a': 3, True: 7, False: 'false', 'A': 'abc'}\n"
     ]
    }
   ],
   "source": [
    "mapping['A'] = 'abc'\n",
    "print(mapping)"
   ]
  },
  {
   "cell_type": "code",
   "execution_count": 32,
   "id": "f5ab9ac4",
   "metadata": {},
   "outputs": [],
   "source": [
    "def count_letters(word_list):\n",
    "    \"\"\" See question description \"\"\"\n",
    "    \n",
    "    ALPHABET = \"abcdefghijklmnopqrstuvwxyz\"\n",
    "\n",
    "    letter_count = {}\n",
    "    for letter in ALPHABET:\n",
    "        letter_count[letter] = 0\n",
    "        \n",
    "    # enter code here\n",
    "    \n",
    "monty_quote = \"listen strange women lying in ponds distributing swords is no basis for a system of government supreme executive power derives from a mandate from the masses not from some farcical aquatic ceremony\"\n",
    "\n",
    "monty_words = monty_quote.split(\" \")"
   ]
  },
  {
   "cell_type": "code",
   "execution_count": 35,
   "id": "a986153d",
   "metadata": {},
   "outputs": [
    {
     "data": {
      "text/plain": [
       "['listen',\n",
       " 'strange',\n",
       " 'women',\n",
       " 'lying',\n",
       " 'in',\n",
       " 'ponds',\n",
       " 'distributing',\n",
       " 'swords',\n",
       " 'is',\n",
       " 'no',\n",
       " 'basis',\n",
       " 'for',\n",
       " 'a',\n",
       " 'system',\n",
       " 'of',\n",
       " 'government',\n",
       " 'supreme',\n",
       " 'executive',\n",
       " 'power',\n",
       " 'derives',\n",
       " 'from',\n",
       " 'a',\n",
       " 'mandate',\n",
       " 'from',\n",
       " 'the',\n",
       " 'masses',\n",
       " 'not',\n",
       " 'from',\n",
       " 'some',\n",
       " 'farcical',\n",
       " 'aquatic',\n",
       " 'ceremony']"
      ]
     },
     "execution_count": 35,
     "metadata": {},
     "output_type": "execute_result"
    }
   ],
   "source": [
    "monty_words"
   ]
  },
  {
   "cell_type": "code",
   "execution_count": 34,
   "id": "07e9cea0",
   "metadata": {},
   "outputs": [],
   "source": [
    "count_letters(monty_words)"
   ]
  }
 ],
 "metadata": {
  "kernelspec": {
   "display_name": "Python 3 (ipykernel)",
   "language": "python",
   "name": "python3"
  },
  "language_info": {
   "codemirror_mode": {
    "name": "ipython",
    "version": 3
   },
   "file_extension": ".py",
   "mimetype": "text/x-python",
   "name": "python",
   "nbconvert_exporter": "python",
   "pygments_lexer": "ipython3",
   "version": "3.9.7"
  }
 },
 "nbformat": 4,
 "nbformat_minor": 5
}
