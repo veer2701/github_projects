{
 "cells": [
  {
   "cell_type": "code",
   "execution_count": 1,
   "id": "0a52306d",
   "metadata": {},
   "outputs": [
    {
     "name": "stdout",
     "output_type": "stream",
     "text": [
      "List Literals\n",
      "=============\n",
      "[]\n",
      "[1, 5, 8, 3, 2]\n",
      "['a', 'z', 'c', 'q', 'c', 'a']\n",
      "['python', 'java', 'javascript', 'lisp', 'c++', 'haskell']\n",
      "['a', 1, True]\n",
      "\n",
      "Creating Lists\n",
      "==============\n",
      "[]\n",
      "range(0, 5)\n",
      "[0, 1, 2, 3, 4]\n",
      "range(7, 13) [7, 8, 9, 10, 11, 12]\n",
      "range(4, 27, 5) [4, 9, 14, 19, 24]\n",
      "range(9, 2, -1) [9, 8, 7, 6, 5, 4, 3]\n"
     ]
    }
   ],
   "source": [
    "\"\"\"\n",
    "List creation.\n",
    "\"\"\"\n",
    "\n",
    "print(\"List Literals\")\n",
    "print(\"=============\")\n",
    "\n",
    "# List literals\n",
    "empty = []\n",
    "print(empty)\n",
    "\n",
    "numbers = [1, 5, 8, 3, 2]\n",
    "print(numbers)\n",
    "\n",
    "letters = [\"a\", \"z\", \"c\", \"q\", \"c\", \"a\"]\n",
    "print(letters)\n",
    "\n",
    "languages = [\"python\", \"java\", \"javascript\", \"lisp\", \"c++\", \"haskell\"]\n",
    "print(languages)\n",
    "\n",
    "# Don't mix types in a list!\n",
    "mixed = [\"a\", 1, True]\n",
    "print(mixed)\n",
    "\n",
    "print(\"\")\n",
    "print(\"Creating Lists\")\n",
    "print(\"==============\")\n",
    "\n",
    "mylist = list()\n",
    "print(mylist)\n",
    "\n",
    "seq = range(5)\n",
    "print(seq)\n",
    "\n",
    "seqlst = list(seq)\n",
    "print(seqlst)\n",
    "\n",
    "seq2 = range(7, 13)\n",
    "print(seq2, list(seq2))\n",
    "\n",
    "seq3 = range(4, 27, 5)\n",
    "print(seq3, list(seq3))\n",
    "\n",
    "seq4 = range(9, 2, -1)\n",
    "print(seq4, list(seq4))"
   ]
  },
  {
   "cell_type": "code",
   "execution_count": 2,
   "id": "3f2e1482",
   "metadata": {},
   "outputs": [
    {
     "name": "stdout",
     "output_type": "stream",
     "text": [
      "List Literals\n",
      "=============\n",
      "[]\n"
     ]
    }
   ],
   "source": [
    "\"\"\"\n",
    "List creation.\n",
    "\"\"\"\n",
    "\n",
    "print(\"List Literals\")\n",
    "print(\"=============\")\n",
    "\n",
    "# List literals\n",
    "empty = []\n",
    "print(empty)"
   ]
  },
  {
   "cell_type": "code",
   "execution_count": 3,
   "id": "c285a846",
   "metadata": {},
   "outputs": [
    {
     "name": "stdout",
     "output_type": "stream",
     "text": [
      "[1, 5, 8, 3, 2]\n"
     ]
    }
   ],
   "source": [
    "numbers = [1, 5, 8, 3, 2]\n",
    "print(numbers)"
   ]
  },
  {
   "cell_type": "code",
   "execution_count": 4,
   "id": "105ea38f",
   "metadata": {},
   "outputs": [
    {
     "name": "stdout",
     "output_type": "stream",
     "text": [
      "['a', 'z', 'c', 'q', 'c', 'a']\n"
     ]
    }
   ],
   "source": [
    "letters = [\"a\", \"z\", \"c\", \"q\", \"c\", \"a\"]\n",
    "print(letters)"
   ]
  },
  {
   "cell_type": "code",
   "execution_count": 5,
   "id": "84fa61a4",
   "metadata": {},
   "outputs": [
    {
     "name": "stdout",
     "output_type": "stream",
     "text": [
      "['python', 'java', 'javascript', 'lisp', 'c++', 'haskell']\n"
     ]
    }
   ],
   "source": [
    "languages = [\"python\", \"java\", \"javascript\", \"lisp\", \"c++\", \"haskell\"]\n",
    "print(languages)\n"
   ]
  },
  {
   "cell_type": "code",
   "execution_count": 6,
   "id": "ecd55b29",
   "metadata": {},
   "outputs": [
    {
     "name": "stdout",
     "output_type": "stream",
     "text": [
      "['a', 1, True]\n"
     ]
    }
   ],
   "source": [
    "# Don't mix types in a list!\n",
    "mixed = [\"a\", 1, True]\n",
    "print(mixed)\n"
   ]
  },
  {
   "cell_type": "code",
   "execution_count": 14,
   "id": "060e9793",
   "metadata": {},
   "outputs": [
    {
     "name": "stdout",
     "output_type": "stream",
     "text": [
      "\n",
      "Creating Lists\n",
      "==============\n"
     ]
    }
   ],
   "source": [
    "print(\"\")\n",
    "print(\"Creating Lists\")\n",
    "print(\"==============\")\n"
   ]
  },
  {
   "cell_type": "code",
   "execution_count": 13,
   "id": "c0d9892b",
   "metadata": {},
   "outputs": [
    {
     "name": "stdout",
     "output_type": "stream",
     "text": [
      "[]\n"
     ]
    }
   ],
   "source": [
    "mylist = list()\n",
    "print(mylist)"
   ]
  },
  {
   "cell_type": "code",
   "execution_count": 8,
   "id": "cfe66dfb",
   "metadata": {},
   "outputs": [
    {
     "name": "stdout",
     "output_type": "stream",
     "text": [
      "range(0, 5)\n"
     ]
    }
   ],
   "source": [
    "seq = range(5)\n",
    "print(seq)\n"
   ]
  },
  {
   "cell_type": "code",
   "execution_count": 9,
   "id": "c7c44f52",
   "metadata": {},
   "outputs": [
    {
     "name": "stdout",
     "output_type": "stream",
     "text": [
      "[0, 1, 2, 3, 4]\n"
     ]
    }
   ],
   "source": [
    "seqlst = list(seq)\n",
    "print(seqlst)\n"
   ]
  },
  {
   "cell_type": "code",
   "execution_count": 10,
   "id": "497f7ac2",
   "metadata": {},
   "outputs": [
    {
     "name": "stdout",
     "output_type": "stream",
     "text": [
      "range(7, 13) [7, 8, 9, 10, 11, 12]\n"
     ]
    }
   ],
   "source": [
    "seq2 = range(7, 13)\n",
    "print(seq2, list(seq2))"
   ]
  },
  {
   "cell_type": "code",
   "execution_count": 11,
   "id": "b2a26c69",
   "metadata": {},
   "outputs": [
    {
     "name": "stdout",
     "output_type": "stream",
     "text": [
      "range(4, 27, 5) [4, 9, 14, 19, 24]\n"
     ]
    }
   ],
   "source": [
    "seq3 = range(4, 27, 5)\n",
    "print(seq3, list(seq3))"
   ]
  },
  {
   "cell_type": "code",
   "execution_count": 12,
   "id": "cd5cb29e",
   "metadata": {},
   "outputs": [
    {
     "name": "stdout",
     "output_type": "stream",
     "text": [
      "range(9, 2, -1) [9, 8, 7, 6, 5, 4, 3]\n"
     ]
    }
   ],
   "source": [
    "seq4 = range(9, 2, -1)\n",
    "print(seq4, list(seq4))"
   ]
  },
  {
   "cell_type": "code",
   "execution_count": 15,
   "id": "5708286b",
   "metadata": {},
   "outputs": [
    {
     "name": "stdout",
     "output_type": "stream",
     "text": [
      "List Indexing\n",
      "=============\n",
      "['butter', 'milk', 'bacon', 'spaghetti', 'asparagus']\n",
      "butter\n",
      "bacon\n",
      "5\n",
      "asparagus\n",
      "asparagus\n",
      "bacon\n",
      "\n",
      "List Slicing\n",
      "============\n",
      "[72, 60, 48, 36, 24, 12]\n",
      "[48]\n",
      "[60, 48, 36]\n",
      "[60, 48, 36, 24, 12]\n",
      "[72, 60, 48]\n",
      "[24, 12]\n",
      "[60]\n",
      "[]\n",
      "[]\n"
     ]
    }
   ],
   "source": [
    "\"\"\"\n",
    "List indexing and slicing.\n",
    "\"\"\"\n",
    "\n",
    "print(\"List Indexing\")\n",
    "print(\"=============\")\n",
    "\n",
    "groceries = [\"butter\", \"milk\", \"bacon\", \"spaghetti\", \"asparagus\"]\n",
    "print(groceries)\n",
    "\n",
    "# first item\n",
    "print(groceries[0])\n",
    "\n",
    "# third item\n",
    "print(groceries[2])\n",
    "\n",
    "# length of list\n",
    "numitems = len(groceries)\n",
    "print(numitems)\n",
    "\n",
    "# last item\n",
    "print(groceries[-1])\n",
    "print(groceries[numitems - 1])\n",
    "\n",
    "# third from last item\n",
    "print(groceries[-3])\n",
    "\n",
    "# Out of bounds\n",
    "#print(groceries[numitems])\n",
    "#print(groceries[-17])\n",
    "\n",
    "# Indices\n",
    "# list = [7, 8, 3, 2, 9, 4]\n",
    "# item        7  8  3  2  9  4\n",
    "# pos index   0  1  2  3  4  5\n",
    "# neg index  -6 -5 -4 -3 -2 -1\n",
    "\n",
    "print(\"\")\n",
    "print(\"List Slicing\")\n",
    "print(\"============\")\n",
    "\n",
    "numbers = list(range(72, 5, -12))\n",
    "print(numbers)\n",
    "\n",
    "# Sublists\n",
    "print(numbers[2:3])\n",
    "print(numbers[1:4])\n",
    "\n",
    "# Open ended slices\n",
    "print(numbers[1:])\n",
    "print(numbers[:3])\n",
    "\n",
    "# Using negative indices\n",
    "print(numbers[-2:])\n",
    "print(numbers[1:-4])\n",
    "\n",
    "# Empty slices\n",
    "print(numbers[3:2])\n",
    "print(numbers[10:12])"
   ]
  },
  {
   "cell_type": "code",
   "execution_count": 16,
   "id": "95faae53",
   "metadata": {},
   "outputs": [
    {
     "name": "stdout",
     "output_type": "stream",
     "text": [
      "List Indexing\n",
      "=============\n",
      "['butter', 'milk', 'bacon', 'spaghetti', 'asparagus']\n"
     ]
    }
   ],
   "source": [
    "\"\"\"\n",
    "List indexing and slicing.\n",
    "\"\"\"\n",
    "\n",
    "print(\"List Indexing\")\n",
    "print(\"=============\")\n",
    "\n",
    "groceries = [\"butter\", \"milk\", \"bacon\", \"spaghetti\", \"asparagus\"]\n",
    "print(groceries)\n"
   ]
  },
  {
   "cell_type": "code",
   "execution_count": 17,
   "id": "2dc18fe6",
   "metadata": {},
   "outputs": [
    {
     "name": "stdout",
     "output_type": "stream",
     "text": [
      "butter\n"
     ]
    }
   ],
   "source": [
    "# first item\n",
    "print(groceries[0])\n"
   ]
  },
  {
   "cell_type": "code",
   "execution_count": 18,
   "id": "b444ac55",
   "metadata": {},
   "outputs": [
    {
     "name": "stdout",
     "output_type": "stream",
     "text": [
      "bacon\n"
     ]
    }
   ],
   "source": [
    "# third item\n",
    "print(groceries[2])"
   ]
  },
  {
   "cell_type": "code",
   "execution_count": 19,
   "id": "28b300ba",
   "metadata": {},
   "outputs": [
    {
     "name": "stdout",
     "output_type": "stream",
     "text": [
      "5\n"
     ]
    }
   ],
   "source": [
    "# length of list\n",
    "numitems = len(groceries)\n",
    "print(numitems)"
   ]
  },
  {
   "cell_type": "code",
   "execution_count": 20,
   "id": "b59d30b7",
   "metadata": {},
   "outputs": [
    {
     "name": "stdout",
     "output_type": "stream",
     "text": [
      "asparagus\n",
      "asparagus\n"
     ]
    }
   ],
   "source": [
    "# last item\n",
    "print(groceries[-1])\n",
    "print(groceries[numitems - 1])"
   ]
  },
  {
   "cell_type": "code",
   "execution_count": 21,
   "id": "ac4604d0",
   "metadata": {},
   "outputs": [
    {
     "name": "stdout",
     "output_type": "stream",
     "text": [
      "bacon\n"
     ]
    }
   ],
   "source": [
    "# third from last item\n",
    "print(groceries[-3])\n"
   ]
  },
  {
   "cell_type": "code",
   "execution_count": 22,
   "id": "bc85806c",
   "metadata": {},
   "outputs": [],
   "source": [
    "# Out of bounds\n",
    "#print(groceries[numitems])\n",
    "#print(groceries[-17])"
   ]
  },
  {
   "cell_type": "code",
   "execution_count": 23,
   "id": "ccde4663",
   "metadata": {},
   "outputs": [],
   "source": [
    "# Indices\n",
    "# list = [7, 8, 3, 2, 9, 4]\n",
    "# item        7  8  3  2  9  4\n",
    "# pos index   0  1  2  3  4  5\n",
    "# neg index  -6 -5 -4 -3 -2 -1"
   ]
  },
  {
   "cell_type": "code",
   "execution_count": 24,
   "id": "c1b4b266",
   "metadata": {},
   "outputs": [
    {
     "name": "stdout",
     "output_type": "stream",
     "text": [
      "\n",
      "List Slicing\n",
      "============\n",
      "[72, 60, 48, 36, 24, 12]\n"
     ]
    }
   ],
   "source": [
    "print(\"\")\n",
    "print(\"List Slicing\")\n",
    "print(\"============\")\n",
    "\n",
    "numbers = list(range(72, 5, -12))\n",
    "print(numbers)"
   ]
  },
  {
   "cell_type": "code",
   "execution_count": 25,
   "id": "41abdc14",
   "metadata": {},
   "outputs": [
    {
     "name": "stdout",
     "output_type": "stream",
     "text": [
      "[48]\n",
      "[60, 48, 36]\n"
     ]
    }
   ],
   "source": [
    "# Sublists\n",
    "print(numbers[2:3])\n",
    "print(numbers[1:4])"
   ]
  },
  {
   "cell_type": "code",
   "execution_count": 26,
   "id": "9426ba21",
   "metadata": {},
   "outputs": [
    {
     "name": "stdout",
     "output_type": "stream",
     "text": [
      "[60, 48, 36, 24, 12]\n",
      "[72, 60, 48]\n"
     ]
    }
   ],
   "source": [
    "# Open ended slices\n",
    "print(numbers[1:])\n",
    "print(numbers[:3])"
   ]
  },
  {
   "cell_type": "code",
   "execution_count": 27,
   "id": "1e98862f",
   "metadata": {},
   "outputs": [
    {
     "name": "stdout",
     "output_type": "stream",
     "text": [
      "[24, 12]\n",
      "[60]\n"
     ]
    }
   ],
   "source": [
    "# Using negative indices\n",
    "print(numbers[-2:])\n",
    "print(numbers[1:-4])"
   ]
  },
  {
   "cell_type": "code",
   "execution_count": 28,
   "id": "71d56152",
   "metadata": {},
   "outputs": [
    {
     "name": "stdout",
     "output_type": "stream",
     "text": [
      "[]\n",
      "[]\n"
     ]
    }
   ],
   "source": [
    "# Empty slices\n",
    "print(numbers[3:2])\n",
    "print(numbers[10:12])"
   ]
  },
  {
   "cell_type": "code",
   "execution_count": 29,
   "id": "ae0db0f4",
   "metadata": {},
   "outputs": [
    {
     "name": "stdout",
     "output_type": "stream",
     "text": [
      "Splitting\n",
      "=========\n",
      "She wasn't doing a thing that I could see, except standing there leaning on the balcony railing, holding the universe together.\n",
      "['She', \"wasn't\", 'doing', 'a', 'thing', 'that', 'I', 'could', 'see,', 'except', 'standing', 'there', 'leaning', 'on', 'the', 'balcony', 'railing,', 'holding', 'the', 'universe', 'together.']\n",
      "['She', \"wasn't\", 'doing', 'a', 'thing', 'that', 'I', 'could', 'see,', 'except', 'standing', 'there', 'leaning', 'on', 'the', 'balcony', 'railing,', 'holding', 'the', 'universe', 'together.']\n",
      "[\"She wasn't doing a thing that I could see\", ' except standing there leaning on the balcony railing', ' holding the universe together.']\n",
      "[\"She wasn't doing a thing that I could see, except standing \", 're leaning on ', ' balcony railing, holding ', ' universe toge', 'r.']\n",
      "\n",
      "Joining\n",
      "=======\n",
      "['flowers', 'puddle', 'mouse pad', 'outlet', 'bread', 'house']\n",
      "flowerspuddlemouse padoutletbreadhouse\n",
      "flowers puddle mouse pad outlet bread house\n",
      "flowers,puddle,mouse pad,outlet,bread,house\n",
      "flowers, puddle, mouse pad, outlet, bread, house\n"
     ]
    }
   ],
   "source": [
    "\"\"\"\n",
    "Splitting and Joining Strings\n",
    "\"\"\"\n",
    "\n",
    "print(\"Splitting\")\n",
    "print(\"=========\")\n",
    "\n",
    "# From \"A Girl I knew\" by J. D. Salinger\n",
    "sentence = \"She wasn't doing a thing that I could see, except standing there leaning on the balcony railing, holding the universe together.\"\n",
    "\n",
    "print(sentence)\n",
    "\n",
    "# String split\n",
    "words = sentence.split()\n",
    "print(words)\n",
    "\n",
    "# Explicit separator\n",
    "words2 = sentence.split(\" \")\n",
    "print(words2)\n",
    "phrases = sentence.split(\",\")\n",
    "print(phrases)\n",
    "parts = sentence.split(\"the\")\n",
    "print(parts)\n",
    "\n",
    "print(\"\")\n",
    "print(\"Joining\")\n",
    "print(\"=======\")\n",
    "\n",
    "items = [\"flowers\", \"puddle\", \"mouse pad\", \"outlet\", \"bread\", \"house\"]\n",
    "\n",
    "print(items)\n",
    "\n",
    "# Join together\n",
    "print(\"\".join(items))\n",
    "print(\" \".join(items))\n",
    "print(\",\".join(items))\n",
    "print(\", \".join(items))"
   ]
  },
  {
   "cell_type": "code",
   "execution_count": 30,
   "id": "c1a8ee07",
   "metadata": {},
   "outputs": [
    {
     "name": "stdout",
     "output_type": "stream",
     "text": [
      "Splitting\n",
      "=========\n",
      "She wasn't doing a thing that I could see, except standing there leaning on the balcony railing, holding the universe together.\n",
      "['She', \"wasn't\", 'doing', 'a', 'thing', 'that', 'I', 'could', 'see,', 'except', 'standing', 'there', 'leaning', 'on', 'the', 'balcony', 'railing,', 'holding', 'the', 'universe', 'together.']\n"
     ]
    }
   ],
   "source": [
    "\"\"\"\n",
    "Splitting and Joining Strings\n",
    "\"\"\"\n",
    "\n",
    "print(\"Splitting\")\n",
    "print(\"=========\")\n",
    "\n",
    "# From \"A Girl I knew\" by J. D. Salinger\n",
    "sentence = \"She wasn't doing a thing that I could see, except standing there leaning on the balcony railing, holding the universe together.\"\n",
    "\n",
    "print(sentence)\n",
    "\n",
    "# String split\n",
    "words = sentence.split()\n",
    "print(words)"
   ]
  },
  {
   "cell_type": "code",
   "execution_count": 31,
   "id": "581cbd2e",
   "metadata": {},
   "outputs": [
    {
     "name": "stdout",
     "output_type": "stream",
     "text": [
      "['She', \"wasn't\", 'doing', 'a', 'thing', 'that', 'I', 'could', 'see,', 'except', 'standing', 'there', 'leaning', 'on', 'the', 'balcony', 'railing,', 'holding', 'the', 'universe', 'together.']\n"
     ]
    }
   ],
   "source": [
    "# Explicit separator\n",
    "words2 = sentence.split(\" \")\n",
    "print(words2)"
   ]
  },
  {
   "cell_type": "code",
   "execution_count": 32,
   "id": "ab591745",
   "metadata": {},
   "outputs": [
    {
     "name": "stdout",
     "output_type": "stream",
     "text": [
      "[\"She wasn't doing a thing that I could see\", ' except standing there leaning on the balcony railing', ' holding the universe together.']\n"
     ]
    }
   ],
   "source": [
    "phrases = sentence.split(\",\")\n",
    "print(phrases)"
   ]
  },
  {
   "cell_type": "code",
   "execution_count": 33,
   "id": "292d1bfd",
   "metadata": {},
   "outputs": [
    {
     "name": "stdout",
     "output_type": "stream",
     "text": [
      "[\"She wasn't doing a thing that I could see, except standing \", 're leaning on ', ' balcony railing, holding ', ' universe toge', 'r.']\n"
     ]
    }
   ],
   "source": [
    "parts = sentence.split(\"the\")\n",
    "print(parts)"
   ]
  },
  {
   "cell_type": "code",
   "execution_count": 34,
   "id": "c55d1fbe",
   "metadata": {},
   "outputs": [
    {
     "name": "stdout",
     "output_type": "stream",
     "text": [
      "\n",
      "Joining\n",
      "=======\n"
     ]
    }
   ],
   "source": [
    "print(\"\")\n",
    "print(\"Joining\")\n",
    "print(\"=======\")"
   ]
  },
  {
   "cell_type": "code",
   "execution_count": 36,
   "id": "6ebc0df7",
   "metadata": {},
   "outputs": [
    {
     "name": "stdout",
     "output_type": "stream",
     "text": [
      "['flowers', 'puddle', 'mouse pad', 'outlet', 'bread', 'house']\n"
     ]
    }
   ],
   "source": [
    "items = [\"flowers\", \"puddle\", \"mouse pad\", \"outlet\", \"bread\", \"house\"]\n",
    "\n",
    "print(items)"
   ]
  },
  {
   "cell_type": "code",
   "execution_count": 37,
   "id": "75880bec",
   "metadata": {},
   "outputs": [
    {
     "name": "stdout",
     "output_type": "stream",
     "text": [
      "flowerspuddlemouse padoutletbreadhouse\n",
      "flowers puddle mouse pad outlet bread house\n",
      "flowers,puddle,mouse pad,outlet,bread,house\n",
      "flowers, puddle, mouse pad, outlet, bread, house\n"
     ]
    }
   ],
   "source": [
    "# Join together\n",
    "print(\"\".join(items))\n",
    "print(\" \".join(items))\n",
    "print(\",\".join(items))\n",
    "print(\", \".join(items))"
   ]
  },
  {
   "cell_type": "code",
   "execution_count": 38,
   "id": "b5b6aac7",
   "metadata": {},
   "outputs": [
    {
     "name": "stdout",
     "output_type": "stream",
     "text": [
      "5\n",
      "0\n",
      "\n",
      "True\n",
      "True\n",
      "False\n",
      "False\n",
      "True\n",
      "\n",
      "1\n",
      "2\n"
     ]
    }
   ],
   "source": [
    "\"\"\"\n",
    "Searching lists.\n",
    "\"\"\"\n",
    "\n",
    "toys = [\"blocks\", \"slinky\", \"fidget spinner\", \"cards\", \"doll house\", \"legos\", \"blocks\", \"teddy bear\"]\n",
    "\n",
    "# Finding items in a list\n",
    "print(toys.index(\"legos\"))\n",
    "print(toys.index(\"blocks\"))\n",
    "#print(toys.index(\"video game\"))\n",
    "\n",
    "print(\"\")\n",
    "\n",
    "# Checking if items are in a list\n",
    "print(\"legos\" in toys)\n",
    "print(\"blocks\" in toys)\n",
    "print(\"video game\" in toys)\n",
    "print(\"teddy bear\" not in toys)\n",
    "print(\"dice\" not in toys)\n",
    "\n",
    "print(\"\")\n",
    "\n",
    "# Counting items in list\n",
    "print(toys.count(\"slinky\"))\n",
    "print(toys.count(\"blocks\"))"
   ]
  },
  {
   "cell_type": "code",
   "execution_count": 39,
   "id": "b860fc8d",
   "metadata": {},
   "outputs": [
    {
     "name": "stdout",
     "output_type": "stream",
     "text": [
      "5\n",
      "0\n"
     ]
    }
   ],
   "source": [
    "\"\"\"\n",
    "Searching lists.\n",
    "\"\"\"\n",
    "\n",
    "toys = [\"blocks\", \"slinky\", \"fidget spinner\", \"cards\", \"doll house\", \"legos\", \"blocks\", \"teddy bear\"]\n",
    "\n",
    "# Finding items in a list\n",
    "print(toys.index(\"legos\"))\n",
    "print(toys.index(\"blocks\"))\n",
    "#print(toys.index(\"video game\"))\n"
   ]
  },
  {
   "cell_type": "code",
   "execution_count": 40,
   "id": "0844e9a2",
   "metadata": {},
   "outputs": [
    {
     "name": "stdout",
     "output_type": "stream",
     "text": [
      "\n",
      "True\n",
      "True\n",
      "False\n",
      "False\n",
      "True\n"
     ]
    }
   ],
   "source": [
    "print(\"\")\n",
    "\n",
    "# Checking if items are in a list\n",
    "print(\"legos\" in toys)\n",
    "print(\"blocks\" in toys)\n",
    "print(\"video game\" in toys)\n",
    "print(\"teddy bear\" not in toys)\n",
    "print(\"dice\" not in toys)"
   ]
  },
  {
   "cell_type": "code",
   "execution_count": 41,
   "id": "3c34890c",
   "metadata": {},
   "outputs": [
    {
     "name": "stdout",
     "output_type": "stream",
     "text": [
      "\n",
      "1\n",
      "2\n"
     ]
    }
   ],
   "source": [
    "print(\"\")\n",
    "\n",
    "# Counting items in list\n",
    "print(toys.count(\"slinky\"))\n",
    "print(toys.count(\"blocks\"))"
   ]
  },
  {
   "cell_type": "code",
   "execution_count": 42,
   "id": "ee83f529",
   "metadata": {},
   "outputs": [
    {
     "name": "stdout",
     "output_type": "stream",
     "text": [
      "Iterate over lists and print items\n",
      "\n",
      "5\n",
      "8\n",
      "11\n",
      "14\n",
      "17\n",
      "20\n",
      "23\n",
      "26\n",
      "29\n",
      "32\n",
      "35\n",
      "38\n",
      "41\n",
      "44\n",
      "47\n",
      "50\n",
      "53\n",
      "56\n",
      "59\n",
      "62\n",
      "65\n",
      "68\n",
      "71\n",
      "74\n",
      "77\n",
      "80\n",
      "python\n",
      "is\n",
      "fun\n",
      "!\n",
      "5\n",
      "8\n",
      "11\n",
      "14\n",
      "17\n",
      "20\n",
      "23\n",
      "26\n",
      "29\n",
      "32\n",
      "35\n",
      "38\n",
      "41\n",
      "44\n",
      "47\n",
      "50\n",
      "53\n",
      "56\n",
      "59\n",
      "62\n",
      "65\n",
      "68\n",
      "71\n",
      "74\n",
      "77\n",
      "80\n",
      "\n",
      "Iterate over lists and process them\n",
      "\n",
      "26\n",
      "4\n",
      "13\n"
     ]
    }
   ],
   "source": [
    "\"\"\"\n",
    "Iterating over lists.\n",
    "\"\"\"\n",
    "\n",
    "def print_items(alist):\n",
    "    \"\"\"\n",
    "    Iterate over alist and print all items.\n",
    "    \"\"\"\n",
    "    for item in alist:\n",
    "        print(item)\n",
    "\n",
    "def print_items_bad(alist):\n",
    "    \"\"\"\n",
    "    Iterate over alist and print all items.\n",
    "    List indexing in this way is error prone and unnecessary.\n",
    "    \"\"\"\n",
    "    length = len(alist)\n",
    "    for index in range(length):\n",
    "        print(alist[index])\n",
    "\n",
    "def count_items(alist):\n",
    "    \"\"\"\n",
    "    Count number of items in alist.\n",
    "    \"\"\"\n",
    "    count = 0\n",
    "    for item in alist:\n",
    "        count = count + 1\n",
    "    return count\n",
    "\n",
    "def count_odd_items(numlist):\n",
    "    \"\"\"\n",
    "    Count number of odd numbers in numlist.\n",
    "    \"\"\"\n",
    "    count = 0\n",
    "    for num in numlist:\n",
    "        if num % 2 == 1:\n",
    "            count += 1\n",
    "    return count\n",
    "\n",
    "numbers = list(range(5, 82, 3))\n",
    "strings = [\"python\", \"is\", \"fun\", \"!\"]\n",
    "\n",
    "print(\"Iterate over lists and print items\")\n",
    "print(\"\")\n",
    "\n",
    "print_items(numbers)\n",
    "print_items(strings)\n",
    "print_items_bad(numbers)\n",
    "\n",
    "print(\"\")\n",
    "print(\"Iterate over lists and process them\")\n",
    "print(\"\")\n",
    "\n",
    "print(count_items(numbers))\n",
    "print(count_items(strings))\n",
    "print(count_odd_items(numbers))"
   ]
  },
  {
   "cell_type": "code",
   "execution_count": 43,
   "id": "72176823",
   "metadata": {},
   "outputs": [
    {
     "name": "stdout",
     "output_type": "stream",
     "text": [
      "Iterate over lists and print items\n",
      "\n",
      "5\n",
      "8\n",
      "11\n",
      "14\n",
      "17\n",
      "20\n",
      "23\n",
      "26\n",
      "29\n",
      "32\n",
      "35\n",
      "38\n",
      "41\n",
      "44\n",
      "47\n",
      "50\n",
      "53\n",
      "56\n",
      "59\n",
      "62\n",
      "65\n",
      "68\n",
      "71\n",
      "74\n",
      "77\n",
      "80\n",
      "python\n",
      "is\n",
      "fun\n",
      "!\n"
     ]
    }
   ],
   "source": [
    "\"\"\"\n",
    "Iterating over lists.\n",
    "\"\"\"\n",
    "\n",
    "def print_items(alist):\n",
    "    \"\"\"\n",
    "    Iterate over alist and print all items.\n",
    "    \"\"\"\n",
    "    for item in alist:\n",
    "        print(item)\n",
    "\n",
    "def print_items_bad(alist):\n",
    "    \"\"\"\n",
    "    Iterate over alist and print all items.\n",
    "    List indexing in this way is error prone and unnecessary.\n",
    "    \"\"\"\n",
    "    length = len(alist)\n",
    "    for index in range(length):\n",
    "        print(alist[index])\n",
    "\n",
    "def count_items(alist):\n",
    "    \"\"\"\n",
    "    Count number of items in alist.\n",
    "    \"\"\"\n",
    "    count = 0\n",
    "    for item in alist:\n",
    "        count = count + 1\n",
    "    return count\n",
    "\n",
    "def count_odd_items(numlist):\n",
    "    \"\"\"\n",
    "    Count number of odd numbers in numlist.\n",
    "    \"\"\"\n",
    "    count = 0\n",
    "    for num in numlist:\n",
    "        if num % 2 == 1:\n",
    "            count += 1\n",
    "    return count\n",
    "\n",
    "numbers = list(range(5, 82, 3))\n",
    "strings = [\"python\", \"is\", \"fun\", \"!\"]\n",
    "\n",
    "print(\"Iterate over lists and print items\")\n",
    "print(\"\")\n",
    "\n",
    "print_items(numbers)\n",
    "print_items(strings)\n",
    "#print_items_bad(numbers)"
   ]
  },
  {
   "cell_type": "code",
   "execution_count": 44,
   "id": "fbc1ed42",
   "metadata": {},
   "outputs": [
    {
     "name": "stdout",
     "output_type": "stream",
     "text": [
      "24\n",
      "6994\n"
     ]
    }
   ],
   "source": [
    "def strange_sum(L):\n",
    "    for i in L:\n",
    "        if i % 3 == 0:\n",
    "            L.remove(i)\n",
    "    return sum(L)\n",
    "\n",
    "print(strange_sum([1, 2, 3, 4, 5, 1, 2, 3, 4, 5]))\n",
    "print(strange_sum(list(range(123)) + list(range(77))))\n"
   ]
  },
  {
   "cell_type": "code",
   "execution_count": 47,
   "id": "3bc56367",
   "metadata": {},
   "outputs": [
    {
     "name": "stdout",
     "output_type": "stream",
     "text": [
      "xxx    xxx ['x', 'x', 'x', ' ', ' ', ' ', ' ', 'x', 'x', 'x']\n",
      "['xxx', '', '', '', 'xxx'] 5\n",
      "[' ', ' ', ' ', ' ']\n"
     ]
    }
   ],
   "source": [
    "n = 4\n",
    "test_string = \"xxx\" + \" \" * n + \"xxx\"\n",
    "print(test_string, list(test_string))\n",
    "split_list = test_string.split(\" \")\n",
    "print(split_list, len(split_list))\n",
    "\n",
    "print(list(\" \"*4))"
   ]
  },
  {
   "cell_type": "code",
   "execution_count": null,
   "id": "6fddb077",
   "metadata": {},
   "outputs": [],
   "source": []
  }
 ],
 "metadata": {
  "kernelspec": {
   "display_name": "Python 3 (ipykernel)",
   "language": "python",
   "name": "python3"
  },
  "language_info": {
   "codemirror_mode": {
    "name": "ipython",
    "version": 3
   },
   "file_extension": ".py",
   "mimetype": "text/x-python",
   "name": "python",
   "nbconvert_exporter": "python",
   "pygments_lexer": "ipython3",
   "version": "3.9.7"
  }
 },
 "nbformat": 4,
 "nbformat_minor": 5
}
