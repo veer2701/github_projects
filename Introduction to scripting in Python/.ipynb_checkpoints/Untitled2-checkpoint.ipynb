{
 "cells": [
  {
   "cell_type": "code",
   "execution_count": 1,
   "id": "6824a330",
   "metadata": {},
   "outputs": [],
   "source": [
    "\"\"\"\n",
    "Assignment: Project: Working with Dates\n",
    "\n",
    "Assignment context: Python Programming Essentials\n",
    "\n",
    "days_in_month (15 points)\n",
    "is_valid_date (15 points)\n",
    "days_between (25 points)\n",
    "age_in_days (25 points)\n",
    "style (20 points)\n",
    "Total: 100 points\n",
    "\"\"\"\n",
    "import datetime\n",
    "\n",
    "def days_in_month(year, month):\n",
    "    if month < 12:\n",
    "        return (datetime.date(year, month + 1, 1) - datetime.date(year, month, 1)).days\n",
    "    else:\n",
    "        return (datetime.date(year + 1, 1, 1) - datetime.date(year, month, 1)).days\n",
    "\n",
    "def is_valid_date(year, month, day):\n",
    "    if year >= datetime.MINYEAR and year <= datetime.MAXYEAR:\n",
    "        if month >= 1 and month <= 12:\n",
    "            if day >= 1 and day <= days_in_month(year, month):\n",
    "                return True\n",
    "\n",
    "    return False\n",
    "\n",
    "def days_between(year1, month1, day1, year2, month2, day2):\n",
    "    if not (is_valid_date(year1, month1, day1) and is_valid_date(year2, month2, day2)):\n",
    "        return 0\n",
    "\n",
    "    days = (datetime.date(year1, month1, day1) - datetime.date(year2, month2, day2)).days\n",
    "\n",
    "\n",
    "    if days < 0:\n",
    "        return -days\n",
    "\n",
    "    return 0\n",
    "\n",
    "def age_in_days(year, month, day):\n",
    "    if not is_valid_date(year, month, day):\n",
    "        return 0\n",
    "       \n",
    "    age_days = (datetime.date.today() - datetime.date(year, month, day)).days\n",
    "\n",
    "    if age_days > 0:\n",
    "        return age_days\n",
    "\n",
    "    return 0"
   ]
  },
  {
   "cell_type": "code",
   "execution_count": null,
   "id": "176e0ec9",
   "metadata": {},
   "outputs": [],
   "source": []
  }
 ],
 "metadata": {
  "kernelspec": {
   "display_name": "Python 3 (ipykernel)",
   "language": "python",
   "name": "python3"
  },
  "language_info": {
   "codemirror_mode": {
    "name": "ipython",
    "version": 3
   },
   "file_extension": ".py",
   "mimetype": "text/x-python",
   "name": "python",
   "nbconvert_exporter": "python",
   "pygments_lexer": "ipython3",
   "version": "3.9.7"
  }
 },
 "nbformat": 4,
 "nbformat_minor": 5
}
