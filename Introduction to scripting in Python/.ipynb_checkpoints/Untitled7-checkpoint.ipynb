{
 "cells": [
  {
   "cell_type": "code",
   "execution_count": 1,
   "id": "dd9b3893",
   "metadata": {},
   "outputs": [
    {
     "name": "stdout",
     "output_type": "stream",
     "text": [
      "Direct Iteration\n",
      "================\n",
      "Washington, D.C., USA\n",
      "Beijing, China\n",
      "Paris, France\n",
      "London, England\n",
      "Rome, Italy\n",
      "Moscow, Russia\n",
      "Canberra, Australia\n",
      "Lima, Peru\n",
      "Tokyo, Japan\n",
      "\n",
      "Iteration over Keys\n",
      "===================\n",
      "Washington, D.C., USA\n",
      "Beijing, China\n",
      "Paris, France\n",
      "London, England\n",
      "Rome, Italy\n",
      "Moscow, Russia\n",
      "Canberra, Australia\n",
      "Lima, Peru\n",
      "Tokyo, Japan\n",
      "\n",
      "Iteration over Values\n",
      "=====================\n",
      "Capital city: Washington, D.C.\n",
      "Capital city: Beijing\n",
      "Capital city: Paris\n",
      "Capital city: London\n",
      "Capital city: Rome\n",
      "Capital city: Moscow\n",
      "Capital city: Canberra\n",
      "Capital city: Lima\n",
      "Capital city: Tokyo\n",
      "\n",
      "Iteration over Items\n",
      "===================\n",
      "Washington, D.C., USA\n",
      "Beijing, China\n",
      "Paris, France\n",
      "London, England\n",
      "Rome, Italy\n",
      "Moscow, Russia\n",
      "Canberra, Australia\n",
      "Lima, Peru\n",
      "Tokyo, Japan\n",
      "\n",
      "Checking Membership\n",
      "===================\n",
      "True\n",
      "False\n",
      "False\n",
      "True\n",
      "False\n",
      "True\n"
     ]
    }
   ],
   "source": [
    "\"\"\"\n",
    "Iterating over dictionaries.\n",
    "\"\"\"\n",
    "\n",
    "# Mapping from various cities to their country\n",
    "capitals = {'USA': 'Washington, D.C.',\n",
    "            'China': 'Beijing',\n",
    "            'France': 'Paris',\n",
    "            'England': 'London',\n",
    "            'Italy': 'Rome',\n",
    "            'Russia': 'Moscow',\n",
    "            'Australia': 'Canberra',\n",
    "            'Peru': 'Lima',\n",
    "            'Japan': 'Tokyo'}\n",
    "\n",
    "print(\"Direct Iteration\")\n",
    "print(\"================\")\n",
    "\n",
    "for country in capitals:\n",
    "    print(\"{}, {}\".format(capitals[country], country))\n",
    "\n",
    "print(\"\")\n",
    "\n",
    "print(\"Iteration over Keys\")\n",
    "print(\"===================\")\n",
    "\n",
    "for country in capitals.keys():\n",
    "    print(\"{}, {}\".format(capitals[country], country))\n",
    "\n",
    "print(\"\")\n",
    "\n",
    "print(\"Iteration over Values\")\n",
    "print(\"=====================\")\n",
    "\n",
    "for city in capitals.values():\n",
    "    print(\"Capital city: {}\".format(city))\n",
    "\n",
    "print(\"\")\n",
    "\n",
    "print(\"Iteration over Items\")\n",
    "print(\"===================\")\n",
    "\n",
    "for country, city in capitals.items():\n",
    "    print(\"{}, {}\".format(city, country))\n",
    "\n",
    "print(\"\")\n",
    "\n",
    "print(\"Checking Membership\")\n",
    "print(\"===================\")\n",
    "\n",
    "print('England' in capitals)\n",
    "print('Lima' in capitals)\n",
    "\n",
    "print('Moscow' in capitals.keys())\n",
    "print('Italy' in capitals.keys())\n",
    "\n",
    "print('Houston' in capitals.values())\n",
    "print('Beijing' in capitals.values())\n"
   ]
  },
  {
   "cell_type": "code",
   "execution_count": 2,
   "id": "da33dd0a",
   "metadata": {},
   "outputs": [
    {
     "name": "stdout",
     "output_type": "stream",
     "text": [
      "Direct Iteration\n",
      "================\n",
      "Washington, D.C., USA\n",
      "Beijing, China\n",
      "Paris, France\n",
      "London, England\n",
      "Rome, Italy\n",
      "Moscow, Russia\n",
      "Canberra, Australia\n",
      "Lima, Peru\n",
      "Tokyo, Japan\n",
      "\n"
     ]
    }
   ],
   "source": [
    "\"\"\"\n",
    "Iterating over dictionaries.\n",
    "\"\"\"\n",
    "\n",
    "# Mapping from various cities to their country\n",
    "capitals = {'USA': 'Washington, D.C.',\n",
    "            'China': 'Beijing',\n",
    "            'France': 'Paris',\n",
    "            'England': 'London',\n",
    "            'Italy': 'Rome',\n",
    "            'Russia': 'Moscow',\n",
    "            'Australia': 'Canberra',\n",
    "            'Peru': 'Lima',\n",
    "            'Japan': 'Tokyo'}\n",
    "\n",
    "print(\"Direct Iteration\")\n",
    "print(\"================\")\n",
    "\n",
    "for country in capitals:\n",
    "    print(\"{}, {}\".format(capitals[country], country))\n",
    "\n",
    "print(\"\")"
   ]
  },
  {
   "cell_type": "code",
   "execution_count": 3,
   "id": "67240ba0",
   "metadata": {},
   "outputs": [
    {
     "name": "stdout",
     "output_type": "stream",
     "text": [
      "Iteration over Keys\n",
      "===================\n",
      "Washington, D.C., USA\n",
      "Beijing, China\n",
      "Paris, France\n",
      "London, England\n",
      "Rome, Italy\n",
      "Moscow, Russia\n",
      "Canberra, Australia\n",
      "Lima, Peru\n",
      "Tokyo, Japan\n",
      "\n"
     ]
    }
   ],
   "source": [
    "print(\"Iteration over Keys\")\n",
    "print(\"===================\")\n",
    "\n",
    "for country in capitals.keys():\n",
    "    print(\"{}, {}\".format(capitals[country], country))\n",
    "\n",
    "print(\"\")"
   ]
  },
  {
   "cell_type": "code",
   "execution_count": 4,
   "id": "fc3e7ad1",
   "metadata": {},
   "outputs": [
    {
     "name": "stdout",
     "output_type": "stream",
     "text": [
      "Iteration over Values\n",
      "=====================\n",
      "Capital city: Washington, D.C.\n",
      "Capital city: Beijing\n",
      "Capital city: Paris\n",
      "Capital city: London\n",
      "Capital city: Rome\n",
      "Capital city: Moscow\n",
      "Capital city: Canberra\n",
      "Capital city: Lima\n",
      "Capital city: Tokyo\n"
     ]
    }
   ],
   "source": [
    "print(\"Iteration over Values\")\n",
    "print(\"=====================\")\n",
    "\n",
    "for city in capitals.values():\n",
    "    print(\"Capital city: {}\".format(city))\n"
   ]
  },
  {
   "cell_type": "code",
   "execution_count": 5,
   "id": "d263aeb4",
   "metadata": {},
   "outputs": [
    {
     "name": "stdout",
     "output_type": "stream",
     "text": [
      "Iteration over Items\n",
      "===================\n",
      "Washington, D.C., USA\n",
      "Beijing, China\n",
      "Paris, France\n",
      "London, England\n",
      "Rome, Italy\n",
      "Moscow, Russia\n",
      "Canberra, Australia\n",
      "Lima, Peru\n",
      "Tokyo, Japan\n"
     ]
    }
   ],
   "source": [
    "print(\"Iteration over Items\")\n",
    "print(\"===================\")\n",
    "\n",
    "for country, city in capitals.items():\n",
    "    print(\"{}, {}\".format(city, country))\n"
   ]
  },
  {
   "cell_type": "code",
   "execution_count": 6,
   "id": "cf37d8d7",
   "metadata": {},
   "outputs": [
    {
     "name": "stdout",
     "output_type": "stream",
     "text": [
      "Checking Membership\n",
      "===================\n",
      "True\n",
      "False\n"
     ]
    }
   ],
   "source": [
    "print(\"Checking Membership\")\n",
    "print(\"===================\")\n",
    "\n",
    "print('England' in capitals)\n",
    "print('Lima' in capitals)"
   ]
  },
  {
   "cell_type": "code",
   "execution_count": 7,
   "id": "f128677f",
   "metadata": {},
   "outputs": [
    {
     "name": "stdout",
     "output_type": "stream",
     "text": [
      "False\n",
      "True\n"
     ]
    }
   ],
   "source": [
    "print('Moscow' in capitals.keys())\n",
    "print('Italy' in capitals.keys())\n"
   ]
  },
  {
   "cell_type": "code",
   "execution_count": 8,
   "id": "98121578",
   "metadata": {},
   "outputs": [
    {
     "name": "stdout",
     "output_type": "stream",
     "text": [
      "False\n",
      "True\n"
     ]
    }
   ],
   "source": [
    "print('Houston' in capitals.values())\n",
    "print('Beijing' in capitals.values())"
   ]
  },
  {
   "cell_type": "code",
   "execution_count": 9,
   "id": "09b7918a",
   "metadata": {},
   "outputs": [
    {
     "name": "stdout",
     "output_type": "stream",
     "text": [
      "Language              2017  2012  2007  2002  1997  1992  1987\n",
      "--------------------------------------------------------------\n",
      "Java                     1     2     1     1    15     0     0\n",
      "C                        2     1     2     2     1     1     1\n",
      "C++                      3     3     3     3     2     2     5\n",
      "C#                       4     4     7    13     0     0     0\n",
      "Python                   5     7     6    11    27     0     0\n",
      "Visual Basic .NET        6    17     0     0     0     0     0\n",
      "PHP                      7     6     4     5     0     0     0\n",
      "JavaScript               8     9     8     7    23     0     0\n",
      "Perl                     9     8     5     4     4    10     0\n",
      "\n",
      "Python's popularity in 1997: 27\n",
      "Python's popularity in 1997: 27\n"
     ]
    }
   ],
   "source": [
    "\"\"\"\n",
    "Tabular data as a nested list.\n",
    "\"\"\"\n",
    "\n",
    "# Programming language popularity, from www.tiobe.com/tiobe-index\n",
    "popularity = [[\"Language\", 2017, 2012, 2007, 2002, 1997, 1992, 1987],\n",
    "              [\"Java\", 1, 2, 1, 1, 15, 0, 0],\n",
    "              [\"C\", 2, 1, 2, 2, 1, 1, 1],\n",
    "              [\"C++\", 3, 3, 3, 3, 2, 2, 5],\n",
    "              [\"C#\", 4, 4, 7, 13, 0, 0, 0],\n",
    "              [\"Python\", 5, 7, 6, 11, 27, 0, 0],\n",
    "              [\"Visual Basic .NET\", 6, 17, 0, 0, 0, 0, 0],\n",
    "              [\"PHP\", 7, 6, 4, 5, 0, 0, 0],\n",
    "              [\"JavaScript\", 8, 9, 8, 7, 23, 0, 0],\n",
    "              [\"Perl\", 9, 8, 5, 4, 4, 10, 0]]\n",
    "\n",
    "format_string = \"{:<20}  {:>4}  {:>4}  {:>4}  {:>4}  {:>4}  {:>4}  {:>4}\"\n",
    "\n",
    "# Display langauges table\n",
    "headers = popularity[0]\n",
    "header_row = format_string.format(*headers)\n",
    "print(header_row)\n",
    "print(\"-\" * len(header_row))\n",
    "\n",
    "for language in popularity[1:]:\n",
    "    print(format_string.format(*language))\n",
    "\n",
    "print(\"\")\n",
    "    \n",
    "# Finding/selecting items\n",
    "\n",
    "# What was Python's popularity in 1997?\n",
    "print(\"Python's popularity in 1997:\", popularity[5][5])\n",
    "\n",
    "def find_col(table, col):\n",
    "    \"\"\"\n",
    "    Return column index with col header in table\n",
    "    or -1 if col is not in table\n",
    "    \"\"\"\n",
    "    return table[0].index(col)\n",
    "\n",
    "def find_row(table, row):\n",
    "    \"\"\"\n",
    "    Return row index with row header in table\n",
    "    or -1 if row is not in table\n",
    "    \"\"\"\n",
    "    for idx in range(len(table)):\n",
    "        if table[idx][0] == row:\n",
    "            return idx\n",
    "    return -1\n",
    "    \n",
    "idx1997 = find_col(popularity, 1997)\n",
    "idxpython = find_row(popularity, \"Python\")\n",
    "print(\"Python's popularity in 1997:\", popularity[idxpython][idx1997])\n"
   ]
  },
  {
   "cell_type": "code",
   "execution_count": 10,
   "id": "a8f31ef7",
   "metadata": {},
   "outputs": [
    {
     "name": "stdout",
     "output_type": "stream",
     "text": [
      "Language              2017  2012  2007  2002  1997  1992  1987\n",
      "--------------------------------------------------------------\n",
      "Java                     1     2     1     1    15     0     0\n",
      "C                        2     1     2     2     1     1     1\n",
      "C++                      3     3     3     3     2     2     5\n",
      "C#                       4     4     7    13     0     0     0\n",
      "Python                   5     7     6    11    27     0     0\n",
      "Visual Basic .NET        6    17     0     0     0     0     0\n",
      "PHP                      7     6     4     5     0     0     0\n",
      "JavaScript               8     9     8     7    23     0     0\n",
      "Perl                     9     8     5     4     4    10     0\n",
      "\n"
     ]
    }
   ],
   "source": [
    "\"\"\"\n",
    "Tabular data as a nested list.\n",
    "\"\"\"\n",
    "\n",
    "# Programming language popularity, from www.tiobe.com/tiobe-index\n",
    "popularity = [[\"Language\", 2017, 2012, 2007, 2002, 1997, 1992, 1987],\n",
    "              [\"Java\", 1, 2, 1, 1, 15, 0, 0],\n",
    "              [\"C\", 2, 1, 2, 2, 1, 1, 1],\n",
    "              [\"C++\", 3, 3, 3, 3, 2, 2, 5],\n",
    "              [\"C#\", 4, 4, 7, 13, 0, 0, 0],\n",
    "              [\"Python\", 5, 7, 6, 11, 27, 0, 0],\n",
    "              [\"Visual Basic .NET\", 6, 17, 0, 0, 0, 0, 0],\n",
    "              [\"PHP\", 7, 6, 4, 5, 0, 0, 0],\n",
    "              [\"JavaScript\", 8, 9, 8, 7, 23, 0, 0],\n",
    "              [\"Perl\", 9, 8, 5, 4, 4, 10, 0]]\n",
    "\n",
    "format_string = \"{:<20}  {:>4}  {:>4}  {:>4}  {:>4}  {:>4}  {:>4}  {:>4}\"\n",
    "\n",
    "# Display langauges table\n",
    "headers = popularity[0]\n",
    "header_row = format_string.format(*headers)\n",
    "print(header_row)\n",
    "print(\"-\" * len(header_row))\n",
    "\n",
    "for language in popularity[1:]:\n",
    "    print(format_string.format(*language))\n",
    "\n",
    "print(\"\")"
   ]
  },
  {
   "cell_type": "code",
   "execution_count": 11,
   "id": "6ffe191b",
   "metadata": {},
   "outputs": [
    {
     "name": "stdout",
     "output_type": "stream",
     "text": [
      "Python's popularity in 1997: 27\n"
     ]
    }
   ],
   "source": [
    "# Finding/selecting items\n",
    "\n",
    "# What was Python's popularity in 1997?\n",
    "print(\"Python's popularity in 1997:\", popularity[5][5])\n"
   ]
  },
  {
   "cell_type": "code",
   "execution_count": 12,
   "id": "fe3538ac",
   "metadata": {},
   "outputs": [
    {
     "name": "stdout",
     "output_type": "stream",
     "text": [
      "Python's popularity in 1997: 27\n"
     ]
    }
   ],
   "source": [
    "def find_col(table, col):\n",
    "    \"\"\"\n",
    "    Return column index with col header in table\n",
    "    or -1 if col is not in table\n",
    "    \"\"\"\n",
    "    return table[0].index(col)\n",
    "\n",
    "def find_row(table, row):\n",
    "    \"\"\"\n",
    "    Return row index with row header in table\n",
    "    or -1 if row is not in table\n",
    "    \"\"\"\n",
    "    for idx in range(len(table)):\n",
    "        if table[idx][0] == row:\n",
    "            return idx\n",
    "    return -1\n",
    "    \n",
    "idx1997 = find_col(popularity, 1997)\n",
    "idxpython = find_row(popularity, \"Python\")\n",
    "print(\"Python's popularity in 1997:\", popularity[idxpython][idx1997])\n"
   ]
  },
  {
   "cell_type": "code",
   "execution_count": 13,
   "id": "bfee38bd",
   "metadata": {},
   "outputs": [
    {
     "name": "stdout",
     "output_type": "stream",
     "text": [
      "Product               Vendor        Type               Vulnerabilities\n",
      "----------------------------------------------------------------------\n",
      "Android               Google        Operating System        564\n",
      "Linux Kernel          Linux         Operating System        367\n",
      "Imagemagick           Imagemagick   Application             307\n",
      "IPhone OS             Apple         Operating System        290\n",
      "Mac OS X              Apple         Operating System        210\n",
      "Windows 10            Microsoft     Operating System        195\n",
      "Windows Server 2008   Microsoft     Operating System        187\n",
      "Windows Server 2016   Microsoft     Operating System        183\n",
      "Windows Server 2012   Microsoft     Operating System        176\n",
      "Windows 7             Microsoft     Operating System        174\n",
      "\n",
      "174\n",
      "Android 564\n"
     ]
    }
   ],
   "source": [
    "\"\"\"\n",
    "Tabular data as nested dictionaries.\n",
    "\"\"\"\n",
    "\n",
    "# Top 10 software products with the most vulnerabilities in 2017\n",
    "# (through August).  From www.cvedetails.com.\n",
    "vulnerabilities2017 = {\n",
    "    'Android': {'vendor': 'Google',\n",
    "                'type': 'Operating System',\n",
    "                'number': 564},\n",
    "    'Linux Kernel': {'vendor': 'Linux',\n",
    "                     'type': 'Operating System',\n",
    "                     'number': 367},\n",
    "    'Imagemagick': {'vendor': 'Imagemagick',\n",
    "                    'type': 'Application',\n",
    "                    'number': 307},\n",
    "    'IPhone OS': {'vendor': 'Apple',\n",
    "                  'type': 'Operating System',\n",
    "                  'number': 290},\n",
    "    'Mac OS X': {'vendor': 'Apple',\n",
    "                 'type': 'Operating System',\n",
    "                 'number': 210},\n",
    "    'Windows 10': {'vendor': 'Microsoft',\n",
    "                   'type': 'Operating System',\n",
    "                   'number': 195},\n",
    "    'Windows Server 2008': {'vendor': 'Microsoft',\n",
    "                            'type': 'Operating System',\n",
    "                            'number': 187},\n",
    "    'Windows Server 2016': {'vendor': 'Microsoft',\n",
    "                            'type': 'Operating System',\n",
    "                            'number': 183},\n",
    "    'Windows Server 2012': {'vendor': 'Microsoft',\n",
    "                            'type': 'Operating System',\n",
    "                            'number': 176},\n",
    "    'Windows 7': {'vendor': 'Microsoft',\n",
    "                  'type': 'Operating System',\n",
    "                  'number': 174}\n",
    "}\n",
    "\n",
    "# Display vulnerabilities table\n",
    "print(\"Product               Vendor        Type               Vulnerabilities\")\n",
    "print(\"----------------------------------------------------------------------\")\n",
    "\n",
    "for product, values in vulnerabilities2017.items():\n",
    "    row = \"{:21} {:13} {:18} {:8}\".format(product, values['vendor'], values['type'], values['number'])\n",
    "    print(row)\n",
    "\n",
    "print(\"\")\n",
    "\n",
    "# Finding/selecting items\n",
    "\n",
    "# How many vulnerabilites does Windows 7 have?\n",
    "print(vulnerabilities2017['Windows 7']['number'])\n",
    "\n",
    "# What product had the most vulnerabilities?\n",
    "maxproduct = None\n",
    "maxnumber = -1\n",
    "\n",
    "for product, values in vulnerabilities2017.items():\n",
    "    if values['number'] > maxnumber:\n",
    "        maxproduct = product\n",
    "        maxnumber = values['number']\n",
    "\n",
    "print(maxproduct, maxnumber)"
   ]
  },
  {
   "cell_type": "code",
   "execution_count": 14,
   "id": "1a142ec4",
   "metadata": {},
   "outputs": [
    {
     "name": "stdout",
     "output_type": "stream",
     "text": [
      "Product               Vendor        Type               Vulnerabilities\n",
      "----------------------------------------------------------------------\n",
      "Android               Google        Operating System        564\n",
      "Linux Kernel          Linux         Operating System        367\n",
      "Imagemagick           Imagemagick   Application             307\n",
      "IPhone OS             Apple         Operating System        290\n",
      "Mac OS X              Apple         Operating System        210\n",
      "Windows 10            Microsoft     Operating System        195\n",
      "Windows Server 2008   Microsoft     Operating System        187\n",
      "Windows Server 2016   Microsoft     Operating System        183\n",
      "Windows Server 2012   Microsoft     Operating System        176\n",
      "Windows 7             Microsoft     Operating System        174\n",
      "\n"
     ]
    }
   ],
   "source": [
    "\"\"\"\n",
    "Tabular data as nested dictionaries.\n",
    "\"\"\"\n",
    "\n",
    "# Top 10 software products with the most vulnerabilities in 2017\n",
    "# (through August).  From www.cvedetails.com.\n",
    "vulnerabilities2017 = {\n",
    "    'Android': {'vendor': 'Google',\n",
    "                'type': 'Operating System',\n",
    "                'number': 564},\n",
    "    'Linux Kernel': {'vendor': 'Linux',\n",
    "                     'type': 'Operating System',\n",
    "                     'number': 367},\n",
    "    'Imagemagick': {'vendor': 'Imagemagick',\n",
    "                    'type': 'Application',\n",
    "                    'number': 307},\n",
    "    'IPhone OS': {'vendor': 'Apple',\n",
    "                  'type': 'Operating System',\n",
    "                  'number': 290},\n",
    "    'Mac OS X': {'vendor': 'Apple',\n",
    "                 'type': 'Operating System',\n",
    "                 'number': 210},\n",
    "    'Windows 10': {'vendor': 'Microsoft',\n",
    "                   'type': 'Operating System',\n",
    "                   'number': 195},\n",
    "    'Windows Server 2008': {'vendor': 'Microsoft',\n",
    "                            'type': 'Operating System',\n",
    "                            'number': 187},\n",
    "    'Windows Server 2016': {'vendor': 'Microsoft',\n",
    "                            'type': 'Operating System',\n",
    "                            'number': 183},\n",
    "    'Windows Server 2012': {'vendor': 'Microsoft',\n",
    "                            'type': 'Operating System',\n",
    "                            'number': 176},\n",
    "    'Windows 7': {'vendor': 'Microsoft',\n",
    "                  'type': 'Operating System',\n",
    "                  'number': 174}\n",
    "}\n",
    "\n",
    "# Display vulnerabilities table\n",
    "print(\"Product               Vendor        Type               Vulnerabilities\")\n",
    "print(\"----------------------------------------------------------------------\")\n",
    "\n",
    "for product, values in vulnerabilities2017.items():\n",
    "    row = \"{:21} {:13} {:18} {:8}\".format(product, values['vendor'], values['type'], values['number'])\n",
    "    print(row)\n",
    "\n",
    "print(\"\")"
   ]
  },
  {
   "cell_type": "code",
   "execution_count": 15,
   "id": "21037691",
   "metadata": {},
   "outputs": [
    {
     "name": "stdout",
     "output_type": "stream",
     "text": [
      "174\n"
     ]
    }
   ],
   "source": [
    "# Finding/selecting items\n",
    "\n",
    "# How many vulnerabilites does Windows 7 have?\n",
    "print(vulnerabilities2017['Windows 7']['number'])"
   ]
  },
  {
   "cell_type": "code",
   "execution_count": 16,
   "id": "f5d58b90",
   "metadata": {},
   "outputs": [
    {
     "name": "stdout",
     "output_type": "stream",
     "text": [
      "Android 564\n"
     ]
    }
   ],
   "source": [
    "# What product had the most vulnerabilities?\n",
    "maxproduct = None\n",
    "maxnumber = -1\n",
    "\n",
    "for product, values in vulnerabilities2017.items():\n",
    "    if values['number'] > maxnumber:\n",
    "        maxproduct = product\n",
    "        maxnumber = values['number']\n",
    "\n",
    "print(maxproduct, maxnumber)"
   ]
  },
  {
   "cell_type": "code",
   "execution_count": 17,
   "id": "0b1d44a0",
   "metadata": {},
   "outputs": [
    {
     "name": "stdout",
     "output_type": "stream",
     "text": [
      "[0, 0, 0, 0, 0]\n",
      "[0, 1, 2, 3, 4]\n",
      "[0, 2, 4, 6, 8]\n"
     ]
    }
   ],
   "source": [
    "NUM_ROWS = 3\n",
    "NUM_COLS = 5\n",
    "\n",
    "# construct a matrix\n",
    "my_matrix = []\n",
    "for row in range(NUM_ROWS):\n",
    "    new_row = []\n",
    "    for col in range(NUM_COLS):\n",
    "        new_row.append(row * col)\n",
    "    my_matrix.append(new_row)\n",
    " \n",
    "# print the matrix\n",
    "for row in my_matrix:\n",
    "    print(row)"
   ]
  },
  {
   "cell_type": "code",
   "execution_count": 19,
   "id": "f468c79c",
   "metadata": {},
   "outputs": [
    {
     "name": "stdout",
     "output_type": "stream",
     "text": [
      "{0: {0: 0, 1: 0, 2: 0, 3: 0, 4: 0, 5: 0, 6: 0, 7: 0, 8: 0}, 1: {0: 0, 1: 1, 2: 2, 3: 3, 4: 4, 5: 5, 6: 6, 7: 7, 8: 8}, 2: {0: 0, 1: 2, 2: 4, 3: 6, 4: 8, 5: 10, 6: 12, 7: 14, 8: 16}, 3: {0: 0, 1: 3, 2: 6, 3: 9, 4: 12, 5: 15, 6: 18, 7: 21, 8: 24}, 4: {0: 0, 1: 4, 2: 8, 3: 12, 4: 16, 5: 20, 6: 24, 7: 28, 8: 32}}\n",
      "0 0 0 0 0 0 0 0 0 \n",
      "0 1 2 3 4 5 6 7 8 \n",
      "0 2 4 6 8 10 12 14 16 \n",
      "0 3 6 9 12 15 18 21 24 \n",
      "0 4 8 12 16 20 24 28 32 \n"
     ]
    }
   ],
   "source": [
    "NUM_ROWS = 5\n",
    "NUM_COLS = 9\n",
    "\n",
    "# construct a matrix\n",
    "my_matrix = {}\n",
    "for row in range(NUM_ROWS):\n",
    "    row_dict = {}\n",
    "    for col in range(NUM_COLS):\n",
    "        row_dict[col] = row * col\n",
    "    my_matrix[row] = row_dict\n",
    "    \n",
    "print(my_matrix)\n",
    " \n",
    "# print the matrix\n",
    "for row in range(NUM_ROWS):\n",
    "    for col in range(NUM_COLS):\n",
    "        print(my_matrix[row][col], end = \" \")\n",
    "    print()"
   ]
  },
  {
   "cell_type": "code",
   "execution_count": 5,
   "id": "2a1a50e2",
   "metadata": {},
   "outputs": [
    {
     "name": "stdout",
     "output_type": "stream",
     "text": [
      "{0: {0: 0, 1: 0, 2: 0, 3: 0, 4: 0, 5: 0, 6: 0, 7: 0, 8: 0}, 1: {0: 0, 1: 1, 2: 2, 3: 3, 4: 4, 5: 5, 6: 6, 7: 7, 8: 8}, 2: {0: 0, 1: 2, 2: 4, 3: 6, 4: 8, 5: 10, 6: 12, 7: 14, 8: 16}, 3: {0: 0, 1: 3, 2: 6, 3: 9, 4: 12, 5: 15, 6: 18, 7: 21, 8: 24}, 4: {0: 0, 1: 4, 2: 8, 3: 12, 4: 16, 5: 20, 6: 24, 7: 28, 8: 32}}\n",
      "0 0 0 0 0 0 0 0 0 \n",
      "0 1 2 3 4 5 6 7 8 \n",
      "0 2 4 6 8 10 12 14 16 \n",
      "0 3 6 9 12 15 18 21 24 \n",
      "0 4 8 12 16 20 24 28 32 \n"
     ]
    }
   ],
   "source": [
    "NUM_ROWS = 5\n",
    "NUM_COLS = 9\n",
    "\n",
    "# construct a matrix\n",
    "my_matrix = {}\n",
    "for row in range(NUM_ROWS):\n",
    "    row_dict = {}\n",
    "    for col in range(NUM_COLS):\n",
    "        row_dict[col] = row * col\n",
    "    my_matrix[row] = row_dict\n",
    "    \n",
    "print(my_matrix)\n",
    " \n",
    "# print the matrix\n",
    "for row in range(NUM_ROWS):\n",
    "    for col in range(NUM_COLS):\n",
    "        print(my_matrix[row][col], end = \" \")\n",
    "    print()"
   ]
  },
  {
   "cell_type": "code",
   "execution_count": 11,
   "id": "74ec1369",
   "metadata": {},
   "outputs": [
    {
     "name": "stdout",
     "output_type": "stream",
     "text": [
      "[0, 0, 0, 0, 0, 0, 0, 0, 0, 0, 0, 0, 0, 0, 0, 0, 0, 0, 0, 0, 0, 0, 0, 0, 0]\n",
      "[0, 1, 2, 3, 4, 5, 6, 7, 8, 9, 10, 11, 12, 13, 14, 15, 16, 17, 18, 19, 20, 21, 22, 23, 24]\n",
      "[0, 2, 4, 6, 8, 10, 12, 14, 16, 18, 20, 22, 24, 26, 28, 30, 32, 34, 36, 38, 40, 42, 44, 46, 48]\n",
      "[0, 3, 6, 9, 12, 15, 18, 21, 24, 27, 30, 33, 36, 39, 42, 45, 48, 51, 54, 57, 60, 63, 66, 69, 72]\n",
      "[0, 4, 8, 12, 16, 20, 24, 28, 32, 36, 40, 44, 48, 52, 56, 60, 64, 68, 72, 76, 80, 84, 88, 92, 96]\n",
      "[0, 5, 10, 15, 20, 25, 30, 35, 40, 45, 50, 55, 60, 65, 70, 75, 80, 85, 90, 95, 100, 105, 110, 115, 120]\n",
      "[0, 6, 12, 18, 24, 30, 36, 42, 48, 54, 60, 66, 72, 78, 84, 90, 96, 102, 108, 114, 120, 126, 132, 138, 144]\n",
      "[0, 7, 14, 21, 28, 35, 42, 49, 56, 63, 70, 77, 84, 91, 98, 105, 112, 119, 126, 133, 140, 147, 154, 161, 168]\n",
      "[0, 8, 16, 24, 32, 40, 48, 56, 64, 72, 80, 88, 96, 104, 112, 120, 128, 136, 144, 152, 160, 168, 176, 184, 192]\n",
      "[0, 9, 18, 27, 36, 45, 54, 63, 72, 81, 90, 99, 108, 117, 126, 135, 144, 153, 162, 171, 180, 189, 198, 207, 216]\n",
      "[0, 10, 20, 30, 40, 50, 60, 70, 80, 90, 100, 110, 120, 130, 140, 150, 160, 170, 180, 190, 200, 210, 220, 230, 240]\n",
      "[0, 11, 22, 33, 44, 55, 66, 77, 88, 99, 110, 121, 132, 143, 154, 165, 176, 187, 198, 209, 220, 231, 242, 253, 264]\n",
      "[0, 12, 24, 36, 48, 60, 72, 84, 96, 108, 120, 132, 144, 156, 168, 180, 192, 204, 216, 228, 240, 252, 264, 276, 288]\n",
      "[0, 13, 26, 39, 52, 65, 78, 91, 104, 117, 130, 143, 156, 169, 182, 195, 208, 221, 234, 247, 260, 273, 286, 299, 312]\n",
      "[0, 14, 28, 42, 56, 70, 84, 98, 112, 126, 140, 154, 168, 182, 196, 210, 224, 238, 252, 266, 280, 294, 308, 322, 336]\n",
      "[0, 15, 30, 45, 60, 75, 90, 105, 120, 135, 150, 165, 180, 195, 210, 225, 240, 255, 270, 285, 300, 315, 330, 345, 360]\n",
      "[0, 16, 32, 48, 64, 80, 96, 112, 128, 144, 160, 176, 192, 208, 224, 240, 256, 272, 288, 304, 320, 336, 352, 368, 384]\n",
      "[0, 17, 34, 51, 68, 85, 102, 119, 136, 153, 170, 187, 204, 221, 238, 255, 272, 289, 306, 323, 340, 357, 374, 391, 408]\n",
      "[0, 18, 36, 54, 72, 90, 108, 126, 144, 162, 180, 198, 216, 234, 252, 270, 288, 306, 324, 342, 360, 378, 396, 414, 432]\n",
      "[0, 19, 38, 57, 76, 95, 114, 133, 152, 171, 190, 209, 228, 247, 266, 285, 304, 323, 342, 361, 380, 399, 418, 437, 456]\n",
      "[0, 20, 40, 60, 80, 100, 120, 140, 160, 180, 200, 220, 240, 260, 280, 300, 320, 340, 360, 380, 400, 420, 440, 460, 480]\n",
      "[0, 21, 42, 63, 84, 105, 126, 147, 168, 189, 210, 231, 252, 273, 294, 315, 336, 357, 378, 399, 420, 441, 462, 483, 504]\n",
      "[0, 22, 44, 66, 88, 110, 132, 154, 176, 198, 220, 242, 264, 286, 308, 330, 352, 374, 396, 418, 440, 462, 484, 506, 528]\n",
      "[0, 23, 46, 69, 92, 115, 138, 161, 184, 207, 230, 253, 276, 299, 322, 345, 368, 391, 414, 437, 460, 483, 506, 529, 552]\n",
      "[0, 24, 48, 72, 96, 120, 144, 168, 192, 216, 240, 264, 288, 312, 336, 360, 384, 408, 432, 456, 480, 504, 528, 552, 576]\n"
     ]
    }
   ],
   "source": [
    "NUM_ROWS = 25\n",
    "NUM_COLS = 25\n",
    "\n",
    "# construct a matrix\n",
    "my_matrix = []\n",
    "for row in range(NUM_ROWS):\n",
    "    new_row = []\n",
    "    for col in range(NUM_COLS):\n",
    "        new_row.append(row * col)\n",
    "    my_matrix.append(new_row)\n",
    " \n",
    "# print the matrix\n",
    "for row in my_matrix:\n",
    "    print(row)"
   ]
  },
  {
   "cell_type": "code",
   "execution_count": null,
   "id": "60b6ec86",
   "metadata": {},
   "outputs": [],
   "source": []
  }
 ],
 "metadata": {
  "kernelspec": {
   "display_name": "Python 3 (ipykernel)",
   "language": "python",
   "name": "python3"
  },
  "language_info": {
   "codemirror_mode": {
    "name": "ipython",
    "version": 3
   },
   "file_extension": ".py",
   "mimetype": "text/x-python",
   "name": "python",
   "nbconvert_exporter": "python",
   "pygments_lexer": "ipython3",
   "version": "3.9.7"
  }
 },
 "nbformat": 4,
 "nbformat_minor": 5
}
