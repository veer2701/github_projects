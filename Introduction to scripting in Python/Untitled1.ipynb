{
 "cells": [
  {
   "cell_type": "code",
   "execution_count": 1,
   "id": "0dcd4b16",
   "metadata": {},
   "outputs": [
    {
     "name": "stdout",
     "output_type": "stream",
     "text": [
      "None\n",
      "None\n",
      "None\n",
      "None\n",
      "None\n"
     ]
    }
   ],
   "source": [
    "\"\"\"\n",
    "Implementing RPSLS for Practice Project\n",
    "\"\"\"\n",
    "\n",
    "def name_to_number(name):\n",
    "    \"\"\"\n",
    "    Take string name as input (rock-Spock-paper-lizard-scissors)\n",
    "    and returns integer (0-1-2-3-4)\n",
    "    \"\"\"\n",
    "    pass\n",
    "    \n",
    "print(name_to_number(\"rock\"))\t\t# output - 0\n",
    "print(name_to_number(\"Spock\"))\t\t# output - 1\n",
    "print(name_to_number(\"paper\"))\t\t# output - 2\n",
    "print(name_to_number(\"lizard\"))\t\t# output - 3\n",
    "print(name_to_number(\"scissors\"))\t# output - 4"
   ]
  },
  {
   "cell_type": "code",
   "execution_count": 2,
   "id": "ccadcd97",
   "metadata": {},
   "outputs": [
    {
     "name": "stdout",
     "output_type": "stream",
     "text": [
      "0\n",
      "1\n",
      "2\n",
      "3\n",
      "4\n",
      "True\n",
      "True\n"
     ]
    }
   ],
   "source": [
    "\"\"\"\n",
    "Implementing RPSLS for Practice Project\n",
    "\"\"\"\n",
    "\n",
    "def name_to_number(name):\n",
    "    \"\"\"\n",
    "    Take string name as input (rock-Spock-paper-lizard-scissors)\n",
    "    and returns integer (0-1-2-3-4)\n",
    "    \"\"\"\n",
    "    if name == \"rock\":\n",
    "        return 0\n",
    "    elif name == \"Spock\":\n",
    "        return 1\n",
    "    elif name == \"paper\":\n",
    "        return 2\n",
    "    elif name == \"lizard\":\n",
    "        return 3\n",
    "    elif name == \"scissors\":\n",
    "        return 4\n",
    "\n",
    "    \n",
    "print(name_to_number(\"rock\"))\t\t# output - 0\n",
    "print(name_to_number(\"Spock\"))\t\t# output - 1\n",
    "print(name_to_number(\"paper\"))\t\t# output - 2\n",
    "print(name_to_number(\"lizard\"))\t\t# output - 3\n",
    "print(name_to_number(\"scissors\"))\t# output - 4\n",
    "\n",
    "print(name_to_number(\"rock\")==0)\t\t# output - 0\n",
    "print(name_to_number(\"Spock\")==1)\t\t# output - 1"
   ]
  },
  {
   "cell_type": "code",
   "execution_count": null,
   "id": "6508e6b9",
   "metadata": {},
   "outputs": [],
   "source": []
  }
 ],
 "metadata": {
  "kernelspec": {
   "display_name": "Python 3 (ipykernel)",
   "language": "python",
   "name": "python3"
  },
  "language_info": {
   "codemirror_mode": {
    "name": "ipython",
    "version": 3
   },
   "file_extension": ".py",
   "mimetype": "text/x-python",
   "name": "python",
   "nbconvert_exporter": "python",
   "pygments_lexer": "ipython3",
   "version": "3.9.7"
  }
 },
 "nbformat": 4,
 "nbformat_minor": 5
}
