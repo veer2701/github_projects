{
 "cells": [
  {
   "cell_type": "code",
   "execution_count": 1,
   "id": "bde35362",
   "metadata": {},
   "outputs": [
    {
     "data": {
      "text/plain": [
       "'3.8.8 (default, Apr 13 2021, 15:08:03) [MSC v.1916 64 bit (AMD64)]'"
      ]
     },
     "execution_count": 1,
     "metadata": {},
     "output_type": "execute_result"
    }
   ],
   "source": [
    "import sys\n",
    "sys.version"
   ]
  },
  {
   "cell_type": "code",
   "execution_count": 2,
   "id": "d6195839",
   "metadata": {},
   "outputs": [
    {
     "name": "stdout",
     "output_type": "stream",
     "text": [
      "Collecting virtualenv\n",
      "  Downloading virtualenv-20.10.0-py2.py3-none-any.whl (5.6 MB)\n",
      "Collecting six<2,>=1.9.0\n",
      "  Using cached six-1.16.0-py2.py3-none-any.whl (11 kB)\n",
      "Collecting backports.entry-points-selectable>=1.0.4\n",
      "  Downloading backports.entry_points_selectable-1.1.1-py2.py3-none-any.whl (6.2 kB)\n",
      "Collecting filelock<4,>=3.2\n",
      "  Downloading filelock-3.4.0-py3-none-any.whl (9.8 kB)\n",
      "Collecting platformdirs<3,>=2\n",
      "  Downloading platformdirs-2.4.0-py3-none-any.whl (14 kB)\n",
      "Collecting distlib<1,>=0.3.1\n",
      "  Downloading distlib-0.3.3-py2.py3-none-any.whl (496 kB)\n",
      "Installing collected packages: six, platformdirs, filelock, distlib, backports.entry-points-selectable, virtualenv\n",
      "Successfully installed backports.entry-points-selectable-1.1.1 distlib-0.3.3 filelock-3.4.0 platformdirs-2.4.0 six-1.16.0 virtualenv-20.10.0\n"
     ]
    },
    {
     "name": "stderr",
     "output_type": "stream",
     "text": [
      "ERROR: pip's dependency resolver does not currently take into account all the packages that are installed. This behaviour is the source of the following dependency conflicts.\n",
      "tensorflow-gpu 2.6.0 requires absl-py~=0.10, which is not installed.\n",
      "tensorflow-gpu 2.6.0 requires astunparse~=1.6.3, which is not installed.\n",
      "tensorflow-gpu 2.6.0 requires clang~=5.0, which is not installed.\n",
      "tensorflow-gpu 2.6.0 requires flatbuffers~=1.12.0, which is not installed.\n",
      "tensorflow-gpu 2.6.0 requires gast==0.4.0, which is not installed.\n",
      "tensorflow-gpu 2.6.0 requires google-pasta~=0.2, which is not installed.\n",
      "tensorflow-gpu 2.6.0 requires grpcio<2.0,>=1.37.0, which is not installed.\n",
      "tensorflow-gpu 2.6.0 requires h5py~=3.1.0, which is not installed.\n",
      "tensorflow-gpu 2.6.0 requires keras~=2.6, which is not installed.\n",
      "tensorflow-gpu 2.6.0 requires keras-preprocessing~=1.1.2, which is not installed.\n",
      "tensorflow-gpu 2.6.0 requires numpy~=1.19.2, which is not installed.\n",
      "tensorflow-gpu 2.6.0 requires opt-einsum~=3.3.0, which is not installed.\n",
      "tensorflow-gpu 2.6.0 requires protobuf>=3.9.2, which is not installed.\n",
      "tensorflow-gpu 2.6.0 requires tensorboard~=2.6, which is not installed.\n",
      "tensorflow-gpu 2.6.0 requires tensorflow-estimator~=2.6, which is not installed.\n",
      "tensorflow-gpu 2.6.0 requires termcolor~=1.1.0, which is not installed.\n",
      "tensorflow-gpu 2.6.0 requires typing-extensions~=3.7.4, which is not installed.\n",
      "tensorflow-gpu 2.6.0 requires wrapt~=1.12.1, which is not installed.\n",
      "tensorflow-gpu 2.6.0 requires six~=1.15.0, but you have six 1.16.0 which is incompatible.\n"
     ]
    }
   ],
   "source": []
  },
  {
   "cell_type": "code",
   "execution_count": 5,
   "id": "31f8708a",
   "metadata": {},
   "outputs": [
    {
     "name": "stdout",
     "output_type": "stream",
     "text": [
      "Requirement already satisfied: pip in c:\\users\\user\\anaconda3\\envs\\new_3812\\lib\\site-packages (21.3.1)\n",
      "Requirement already satisfied: virtualenv in c:\\users\\user\\anaconda3\\envs\\new_3812\\lib\\site-packages (20.10.0)\n",
      "Requirement already satisfied: distlib<1,>=0.3.1 in c:\\users\\user\\anaconda3\\envs\\new_3812\\lib\\site-packages (from virtualenv) (0.3.3)\n",
      "Requirement already satisfied: backports.entry-points-selectable>=1.0.4 in c:\\users\\user\\anaconda3\\envs\\new_3812\\lib\\site-packages (from virtualenv) (1.1.1)\n",
      "Requirement already satisfied: six<2,>=1.9.0 in c:\\users\\user\\anaconda3\\envs\\new_3812\\lib\\site-packages (from virtualenv) (1.16.0)\n",
      "Requirement already satisfied: platformdirs<3,>=2 in c:\\users\\user\\anaconda3\\envs\\new_3812\\lib\\site-packages (from virtualenv) (2.4.0)\n",
      "Requirement already satisfied: filelock<4,>=3.2 in c:\\users\\user\\anaconda3\\envs\\new_3812\\lib\\site-packages (from virtualenv) (3.4.0)\n"
     ]
    }
   ],
   "source": [
    "!pip install --upgrade pip --user\n",
    "!pip install virtualenv"
   ]
  },
  {
   "cell_type": "code",
   "execution_count": 8,
   "id": "3705940e",
   "metadata": {},
   "outputs": [
    {
     "name": "stdout",
     "output_type": "stream",
     "text": [
      "SystemExit: 2\n"
     ]
    },
    {
     "name": "stderr",
     "output_type": "stream",
     "text": [
      "usage: virtualenv [--version] [--with-traceback] [-v | -q] [--read-only-app-data] [--app-data APP_DATA] [--reset-app-data] [--upgrade-embed-wheels] [--discovery {builtin}] [-p py] [--try-first-with py_exe]\n",
      "                  [--creator {builtin,cpython3-win,venv}] [--seeder {app-data,pip}] [--no-seed] [--activators comma_sep_list] [--clear] [--no-vcs-ignore] [--system-site-packages] [--copies] [--no-download | --download]\n",
      "                  [--extra-search-dir d [d ...]] [--pip version] [--setuptools version] [--wheel version] [--no-pip] [--no-setuptools] [--no-wheel] [--no-periodic-update] [--symlink-app-data] [--prompt prompt] [-h]\n",
      "                  dest\n",
      "virtualenv: error: the following arguments are required: dest\n"
     ]
    }
   ],
   "source": [
    "!virtualenv -p python3.8.12"
   ]
  },
  {
   "cell_type": "code",
   "execution_count": null,
   "id": "cf273906",
   "metadata": {},
   "outputs": [],
   "source": []
  }
 ],
 "metadata": {
  "kernelspec": {
   "display_name": "Python 3",
   "language": "python",
   "name": "python3"
  },
  "language_info": {
   "codemirror_mode": {
    "name": "ipython",
    "version": 3
   },
   "file_extension": ".py",
   "mimetype": "text/x-python",
   "name": "python",
   "nbconvert_exporter": "python",
   "pygments_lexer": "ipython3",
   "version": "3.8.8"
  }
 },
 "nbformat": 4,
 "nbformat_minor": 5
}
