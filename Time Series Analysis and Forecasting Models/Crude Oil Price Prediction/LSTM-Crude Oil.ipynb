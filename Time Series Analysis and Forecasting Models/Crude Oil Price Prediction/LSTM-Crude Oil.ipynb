{
 "cells": [
  {
   "cell_type": "markdown",
   "metadata": {
    "id": "u7BxW7BAumQD"
   },
   "source": [
    "# Deep Learning: Long Short-Term Memory (LSTM)\n",
    "\n",
    "\n",
    "## 1. Introduction\n",
    "\n",
    "Five years of AstraZeneca historical stock data will be used to predict Adjusted Close prices by building a multi-layer LSTM Recurrent Neural Network model. The ability to store information over a period of time is useful when dealing with time series data. \n",
    "\n"
   ]
  },
  {
   "cell_type": "markdown",
   "metadata": {
    "id": "xn8Jn7bYyaw0"
   },
   "source": [
    "## 2. Install/import libraries"
   ]
  },
  {
   "cell_type": "code",
   "execution_count": 1,
   "metadata": {
    "id": "vHuikd56lgGy"
   },
   "outputs": [],
   "source": [
    "# !pip install yfinance as yfinance"
   ]
  },
  {
   "cell_type": "code",
   "execution_count": 2,
   "metadata": {
    "id": "_qB4iVXillcc"
   },
   "outputs": [],
   "source": [
    "import yfinance as yf\n",
    "import pandas as pd\n",
    "import numpy as np\n",
    "import matplotlib.pyplot as plt\n",
    "import matplotlib.dates as dates\n",
    "import seaborn as sns\n",
    "import math\n",
    "import datetime\n",
    "import keras\n",
    "import warnings\n",
    "warnings.filterwarnings('ignore')\n",
    "\n",
    "from datetime import date, timedelta\n",
    "from keras.models import Sequential\n",
    "from keras.layers import Dense\n",
    "from keras.layers import LSTM\n",
    "from keras.layers import Dropout\n",
    "from keras.layers import *\n",
    "from keras.callbacks import EarlyStopping\n",
    "from sklearn.preprocessing import MinMaxScaler\n",
    "from sklearn.metrics import mean_squared_error\n",
    "from sklearn.metrics import mean_absolute_error\n",
    "\n",
    "%matplotlib inline"
   ]
  },
  {
   "cell_type": "markdown",
   "metadata": {
    "id": "Da8bAEfYyn8K"
   },
   "source": [
    "## 3. Import data\n",
    "\n",
    "Read in AstraZeneca stock data for 2014-2019 downloaded from Yahoo! Finance using yfinance API into a pandas DataFrame."
   ]
  },
  {
   "cell_type": "code",
   "execution_count": 3,
   "metadata": {
    "colab": {
     "base_uri": "https://localhost:8080/",
     "height": 467
    },
    "id": "inrpv-spl23s",
    "outputId": "a82b7502-0a5f-4bf6-bd9b-45e00ca9e69b"
   },
   "outputs": [
    {
     "name": "stdout",
     "output_type": "stream",
     "text": [
      "[*********************100%***********************]  1 of 1 completed\n"
     ]
    },
    {
     "data": {
      "text/html": [
       "<div>\n",
       "<style scoped>\n",
       "    .dataframe tbody tr th:only-of-type {\n",
       "        vertical-align: middle;\n",
       "    }\n",
       "\n",
       "    .dataframe tbody tr th {\n",
       "        vertical-align: top;\n",
       "    }\n",
       "\n",
       "    .dataframe thead th {\n",
       "        text-align: right;\n",
       "    }\n",
       "</style>\n",
       "<table border=\"1\" class=\"dataframe\">\n",
       "  <thead>\n",
       "    <tr style=\"text-align: right;\">\n",
       "      <th></th>\n",
       "      <th>Open</th>\n",
       "      <th>High</th>\n",
       "      <th>Low</th>\n",
       "      <th>Close</th>\n",
       "      <th>Adj Close</th>\n",
       "      <th>Volume</th>\n",
       "    </tr>\n",
       "    <tr>\n",
       "      <th>Date</th>\n",
       "      <th></th>\n",
       "      <th></th>\n",
       "      <th></th>\n",
       "      <th></th>\n",
       "      <th></th>\n",
       "      <th></th>\n",
       "    </tr>\n",
       "  </thead>\n",
       "  <tbody>\n",
       "    <tr>\n",
       "      <th>2023-01-09</th>\n",
       "      <td>73.470001</td>\n",
       "      <td>76.739998</td>\n",
       "      <td>73.470001</td>\n",
       "      <td>74.629997</td>\n",
       "      <td>74.629997</td>\n",
       "      <td>329290</td>\n",
       "    </tr>\n",
       "    <tr>\n",
       "      <th>2023-01-10</th>\n",
       "      <td>74.860001</td>\n",
       "      <td>75.919998</td>\n",
       "      <td>73.839996</td>\n",
       "      <td>75.120003</td>\n",
       "      <td>75.120003</td>\n",
       "      <td>307430</td>\n",
       "    </tr>\n",
       "    <tr>\n",
       "      <th>2023-01-11</th>\n",
       "      <td>74.779999</td>\n",
       "      <td>77.839996</td>\n",
       "      <td>74.309998</td>\n",
       "      <td>77.410004</td>\n",
       "      <td>77.410004</td>\n",
       "      <td>350891</td>\n",
       "    </tr>\n",
       "    <tr>\n",
       "      <th>2023-01-12</th>\n",
       "      <td>77.699997</td>\n",
       "      <td>79.160004</td>\n",
       "      <td>77.099998</td>\n",
       "      <td>78.389999</td>\n",
       "      <td>78.389999</td>\n",
       "      <td>307705</td>\n",
       "    </tr>\n",
       "    <tr>\n",
       "      <th>2023-01-13</th>\n",
       "      <td>78.320000</td>\n",
       "      <td>80.110001</td>\n",
       "      <td>77.970001</td>\n",
       "      <td>79.860001</td>\n",
       "      <td>79.860001</td>\n",
       "      <td>307705</td>\n",
       "    </tr>\n",
       "  </tbody>\n",
       "</table>\n",
       "</div>"
      ],
      "text/plain": [
       "                 Open       High        Low      Close  Adj Close  Volume\n",
       "Date                                                                     \n",
       "2023-01-09  73.470001  76.739998  73.470001  74.629997  74.629997  329290\n",
       "2023-01-10  74.860001  75.919998  73.839996  75.120003  75.120003  307430\n",
       "2023-01-11  74.779999  77.839996  74.309998  77.410004  77.410004  350891\n",
       "2023-01-12  77.699997  79.160004  77.099998  78.389999  78.389999  307705\n",
       "2023-01-13  78.320000  80.110001  77.970001  79.860001  79.860001  307705"
      ]
     },
     "execution_count": 3,
     "metadata": {},
     "output_type": "execute_result"
    }
   ],
   "source": [
    "crude = yf.download(\"CL=F\", start=\"2010-01-01\", end=\"2023-01-15\")\n",
    "crude.tail()"
   ]
  },
  {
   "cell_type": "code",
   "execution_count": 6,
   "metadata": {
    "colab": {
     "base_uri": "https://localhost:8080/",
     "height": 495
    },
    "id": "DLWTn0BOzOdb",
    "outputId": "3fefe1fd-c4db-49cb-d1cd-61f208f2a14c"
   },
   "outputs": [
    {
     "data": {
      "image/png": "[encoded data removed]",
      "text/plain": [
       "<Figure size 1152x576 with 1 Axes>"
      ]
     },
     "metadata": {},
     "output_type": "display_data"
    }
   ],
   "source": [
    "# Plot Adjusted Close price\n",
    "\n",
    "crude['Adj Close'].plot(grid = True)\n",
    "sns.set(rc={'figure.figsize':(16, 8)})\n",
    "plt.title('Crude Oil Adjusted Close Price from 2010-2023', color = 'black', fontsize = 20)\n",
    "plt.xlabel('Year', color = 'black', fontsize = 15)\n",
    "plt.ylabel('Stock price', color = 'black', fontsize = 15);\n"
   ]
  },
  {
   "cell_type": "code",
   "execution_count": 7,
   "metadata": {
    "id": "GTjKt62v1NkL"
   },
   "outputs": [],
   "source": [
    "# Create DataFrame for Adjusted Close price\n",
    "\n",
    "crude_adj = crude[['Adj Close']]"
   ]
  },
  {
   "cell_type": "code",
   "execution_count": 8,
   "metadata": {
    "colab": {
     "base_uri": "https://localhost:8080/",
     "height": 450
    },
    "id": "wOQIDp-a1U-y",
    "outputId": "0dceac41-6148-4b37-d71c-a19a9c625f41"
   },
   "outputs": [
    {
     "data": {
      "text/html": [
       "<div>\n",
       "<style scoped>\n",
       "    .dataframe tbody tr th:only-of-type {\n",
       "        vertical-align: middle;\n",
       "    }\n",
       "\n",
       "    .dataframe tbody tr th {\n",
       "        vertical-align: top;\n",
       "    }\n",
       "\n",
       "    .dataframe thead th {\n",
       "        text-align: right;\n",
       "    }\n",
       "</style>\n",
       "<table border=\"1\" class=\"dataframe\">\n",
       "  <thead>\n",
       "    <tr style=\"text-align: right;\">\n",
       "      <th></th>\n",
       "      <th>Adj Close</th>\n",
       "    </tr>\n",
       "    <tr>\n",
       "      <th>Date</th>\n",
       "      <th></th>\n",
       "    </tr>\n",
       "  </thead>\n",
       "  <tbody>\n",
       "    <tr>\n",
       "      <th>2009-12-31</th>\n",
       "      <td>79.360001</td>\n",
       "    </tr>\n",
       "    <tr>\n",
       "      <th>2010-01-04</th>\n",
       "      <td>81.510002</td>\n",
       "    </tr>\n",
       "    <tr>\n",
       "      <th>2010-01-05</th>\n",
       "      <td>81.769997</td>\n",
       "    </tr>\n",
       "    <tr>\n",
       "      <th>2010-01-06</th>\n",
       "      <td>83.180000</td>\n",
       "    </tr>\n",
       "    <tr>\n",
       "      <th>2010-01-07</th>\n",
       "      <td>82.660004</td>\n",
       "    </tr>\n",
       "    <tr>\n",
       "      <th>...</th>\n",
       "      <td>...</td>\n",
       "    </tr>\n",
       "    <tr>\n",
       "      <th>2023-01-09</th>\n",
       "      <td>74.629997</td>\n",
       "    </tr>\n",
       "    <tr>\n",
       "      <th>2023-01-10</th>\n",
       "      <td>75.120003</td>\n",
       "    </tr>\n",
       "    <tr>\n",
       "      <th>2023-01-11</th>\n",
       "      <td>77.410004</td>\n",
       "    </tr>\n",
       "    <tr>\n",
       "      <th>2023-01-12</th>\n",
       "      <td>78.389999</td>\n",
       "    </tr>\n",
       "    <tr>\n",
       "      <th>2023-01-13</th>\n",
       "      <td>79.860001</td>\n",
       "    </tr>\n",
       "  </tbody>\n",
       "</table>\n",
       "<p>3282 rows × 1 columns</p>\n",
       "</div>"
      ],
      "text/plain": [
       "            Adj Close\n",
       "Date                 \n",
       "2009-12-31  79.360001\n",
       "2010-01-04  81.510002\n",
       "2010-01-05  81.769997\n",
       "2010-01-06  83.180000\n",
       "2010-01-07  82.660004\n",
       "...               ...\n",
       "2023-01-09  74.629997\n",
       "2023-01-10  75.120003\n",
       "2023-01-11  77.410004\n",
       "2023-01-12  78.389999\n",
       "2023-01-13  79.860001\n",
       "\n",
       "[3282 rows x 1 columns]"
      ]
     },
     "execution_count": 8,
     "metadata": {},
     "output_type": "execute_result"
    }
   ],
   "source": [
    "crude_adj"
   ]
  },
  {
   "cell_type": "markdown",
   "metadata": {
    "id": "N1zio5Ok1qXE"
   },
   "source": [
    "## 4. Create training data set"
   ]
  },
  {
   "cell_type": "code",
   "execution_count": 9,
   "metadata": {
    "colab": {
     "base_uri": "https://localhost:8080/"
    },
    "id": "xI8eAVojSd-5",
    "outputId": "8a0ce0dc-a560-4a49-b0a2-4f118945db52"
   },
   "outputs": [
    {
     "data": {
      "text/plain": [
       "2625"
      ]
     },
     "execution_count": 9,
     "metadata": {},
     "output_type": "execute_result"
    }
   ],
   "source": [
    "# Convert DataFrame to numpy array\n",
    "crude_adj_arr = crude_adj.values\n",
    "\n",
    "# Find number of rows to train model on (80% of data set) \n",
    "training_data_len = int(0.8*len(crude_adj))\n",
    "\n",
    "training_data_len"
   ]
  },
  {
   "cell_type": "code",
   "execution_count": 10,
   "metadata": {
    "id": "zCgW-cwPZBjD"
   },
   "outputs": [],
   "source": [
    "# Create train data set\n",
    "\n",
    "train = crude_adj_arr[0:training_data_len, :]"
   ]
  },
  {
   "cell_type": "markdown",
   "metadata": {
    "id": "20V7wwx73R_r"
   },
   "source": [
    "### Feature scaling\n",
    "\n",
    "We will normalise the training data before model fitting by converting the values of numeric columns in the data set to a common scale. Scikit-Learn’s MinMaxScaler() function scales the data to values between 0 and 1 which helps boost performance."
   ]
  },
  {
   "cell_type": "code",
   "execution_count": 11,
   "metadata": {
    "colab": {
     "base_uri": "https://localhost:8080/"
    },
    "id": "InwRKZSQKH-t",
    "outputId": "d8ec3532-5356-4960-ec28-a0b4630c36cc"
   },
   "outputs": [
    {
     "data": {
      "text/plain": [
       "array([[0.77190552],\n",
       "       [0.78609133],\n",
       "       [0.78780679],\n",
       "       ...,\n",
       "       [0.50923726],\n",
       "       [0.50026392],\n",
       "       [0.50521245]])"
      ]
     },
     "execution_count": 11,
     "metadata": {},
     "output_type": "execute_result"
    }
   ],
   "source": [
    "# Normalise the data\n",
    "scaler = MinMaxScaler(feature_range=(0,1))\n",
    "train_scaled = scaler.fit_transform(train)\n",
    "\n",
    "train_scaled"
   ]
  },
  {
   "cell_type": "code",
   "execution_count": 12,
   "metadata": {
    "colab": {
     "base_uri": "https://localhost:8080/"
    },
    "id": "jq4xU6ArpbWt",
    "outputId": "e4d06f34-baa5-48c1-d67a-cf1adda36a97"
   },
   "outputs": [
    {
     "data": {
      "text/plain": [
       "(2625, 1)"
      ]
     },
     "execution_count": 12,
     "metadata": {},
     "output_type": "execute_result"
    }
   ],
   "source": [
    "train_scaled.shape"
   ]
  },
  {
   "cell_type": "markdown",
   "metadata": {
    "id": "7C1bvW-fiAzN"
   },
   "source": [
    "## Split training data into X_train, y_train"
   ]
  },
  {
   "cell_type": "code",
   "execution_count": 13,
   "metadata": {
    "colab": {
     "base_uri": "https://localhost:8080/"
    },
    "id": "bGBH9hP_n9Ea",
    "outputId": "a0ef1d5d-5423-4d4a-a1d2-28a7aa97f48d"
   },
   "outputs": [
    {
     "name": "stdout",
     "output_type": "stream",
     "text": [
      "[array([0.77190552, 0.78609133, 0.78780679, 0.79711006, 0.7936791 ,\n",
      "       0.7942729 , 0.79275532, 0.78134073, 0.77381896, 0.77210345,\n",
      "       0.76293217, 0.76966216, 0.76042493, 0.75026393, 0.74010294,\n",
      "       0.74485354, 0.74122459, 0.73436262, 0.73416468, 0.72921615,\n",
      "       0.73937715, 0.7578517 , 0.75620219, 0.73086566, 0.71799949,\n",
      "       0.7226181 , 0.73489047, 0.73997095, 0.74498548, 0.73739771,\n",
      "       0.75640012, 0.75851149, 0.76992609, 0.77487462, 0.77718398,\n",
      "       0.7686065 , 0.77612827, 0.76405383, 0.77388495, 0.76755078,\n",
      "       0.77401689, 0.78186858, 0.77751385, 0.78602534, 0.78846663,\n",
      "       0.78595934, 0.78991816, 0.79005015, 0.78430983, 0.77480868,\n",
      "       0.78734493, 0.79546055, 0.79064395, 0.78061494, 0.78437582,\n",
      "       0.78873056, 0.78015308, 0.77962522, 0.77612827, 0.79044602])]\n",
      "[array([0.79176566])]\n",
      "\n",
      "[array([0.77190552, 0.78609133, 0.78780679, 0.79711006, 0.7936791 ,\n",
      "       0.7942729 , 0.79275532, 0.78134073, 0.77381896, 0.77210345,\n",
      "       0.76293217, 0.76966216, 0.76042493, 0.75026393, 0.74010294,\n",
      "       0.74485354, 0.74122459, 0.73436262, 0.73416468, 0.72921615,\n",
      "       0.73937715, 0.7578517 , 0.75620219, 0.73086566, 0.71799949,\n",
      "       0.7226181 , 0.73489047, 0.73997095, 0.74498548, 0.73739771,\n",
      "       0.75640012, 0.75851149, 0.76992609, 0.77487462, 0.77718398,\n",
      "       0.7686065 , 0.77612827, 0.76405383, 0.77388495, 0.76755078,\n",
      "       0.77401689, 0.78186858, 0.77751385, 0.78602534, 0.78846663,\n",
      "       0.78595934, 0.78991816, 0.79005015, 0.78430983, 0.77480868,\n",
      "       0.78734493, 0.79546055, 0.79064395, 0.78061494, 0.78437582,\n",
      "       0.78873056, 0.78015308, 0.77962522, 0.77612827, 0.79044602]), array([0.78609133, 0.78780679, 0.79711006, 0.7936791 , 0.7942729 ,\n",
      "       0.79275532, 0.78134073, 0.77381896, 0.77210345, 0.76293217,\n",
      "       0.76966216, 0.76042493, 0.75026393, 0.74010294, 0.74485354,\n",
      "       0.74122459, 0.73436262, 0.73416468, 0.72921615, 0.73937715,\n",
      "       0.7578517 , 0.75620219, 0.73086566, 0.71799949, 0.7226181 ,\n",
      "       0.73489047, 0.73997095, 0.74498548, 0.73739771, 0.75640012,\n",
      "       0.75851149, 0.76992609, 0.77487462, 0.77718398, 0.7686065 ,\n",
      "       0.77612827, 0.76405383, 0.77388495, 0.76755078, 0.77401689,\n",
      "       0.78186858, 0.77751385, 0.78602534, 0.78846663, 0.78595934,\n",
      "       0.78991816, 0.79005015, 0.78430983, 0.77480868, 0.78734493,\n",
      "       0.79546055, 0.79064395, 0.78061494, 0.78437582, 0.78873056,\n",
      "       0.78015308, 0.77962522, 0.77612827, 0.79044602, 0.79176566])]\n",
      "[array([0.79176566]), array([0.80093694])]\n",
      "\n"
     ]
    }
   ],
   "source": [
    "# Creating a data structure with 60 time-steps and 1 output\n",
    "\n",
    "# Split data into X_train and y_train data sets\n",
    "X_train = []\n",
    "y_train = []\n",
    "# Creating a data structure with 60 time-steps and 1 output\n",
    "for i in range(60, len(train_scaled)):\n",
    "    X_train.append(train_scaled[i-60:i, 0])\n",
    "    y_train.append(train_scaled[i:i+1, 0])  \n",
    "    if i <= 61:     # 60 days for first pass, 61 for second\n",
    "        print(X_train)\n",
    "        print(y_train)\n",
    "        print()"
   ]
  },
  {
   "cell_type": "code",
   "execution_count": 14,
   "metadata": {
    "id": "8qR5ozhTNWRe"
   },
   "outputs": [],
   "source": [
    "# Convert X_train and y_train to numpy arrays for training LSTM model\n",
    "X_train, y_train = np.array(X_train), np.array(y_train)"
   ]
  },
  {
   "cell_type": "code",
   "execution_count": 15,
   "metadata": {
    "colab": {
     "base_uri": "https://localhost:8080/"
    },
    "id": "Hg1ntS0FNiUj",
    "outputId": "5e9c9a04-c61c-4989-81a3-0c1bbc89cb2f"
   },
   "outputs": [
    {
     "data": {
      "text/plain": [
       "(2565, 60, 1)"
      ]
     },
     "execution_count": 15,
     "metadata": {},
     "output_type": "execute_result"
    }
   ],
   "source": [
    "# Reshape the data as LSTM expects 3-D data (samples, time steps, features)\n",
    "\n",
    "X_train = np.reshape(X_train, (X_train.shape[0], X_train.shape[1], 1))\n",
    "X_train.shape"
   ]
  },
  {
   "cell_type": "markdown",
   "metadata": {
    "id": "eOQRD4UNiGPu"
   },
   "source": [
    "### Create and train model\n",
    "\n",
    "We will create and train a model with four recurrent layers each with 50 neurons, input shape of data with number of time steps (60) and dimensionality (1), and an output layer with time step of 1, and the tanh activation function. Dropout will be used after each hidden layer as a regularisation technique to prevent overfitting. The model will be compiled using the Mean Squared Error loss function and the adam (Adaptive Moment Estimation) optimizer then fitted on the training set for 200 epochs with a batch size of 64."
   ]
  },
  {
   "cell_type": "code",
   "execution_count": 16,
   "metadata": {
    "colab": {
     "base_uri": "https://localhost:8080/"
    },
    "id": "b006LbSw91vK",
    "outputId": "0cab8b0d-5061-41d3-ca5e-35a7766f0970"
   },
   "outputs": [
    {
     "name": "stdout",
     "output_type": "stream",
     "text": [
      "Epoch 1/200\n",
      "41/41 [==============================] - 10s 91ms/step - loss: 0.0786\n",
      "Epoch 2/200\n",
      "41/41 [==============================] - 3s 81ms/step - loss: 0.0091\n",
      "Epoch 3/200\n",
      "41/41 [==============================] - 3s 82ms/step - loss: 0.0067\n",
      "Epoch 4/200\n",
      "41/41 [==============================] - 4s 86ms/step - loss: 0.0060\n",
      "Epoch 5/200\n",
      "41/41 [==============================] - 3s 83ms/step - loss: 0.0055\n",
      "Epoch 6/200\n",
      "41/41 [==============================] - 3s 81ms/step - loss: 0.0049\n",
      "Epoch 7/200\n",
      "41/41 [==============================] - 3s 82ms/step - loss: 0.0056\n",
      "Epoch 8/200\n",
      "41/41 [==============================] - 3s 79ms/step - loss: 0.0049\n",
      "Epoch 9/200\n",
      "41/41 [==============================] - 3s 84ms/step - loss: 0.0046\n",
      "Epoch 10/200\n",
      "41/41 [==============================] - 3s 81ms/step - loss: 0.0049\n",
      "Epoch 11/200\n",
      "41/41 [==============================] - 3s 81ms/step - loss: 0.0046\n",
      "Epoch 12/200\n",
      "41/41 [==============================] - 4s 86ms/step - loss: 0.0045\n",
      "Epoch 13/200\n",
      "41/41 [==============================] - 4s 89ms/step - loss: 0.0048\n",
      "Epoch 14/200\n",
      "41/41 [==============================] - 4s 88ms/step - loss: 0.0043\n",
      "Epoch 15/200\n",
      "41/41 [==============================] - 3s 83ms/step - loss: 0.0042\n",
      "Epoch 16/200\n",
      "41/41 [==============================] - 4s 87ms/step - loss: 0.0040\n",
      "Epoch 17/200\n",
      "41/41 [==============================] - 3s 84ms/step - loss: 0.0043\n",
      "Epoch 18/200\n",
      "41/41 [==============================] - 4s 87ms/step - loss: 0.0041\n",
      "Epoch 19/200\n",
      "41/41 [==============================] - 3s 82ms/step - loss: 0.0044\n",
      "Epoch 20/200\n",
      "41/41 [==============================] - 3s 82ms/step - loss: 0.0039\n",
      "Epoch 21/200\n",
      "41/41 [==============================] - 3s 83ms/step - loss: 0.0038\n",
      "Epoch 22/200\n",
      "41/41 [==============================] - 3s 85ms/step - loss: 0.0036\n",
      "Epoch 23/200\n",
      "41/41 [==============================] - 4s 85ms/step - loss: 0.0037\n",
      "Epoch 24/200\n",
      "41/41 [==============================] - 3s 84ms/step - loss: 0.0040\n",
      "Epoch 25/200\n",
      "41/41 [==============================] - 3s 83ms/step - loss: 0.0035\n",
      "Epoch 26/200\n",
      "41/41 [==============================] - 3s 82ms/step - loss: 0.0034\n",
      "Epoch 27/200\n",
      "41/41 [==============================] - 3s 85ms/step - loss: 0.0035\n",
      "Epoch 28/200\n",
      "41/41 [==============================] - 3s 84ms/step - loss: 0.0037\n",
      "Epoch 29/200\n",
      "41/41 [==============================] - 3s 84ms/step - loss: 0.0032\n",
      "Epoch 30/200\n",
      "41/41 [==============================] - 3s 82ms/step - loss: 0.0035\n",
      "Epoch 31/200\n",
      "41/41 [==============================] - 3s 84ms/step - loss: 0.0036\n",
      "Epoch 32/200\n",
      "41/41 [==============================] - 4s 87ms/step - loss: 0.0033\n",
      "Epoch 33/200\n",
      "41/41 [==============================] - 3s 84ms/step - loss: 0.0030\n",
      "Epoch 34/200\n",
      "41/41 [==============================] - 3s 82ms/step - loss: 0.0031\n",
      "Epoch 35/200\n",
      "41/41 [==============================] - 3s 81ms/step - loss: 0.0030\n",
      "Epoch 36/200\n",
      "41/41 [==============================] - 3s 83ms/step - loss: 0.0031\n",
      "Epoch 37/200\n",
      "41/41 [==============================] - 4s 86ms/step - loss: 0.0029\n",
      "Epoch 38/200\n",
      "41/41 [==============================] - 3s 82ms/step - loss: 0.0029\n",
      "Epoch 39/200\n",
      "41/41 [==============================] - 3s 83ms/step - loss: 0.0028\n",
      "Epoch 40/200\n",
      "41/41 [==============================] - 3s 83ms/step - loss: 0.0029\n",
      "Epoch 41/200\n",
      "41/41 [==============================] - 3s 85ms/step - loss: 0.0034\n",
      "Epoch 42/200\n",
      "41/41 [==============================] - 3s 85ms/step - loss: 0.0027\n",
      "Epoch 43/200\n",
      "41/41 [==============================] - 3s 82ms/step - loss: 0.0026\n",
      "Epoch 44/200\n",
      "41/41 [==============================] - 3s 82ms/step - loss: 0.0027\n",
      "Epoch 45/200\n",
      "41/41 [==============================] - 3s 84ms/step - loss: 0.0025\n",
      "Epoch 46/200\n",
      "41/41 [==============================] - 4s 91ms/step - loss: 0.0026\n",
      "Epoch 47/200\n",
      "41/41 [==============================] - 3s 82ms/step - loss: 0.0026\n",
      "Epoch 48/200\n",
      "41/41 [==============================] - 4s 88ms/step - loss: 0.0025\n",
      "Epoch 49/200\n",
      "41/41 [==============================] - 3s 84ms/step - loss: 0.0024\n",
      "Epoch 50/200\n",
      "41/41 [==============================] - 4s 87ms/step - loss: 0.0023\n",
      "Epoch 51/200\n",
      "41/41 [==============================] - 4s 90ms/step - loss: 0.0025\n",
      "Epoch 52/200\n",
      "41/41 [==============================] - 4s 86ms/step - loss: 0.0027\n",
      "Epoch 53/200\n",
      "41/41 [==============================] - 4s 87ms/step - loss: 0.0022\n",
      "Epoch 54/200\n",
      "41/41 [==============================] - 3s 84ms/step - loss: 0.0024\n",
      "Epoch 55/200\n",
      "41/41 [==============================] - 4s 87ms/step - loss: 0.0025\n",
      "Epoch 56/200\n",
      "41/41 [==============================] - 3s 83ms/step - loss: 0.0022\n",
      "Epoch 57/200\n",
      "41/41 [==============================] - 3s 82ms/step - loss: 0.0022\n",
      "Epoch 58/200\n",
      "41/41 [==============================] - 3s 84ms/step - loss: 0.0022\n",
      "Epoch 59/200\n",
      "41/41 [==============================] - 3s 85ms/step - loss: 0.0021\n",
      "Epoch 60/200\n",
      "41/41 [==============================] - 4s 87ms/step - loss: 0.0021\n",
      "Epoch 61/200\n",
      "41/41 [==============================] - 3s 84ms/step - loss: 0.0020\n",
      "Epoch 62/200\n",
      "41/41 [==============================] - 4s 85ms/step - loss: 0.0019\n",
      "Epoch 63/200\n",
      "41/41 [==============================] - 3s 85ms/step - loss: 0.0021\n",
      "Epoch 64/200\n",
      "41/41 [==============================] - 4s 87ms/step - loss: 0.0021\n",
      "Epoch 65/200\n",
      "41/41 [==============================] - 3s 84ms/step - loss: 0.0020\n",
      "Epoch 66/200\n",
      "41/41 [==============================] - 3s 83ms/step - loss: 0.0018\n",
      "Epoch 67/200\n",
      "41/41 [==============================] - 3s 84ms/step - loss: 0.0020\n",
      "Epoch 68/200\n",
      "41/41 [==============================] - 3s 85ms/step - loss: 0.0018\n",
      "Epoch 69/200\n",
      "41/41 [==============================] - 4s 87ms/step - loss: 0.0019\n",
      "Epoch 70/200\n",
      "41/41 [==============================] - 3s 83ms/step - loss: 0.0018\n",
      "Epoch 71/200\n",
      "41/41 [==============================] - 3s 83ms/step - loss: 0.0017\n",
      "Epoch 72/200\n",
      "41/41 [==============================] - 3s 84ms/step - loss: 0.0017\n",
      "Epoch 73/200\n",
      "41/41 [==============================] - 3s 84ms/step - loss: 0.0017\n",
      "Epoch 74/200\n",
      "41/41 [==============================] - 4s 89ms/step - loss: 0.0016\n",
      "Epoch 75/200\n",
      "41/41 [==============================] - 3s 85ms/step - loss: 0.0017\n",
      "Epoch 76/200\n",
      "41/41 [==============================] - 3s 84ms/step - loss: 0.0016\n",
      "Epoch 77/200\n",
      "41/41 [==============================] - 3s 84ms/step - loss: 0.0016\n",
      "Epoch 78/200\n",
      "41/41 [==============================] - 4s 88ms/step - loss: 0.0014\n",
      "Epoch 79/200\n",
      "41/41 [==============================] - 4s 88ms/step - loss: 0.0014\n",
      "Epoch 80/200\n",
      "41/41 [==============================] - 4s 88ms/step - loss: 0.0015\n",
      "Epoch 81/200\n",
      "41/41 [==============================] - 4s 87ms/step - loss: 0.0015\n",
      "Epoch 82/200\n",
      "41/41 [==============================] - 3s 85ms/step - loss: 0.0015\n",
      "Epoch 83/200\n",
      "41/41 [==============================] - 4s 89ms/step - loss: 0.0015\n",
      "Epoch 84/200\n",
      "41/41 [==============================] - 4s 86ms/step - loss: 0.0013\n",
      "Epoch 85/200\n",
      "41/41 [==============================] - 4s 87ms/step - loss: 0.0014\n",
      "Epoch 86/200\n",
      "41/41 [==============================] - 4s 88ms/step - loss: 0.0014\n",
      "Epoch 87/200\n",
      "41/41 [==============================] - 4s 89ms/step - loss: 0.0013\n",
      "Epoch 88/200\n",
      "41/41 [==============================] - 3s 84ms/step - loss: 0.0013\n",
      "Epoch 89/200\n",
      "41/41 [==============================] - 3s 84ms/step - loss: 0.0012\n",
      "Epoch 90/200\n",
      "41/41 [==============================] - 4s 88ms/step - loss: 0.0012\n",
      "Epoch 91/200\n",
      "41/41 [==============================] - 4s 95ms/step - loss: 0.0011\n",
      "Epoch 92/200\n",
      "41/41 [==============================] - 3s 83ms/step - loss: 0.0012\n",
      "Epoch 93/200\n",
      "41/41 [==============================] - 3s 82ms/step - loss: 0.0013\n",
      "Epoch 94/200\n",
      "41/41 [==============================] - 3s 83ms/step - loss: 0.0011\n",
      "Epoch 95/200\n",
      "41/41 [==============================] - 3s 82ms/step - loss: 0.0011\n",
      "Epoch 96/200\n",
      "41/41 [==============================] - 4s 86ms/step - loss: 0.0011\n",
      "Epoch 97/200\n",
      "41/41 [==============================] - 3s 83ms/step - loss: 0.0012\n",
      "Epoch 98/200\n",
      "41/41 [==============================] - 3s 83ms/step - loss: 0.0012\n",
      "Epoch 99/200\n",
      "41/41 [==============================] - 3s 82ms/step - loss: 0.0011\n",
      "Epoch 100/200\n",
      "41/41 [==============================] - 4s 90ms/step - loss: 0.0010\n"
     ]
    },
    {
     "name": "stdout",
     "output_type": "stream",
     "text": [
      "Epoch 101/200\n",
      "41/41 [==============================] - 3s 83ms/step - loss: 0.0010\n",
      "Epoch 102/200\n",
      "41/41 [==============================] - 3s 81ms/step - loss: 0.0010\n",
      "Epoch 103/200\n",
      "41/41 [==============================] - 3s 79ms/step - loss: 0.0011\n",
      "Epoch 104/200\n",
      "41/41 [==============================] - 3s 80ms/step - loss: 0.0010\n",
      "Epoch 105/200\n",
      "41/41 [==============================] - 3s 82ms/step - loss: 9.1079e-04\n",
      "Epoch 106/200\n",
      "41/41 [==============================] - 3s 80ms/step - loss: 9.7227e-04\n",
      "Epoch 107/200\n",
      "41/41 [==============================] - 3s 79ms/step - loss: 9.7317e-04\n",
      "Epoch 108/200\n",
      "41/41 [==============================] - 3s 82ms/step - loss: 9.5129e-04\n",
      "Epoch 109/200\n",
      "41/41 [==============================] - 3s 82ms/step - loss: 9.2440e-04\n",
      "Epoch 110/200\n",
      "41/41 [==============================] - 3s 83ms/step - loss: 8.8023e-04\n",
      "Epoch 111/200\n",
      "41/41 [==============================] - 3s 81ms/step - loss: 9.0366e-04\n",
      "Epoch 112/200\n",
      "41/41 [==============================] - 3s 81ms/step - loss: 9.0707e-04\n",
      "Epoch 113/200\n",
      "41/41 [==============================] - 3s 83ms/step - loss: 8.1391e-04\n",
      "Epoch 114/200\n",
      "41/41 [==============================] - 3s 84ms/step - loss: 0.0010\n",
      "Epoch 115/200\n",
      "41/41 [==============================] - 3s 85ms/step - loss: 8.2472e-04\n",
      "Epoch 116/200\n",
      "41/41 [==============================] - 4s 88ms/step - loss: 7.9672e-04\n",
      "Epoch 117/200\n",
      "41/41 [==============================] - 3s 82ms/step - loss: 7.6546e-04\n",
      "Epoch 118/200\n",
      "41/41 [==============================] - 3s 84ms/step - loss: 7.8070e-04\n",
      "Epoch 119/200\n",
      "41/41 [==============================] - 4s 89ms/step - loss: 7.6418e-04\n",
      "Epoch 120/200\n",
      "41/41 [==============================] - 4s 88ms/step - loss: 7.6095e-04\n",
      "Epoch 121/200\n",
      "41/41 [==============================] - 3s 81ms/step - loss: 7.6328e-04\n",
      "Epoch 122/200\n",
      "41/41 [==============================] - 3s 82ms/step - loss: 7.6406e-04\n",
      "Epoch 123/200\n",
      "41/41 [==============================] - 3s 82ms/step - loss: 7.4410e-04\n",
      "Epoch 124/200\n",
      "41/41 [==============================] - 3s 83ms/step - loss: 7.1023e-04\n",
      "Epoch 125/200\n",
      "41/41 [==============================] - 3s 80ms/step - loss: 7.3290e-04\n",
      "Epoch 126/200\n",
      "41/41 [==============================] - 3s 81ms/step - loss: 6.9051e-04\n",
      "Epoch 127/200\n",
      "41/41 [==============================] - 3s 83ms/step - loss: 8.1370e-04\n",
      "Epoch 128/200\n",
      "41/41 [==============================] - 3s 85ms/step - loss: 6.8462e-04\n",
      "Epoch 129/200\n",
      "41/41 [==============================] - 4s 85ms/step - loss: 6.8896e-04\n",
      "Epoch 130/200\n",
      "41/41 [==============================] - 4s 85ms/step - loss: 6.4601e-04\n",
      "Epoch 131/200\n",
      "41/41 [==============================] - 3s 83ms/step - loss: 6.4549e-04\n",
      "Epoch 132/200\n",
      "41/41 [==============================] - 3s 82ms/step - loss: 6.6105e-04\n",
      "Epoch 133/200\n",
      "41/41 [==============================] - 3s 83ms/step - loss: 6.6065e-04\n",
      "Epoch 134/200\n",
      "41/41 [==============================] - 3s 83ms/step - loss: 6.3760e-04\n",
      "Epoch 135/200\n",
      "41/41 [==============================] - 3s 81ms/step - loss: 5.9702e-04\n",
      "Epoch 136/200\n",
      "41/41 [==============================] - 4s 90ms/step - loss: 7.8993e-04\n",
      "Epoch 137/200\n",
      "41/41 [==============================] - 4s 86ms/step - loss: 6.5133e-04\n",
      "Epoch 138/200\n",
      "41/41 [==============================] - 3s 84ms/step - loss: 6.1082e-04\n",
      "Epoch 139/200\n",
      "41/41 [==============================] - 3s 82ms/step - loss: 6.0582e-04\n",
      "Epoch 140/200\n",
      "41/41 [==============================] - 3s 80ms/step - loss: 6.1345e-04\n",
      "Epoch 141/200\n",
      "41/41 [==============================] - 3s 82ms/step - loss: 5.7174e-04\n",
      "Epoch 142/200\n",
      "41/41 [==============================] - 3s 82ms/step - loss: 5.5377e-04\n",
      "Epoch 143/200\n",
      "41/41 [==============================] - 4s 87ms/step - loss: 6.1302e-04\n",
      "Epoch 144/200\n",
      "41/41 [==============================] - 3s 83ms/step - loss: 5.4840e-04\n",
      "Epoch 145/200\n",
      "41/41 [==============================] - 3s 83ms/step - loss: 6.2365e-04\n",
      "Epoch 146/200\n",
      "41/41 [==============================] - 3s 83ms/step - loss: 6.8896e-04\n",
      "Epoch 147/200\n",
      "41/41 [==============================] - 3s 84ms/step - loss: 6.3834e-04\n",
      "Epoch 148/200\n",
      "41/41 [==============================] - 4s 89ms/step - loss: 5.4054e-04\n",
      "Epoch 149/200\n",
      "41/41 [==============================] - 3s 82ms/step - loss: 5.6223e-04\n",
      "Epoch 150/200\n",
      "41/41 [==============================] - 3s 84ms/step - loss: 5.6744e-04\n",
      "Epoch 151/200\n",
      "41/41 [==============================] - 3s 85ms/step - loss: 5.3115e-04\n",
      "Epoch 152/200\n",
      "41/41 [==============================] - 4s 87ms/step - loss: 5.0001e-04\n",
      "Epoch 153/200\n",
      "41/41 [==============================] - 3s 85ms/step - loss: 5.3966e-04\n",
      "Epoch 154/200\n",
      "41/41 [==============================] - 3s 83ms/step - loss: 5.4077e-04\n",
      "Epoch 155/200\n",
      "41/41 [==============================] - 3s 84ms/step - loss: 5.4257e-04\n",
      "Epoch 156/200\n",
      "41/41 [==============================] - 3s 83ms/step - loss: 5.1224e-04\n",
      "Epoch 157/200\n",
      "41/41 [==============================] - 4s 87ms/step - loss: 5.0034e-04\n",
      "Epoch 158/200\n",
      "41/41 [==============================] - 3s 83ms/step - loss: 5.2913e-04\n",
      "Epoch 159/200\n",
      "41/41 [==============================] - 3s 82ms/step - loss: 5.4696e-04\n",
      "Epoch 160/200\n",
      "41/41 [==============================] - 3s 83ms/step - loss: 5.4751e-04\n",
      "Epoch 161/200\n",
      "41/41 [==============================] - 3s 82ms/step - loss: 4.7410e-04\n",
      "Epoch 162/200\n",
      "41/41 [==============================] - 4s 87ms/step - loss: 5.0883e-04\n",
      "Epoch 163/200\n",
      "41/41 [==============================] - 3s 84ms/step - loss: 5.2764e-04\n",
      "Epoch 164/200\n",
      "41/41 [==============================] - 3s 84ms/step - loss: 5.4446e-04\n",
      "Epoch 165/200\n",
      "41/41 [==============================] - 3s 83ms/step - loss: 4.8341e-04\n",
      "Epoch 166/200\n",
      "41/41 [==============================] - 4s 87ms/step - loss: 4.6976e-04\n",
      "Epoch 167/200\n",
      "41/41 [==============================] - 3s 83ms/step - loss: 4.7849e-04\n",
      "Epoch 168/200\n",
      "41/41 [==============================] - 3s 80ms/step - loss: 4.6770e-04\n",
      "Epoch 169/200\n",
      "41/41 [==============================] - 3s 81ms/step - loss: 5.1669e-04\n",
      "Epoch 170/200\n",
      "41/41 [==============================] - 3s 83ms/step - loss: 4.4433e-04\n",
      "Epoch 171/200\n",
      "41/41 [==============================] - 4s 86ms/step - loss: 4.1731e-04\n",
      "Epoch 172/200\n",
      "41/41 [==============================] - 3s 82ms/step - loss: 4.8174e-04\n",
      "Epoch 173/200\n",
      "41/41 [==============================] - 3s 80ms/step - loss: 4.9979e-04\n",
      "Epoch 174/200\n",
      "41/41 [==============================] - 3s 80ms/step - loss: 4.8315e-04\n",
      "Epoch 175/200\n",
      "41/41 [==============================] - 3s 83ms/step - loss: 4.6192e-04\n",
      "Epoch 176/200\n",
      "41/41 [==============================] - 3s 84ms/step - loss: 4.3365e-04\n",
      "Epoch 177/200\n",
      "41/41 [==============================] - 3s 80ms/step - loss: 4.4123e-04\n",
      "Epoch 178/200\n",
      "41/41 [==============================] - 3s 80ms/step - loss: 4.3593e-04\n",
      "Epoch 179/200\n",
      "41/41 [==============================] - 3s 83ms/step - loss: 4.8965e-04\n",
      "Epoch 180/200\n",
      "41/41 [==============================] - 3s 84ms/step - loss: 4.8206e-04\n",
      "Epoch 181/200\n",
      "41/41 [==============================] - 3s 85ms/step - loss: 4.7511e-04\n",
      "Epoch 182/200\n",
      "41/41 [==============================] - 3s 80ms/step - loss: 4.6553e-04\n",
      "Epoch 183/200\n",
      "41/41 [==============================] - 3s 81ms/step - loss: 4.4772e-04\n",
      "Epoch 184/200\n",
      "41/41 [==============================] - 3s 82ms/step - loss: 4.3982e-04\n",
      "Epoch 185/200\n",
      "41/41 [==============================] - 4s 88ms/step - loss: 4.7269e-04\n",
      "Epoch 186/200\n",
      "41/41 [==============================] - 4s 87ms/step - loss: 4.8052e-04\n",
      "Epoch 187/200\n",
      "41/41 [==============================] - 4s 85ms/step - loss: 4.4147e-04\n",
      "Epoch 188/200\n",
      "41/41 [==============================] - 3s 85ms/step - loss: 4.4615e-04\n",
      "Epoch 189/200\n",
      "41/41 [==============================] - 3s 82ms/step - loss: 4.2001e-04\n",
      "Epoch 190/200\n",
      "41/41 [==============================] - 3s 84ms/step - loss: 4.8054e-04\n",
      "Epoch 191/200\n",
      "41/41 [==============================] - 3s 84ms/step - loss: 4.6003e-04\n",
      "Epoch 192/200\n",
      "41/41 [==============================] - 3s 82ms/step - loss: 4.8003e-04\n",
      "Epoch 193/200\n",
      "41/41 [==============================] - 3s 79ms/step - loss: 4.5552e-04\n",
      "Epoch 194/200\n",
      "41/41 [==============================] - 3s 84ms/step - loss: 4.4565e-04\n",
      "Epoch 195/200\n"
     ]
    },
    {
     "name": "stdout",
     "output_type": "stream",
     "text": [
      "41/41 [==============================] - 3s 82ms/step - loss: 4.2331e-04\n",
      "Epoch 196/200\n",
      "41/41 [==============================] - 3s 78ms/step - loss: 3.9870e-04\n",
      "Epoch 197/200\n",
      "41/41 [==============================] - 3s 78ms/step - loss: 4.2043e-04\n",
      "Epoch 198/200\n",
      "41/41 [==============================] - 3s 78ms/step - loss: 4.3612e-04\n",
      "Epoch 199/200\n",
      "41/41 [==============================] - 3s 81ms/step - loss: 3.9051e-04\n",
      "Epoch 200/200\n",
      "41/41 [==============================] - 3s 79ms/step - loss: 4.5067e-04\n"
     ]
    },
    {
     "data": {
      "text/plain": [
       "<keras.callbacks.History at 0x268dc899c40>"
      ]
     },
     "execution_count": 16,
     "metadata": {},
     "output_type": "execute_result"
    }
   ],
   "source": [
    "# Build model - LSTM with 50 neurons and 4 hidden layers  \n",
    "\n",
    "model = Sequential()\n",
    "#Adding the first LSTM layer and some Dropout regularisation\n",
    "model.add(LSTM(units = 50, return_sequences = True, input_shape = (X_train.shape[1], 1), activation='tanh'))\n",
    "model.add(Dropout(0.2))\n",
    "# Adding a second LSTM layer and some Dropout regularisation\n",
    "model.add(LSTM(units = 50, return_sequences = True, activation='tanh'))\n",
    "model.add(Dropout(0.2))\n",
    "# Adding a third LSTM layer and some Dropout regularisation\n",
    "model.add(LSTM(units = 50, return_sequences = True, activation='tanh'))\n",
    "model.add(Dropout(0.2))\n",
    "# Adding a fourth LSTM layer and some Dropout regularisation\n",
    "model.add(LSTM(units = 50, activation='tanh'))\n",
    "model.add(Dropout(0.2))\n",
    "# Adding the output layer\n",
    "model.add(Dense(units = 1))\n",
    "# Compiling the RNN\n",
    "model.compile(optimizer = 'adam', loss = 'mean_squared_error')\n",
    "# Fitting the RNN to the Training set\n",
    "model.fit(X_train, y_train, epochs = 200, batch_size = 64)"
   ]
  },
  {
   "cell_type": "markdown",
   "metadata": {
    "id": "VBvC_vU-IXAE"
   },
   "source": [
    "### Create test set"
   ]
  },
  {
   "cell_type": "code",
   "execution_count": 17,
   "metadata": {
    "id": "yRa3UBDJRvhw"
   },
   "outputs": [],
   "source": [
    "test = crude_adj_arr[training_data_len: , :]"
   ]
  },
  {
   "cell_type": "code",
   "execution_count": 18,
   "metadata": {
    "colab": {
     "base_uri": "https://localhost:8080/"
    },
    "id": "Oau4UaBaIZFo",
    "outputId": "075d30af-fce1-4885-c098-ee8a925e595e"
   },
   "outputs": [
    {
     "data": {
      "text/plain": [
       "(657, 1)"
      ]
     },
     "execution_count": 18,
     "metadata": {},
     "output_type": "execute_result"
    }
   ],
   "source": [
    "test.shape"
   ]
  },
  {
   "cell_type": "code",
   "execution_count": 19,
   "metadata": {
    "id": "_VtmWBHeJbiy"
   },
   "outputs": [],
   "source": [
    "# Predicting 253 values, using past 60 from the train data\n",
    "inputs = crude_adj_arr[len(crude_adj_arr) - len(test) - 60:]\n",
    "inputs = inputs.reshape(-1,1)\n",
    "inputs  = scaler.transform(inputs)"
   ]
  },
  {
   "cell_type": "code",
   "execution_count": 20,
   "metadata": {
    "id": "4DhTFCF0JnAR"
   },
   "outputs": [],
   "source": [
    "# Create data sets X_test and y_test\n",
    "X_test = []\n",
    "y_test = crude_adj_arr[training_data_len:, :]\n",
    "for i in range(60,inputs.shape[0]):\n",
    "    X_test.append(inputs[i-60:i,0])"
   ]
  },
  {
   "cell_type": "code",
   "execution_count": 21,
   "metadata": {
    "id": "7eu95NzSJyp4"
   },
   "outputs": [],
   "source": [
    "# Convert data to numpy array\n",
    "X_test = np.array(X_test)"
   ]
  },
  {
   "cell_type": "code",
   "execution_count": 22,
   "metadata": {
    "id": "ZAsaA4HlJ0qd"
   },
   "outputs": [],
   "source": [
    "# Reshape data to be 3-D\n",
    "X_test = np.reshape(X_test, (X_test.shape[0], X_test.shape[1], 1))"
   ]
  },
  {
   "cell_type": "code",
   "execution_count": 23,
   "metadata": {
    "colab": {
     "base_uri": "https://localhost:8080/"
    },
    "id": "MvvdtFwmJ3U8",
    "outputId": "84732df7-874a-4815-9104-c58a2b46b6e0"
   },
   "outputs": [
    {
     "name": "stdout",
     "output_type": "stream",
     "text": [
      "(657, 60, 1)\n"
     ]
    }
   ],
   "source": [
    "print(X_test.shape)"
   ]
  },
  {
   "cell_type": "markdown",
   "metadata": {
    "id": "kTMfgcN-OBbP"
   },
   "source": [
    "### Make Predictions using the test set"
   ]
  },
  {
   "cell_type": "code",
   "execution_count": 24,
   "metadata": {
    "id": "o3viU3AtJ52z"
   },
   "outputs": [
    {
     "name": "stdout",
     "output_type": "stream",
     "text": [
      "21/21 [==============================] - 2s 21ms/step\n"
     ]
    }
   ],
   "source": [
    "# We want predictions to contain same values as y_test data set\n",
    "predictions = model.predict(X_test)\n",
    "predictions = scaler.inverse_transform(predictions)"
   ]
  },
  {
   "cell_type": "code",
   "execution_count": 25,
   "metadata": {
    "colab": {
     "base_uri": "https://localhost:8080/"
    },
    "id": "mLRcbQTgJ9g7",
    "outputId": "8b2f1f08-b9db-4aa0-b5b3-f99603658227"
   },
   "outputs": [
    {
     "data": {
      "text/plain": [
       "(657, 1)"
      ]
     },
     "execution_count": 25,
     "metadata": {},
     "output_type": "execute_result"
    }
   ],
   "source": [
    "predictions.shape"
   ]
  },
  {
   "cell_type": "markdown",
   "metadata": {
    "id": "lJc5utZCOq48"
   },
   "source": [
    "### Calculate the RMSE using the actual values\n",
    "\n",
    "RMSE is the standard deviation of the residuals and is a good measure of how accurately the model predicts the reponse. Lower values of RMSE indicate a better fit."
   ]
  },
  {
   "cell_type": "code",
   "execution_count": 27,
   "metadata": {
    "colab": {
     "base_uri": "https://localhost:8080/"
    },
    "id": "oKgR_WslgLx1",
    "outputId": "5a0635fa-b934-4d4a-a13f-59ce5e2a0bed"
   },
   "outputs": [
    {
     "data": {
      "text/plain": [
       "0.23332670725643906"
      ]
     },
     "execution_count": 27,
     "metadata": {},
     "output_type": "execute_result"
    }
   ],
   "source": [
    "rmse = np.sqrt(np.mean(predictions - y_test)**2)  \n",
    "rmse"
   ]
  },
  {
   "cell_type": "code",
   "execution_count": 28,
   "metadata": {
    "colab": {
     "base_uri": "https://localhost:8080/",
     "height": 614
    },
    "id": "YJJqs8AngRn8",
    "outputId": "df3a958a-af26-4e04-e8c6-825af255ac55"
   },
   "outputs": [
    {
     "data": {
      "image/png": "[encoded data removed]",
      "text/plain": [
       "<Figure size 1440x720 with 1 Axes>"
      ]
     },
     "metadata": {},
     "output_type": "display_data"
    }
   ],
   "source": [
    "# Plot predicted vs actual values  \n",
    "train = crude_adj[:training_data_len]\n",
    "test = crude_adj[training_data_len:]\n",
    "test['Predictions'] = predictions\n",
    "\n",
    "plt.figure(figsize=(20,10))\n",
    "sns.set_style(\"whitegrid\")\n",
    "plt.plot(train['Adj Close'], label='Training')\n",
    "plt.plot(test['Adj Close'], label='Actual')\n",
    "plt.plot(test['Predictions'], label='Predicted')\n",
    "plt.title(\"Crude Oil Close Price - LSTM\", color = 'black', fontsize = 20)\n",
    "plt.xlabel('Year', color = 'black', fontsize = 15)\n",
    "plt.ylabel('Stock Price', color = 'black', fontsize = 15)\n",
    "plt.legend();"
   ]
  },
  {
   "cell_type": "markdown",
   "metadata": {
    "id": "_E01zyR8094G"
   },
   "source": [
    "### DataFrame of actual vs predicted prices plotted above"
   ]
  },
  {
   "cell_type": "code",
   "execution_count": 29,
   "metadata": {
    "colab": {
     "base_uri": "https://localhost:8080/",
     "height": 450
    },
    "id": "G3jVmbApP0ZD",
    "outputId": "2acceaf6-0788-4921-d7fb-103a09088a3b"
   },
   "outputs": [
    {
     "data": {
      "text/html": [
       "<div>\n",
       "<style scoped>\n",
       "    .dataframe tbody tr th:only-of-type {\n",
       "        vertical-align: middle;\n",
       "    }\n",
       "\n",
       "    .dataframe tbody tr th {\n",
       "        vertical-align: top;\n",
       "    }\n",
       "\n",
       "    .dataframe thead th {\n",
       "        text-align: right;\n",
       "    }\n",
       "</style>\n",
       "<table border=\"1\" class=\"dataframe\">\n",
       "  <thead>\n",
       "    <tr style=\"text-align: right;\">\n",
       "      <th></th>\n",
       "      <th>Adj Close</th>\n",
       "      <th>Predictions</th>\n",
       "    </tr>\n",
       "    <tr>\n",
       "      <th>Date</th>\n",
       "      <th></th>\n",
       "      <th></th>\n",
       "    </tr>\n",
       "  </thead>\n",
       "  <tbody>\n",
       "    <tr>\n",
       "      <th>2020-06-10</th>\n",
       "      <td>39.599998</td>\n",
       "      <td>38.219387</td>\n",
       "    </tr>\n",
       "    <tr>\n",
       "      <th>2020-06-11</th>\n",
       "      <td>36.340000</td>\n",
       "      <td>38.566895</td>\n",
       "    </tr>\n",
       "    <tr>\n",
       "      <th>2020-06-12</th>\n",
       "      <td>36.259998</td>\n",
       "      <td>37.845802</td>\n",
       "    </tr>\n",
       "    <tr>\n",
       "      <th>2020-06-15</th>\n",
       "      <td>37.119999</td>\n",
       "      <td>36.831959</td>\n",
       "    </tr>\n",
       "    <tr>\n",
       "      <th>2020-06-16</th>\n",
       "      <td>38.380001</td>\n",
       "      <td>36.407059</td>\n",
       "    </tr>\n",
       "    <tr>\n",
       "      <th>...</th>\n",
       "      <td>...</td>\n",
       "      <td>...</td>\n",
       "    </tr>\n",
       "    <tr>\n",
       "      <th>2023-01-09</th>\n",
       "      <td>74.629997</td>\n",
       "      <td>74.329712</td>\n",
       "    </tr>\n",
       "    <tr>\n",
       "      <th>2023-01-10</th>\n",
       "      <td>75.120003</td>\n",
       "      <td>74.607658</td>\n",
       "    </tr>\n",
       "    <tr>\n",
       "      <th>2023-01-11</th>\n",
       "      <td>77.410004</td>\n",
       "      <td>75.214058</td>\n",
       "    </tr>\n",
       "    <tr>\n",
       "      <th>2023-01-12</th>\n",
       "      <td>78.389999</td>\n",
       "      <td>76.514984</td>\n",
       "    </tr>\n",
       "    <tr>\n",
       "      <th>2023-01-13</th>\n",
       "      <td>79.860001</td>\n",
       "      <td>77.935066</td>\n",
       "    </tr>\n",
       "  </tbody>\n",
       "</table>\n",
       "<p>657 rows × 2 columns</p>\n",
       "</div>"
      ],
      "text/plain": [
       "            Adj Close  Predictions\n",
       "Date                              \n",
       "2020-06-10  39.599998    38.219387\n",
       "2020-06-11  36.340000    38.566895\n",
       "2020-06-12  36.259998    37.845802\n",
       "2020-06-15  37.119999    36.831959\n",
       "2020-06-16  38.380001    36.407059\n",
       "...               ...          ...\n",
       "2023-01-09  74.629997    74.329712\n",
       "2023-01-10  75.120003    74.607658\n",
       "2023-01-11  77.410004    75.214058\n",
       "2023-01-12  78.389999    76.514984\n",
       "2023-01-13  79.860001    77.935066\n",
       "\n",
       "[657 rows x 2 columns]"
      ]
     },
     "execution_count": 29,
     "metadata": {},
     "output_type": "execute_result"
    }
   ],
   "source": [
    "# Show the actual and predicted prices  \n",
    "\n",
    "test"
   ]
  },
  {
   "cell_type": "markdown",
   "metadata": {
    "id": "6cXvKTUw1Twj"
   },
   "source": [
    "### Predict Adjusted Close price for 13 Jan 2023"
   ]
  },
  {
   "cell_type": "code",
   "execution_count": 30,
   "metadata": {},
   "outputs": [
    {
     "name": "stdout",
     "output_type": "stream",
     "text": [
      "[*********************100%***********************]  1 of 1 completed\n"
     ]
    },
    {
     "data": {
      "text/html": [
       "<div>\n",
       "<style scoped>\n",
       "    .dataframe tbody tr th:only-of-type {\n",
       "        vertical-align: middle;\n",
       "    }\n",
       "\n",
       "    .dataframe tbody tr th {\n",
       "        vertical-align: top;\n",
       "    }\n",
       "\n",
       "    .dataframe thead th {\n",
       "        text-align: right;\n",
       "    }\n",
       "</style>\n",
       "<table border=\"1\" class=\"dataframe\">\n",
       "  <thead>\n",
       "    <tr style=\"text-align: right;\">\n",
       "      <th></th>\n",
       "      <th>Open</th>\n",
       "      <th>High</th>\n",
       "      <th>Low</th>\n",
       "      <th>Close</th>\n",
       "      <th>Adj Close</th>\n",
       "      <th>Volume</th>\n",
       "    </tr>\n",
       "    <tr>\n",
       "      <th>Date</th>\n",
       "      <th></th>\n",
       "      <th></th>\n",
       "      <th></th>\n",
       "      <th></th>\n",
       "      <th></th>\n",
       "      <th></th>\n",
       "    </tr>\n",
       "  </thead>\n",
       "  <tbody>\n",
       "    <tr>\n",
       "      <th>2009-12-31</th>\n",
       "      <td>79.279999</td>\n",
       "      <td>80.000000</td>\n",
       "      <td>79.160004</td>\n",
       "      <td>79.360001</td>\n",
       "      <td>79.360001</td>\n",
       "      <td>120372</td>\n",
       "    </tr>\n",
       "    <tr>\n",
       "      <th>2010-01-04</th>\n",
       "      <td>79.629997</td>\n",
       "      <td>81.680000</td>\n",
       "      <td>79.629997</td>\n",
       "      <td>81.510002</td>\n",
       "      <td>81.510002</td>\n",
       "      <td>263542</td>\n",
       "    </tr>\n",
       "    <tr>\n",
       "      <th>2010-01-05</th>\n",
       "      <td>81.629997</td>\n",
       "      <td>82.000000</td>\n",
       "      <td>80.949997</td>\n",
       "      <td>81.769997</td>\n",
       "      <td>81.769997</td>\n",
       "      <td>258887</td>\n",
       "    </tr>\n",
       "    <tr>\n",
       "      <th>2010-01-06</th>\n",
       "      <td>81.430000</td>\n",
       "      <td>83.519997</td>\n",
       "      <td>80.849998</td>\n",
       "      <td>83.180000</td>\n",
       "      <td>83.180000</td>\n",
       "      <td>370059</td>\n",
       "    </tr>\n",
       "    <tr>\n",
       "      <th>2010-01-07</th>\n",
       "      <td>83.199997</td>\n",
       "      <td>83.360001</td>\n",
       "      <td>82.260002</td>\n",
       "      <td>82.660004</td>\n",
       "      <td>82.660004</td>\n",
       "      <td>246632</td>\n",
       "    </tr>\n",
       "    <tr>\n",
       "      <th>...</th>\n",
       "      <td>...</td>\n",
       "      <td>...</td>\n",
       "      <td>...</td>\n",
       "      <td>...</td>\n",
       "      <td>...</td>\n",
       "      <td>...</td>\n",
       "    </tr>\n",
       "    <tr>\n",
       "      <th>2023-01-09</th>\n",
       "      <td>73.470001</td>\n",
       "      <td>76.739998</td>\n",
       "      <td>73.470001</td>\n",
       "      <td>74.629997</td>\n",
       "      <td>74.629997</td>\n",
       "      <td>329290</td>\n",
       "    </tr>\n",
       "    <tr>\n",
       "      <th>2023-01-10</th>\n",
       "      <td>74.860001</td>\n",
       "      <td>75.919998</td>\n",
       "      <td>73.839996</td>\n",
       "      <td>75.120003</td>\n",
       "      <td>75.120003</td>\n",
       "      <td>307430</td>\n",
       "    </tr>\n",
       "    <tr>\n",
       "      <th>2023-01-11</th>\n",
       "      <td>74.779999</td>\n",
       "      <td>77.839996</td>\n",
       "      <td>74.309998</td>\n",
       "      <td>77.410004</td>\n",
       "      <td>77.410004</td>\n",
       "      <td>350891</td>\n",
       "    </tr>\n",
       "    <tr>\n",
       "      <th>2023-01-12</th>\n",
       "      <td>77.699997</td>\n",
       "      <td>79.160004</td>\n",
       "      <td>77.099998</td>\n",
       "      <td>78.389999</td>\n",
       "      <td>78.389999</td>\n",
       "      <td>307705</td>\n",
       "    </tr>\n",
       "    <tr>\n",
       "      <th>2023-01-13</th>\n",
       "      <td>78.320000</td>\n",
       "      <td>80.110001</td>\n",
       "      <td>77.970001</td>\n",
       "      <td>79.860001</td>\n",
       "      <td>79.860001</td>\n",
       "      <td>307705</td>\n",
       "    </tr>\n",
       "  </tbody>\n",
       "</table>\n",
       "<p>3282 rows × 6 columns</p>\n",
       "</div>"
      ],
      "text/plain": [
       "                 Open       High        Low      Close  Adj Close  Volume\n",
       "Date                                                                     \n",
       "2009-12-31  79.279999  80.000000  79.160004  79.360001  79.360001  120372\n",
       "2010-01-04  79.629997  81.680000  79.629997  81.510002  81.510002  263542\n",
       "2010-01-05  81.629997  82.000000  80.949997  81.769997  81.769997  258887\n",
       "2010-01-06  81.430000  83.519997  80.849998  83.180000  83.180000  370059\n",
       "2010-01-07  83.199997  83.360001  82.260002  82.660004  82.660004  246632\n",
       "...               ...        ...        ...        ...        ...     ...\n",
       "2023-01-09  73.470001  76.739998  73.470001  74.629997  74.629997  329290\n",
       "2023-01-10  74.860001  75.919998  73.839996  75.120003  75.120003  307430\n",
       "2023-01-11  74.779999  77.839996  74.309998  77.410004  77.410004  350891\n",
       "2023-01-12  77.699997  79.160004  77.099998  78.389999  78.389999  307705\n",
       "2023-01-13  78.320000  80.110001  77.970001  79.860001  79.860001  307705\n",
       "\n",
       "[3282 rows x 6 columns]"
      ]
     },
     "execution_count": 30,
     "metadata": {},
     "output_type": "execute_result"
    }
   ],
   "source": [
    "# Nifty_df = yf.download(\"^NSEI\", start=\"2010-01-01\", end=\"2023-01-15\")\n",
    "# Nifty_df\n",
    "\n",
    "crude_quote = yf.download(\"CL=F\", start=\"2010-01-01\", end=\"2023-01-15\")\n",
    "crude_quote"
   ]
  },
  {
   "cell_type": "code",
   "execution_count": 31,
   "metadata": {
    "colab": {
     "base_uri": "https://localhost:8080/"
    },
    "id": "7IP1b7iIP5sj",
    "outputId": "202b0d23-96cf-438d-818c-d1d17874c6c9"
   },
   "outputs": [
    {
     "name": "stdout",
     "output_type": "stream",
     "text": [
      "[*********************100%***********************]  1 of 1 completed\n",
      "1/1 [==============================] - 0s 47ms/step\n",
      "[[79.341965]]\n"
     ]
    }
   ],
   "source": [
    "# Predict Adjusted Close price for Crude Oil stock for 15 Jan 2023   \n",
    "# get the quote\n",
    "crude_quote = yf.download(\"CL=F\", start=\"2018-07-10\", end=\"2023-01-14\")\n",
    "# Create new df\n",
    "new_df = crude_quote.filter(['Adj Close'])\n",
    "# Get last 60 days closing price and convert df to array])\n",
    "last_60_days = new_df[-60:].values\n",
    "# Scale data to be values between 0 and 1\n",
    "last_60_days_scaled = scaler.transform(last_60_days)\n",
    "# Create empty list\n",
    "X_test = []\n",
    "# Append last 60 days \n",
    "X_test.append(last_60_days_scaled)\n",
    "# Convert the X_test data set to numpy array\n",
    "X_test = np.array(X_test)\n",
    "# Reshape data\n",
    "X_test = np.reshape(X_test, (X_test.shape[0], X_test.shape[1], 1))\n",
    "# Get predicted price\n",
    "pred_price = model.predict(X_test)\n",
    "# Undo the scaling\n",
    "pred_price = scaler.inverse_transform(pred_price)\n",
    "print(pred_price)\n"
   ]
  },
  {
   "cell_type": "markdown",
   "metadata": {
    "id": "myiZBh-b39f2"
   },
   "source": [
    "### Actual Adjusted Close price for 13 Jan 2023"
   ]
  },
  {
   "cell_type": "code",
   "execution_count": 32,
   "metadata": {
    "colab": {
     "base_uri": "https://localhost:8080/"
    },
    "id": "h4-hnAoKP-Xb",
    "outputId": "1de51af2-2df9-4b0d-da39-3aeb81a26979"
   },
   "outputs": [
    {
     "name": "stdout",
     "output_type": "stream",
     "text": [
      "[*********************100%***********************]  1 of 1 completed\n",
      "Date\n",
      "2023-01-12    17858.199219\n",
      "2023-01-13    17956.599609\n",
      "Name: Adj Close, dtype: float64\n"
     ]
    }
   ],
   "source": [
    "# Actual price\n",
    "\n",
    "crude_quote2 = yf.download(\"^NSEI\", start=\"2023-01-12\", end=\"2023-01-16\")\n",
    "print(crude_quote2['Adj Close'])"
   ]
  },
  {
   "cell_type": "markdown",
   "metadata": {
    "id": "YdUAebzNcKfP"
   },
   "source": [
    "The predicted Adjusted Close price for 02 Jan 2023 was 5829.4, lower than the actual price of 6024.7. Accuracy could be improved by trying different numbers of layers, epochs and batch sizes. "
   ]
  }
 ],
 "metadata": {
  "colab": {
   "collapsed_sections": [],
   "name": "LSTM.ipynb",
   "provenance": []
  },
  "kernelspec": {
   "display_name": "Python 3 (ipykernel)",
   "language": "python",
   "name": "python3"
  },
  "language_info": {
   "codemirror_mode": {
    "name": "ipython",
    "version": 3
   },
   "file_extension": ".py",
   "mimetype": "text/x-python",
   "name": "python",
   "nbconvert_exporter": "python",
   "pygments_lexer": "ipython3",
   "version": "3.9.7"
  }
 },
 "nbformat": 4,
 "nbformat_minor": 1
}
