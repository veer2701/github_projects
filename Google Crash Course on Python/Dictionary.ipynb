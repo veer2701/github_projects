{
 "cells": [
  {
   "cell_type": "code",
   "execution_count": 1,
   "id": "a8df6ad1",
   "metadata": {},
   "outputs": [
    {
     "data": {
      "text/plain": [
       "{'jpg': 10, 'txt': 14, 'csv': 2, 'py': 23}"
      ]
     },
     "execution_count": 1,
     "metadata": {},
     "output_type": "execute_result"
    }
   ],
   "source": [
    "file_counts={\"jpg\":10,\"txt\":14,\"csv\":2,\"py\":23}\n",
    "file_counts"
   ]
  },
  {
   "cell_type": "code",
   "execution_count": 2,
   "id": "a3a32cbc",
   "metadata": {},
   "outputs": [
    {
     "data": {
      "text/plain": [
       "14"
      ]
     },
     "execution_count": 2,
     "metadata": {},
     "output_type": "execute_result"
    }
   ],
   "source": [
    "file_counts[\"txt\"]"
   ]
  },
  {
   "cell_type": "code",
   "execution_count": 3,
   "id": "62c92859",
   "metadata": {},
   "outputs": [
    {
     "data": {
      "text/plain": [
       "True"
      ]
     },
     "execution_count": 3,
     "metadata": {},
     "output_type": "execute_result"
    }
   ],
   "source": [
    "\"jpg\" in file_counts"
   ]
  },
  {
   "cell_type": "code",
   "execution_count": 4,
   "id": "3eef6b20",
   "metadata": {},
   "outputs": [
    {
     "data": {
      "text/plain": [
       "False"
      ]
     },
     "execution_count": 4,
     "metadata": {},
     "output_type": "execute_result"
    }
   ],
   "source": [
    "\"html\" in file_counts"
   ]
  },
  {
   "cell_type": "code",
   "execution_count": 6,
   "id": "d5be613e",
   "metadata": {},
   "outputs": [
    {
     "data": {
      "text/plain": [
       "{'jpg': 10, 'txt': 14, 'csv': 2, 'py': 23, 'cfg': 8}"
      ]
     },
     "execution_count": 6,
     "metadata": {},
     "output_type": "execute_result"
    }
   ],
   "source": [
    "file_counts[\"cfg\"]=8\n",
    "file_counts"
   ]
  },
  {
   "cell_type": "code",
   "execution_count": 7,
   "id": "61ffbd79",
   "metadata": {},
   "outputs": [
    {
     "data": {
      "text/plain": [
       "{'jpg': 10, 'txt': 14, 'csv': 17, 'py': 23, 'cfg': 8}"
      ]
     },
     "execution_count": 7,
     "metadata": {},
     "output_type": "execute_result"
    }
   ],
   "source": [
    "file_counts[\"csv\"]=17\n",
    "file_counts"
   ]
  },
  {
   "cell_type": "code",
   "execution_count": 8,
   "id": "9589f9d0",
   "metadata": {},
   "outputs": [
    {
     "data": {
      "text/plain": [
       "{'jpg': 10, 'txt': 14, 'csv': 17, 'py': 23}"
      ]
     },
     "execution_count": 8,
     "metadata": {},
     "output_type": "execute_result"
    }
   ],
   "source": [
    "del file_counts[\"cfg\"]\n",
    "file_counts"
   ]
  },
  {
   "cell_type": "markdown",
   "id": "909fd0c2",
   "metadata": {},
   "source": [
    "The \"toc\" dictionary represents the table of contents for a book. Fill in the blanks to do the following: \t1) Add an entry for Epilogue on page 39. \t2) Change the page number for Chapter 3 to 24. \t3) Display the new dictionary contents. \t4) Display True if there is Chapter 5, False if there isn't."
   ]
  },
  {
   "cell_type": "code",
   "execution_count": null,
   "id": "df7b1462",
   "metadata": {},
   "outputs": [],
   "source": [
    "toc = {\"Introduction\":1, \"Chapter 1\":4, \"Chapter 2\":11, \"Chapter 3\":25, \"Chapter 4\":30}\n",
    "___ # Epilogue starts on page 39\n",
    "___ # Chapter 3 now starts on page 24\n",
    "___ # What are the current contents of the dictionary?\n",
    "___ # Is there a Chapter 5?"
   ]
  },
  {
   "cell_type": "code",
   "execution_count": 11,
   "id": "de77334c",
   "metadata": {},
   "outputs": [
    {
     "name": "stdout",
     "output_type": "stream",
     "text": [
      "{'Introduction': 1, 'Chapter 1': 4, 'Chapter 2': 11, 'Chapter 3': 24, 'Chapter 4': 30, 'Epilogue': 39}\n",
      "False\n"
     ]
    }
   ],
   "source": [
    "toc = {\"Introduction\":1, \"Chapter 1\":4, \"Chapter 2\":11, \"Chapter 3\":25, \"Chapter 4\":30}\n",
    "toc.update({\"Epilogue\":39}) # Epilogue starts on page 39\n",
    "toc[\"Chapter 3\"]=24 # Chapter 3 now starts on page 24\n",
    "print(toc) # What are the current contents of the dictionary?\n",
    "if \"Chapter 5\" in toc == True: # Is there a Chapter 5?\n",
    "    print(\"True\")\n",
    "else:\n",
    "    print(\"False\")"
   ]
  },
  {
   "cell_type": "markdown",
   "id": "e44a201c",
   "metadata": {},
   "source": [
    "# Iterating Over The Contents of a Dictionary"
   ]
  },
  {
   "cell_type": "code",
   "execution_count": 13,
   "id": "d319deed",
   "metadata": {},
   "outputs": [
    {
     "name": "stdout",
     "output_type": "stream",
     "text": [
      "jpg\n",
      "txt\n",
      "csv\n",
      "py\n"
     ]
    }
   ],
   "source": [
    "file_counts={\"jpg\":10,\"txt\":14,\"csv\":2,\"py\":23}\n",
    "for extention in file_counts:\n",
    "    print(extention)"
   ]
  },
  {
   "cell_type": "code",
   "execution_count": 14,
   "id": "85740557",
   "metadata": {},
   "outputs": [
    {
     "name": "stdout",
     "output_type": "stream",
     "text": [
      "There are 10 files with the .jpg extention\n",
      "There are 14 files with the .txt extention\n",
      "There are 2 files with the .csv extention\n",
      "There are 23 files with the .py extention\n"
     ]
    }
   ],
   "source": [
    "for ext, amount in file_counts.items():\n",
    "    print(\"There are {} files with the .{} extention\".format(amount,ext))"
   ]
  },
  {
   "cell_type": "code",
   "execution_count": 15,
   "id": "c507443f",
   "metadata": {},
   "outputs": [
    {
     "data": {
      "text/plain": [
       "dict_keys(['jpg', 'txt', 'csv', 'py'])"
      ]
     },
     "execution_count": 15,
     "metadata": {},
     "output_type": "execute_result"
    }
   ],
   "source": [
    "file_counts.keys()"
   ]
  },
  {
   "cell_type": "code",
   "execution_count": 16,
   "id": "06dd6067",
   "metadata": {},
   "outputs": [
    {
     "data": {
      "text/plain": [
       "dict_values([10, 14, 2, 23])"
      ]
     },
     "execution_count": 16,
     "metadata": {},
     "output_type": "execute_result"
    }
   ],
   "source": [
    "file_counts.values()"
   ]
  },
  {
   "cell_type": "code",
   "execution_count": 17,
   "id": "0b79f0ae",
   "metadata": {},
   "outputs": [
    {
     "name": "stdout",
     "output_type": "stream",
     "text": [
      "10\n",
      "14\n",
      "2\n",
      "23\n"
     ]
    }
   ],
   "source": [
    "for values in file_counts.values():\n",
    "    print(values)"
   ]
  },
  {
   "cell_type": "markdown",
   "id": "52feac08",
   "metadata": {},
   "source": [
    "Complete the code to iterate through the keys and values of the cool_beasts dictionary. Remember that the items method returns a tuple of key, value for each element in the dictionary."
   ]
  },
  {
   "cell_type": "code",
   "execution_count": null,
   "id": "3165728b",
   "metadata": {},
   "outputs": [],
   "source": [
    "cool_beasts = {\"octopuses\":\"tentacles\", \"dolphins\":\"fins\", \"rhinos\":\"horns\"}\n",
    "for ___ in cool_beasts.items():\n",
    "    print(\"{} have {}\".format(___))"
   ]
  },
  {
   "cell_type": "code",
   "execution_count": 19,
   "id": "4be46772",
   "metadata": {},
   "outputs": [
    {
     "name": "stdout",
     "output_type": "stream",
     "text": [
      "octopuses have tentacles\n",
      "dolphins have fins\n",
      "rhinos have horns\n"
     ]
    }
   ],
   "source": [
    "cool_beasts = {\"octopuses\":\"tentacles\", \"dolphins\":\"fins\", \"rhinos\":\"horns\"}\n",
    "for keys, values in cool_beasts.items():\n",
    "    print(\"{} have {}\".format(keys, values))"
   ]
  },
  {
   "cell_type": "code",
   "execution_count": 22,
   "id": "d10f90a0",
   "metadata": {},
   "outputs": [
    {
     "data": {
      "text/plain": [
       "{'a': 5}"
      ]
     },
     "execution_count": 22,
     "metadata": {},
     "output_type": "execute_result"
    }
   ],
   "source": [
    "def counts_letters(text):\n",
    "    result={}\n",
    "    for letter in text:\n",
    "        if letter not in result:\n",
    "            result[letter]=0\n",
    "        result[letter] +=1\n",
    "    return result\n",
    "    \n",
    "counts_letters(\"aaaaa\")"
   ]
  },
  {
   "cell_type": "code",
   "execution_count": 23,
   "id": "3d09dd1a",
   "metadata": {},
   "outputs": [
    {
     "data": {
      "text/plain": [
       "{'t': 2, 'e': 1, 'n': 2, 'a': 1}"
      ]
     },
     "execution_count": 23,
     "metadata": {},
     "output_type": "execute_result"
    }
   ],
   "source": [
    "counts_letters(\"tenant\")"
   ]
  },
  {
   "cell_type": "code",
   "execution_count": 24,
   "id": "f698aa17",
   "metadata": {},
   "outputs": [
    {
     "data": {
      "text/plain": [
       "{'a': 1,\n",
       " ' ': 6,\n",
       " 'l': 3,\n",
       " 'o': 3,\n",
       " 'n': 2,\n",
       " 'g': 2,\n",
       " 's': 2,\n",
       " 't': 5,\n",
       " 'r': 2,\n",
       " 'i': 2,\n",
       " 'w': 1,\n",
       " 'h': 1,\n",
       " 'f': 1,\n",
       " 'e': 2}"
      ]
     },
     "execution_count": 24,
     "metadata": {},
     "output_type": "execute_result"
    }
   ],
   "source": [
    "counts_letters(\"a long string with lot of letters\")"
   ]
  },
  {
   "cell_type": "markdown",
   "id": "865dc16d",
   "metadata": {},
   "source": [
    "In Python, a dictionary can only hold a single value for a given key. To workaround this, our single value can be a list containing multiple values. Here we have a dictionary called \"wardrobe\" with items of clothing and their colors. Fill in the blanks to print a line for each item of clothing with each color, for example: \"red shirt\", \"blue shirt\", and so on."
   ]
  },
  {
   "cell_type": "code",
   "execution_count": null,
   "id": "2c4534cc",
   "metadata": {},
   "outputs": [],
   "source": [
    "wardrobe = {\"shirt\":[\"red\",\"blue\",\"white\"], \"jeans\":[\"blue\",\"black\"]}\n",
    "for __:\n",
    "    for __:\n",
    "        print(\"{} {}\".format(__))"
   ]
  },
  {
   "cell_type": "code",
   "execution_count": 25,
   "id": "29ee9241",
   "metadata": {},
   "outputs": [
    {
     "name": "stdout",
     "output_type": "stream",
     "text": [
      "red shirt\n",
      "blue shirt\n",
      "white shirt\n",
      "blue jeans\n",
      "black jeans\n"
     ]
    }
   ],
   "source": [
    "wardrobe = {\"shirt\":[\"red\",\"blue\",\"white\"], \"jeans\":[\"blue\",\"black\"]}\n",
    "for key,value in wardrobe.items():\n",
    "    for i in value:\n",
    "        print(\"{} {}\".format(i, key))"
   ]
  },
  {
   "cell_type": "code",
   "execution_count": null,
   "id": "149b2fe5",
   "metadata": {},
   "outputs": [],
   "source": []
  }
 ],
 "metadata": {
  "kernelspec": {
   "display_name": "Python 3",
   "language": "python",
   "name": "python3"
  },
  "language_info": {
   "codemirror_mode": {
    "name": "ipython",
    "version": 3
   },
   "file_extension": ".py",
   "mimetype": "text/x-python",
   "name": "python",
   "nbconvert_exporter": "python",
   "pygments_lexer": "ipython3",
   "version": "3.8.8"
  }
 },
 "nbformat": 4,
 "nbformat_minor": 5
}
