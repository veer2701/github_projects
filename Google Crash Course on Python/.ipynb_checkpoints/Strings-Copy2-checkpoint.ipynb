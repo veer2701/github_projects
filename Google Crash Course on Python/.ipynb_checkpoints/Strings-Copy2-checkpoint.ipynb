{
 "cells": [
  {
   "cell_type": "markdown",
   "id": "2f59b469",
   "metadata": {},
   "source": [
    "Want to give it a go yourself? Be my guest! Modify the first_and_last function so that it returns True if the first letter of the string is the same as the last letter of the string, False if they’re different. Remember that you can access characters using message[0] or message[-1].\n",
    "Be careful how you handle the empty string, which should return True since nothing is equal to nothing."
   ]
  },
  {
   "cell_type": "code",
   "execution_count": 1,
   "id": "4217e901",
   "metadata": {},
   "outputs": [
    {
     "name": "stdout",
     "output_type": "stream",
     "text": [
      "True\n",
      "False\n",
      "True\n"
     ]
    }
   ],
   "source": [
    "def first_and_last(message):\n",
    "    if not message:\n",
    "        return True\n",
    "    elif (message[0] == message[-1]):\n",
    "        return True\n",
    "    else:\n",
    "        return False\n",
    "\n",
    "print(first_and_last(\"else\"))\n",
    "print(first_and_last(\"tree\"))\n",
    "print(first_and_last(\"\"))"
   ]
  },
  {
   "cell_type": "code",
   "execution_count": 2,
   "id": "a0855905",
   "metadata": {},
   "outputs": [],
   "source": [
    "message=\"A kong string with a silly typo\""
   ]
  },
  {
   "cell_type": "code",
   "execution_count": 3,
   "id": "3d049c8f",
   "metadata": {},
   "outputs": [
    {
     "ename": "TypeError",
     "evalue": "'str' object does not support item assignment",
     "output_type": "error",
     "traceback": [
      "\u001b[1;31m---------------------------------------------------------------------------\u001b[0m",
      "\u001b[1;31mTypeError\u001b[0m                                 Traceback (most recent call last)",
      "\u001b[1;32m<ipython-input-3-bf797c82a6a3>\u001b[0m in \u001b[0;36m<module>\u001b[1;34m\u001b[0m\n\u001b[1;32m----> 1\u001b[1;33m \u001b[0mmessage\u001b[0m\u001b[1;33m[\u001b[0m\u001b[1;36m2\u001b[0m\u001b[1;33m]\u001b[0m\u001b[1;33m=\u001b[0m\u001b[1;34m\"l\"\u001b[0m\u001b[1;33m\u001b[0m\u001b[1;33m\u001b[0m\u001b[0m\n\u001b[0m",
      "\u001b[1;31mTypeError\u001b[0m: 'str' object does not support item assignment"
     ]
    }
   ],
   "source": [
    "# Let's change the third character k with l\n",
    "\n",
    "message[2]=\"l\""
   ]
  },
  {
   "cell_type": "code",
   "execution_count": 4,
   "id": "23bf24e2",
   "metadata": {},
   "outputs": [
    {
     "data": {
      "text/plain": [
       "'A long string with a silly typo'"
      ]
     },
     "execution_count": 4,
     "metadata": {},
     "output_type": "execute_result"
    }
   ],
   "source": [
    "new_message=message[:2]+ \"l\" +message[3:]\n",
    "new_message"
   ]
  },
  {
   "cell_type": "code",
   "execution_count": 1,
   "id": "d797a882",
   "metadata": {},
   "outputs": [
    {
     "name": "stdout",
     "output_type": "stream",
     "text": [
      "This is a new message\n"
     ]
    }
   ],
   "source": [
    "message=\"This is a new message\"\n",
    "print(message)"
   ]
  },
  {
   "cell_type": "code",
   "execution_count": 3,
   "id": "a6fe14e1",
   "metadata": {},
   "outputs": [
    {
     "data": {
      "text/plain": [
       "'And another one'"
      ]
     },
     "execution_count": 3,
     "metadata": {},
     "output_type": "execute_result"
    }
   ],
   "source": [
    "message=\"And another one\"\n",
    "message"
   ]
  },
  {
   "cell_type": "code",
   "execution_count": 7,
   "id": "0bd78dff",
   "metadata": {},
   "outputs": [
    {
     "data": {
      "text/plain": [
       "21"
      ]
     },
     "execution_count": 7,
     "metadata": {},
     "output_type": "execute_result"
    }
   ],
   "source": [
    "word = \"supercalifragilisticexpialidocious\"\n",
    "word.index(\"x\")"
   ]
  },
  {
   "cell_type": "code",
   "execution_count": 8,
   "id": "a506a623",
   "metadata": {},
   "outputs": [
    {
     "name": "stdout",
     "output_type": "stream",
     "text": [
      "5\n"
     ]
    }
   ],
   "source": [
    "pets=\"Cats & Dogs\"\n",
    "print(pets.index(\"&\"))"
   ]
  },
  {
   "cell_type": "code",
   "execution_count": 10,
   "id": "787d853d",
   "metadata": {},
   "outputs": [
    {
     "name": "stdout",
     "output_type": "stream",
     "text": [
      "0\n",
      "7\n",
      "3\n"
     ]
    }
   ],
   "source": [
    "print(pets.index(\"C\"))\n",
    "print(pets.index(\"Dog\"))\n",
    "print(pets.index(\"s\"))"
   ]
  },
  {
   "cell_type": "code",
   "execution_count": 11,
   "id": "637638a5",
   "metadata": {},
   "outputs": [
    {
     "ename": "ValueError",
     "evalue": "substring not found",
     "output_type": "error",
     "traceback": [
      "\u001b[1;31m---------------------------------------------------------------------------\u001b[0m",
      "\u001b[1;31mValueError\u001b[0m                                Traceback (most recent call last)",
      "\u001b[1;32m<ipython-input-11-17255bc07608>\u001b[0m in \u001b[0;36m<module>\u001b[1;34m\u001b[0m\n\u001b[1;32m----> 1\u001b[1;33m \u001b[0mprint\u001b[0m\u001b[1;33m(\u001b[0m\u001b[0mpets\u001b[0m\u001b[1;33m.\u001b[0m\u001b[0mindex\u001b[0m\u001b[1;33m(\u001b[0m\u001b[1;34m\"x\"\u001b[0m\u001b[1;33m)\u001b[0m\u001b[1;33m)\u001b[0m\u001b[1;33m\u001b[0m\u001b[1;33m\u001b[0m\u001b[0m\n\u001b[0m",
      "\u001b[1;31mValueError\u001b[0m: substring not found"
     ]
    }
   ],
   "source": [
    "print(pets.index(\"x\"))"
   ]
  },
  {
   "cell_type": "code",
   "execution_count": 12,
   "id": "9a5e8beb",
   "metadata": {},
   "outputs": [
    {
     "data": {
      "text/plain": [
       "False"
      ]
     },
     "execution_count": 12,
     "metadata": {},
     "output_type": "execute_result"
    }
   ],
   "source": [
    "\"Dragons\" in pets"
   ]
  },
  {
   "cell_type": "code",
   "execution_count": 13,
   "id": "89bd0dbb",
   "metadata": {},
   "outputs": [
    {
     "data": {
      "text/plain": [
       "True"
      ]
     },
     "execution_count": 13,
     "metadata": {},
     "output_type": "execute_result"
    }
   ],
   "source": [
    "\"Cats\" in pets"
   ]
  },
  {
   "cell_type": "code",
   "execution_count": 14,
   "id": "7bdf7fed",
   "metadata": {},
   "outputs": [],
   "source": [
    "# Function to replace the old email with new email"
   ]
  },
  {
   "cell_type": "code",
   "execution_count": 15,
   "id": "c071a034",
   "metadata": {},
   "outputs": [],
   "source": [
    "def replace_domain(email,old_domain,new_domain):\n",
    "    if \"@\" + old_domain in email:\n",
    "        index=email.index(\"@\" + old_domain)\n",
    "        new_email=email[:index] + \"@\" +new_domain\n",
    "        return new_domain\n",
    "    return email"
   ]
  },
  {
   "cell_type": "code",
   "execution_count": 16,
   "id": "05529c23",
   "metadata": {},
   "outputs": [],
   "source": [
    "# More on String Methods\n"
   ]
  },
  {
   "cell_type": "code",
   "execution_count": 17,
   "id": "044d4bc0",
   "metadata": {},
   "outputs": [
    {
     "data": {
      "text/plain": [
       "'MOUNTAINS'"
      ]
     },
     "execution_count": 17,
     "metadata": {},
     "output_type": "execute_result"
    }
   ],
   "source": [
    "\"Mountains\".upper()"
   ]
  },
  {
   "cell_type": "code",
   "execution_count": 18,
   "id": "16022ba0",
   "metadata": {},
   "outputs": [
    {
     "data": {
      "text/plain": [
       "'mountains'"
      ]
     },
     "execution_count": 18,
     "metadata": {},
     "output_type": "execute_result"
    }
   ],
   "source": [
    "\"Mountains\".lower()"
   ]
  },
  {
   "cell_type": "code",
   "execution_count": 19,
   "id": "8d5d2067",
   "metadata": {},
   "outputs": [
    {
     "name": "stdout",
     "output_type": "stream",
     "text": [
      "User said yes\n"
     ]
    }
   ],
   "source": [
    "answer=\"yes\"\n",
    "if answer.lower()==\"yes\":\n",
    "    print(\"User said yes\")"
   ]
  },
  {
   "cell_type": "code",
   "execution_count": 20,
   "id": "0f632df2",
   "metadata": {},
   "outputs": [
    {
     "data": {
      "text/plain": [
       "'yes'"
      ]
     },
     "execution_count": 20,
     "metadata": {},
     "output_type": "execute_result"
    }
   ],
   "source": [
    "\" yes \".strip() # elliminate both side space"
   ]
  },
  {
   "cell_type": "code",
   "execution_count": 21,
   "id": "3eb0c5ce",
   "metadata": {},
   "outputs": [
    {
     "data": {
      "text/plain": [
       "'yes '"
      ]
     },
     "execution_count": 21,
     "metadata": {},
     "output_type": "execute_result"
    }
   ],
   "source": [
    "\" yes \".lstrip() # elliminate left side space"
   ]
  },
  {
   "cell_type": "code",
   "execution_count": 22,
   "id": "cc85d7bd",
   "metadata": {},
   "outputs": [
    {
     "data": {
      "text/plain": [
       "' yes'"
      ]
     },
     "execution_count": 22,
     "metadata": {},
     "output_type": "execute_result"
    }
   ],
   "source": [
    "\" yes \".rstrip() # elliminate right side space"
   ]
  },
  {
   "cell_type": "code",
   "execution_count": 23,
   "id": "034679de",
   "metadata": {},
   "outputs": [
    {
     "data": {
      "text/plain": [
       "4"
      ]
     },
     "execution_count": 23,
     "metadata": {},
     "output_type": "execute_result"
    }
   ],
   "source": [
    "\"The number of times e occur in this string is 4\".count(\"e\") # .count method to calculate the substring count"
   ]
  },
  {
   "cell_type": "code",
   "execution_count": 24,
   "id": "f0fc0a51",
   "metadata": {},
   "outputs": [
    {
     "data": {
      "text/plain": [
       "True"
      ]
     },
     "execution_count": 24,
     "metadata": {},
     "output_type": "execute_result"
    }
   ],
   "source": [
    "\"Forest\".endswith(\"rest\")"
   ]
  },
  {
   "cell_type": "code",
   "execution_count": 25,
   "id": "82e886ac",
   "metadata": {},
   "outputs": [
    {
     "data": {
      "text/plain": [
       "False"
      ]
     },
     "execution_count": 25,
     "metadata": {},
     "output_type": "execute_result"
    }
   ],
   "source": [
    "\"Forest\".isnumeric()  # string is madeup of just numbers"
   ]
  },
  {
   "cell_type": "code",
   "execution_count": 26,
   "id": "7feb5955",
   "metadata": {},
   "outputs": [
    {
     "data": {
      "text/plain": [
       "True"
      ]
     },
     "execution_count": 26,
     "metadata": {},
     "output_type": "execute_result"
    }
   ],
   "source": [
    "\"12345\".isnumeric()  # string is madeup of just numbers"
   ]
  },
  {
   "cell_type": "code",
   "execution_count": 27,
   "id": "a2d8a1ab",
   "metadata": {},
   "outputs": [
    {
     "data": {
      "text/plain": [
       "66666"
      ]
     },
     "execution_count": 27,
     "metadata": {},
     "output_type": "execute_result"
    }
   ],
   "source": [
    "int(\"12345\") + int(\"54321\")  # int function to convert it into actual number"
   ]
  },
  {
   "cell_type": "code",
   "execution_count": 28,
   "id": "4c51a2f1",
   "metadata": {},
   "outputs": [
    {
     "data": {
      "text/plain": [
       "'This is a phrase joined by spaces'"
      ]
     },
     "execution_count": 28,
     "metadata": {},
     "output_type": "execute_result"
    }
   ],
   "source": [
    "\" \".join([\"This\",\"is\",\"a\",\"phrase\",\"joined\",\"by\",\"spaces\"]) # we can use the join function to concatenate two strings"
   ]
  },
  {
   "cell_type": "code",
   "execution_count": 29,
   "id": "7757ed46",
   "metadata": {},
   "outputs": [
    {
     "data": {
      "text/plain": [
       "'This...is...a...phrase...joined...by...triple...dots'"
      ]
     },
     "execution_count": 29,
     "metadata": {},
     "output_type": "execute_result"
    }
   ],
   "source": [
    "\"...\".join([\"This\",\"is\",\"a\",\"phrase\",\"joined\",\"by\",\"triple\",\"dots\"]) # we can use the join function to concatenate two strings"
   ]
  },
  {
   "cell_type": "code",
   "execution_count": 30,
   "id": "d8f74584",
   "metadata": {},
   "outputs": [
    {
     "data": {
      "text/plain": [
       "['This', 'is', 'a', 'phrase', 'joined', 'by', 'spaces']"
      ]
     },
     "execution_count": 30,
     "metadata": {},
     "output_type": "execute_result"
    }
   ],
   "source": [
    "\"This is a phrase joined by spaces\".split()"
   ]
  },
  {
   "cell_type": "code",
   "execution_count": 31,
   "id": "0274f972",
   "metadata": {},
   "outputs": [
    {
     "ename": "AttributeError",
     "evalue": "'str' object has no attribute '___'",
     "output_type": "error",
     "traceback": [
      "\u001b[1;31m---------------------------------------------------------------------------\u001b[0m",
      "\u001b[1;31mAttributeError\u001b[0m                            Traceback (most recent call last)",
      "\u001b[1;32m<ipython-input-31-54e484752f9f>\u001b[0m in \u001b[0;36m<module>\u001b[1;34m\u001b[0m\n\u001b[0;32m     10\u001b[0m     \u001b[1;32mreturn\u001b[0m \u001b[0m___\u001b[0m\u001b[1;33m\u001b[0m\u001b[1;33m\u001b[0m\u001b[0m\n\u001b[0;32m     11\u001b[0m \u001b[1;33m\u001b[0m\u001b[0m\n\u001b[1;32m---> 12\u001b[1;33m \u001b[0mprint\u001b[0m\u001b[1;33m(\u001b[0m\u001b[0minitials\u001b[0m\u001b[1;33m(\u001b[0m\u001b[1;34m\"Universal Serial Bus\"\u001b[0m\u001b[1;33m)\u001b[0m\u001b[1;33m)\u001b[0m \u001b[1;31m# Should be: USB\u001b[0m\u001b[1;33m\u001b[0m\u001b[1;33m\u001b[0m\u001b[0m\n\u001b[0m\u001b[0;32m     13\u001b[0m \u001b[0mprint\u001b[0m\u001b[1;33m(\u001b[0m\u001b[0minitials\u001b[0m\u001b[1;33m(\u001b[0m\u001b[1;34m\"local area network\"\u001b[0m\u001b[1;33m)\u001b[0m\u001b[1;33m)\u001b[0m \u001b[1;31m# Should be: LAN\u001b[0m\u001b[1;33m\u001b[0m\u001b[1;33m\u001b[0m\u001b[0m\n\u001b[0;32m     14\u001b[0m \u001b[0mprint\u001b[0m\u001b[1;33m(\u001b[0m\u001b[0minitials\u001b[0m\u001b[1;33m(\u001b[0m\u001b[1;34m\"Operating system\"\u001b[0m\u001b[1;33m)\u001b[0m\u001b[1;33m)\u001b[0m \u001b[1;31m# Should be: OS\u001b[0m\u001b[1;33m\u001b[0m\u001b[1;33m\u001b[0m\u001b[0m\n",
      "\u001b[1;32m<ipython-input-31-54e484752f9f>\u001b[0m in \u001b[0;36minitials\u001b[1;34m(phrase)\u001b[0m\n\u001b[0;32m      4\u001b[0m \u001b[1;33m\u001b[0m\u001b[0m\n\u001b[0;32m      5\u001b[0m \u001b[1;32mdef\u001b[0m \u001b[0minitials\u001b[0m\u001b[1;33m(\u001b[0m\u001b[0mphrase\u001b[0m\u001b[1;33m)\u001b[0m\u001b[1;33m:\u001b[0m\u001b[1;33m\u001b[0m\u001b[1;33m\u001b[0m\u001b[0m\n\u001b[1;32m----> 6\u001b[1;33m     \u001b[0mwords\u001b[0m \u001b[1;33m=\u001b[0m \u001b[0mphrase\u001b[0m\u001b[1;33m.\u001b[0m\u001b[0m___\u001b[0m\u001b[1;33m\u001b[0m\u001b[1;33m\u001b[0m\u001b[0m\n\u001b[0m\u001b[0;32m      7\u001b[0m     \u001b[0mresult\u001b[0m \u001b[1;33m=\u001b[0m \u001b[1;34m\"\"\u001b[0m\u001b[1;33m\u001b[0m\u001b[1;33m\u001b[0m\u001b[0m\n\u001b[0;32m      8\u001b[0m     \u001b[1;32mfor\u001b[0m \u001b[0mword\u001b[0m \u001b[1;32min\u001b[0m \u001b[0mwords\u001b[0m\u001b[1;33m:\u001b[0m\u001b[1;33m\u001b[0m\u001b[1;33m\u001b[0m\u001b[0m\n",
      "\u001b[1;31mAttributeError\u001b[0m: 'str' object has no attribute '___'"
     ]
    }
   ],
   "source": [
    "# Q. Fill in the gaps in the initials function so that it returns the initials of the words contained in the phrase \n",
    "# received, in upper case. For example: \"Universal Serial Bus\" should return \"USB\"; \"local area network\" should return \"LAN”.\n",
    "\n",
    "\n",
    "def initials(phrase):\n",
    "    words = phrase.___\n",
    "    result = \"\"\n",
    "    for word in words:\n",
    "        result += ___\n",
    "    return ___\n",
    "\n",
    "print(initials(\"Universal Serial Bus\")) # Should be: USB\n",
    "print(initials(\"local area network\")) # Should be: LAN\n",
    "print(initials(\"Operating system\")) # Should be: OS"
   ]
  },
  {
   "cell_type": "code",
   "execution_count": 32,
   "id": "1ec75913",
   "metadata": {},
   "outputs": [
    {
     "name": "stdout",
     "output_type": "stream",
     "text": [
      "USB\n",
      "LAN\n",
      "OS\n"
     ]
    }
   ],
   "source": [
    "def initials(phrase):\n",
    "    words = phrase.split()\n",
    "    result = \"\"\n",
    "    for word in words:\n",
    "        result += word[0].upper()\n",
    "    return result\n",
    "\n",
    "print(initials(\"Universal Serial Bus\")) # Should be: USB\n",
    "print(initials(\"local area network\")) # Should be: LAN\n",
    "print(initials(\"Operating system\")) # Should be: OS"
   ]
  },
  {
   "cell_type": "markdown",
   "id": "43039ac1",
   "metadata": {},
   "source": [
    "# Formating a string"
   ]
  },
  {
   "cell_type": "code",
   "execution_count": 33,
   "id": "d3f31047",
   "metadata": {},
   "outputs": [
    {
     "name": "stdout",
     "output_type": "stream",
     "text": [
      "Hello Manny, your lucky number is 15\n"
     ]
    }
   ],
   "source": [
    "name=\"Manny\"\n",
    "number=len(name)*3\n",
    "print(\"Hello {}, your lucky number is {}\".format(name,number))"
   ]
  },
  {
   "cell_type": "code",
   "execution_count": 34,
   "id": "e3fb5b33",
   "metadata": {},
   "outputs": [
    {
     "name": "stdout",
     "output_type": "stream",
     "text": [
      "Your lucky number is 15, Manny.\n"
     ]
    }
   ],
   "source": [
    "# Alternate of above\n",
    "\n",
    "print(\"Your lucky number is {number}, {name}.\".format(name=name,number=len(name)*3))"
   ]
  },
  {
   "cell_type": "code",
   "execution_count": 35,
   "id": "7fc7252f",
   "metadata": {},
   "outputs": [
    {
     "name": "stdout",
     "output_type": "stream",
     "text": [
      "\n",
      "\n",
      "\n"
     ]
    }
   ],
   "source": [
    "def student_grade(name, grade):\n",
    "\treturn \"\"\n",
    "\n",
    "print(student_grade(\"Reed\", 80))\n",
    "print(student_grade(\"Paige\", 92))\n",
    "print(student_grade(\"Jesse\", 85))"
   ]
  },
  {
   "cell_type": "code",
   "execution_count": 36,
   "id": "2a4fbfcb",
   "metadata": {},
   "outputs": [
    {
     "name": "stdout",
     "output_type": "stream",
     "text": [
      "Reed recieved 80% on the exam.\n",
      "Paige recieved 92% on the exam.\n",
      "Jesse recieved 85% on the exam.\n"
     ]
    }
   ],
   "source": [
    "def student_grade(name, grade):\n",
    "    return (\"{} recieved {}% on the exam.\".format(name, grade))\n",
    "\n",
    "print(student_grade(\"Reed\", 80))\n",
    "print(student_grade(\"Paige\", 92))\n",
    "print(student_grade(\"Jesse\", 85))"
   ]
  },
  {
   "cell_type": "code",
   "execution_count": 38,
   "id": "1966ac31",
   "metadata": {},
   "outputs": [
    {
     "name": "stdout",
     "output_type": "stream",
     "text": [
      "Reed received 80% on the exam\n",
      "Paige received 92% on the exam\n",
      "Jesse received 85% on the exam\n"
     ]
    }
   ],
   "source": [
    "def student_grade(name, grade):\n",
    "        return \"{name} received {grade}% on the exam\".format (name= name , grade=grade)\n",
    "\n",
    "print(student_grade(\"Reed\", 80))\n",
    "print(student_grade(\"Paige\", 92))\n",
    "print(student_grade(\"Jesse\", 85))"
   ]
  },
  {
   "cell_type": "code",
   "execution_count": 40,
   "id": "5db8cb99",
   "metadata": {},
   "outputs": [
    {
     "name": "stdout",
     "output_type": "stream",
     "text": [
      "7.5 8.175\n"
     ]
    }
   ],
   "source": [
    "price = 7.5\n",
    "with_tax =price*1.09\n",
    "print(price,with_tax)"
   ]
  },
  {
   "cell_type": "code",
   "execution_count": 42,
   "id": "833ae688",
   "metadata": {},
   "outputs": [
    {
     "name": "stdout",
     "output_type": "stream",
     "text": [
      "Base price: $7.50. With Tax: $8.18\n"
     ]
    }
   ],
   "source": [
    "print(\"Base price: ${:.2f}. With Tax: ${:.2f}\".format(price, with_tax))   # {:.2f} seperate the previous and two decimal place"
   ]
  },
  {
   "cell_type": "code",
   "execution_count": 45,
   "id": "2597cd1d",
   "metadata": {},
   "outputs": [
    {
     "name": "stdout",
     "output_type": "stream",
     "text": [
      "0 -17.77777777777778\n",
      "10 -12.222222222222221\n",
      "20 -6.666666666666667\n",
      "30 -1.1111111111111112\n",
      "40 4.444444444444445\n",
      "50 10.0\n",
      "60 15.555555555555555\n",
      "70 21.11111111111111\n",
      "80 26.666666666666668\n",
      "90 32.22222222222222\n",
      "100 37.77777777777778\n"
     ]
    }
   ],
   "source": [
    "def to_celsius(x):\n",
    "    return (x-32)*5/9\n",
    "for x in range(0,101,10):\n",
    "    print(x, to_celsius(x))"
   ]
  },
  {
   "cell_type": "code",
   "execution_count": 44,
   "id": "13c2dbfe",
   "metadata": {},
   "outputs": [
    {
     "name": "stdout",
     "output_type": "stream",
     "text": [
      "  0 F | -17.78 C\n",
      " 10 F | -12.22 C\n",
      " 20 F |  -6.67 C\n",
      " 30 F |  -1.11 C\n",
      " 40 F |   4.44 C\n",
      " 50 F |  10.00 C\n",
      " 60 F |  15.56 C\n",
      " 70 F |  21.11 C\n",
      " 80 F |  26.67 C\n",
      " 90 F |  32.22 C\n",
      "100 F |  37.78 C\n"
     ]
    }
   ],
   "source": [
    "def to_celsius(x):\n",
    "    return (x-32)*5/9\n",
    "for x in range(0,101,10):\n",
    "    print(\"{:>3} F | {:>6.2f} C\".format(x, to_celsius(x)))"
   ]
  },
  {
   "cell_type": "code",
   "execution_count": 46,
   "id": "fb3e989a",
   "metadata": {},
   "outputs": [
    {
     "name": "stdout",
     "output_type": "stream",
     "text": [
      "this is an example of using the format() method on a string\n"
     ]
    },
    {
     "data": {
      "text/plain": [
       "'Outputs:\\nthis is an example of using the format() method on a string\\n'"
      ]
     },
     "execution_count": 46,
     "metadata": {},
     "output_type": "execute_result"
    }
   ],
   "source": [
    "# \"base string with {} placeholders\".format(variables)\n",
    "\n",
    "example = \"format() method\"\n",
    "\n",
    "formatted_string = \"this is an example of using the {} on a string\".format(example)\n",
    "\n",
    "print(formatted_string)\n",
    "\n",
    "\"\"\"Outputs:\n",
    "this is an example of using the format() method on a string\n",
    "\"\"\""
   ]
  },
  {
   "cell_type": "code",
   "execution_count": 47,
   "id": "645ff113",
   "metadata": {},
   "outputs": [
    {
     "name": "stdout",
     "output_type": "stream",
     "text": [
      "apple carrot banana\n"
     ]
    },
    {
     "data": {
      "text/plain": [
       "'Outputs:\\napple carrot banana\\n'"
      ]
     },
     "execution_count": 47,
     "metadata": {},
     "output_type": "execute_result"
    }
   ],
   "source": [
    "# \"{0} {1}\".format(first, second)\n",
    "\n",
    "first = \"apple\"\n",
    "second = \"banana\"\n",
    "third = \"carrot\"\n",
    "\n",
    "formatted_string = \"{0} {2} {1}\".format(first, second, third)\n",
    "\n",
    "print(formatted_string)\n",
    "\n",
    "\"\"\"Outputs:\n",
    "apple carrot banana\n",
    "\"\"\""
   ]
  },
  {
   "cell_type": "code",
   "execution_count": 48,
   "id": "5b2bb208",
   "metadata": {},
   "outputs": [],
   "source": [
    "# \"{var1} {var2}\".format(var1=value1, var2=value2)"
   ]
  },
  {
   "cell_type": "markdown",
   "id": "443229de",
   "metadata": {},
   "source": [
    "# Quiz"
   ]
  },
  {
   "cell_type": "markdown",
   "id": "9600d288",
   "metadata": {},
   "source": [
    "The is_palindrome function checks if a string is a palindrome. A palindrome is a string that can be equally read from left to right or right to left, omitting blank spaces, and ignoring capitalization. Examples of palindromes are words like kayak and radar, and phrases like \"Never Odd or Even\". Fill in the blanks in this function to return True if the passed string is a palindrome, False if not."
   ]
  },
  {
   "cell_type": "code",
   "execution_count": null,
   "id": "0aaa7c50",
   "metadata": {},
   "outputs": [],
   "source": [
    "def is_palindrome(input_string):\n",
    "\t# We'll create two strings, to compare them\n",
    "\tnew_string = \"\"\n",
    "\treverse_string = \"\"\n",
    "\t# Traverse through each letter of the input string\n",
    "\tfor ___:\n",
    "\t\t# Add any non-blank letters to the \n",
    "\t\t# end of one string, and to the front\n",
    "\t\t# of the other string. \n",
    "\t\tif ___:\n",
    "\t\t\tnew_string = ___\n",
    "\t\t\treverse_string = ___\n",
    "\t# Compare the strings\n",
    "\tif ___:\n",
    "\t\treturn True\n",
    "\treturn False\n",
    "\n",
    "print(is_palindrome(\"Never Odd or Even\")) # Should be True\n",
    "print(is_palindrome(\"abc\")) # Should be False\n",
    "print(is_palindrome(\"kayak\")) # Should be True"
   ]
  },
  {
   "cell_type": "code",
   "execution_count": 51,
   "id": "857f2ec7",
   "metadata": {},
   "outputs": [
    {
     "name": "stdout",
     "output_type": "stream",
     "text": [
      "True\n",
      "False\n",
      "True\n"
     ]
    }
   ],
   "source": [
    "def is_palindrome(input_string):\n",
    "    # We'll create two strings, to compare them\n",
    "    new_string = \"\"\n",
    "    reverse_string = \"\"\n",
    "    # Traverse through each letter of the input string\n",
    "    for letter in input_string.lower():\n",
    "        # Add any non-blank letters to the \n",
    "        # end of one string, and to the front\n",
    "        # of the other string. \n",
    "        if letter.isalpha():\n",
    "            new_string = new_string + letter\n",
    "            reverse_string = letter + reverse_string\n",
    "    # Compare the strings\n",
    "    if new_string == reverse_string:\n",
    "        return True\n",
    "    return False\n",
    "\n",
    "print(is_palindrome(\"Never Odd or Even\")) # Should be True\n",
    "print(is_palindrome(\"abc\")) # Should be False\n",
    "print(is_palindrome(\"kayak\")) # Should be True"
   ]
  },
  {
   "cell_type": "markdown",
   "id": "2d0bad74",
   "metadata": {},
   "source": [
    "Using the format method, fill in the gaps in the convert_distance function so that it returns the phrase \"X miles equals Y km\", with Y having only 1 decimal place. For example, convert_distance(12) should return \"12 miles equals 19.2 km\"."
   ]
  },
  {
   "cell_type": "code",
   "execution_count": 52,
   "id": "52f1b181",
   "metadata": {},
   "outputs": [
    {
     "ename": "AttributeError",
     "evalue": "'str' object has no attribute '___'",
     "output_type": "error",
     "traceback": [
      "\u001b[1;31m---------------------------------------------------------------------------\u001b[0m",
      "\u001b[1;31mAttributeError\u001b[0m                            Traceback (most recent call last)",
      "\u001b[1;32m<ipython-input-52-c88f8adb534e>\u001b[0m in \u001b[0;36m<module>\u001b[1;34m\u001b[0m\n\u001b[0;32m      4\u001b[0m         \u001b[1;32mreturn\u001b[0m \u001b[0mresult\u001b[0m\u001b[1;33m\u001b[0m\u001b[1;33m\u001b[0m\u001b[0m\n\u001b[0;32m      5\u001b[0m \u001b[1;33m\u001b[0m\u001b[0m\n\u001b[1;32m----> 6\u001b[1;33m \u001b[0mprint\u001b[0m\u001b[1;33m(\u001b[0m\u001b[0mconvert_distance\u001b[0m\u001b[1;33m(\u001b[0m\u001b[1;36m12\u001b[0m\u001b[1;33m)\u001b[0m\u001b[1;33m)\u001b[0m \u001b[1;31m# Should be: 12 miles equals 19.2 km\u001b[0m\u001b[1;33m\u001b[0m\u001b[1;33m\u001b[0m\u001b[0m\n\u001b[0m\u001b[0;32m      7\u001b[0m \u001b[0mprint\u001b[0m\u001b[1;33m(\u001b[0m\u001b[0mconvert_distance\u001b[0m\u001b[1;33m(\u001b[0m\u001b[1;36m5.5\u001b[0m\u001b[1;33m)\u001b[0m\u001b[1;33m)\u001b[0m \u001b[1;31m# Should be: 5.5 miles equals 8.8 km\u001b[0m\u001b[1;33m\u001b[0m\u001b[1;33m\u001b[0m\u001b[0m\n\u001b[0;32m      8\u001b[0m \u001b[0mprint\u001b[0m\u001b[1;33m(\u001b[0m\u001b[0mconvert_distance\u001b[0m\u001b[1;33m(\u001b[0m\u001b[1;36m11\u001b[0m\u001b[1;33m)\u001b[0m\u001b[1;33m)\u001b[0m \u001b[1;31m# Should be: 11 miles equals 17.6 km\u001b[0m\u001b[1;33m\u001b[0m\u001b[1;33m\u001b[0m\u001b[0m\n",
      "\u001b[1;32m<ipython-input-52-c88f8adb534e>\u001b[0m in \u001b[0;36mconvert_distance\u001b[1;34m(miles)\u001b[0m\n\u001b[0;32m      1\u001b[0m \u001b[1;32mdef\u001b[0m \u001b[0mconvert_distance\u001b[0m\u001b[1;33m(\u001b[0m\u001b[0mmiles\u001b[0m\u001b[1;33m)\u001b[0m\u001b[1;33m:\u001b[0m\u001b[1;33m\u001b[0m\u001b[1;33m\u001b[0m\u001b[0m\n\u001b[0;32m      2\u001b[0m         \u001b[0mkm\u001b[0m \u001b[1;33m=\u001b[0m \u001b[0mmiles\u001b[0m \u001b[1;33m*\u001b[0m \u001b[1;36m1.6\u001b[0m\u001b[1;33m\u001b[0m\u001b[1;33m\u001b[0m\u001b[0m\n\u001b[1;32m----> 3\u001b[1;33m         \u001b[0mresult\u001b[0m \u001b[1;33m=\u001b[0m \u001b[1;34m\"{} miles equals {___} km\"\u001b[0m\u001b[1;33m.\u001b[0m\u001b[0m___\u001b[0m\u001b[1;33m\u001b[0m\u001b[1;33m\u001b[0m\u001b[0m\n\u001b[0m\u001b[0;32m      4\u001b[0m         \u001b[1;32mreturn\u001b[0m \u001b[0mresult\u001b[0m\u001b[1;33m\u001b[0m\u001b[1;33m\u001b[0m\u001b[0m\n\u001b[0;32m      5\u001b[0m \u001b[1;33m\u001b[0m\u001b[0m\n",
      "\u001b[1;31mAttributeError\u001b[0m: 'str' object has no attribute '___'"
     ]
    }
   ],
   "source": [
    "def convert_distance(miles):\n",
    "\tkm = miles * 1.6 \n",
    "\tresult = \"{} miles equals {___} km\".___\n",
    "\treturn result\n",
    "\n",
    "print(convert_distance(12)) # Should be: 12 miles equals 19.2 km\n",
    "print(convert_distance(5.5)) # Should be: 5.5 miles equals 8.8 km\n",
    "print(convert_distance(11)) # Should be: 11 miles equals 17.6 km"
   ]
  },
  {
   "cell_type": "code",
   "execution_count": 53,
   "id": "010ed0ed",
   "metadata": {},
   "outputs": [
    {
     "name": "stdout",
     "output_type": "stream",
     "text": [
      "12 miles equals 19.2 km\n",
      "5.5 miles equals 8.8 km\n",
      "11 miles equals 17.6 km\n"
     ]
    }
   ],
   "source": [
    "def convert_distance(miles):\n",
    "    km = miles * 1.6 \n",
    "    result = \"{} miles equals {:.1f} km\".format(miles,km)\n",
    "    return result\n",
    "\n",
    "print(convert_distance(12)) # Should be: 12 miles equals 19.2 km\n",
    "print(convert_distance(5.5)) # Should be: 5.5 miles equals 8.8 km\n",
    "print(convert_distance(11)) # Should be: 11 miles equals 17.6 km"
   ]
  },
  {
   "cell_type": "markdown",
   "id": "8dcfc184",
   "metadata": {},
   "source": [
    "Fill in the gaps in the nametag function so that it uses the format method to return first_name and the first initial of last_name followed by a period. For example, nametag(\"Jane\", \"Smith\") should return \"Jane S.\""
   ]
  },
  {
   "cell_type": "code",
   "execution_count": null,
   "id": "7c7b5fc3",
   "metadata": {},
   "outputs": [],
   "source": [
    "def nametag(first_name, last_name):\n",
    "    return(\"---\".format(----))\n",
    "\n",
    "print(nametag(\"Jane\", \"Smith\")) \n",
    "# Should display \"Jane S.\" \n",
    "print(nametag(\"Francesco\", \"Rinaldi\")) \n",
    "# Should display \"Francesco R.\" \n",
    "print(nametag(\"Jean-Luc\", \"Grand-Pierre\")) \n",
    "# Should display \"Jean-Luc G.\" "
   ]
  },
  {
   "cell_type": "code",
   "execution_count": 56,
   "id": "4e8b91d3",
   "metadata": {},
   "outputs": [
    {
     "name": "stdout",
     "output_type": "stream",
     "text": [
      "Jane S.\n",
      "Francesco R.\n",
      "Jean-Luc G.\n"
     ]
    }
   ],
   "source": [
    "def nametag(first_name, last_name):\n",
    "    return(\"{} {}.\".format(first_name,last_name[0]))\n",
    "\n",
    "print(nametag(\"Jane\", \"Smith\")) \n",
    "# Should display \"Jane S.\" \n",
    "print(nametag(\"Francesco\", \"Rinaldi\")) \n",
    "# Should display \"Francesco R.\" \n",
    "print(nametag(\"Jean-Luc\", \"Grand-Pierre\")) \n",
    "# Should display \"Jean-Luc G.\" "
   ]
  },
  {
   "cell_type": "markdown",
   "id": "96680c6e",
   "metadata": {},
   "source": [
    "The replace_ending function replaces the old string in a sentence with the new string, but only if the sentence ends with the old string. If there is more than one occurrence of the old string in the sentence, only the one at the end is replaced, not all of them. For example, replace_ending(\"abcabc\", \"abc\", \"xyz\") should return abcxyz, not xyzxyz or xyzabc. The string comparison is case-sensitive, so replace_ending(\"abcabc\", \"ABC\", \"xyz\") should return abcabc (no changes made)."
   ]
  },
  {
   "cell_type": "code",
   "execution_count": null,
   "id": "f3895cf3",
   "metadata": {},
   "outputs": [],
   "source": [
    "def replace_ending(sentence, old, new):\n",
    "\t# Check if the old string is at the end of the sentence \n",
    "\tif ___:\n",
    "\t\t# Using i as the slicing index, combine the part\n",
    "\t\t# of the sentence up to the matched string at the \n",
    "\t\t# end with the new string\n",
    "\t\ti = ___\n",
    "\t\tnew_sentence = ___\n",
    "\t\treturn new_sentence\n",
    "\n",
    "\t# Return the original sentence if there is no match \n",
    "\treturn sentence\n",
    "\t\n",
    "print(replace_ending(\"It's raining cats and cats\", \"cats\", \"dogs\")) \n",
    "# Should display \"It's raining cats and dogs\"\n",
    "print(replace_ending(\"She sells seashells by the seashore\", \"seashells\", \"donuts\")) \n",
    "# Should display \"She sells seashells by the seashore\"\n",
    "print(replace_ending(\"The weather is nice in May\", \"may\", \"april\")) \n",
    "# Should display \"The weather is nice in May\"\n",
    "print(replace_ending(\"The weather is nice in May\", \"May\", \"April\")) \n",
    "# Should display \"The weather is nice in April\""
   ]
  },
  {
   "cell_type": "code",
   "execution_count": 57,
   "id": "9985a0b6",
   "metadata": {},
   "outputs": [
    {
     "name": "stdout",
     "output_type": "stream",
     "text": [
      "It's raining cats and dogs\n",
      "She sells seashells by the seashore\n",
      "The weather is nice in May\n",
      "The weather is nice in April\n"
     ]
    }
   ],
   "source": [
    "def replace_ending(sentence, old, new):\n",
    "    # Check if the old string is at the end of the sentence \n",
    "    if sentence.endswith(old):\n",
    "        # Using i as the slicing index, combine the part\n",
    "        # of the sentence up to the matched string at the \n",
    "        # end with the new string\n",
    "        i = len(old)\n",
    "        new_sentence = sentence[:-i] + new\n",
    "        return new_sentence\n",
    "\n",
    "    # Return the original sentence if there is no match \n",
    "    return sentence\n",
    "    \n",
    "print(replace_ending(\"It's raining cats and cats\", \"cats\", \"dogs\")) \n",
    "# Should display \"It's raining cats and dogs\"\n",
    "print(replace_ending(\"She sells seashells by the seashore\", \"seashells\", \"donuts\")) \n",
    "# Should display \"She sells seashells by the seashore\"\n",
    "print(replace_ending(\"The weather is nice in May\", \"may\", \"april\")) \n",
    "# Should display \"The weather is nice in May\"\n",
    "print(replace_ending(\"The weather is nice in May\", \"May\", \"April\")) \n",
    "# Should display \"The weather is nice in April\""
   ]
  },
  {
   "cell_type": "code",
   "execution_count": null,
   "id": "5c54a15e",
   "metadata": {},
   "outputs": [],
   "source": []
  }
 ],
 "metadata": {
  "kernelspec": {
   "display_name": "Python 3",
   "language": "python",
   "name": "python3"
  },
  "language_info": {
   "codemirror_mode": {
    "name": "ipython",
    "version": 3
   },
   "file_extension": ".py",
   "mimetype": "text/x-python",
   "name": "python",
   "nbconvert_exporter": "python",
   "pygments_lexer": "ipython3",
   "version": "3.8.8"
  }
 },
 "nbformat": 4,
 "nbformat_minor": 5
}
