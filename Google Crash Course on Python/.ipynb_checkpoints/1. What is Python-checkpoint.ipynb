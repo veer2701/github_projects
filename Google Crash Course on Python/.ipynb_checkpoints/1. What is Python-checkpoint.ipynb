{
 "cells": [
  {
   "cell_type": "code",
   "execution_count": 1,
   "id": "ecb1419a",
   "metadata": {},
   "outputs": [
    {
     "name": "stdout",
     "output_type": "stream",
     "text": [
      "Hi Taylor\n",
      "Hi Alex\n",
      "Hi Pat\n",
      "Hi Eli\n"
     ]
    }
   ],
   "source": [
    "friends = ['Taylor', 'Alex', 'Pat', 'Eli']\n",
    "for friend in friends:\n",
    "    print(\"Hi \" + friend)"
   ]
  },
  {
   "cell_type": "code",
   "execution_count": 2,
   "id": "42e801c2",
   "metadata": {},
   "outputs": [
    {
     "name": "stdout",
     "output_type": "stream",
     "text": [
      "Hello World!\n",
      "Hello World!\n",
      "Hello World!\n",
      "Hello World!\n",
      "Hello World!\n",
      "Hello World!\n",
      "Hello World!\n",
      "Hello World!\n",
      "Hello World!\n",
      "Hello World!\n"
     ]
    }
   ],
   "source": [
    "for i in range(10):\n",
    "    print(\"Hello World!\")"
   ]
  },
  {
   "cell_type": "code",
   "execution_count": 3,
   "id": "aca2781b",
   "metadata": {},
   "outputs": [
    {
     "name": "stdout",
     "output_type": "stream",
     "text": [
      "Green is the color of Hope\n"
     ]
    }
   ],
   "source": [
    "color = \"Green\"\n",
    "thing = \"Hope\"\n",
    "print(color + \" is the color of \" + thing)"
   ]
  },
  {
   "cell_type": "code",
   "execution_count": 4,
   "id": "f1974110",
   "metadata": {},
   "outputs": [
    {
     "name": "stdout",
     "output_type": "stream",
     "text": [
      "57.6650390625\n"
     ]
    }
   ],
   "source": [
    "print((((1+2)*3)/4)**5)"
   ]
  },
  {
   "cell_type": "markdown",
   "id": "94afde44",
   "metadata": {},
   "source": [
    "### Arithmetic operators\n",
    "Python can operate with numbers using the usual mathematical operators, and some special operators, too. These are all of them (we'll explore the last two in later videos).\n",
    "\n",
    "a + b = Adds a and b\n",
    "\n",
    "a - b = Subtracts b from a\n",
    "\n",
    "a * b = Multiplies a and b\n",
    "\n",
    "a / b = Divides a by b\n",
    "\n",
    "a ** b = Elevates a to the power of b. For non integer values of b, this becomes a root (i.e. a**(1/2) is the square root of a)\n",
    "\n",
    "a // b = The integer part of the integer division of a by b\n",
    "\n",
    "a % b = The remainder part of the integer division of a by b\n",
    "\n"
   ]
  },
  {
   "cell_type": "code",
   "execution_count": 5,
   "id": "0c65941c",
   "metadata": {},
   "outputs": [
    {
     "ename": "TypeError",
     "evalue": "can only concatenate str (not \"int\") to str",
     "output_type": "error",
     "traceback": [
      "\u001b[1;31m---------------------------------------------------------------------------\u001b[0m",
      "\u001b[1;31mTypeError\u001b[0m                                 Traceback (most recent call last)",
      "\u001b[1;32m<ipython-input-5-c974c9c206ad>\u001b[0m in \u001b[0;36m<module>\u001b[1;34m\u001b[0m\n\u001b[0;32m      1\u001b[0m \u001b[1;31m# Why does this code raise an error:\u001b[0m\u001b[1;33m\u001b[0m\u001b[1;33m\u001b[0m\u001b[1;33m\u001b[0m\u001b[0m\n\u001b[0;32m      2\u001b[0m \u001b[1;33m\u001b[0m\u001b[0m\n\u001b[1;32m----> 3\u001b[1;33m \u001b[0mprint\u001b[0m\u001b[1;33m(\u001b[0m\u001b[1;34m\"1234\"\u001b[0m\u001b[1;33m+\u001b[0m\u001b[1;36m5678\u001b[0m\u001b[1;33m)\u001b[0m\u001b[1;33m\u001b[0m\u001b[1;33m\u001b[0m\u001b[0m\n\u001b[0m",
      "\u001b[1;31mTypeError\u001b[0m: can only concatenate str (not \"int\") to str"
     ]
    }
   ],
   "source": [
    "# Why does this code raise an error:\n",
    "\n",
    "print(\"1234\"+5678)"
   ]
  },
  {
   "cell_type": "code",
   "execution_count": 6,
   "id": "aa4f2591",
   "metadata": {},
   "outputs": [
    {
     "name": "stdout",
     "output_type": "stream",
     "text": [
      "20\n"
     ]
    }
   ],
   "source": [
    "length=10\n",
    "width=2\n",
    "area=length*width\n",
    "print(area)\n"
   ]
  },
  {
   "cell_type": "code",
   "execution_count": 7,
   "id": "6929881d",
   "metadata": {},
   "outputs": [
    {
     "name": "stdout",
     "output_type": "stream",
     "text": [
      "7.5\n"
     ]
    }
   ],
   "source": [
    "base = 5\n",
    "height = 3\n",
    "area = (base*height)/2\n",
    "\n",
    "print(area)"
   ]
  },
  {
   "cell_type": "code",
   "execution_count": 8,
   "id": "0b0d7d71",
   "metadata": {},
   "outputs": [
    {
     "name": "stdout",
     "output_type": "stream",
     "text": [
      "The area of the triangle is:7.5\n"
     ]
    }
   ],
   "source": [
    "# Explicit Conversion\n",
    "\n",
    "print(\"The area of the triangle is:\" + str(area))"
   ]
  },
  {
   "cell_type": "code",
   "execution_count": 9,
   "id": "d5d134d2",
   "metadata": {},
   "outputs": [
    {
     "name": "stdout",
     "output_type": "stream",
     "text": [
      "The average size is:20839.2\n"
     ]
    }
   ],
   "source": [
    "total = 2048 + 4357 + 97658 + 125 + 8\n",
    "files = 5\n",
    "average = total / files\n",
    "print(\"The average size is:\" + str(average))"
   ]
  },
  {
   "cell_type": "code",
   "execution_count": 10,
   "id": "8cffb9c3",
   "metadata": {},
   "outputs": [
    {
     "name": "stdout",
     "output_type": "stream",
     "text": [
      "Each person need to pay:27.186\n"
     ]
    }
   ],
   "source": [
    "bill = 47.28\n",
    "tip = bill * 0.15\n",
    "total = bill + tip\n",
    "share = total*0.5\n",
    "print(\"Each person need to pay:\" + str(share))"
   ]
  },
  {
   "cell_type": "code",
   "execution_count": 11,
   "id": "eecce50a",
   "metadata": {},
   "outputs": [
    {
     "name": "stdout",
     "output_type": "stream",
     "text": [
      "Each person need to pay: 27.186\n"
     ]
    }
   ],
   "source": [
    "bill = 47.28\n",
    "tip = bill * 0.15\n",
    "total = bill + tip\n",
    "share = total*0.5\n",
    "print(\"Each person need to pay: \" + str(share))"
   ]
  },
  {
   "cell_type": "markdown",
   "id": "5a5c9d9f",
   "metadata": {},
   "source": [
    "# Functions"
   ]
  },
  {
   "cell_type": "code",
   "execution_count": 12,
   "id": "c8b2acf7",
   "metadata": {},
   "outputs": [],
   "source": [
    "def greeting(name):\n",
    "    print(\"Welcome, \" + name)"
   ]
  },
  {
   "cell_type": "code",
   "execution_count": 13,
   "id": "dd53b75d",
   "metadata": {},
   "outputs": [
    {
     "name": "stdout",
     "output_type": "stream",
     "text": [
      "Welcome, Kay\n"
     ]
    }
   ],
   "source": [
    "greeting(\"Kay\")"
   ]
  },
  {
   "cell_type": "code",
   "execution_count": 14,
   "id": "8ae7e663",
   "metadata": {},
   "outputs": [
    {
     "name": "stdout",
     "output_type": "stream",
     "text": [
      "Welcome, Cameron\n"
     ]
    }
   ],
   "source": [
    "greeting(\"Cameron\")"
   ]
  },
  {
   "cell_type": "code",
   "execution_count": 15,
   "id": "3c0cadc8",
   "metadata": {},
   "outputs": [],
   "source": [
    "def greeting(name, department):\n",
    "    print(\"Welcome, \" + name)\n",
    "    print(\"You are part of \" + department)"
   ]
  },
  {
   "cell_type": "code",
   "execution_count": 16,
   "id": "0149d77c",
   "metadata": {},
   "outputs": [
    {
     "name": "stdout",
     "output_type": "stream",
     "text": [
      "Welcome, Kay\n",
      "You are part of IT Support\n"
     ]
    }
   ],
   "source": [
    "greeting(\"Kay\", \"IT Support\")"
   ]
  },
  {
   "cell_type": "code",
   "execution_count": 17,
   "id": "29b98680",
   "metadata": {},
   "outputs": [
    {
     "name": "stdout",
     "output_type": "stream",
     "text": [
      "Welcome, Ellise\n",
      "You are part of Software Engineering\n"
     ]
    }
   ],
   "source": [
    "greeting(\"Ellis\", \"Software Engineering\")"
   ]
  },
  {
   "cell_type": "markdown",
   "id": "9f66ecc2",
   "metadata": {},
   "source": [
    "Do you think you can flesh out your own function? I think you can! Let’s give it a go. \n",
    "\n",
    "Flesh out the body of the print_seconds function so that it prints the total amount of seconds given the hours, minutes, and seconds function parameters. Remember that there are 3600 seconds in an hour and 60 seconds in a minute."
   ]
  },
  {
   "cell_type": "code",
   "execution_count": 18,
   "id": "28c4125b",
   "metadata": {},
   "outputs": [
    {
     "name": "stdout",
     "output_type": "stream",
     "text": [
      "\n"
     ]
    }
   ],
   "source": [
    "def print_seconds(hours, minutes, seconds):\n",
    "    print(___)\n",
    "\n",
    "print_seconds(1,2,3)"
   ]
  },
  {
   "cell_type": "markdown",
   "id": "7b2c2e39",
   "metadata": {},
   "source": [
    "# Returning Values"
   ]
  },
  {
   "cell_type": "code",
   "execution_count": 19,
   "id": "e68b6081",
   "metadata": {},
   "outputs": [
    {
     "name": "stdout",
     "output_type": "stream",
     "text": [
      "the sum of both areas is: 20.5\n"
     ]
    }
   ],
   "source": [
    "def area_triangle(base,height):\n",
    "    return base*height/2\n",
    "area_a=area_triangle(5,4)\n",
    "area_b=area_triangle(7,3)\n",
    "sum=area_a+area_b\n",
    "print(\"the sum of both areas is: \" + str(sum))"
   ]
  },
  {
   "cell_type": "markdown",
   "id": "1cfde172",
   "metadata": {},
   "source": [
    "Use the get_seconds function to work out the amount of seconds in 2 hours and 30 minutes, then add this number to the amount of seconds in 45 minutes and 15 seconds. Then print the result."
   ]
  },
  {
   "cell_type": "code",
   "execution_count": null,
   "id": "3fd227da",
   "metadata": {},
   "outputs": [],
   "source": [
    "def get_seconds(hours, minutes, seconds):\n",
    "    return 3600*hours + 60*minutes + seconds\n",
    "\n",
    "amount_a = get_seconds(___)\n",
    "amount_b = get_seconds(___)\n",
    "result = ___\n",
    "print(result)"
   ]
  },
  {
   "cell_type": "code",
   "execution_count": 20,
   "id": "27ed1f76",
   "metadata": {},
   "outputs": [],
   "source": [
    "def convert_seconds(seconds):\n",
    "    hours=seconds // 3600          # // Floor Division\n",
    "    minutes=(seconds-hours*3600) // 60\n",
    "    remaining_seconds=seconds-hours*3600-minutes*60\n",
    "    return hours,minutes,remaining_seconds"
   ]
  },
  {
   "cell_type": "code",
   "execution_count": 22,
   "id": "d7fbe572",
   "metadata": {},
   "outputs": [
    {
     "name": "stdout",
     "output_type": "stream",
     "text": [
      "1 23 20\n"
     ]
    }
   ],
   "source": [
    "hours,minutes,seconds= convert_seconds(5000)\n",
    "print(hours,minutes,seconds)"
   ]
  },
  {
   "cell_type": "markdown",
   "id": "d31933ae",
   "metadata": {},
   "source": [
    "# The Principles of Code Resue"
   ]
  },
  {
   "cell_type": "code",
   "execution_count": 3,
   "id": "aad4ca03",
   "metadata": {},
   "outputs": [
    {
     "name": "stdout",
     "output_type": "stream",
     "text": [
      "Hello Kay. Your lucky number is 27\n"
     ]
    }
   ],
   "source": [
    "name =\"Kay\"\n",
    "number = len(name)*9\n",
    "print(\"Hello \" +name+ \". Your lucky number is \" +str(number))"
   ]
  },
  {
   "cell_type": "code",
   "execution_count": 2,
   "id": "211793af",
   "metadata": {},
   "outputs": [
    {
     "name": "stdout",
     "output_type": "stream",
     "text": [
      "Hello Cameron. Your lucky number is 63\n"
     ]
    }
   ],
   "source": [
    "name =\"Cameron\"\n",
    "number = len(name)*9\n",
    "print(\"Hello \" +name+ \". Your lucky number is \" +str(number))"
   ]
  },
  {
   "cell_type": "code",
   "execution_count": 4,
   "id": "42186a79",
   "metadata": {},
   "outputs": [],
   "source": [
    "# Create a function of above"
   ]
  },
  {
   "cell_type": "code",
   "execution_count": 5,
   "id": "bf07cc09",
   "metadata": {},
   "outputs": [
    {
     "name": "stdout",
     "output_type": "stream",
     "text": [
      "Hello Kay. Your lucky number is 27\n",
      "Hello Cameron. Your lucky number is 63\n"
     ]
    }
   ],
   "source": [
    "def lucky_number(name):\n",
    "    number = len(name)*9\n",
    "    print(\"Hello \" +name+ \". Your lucky number is \" +str(number))\n",
    "    \n",
    "lucky_number(\"Kay\")\n",
    "lucky_number(\"Cameron\")"
   ]
  },
  {
   "cell_type": "markdown",
   "id": "826fe3c0",
   "metadata": {},
   "source": [
    "In this code, identify the repeated pattern and replace it with a function called month_days, that receives the name of the month and the number of days in that month as parameters. Adapt the rest of the code so that the result is the same. Confirm your results by making a function call with the correct parameters for both months listed."
   ]
  },
  {
   "cell_type": "code",
   "execution_count": 9,
   "id": "e7db5371",
   "metadata": {},
   "outputs": [
    {
     "name": "stdout",
     "output_type": "stream",
     "text": [
      "June has 30 days.\n",
      "July has 31 days.\n"
     ]
    }
   ],
   "source": [
    "def month_days(month,days):\n",
    "    print(month + \" has \" + str(days) + \" days.\")\n",
    "    \n",
    "month_days(\"June\",\"30\")\n",
    "month_days(\"July\",\"31\")  "
   ]
  },
  {
   "cell_type": "markdown",
   "id": "114541b7",
   "metadata": {},
   "source": [
    "This function to calculate the area of a rectangle is not very readable. Can you refactor it, and then call the function to calculate the area with base of 5 and height of 6?\n",
    "Tip: a function that calculates the area of a rectangle should probably be called rectangle_area, and if it's receiving base and height, that's what the parameters should be called."
   ]
  },
  {
   "cell_type": "code",
   "execution_count": 16,
   "id": "8e7f2b65",
   "metadata": {},
   "outputs": [
    {
     "name": "stdout",
     "output_type": "stream",
     "text": [
      "The area is 30\n"
     ]
    }
   ],
   "source": [
    "def rectangle_area(base,height):\n",
    "    print(\"The area is \" + str(base*height))\n",
    "    \n",
    "rectangle_area(5,6)"
   ]
  },
  {
   "cell_type": "code",
   "execution_count": 18,
   "id": "c951a249",
   "metadata": {},
   "outputs": [
    {
     "name": "stdout",
     "output_type": "stream",
     "text": [
      "The area is 30\n"
     ]
    }
   ],
   "source": [
    "def f1(a,b):\n",
    "    base=a\n",
    "    height=b\n",
    "    z=a*b\n",
    "    print(\"The area is \" + str(z))\n",
    "    \n",
    "f1(5,6)"
   ]
  },
  {
   "cell_type": "code",
   "execution_count": 39,
   "id": "7d2ce1ee",
   "metadata": {},
   "outputs": [
    {
     "name": "stdout",
     "output_type": "stream",
     "text": [
      "The distance in kilometers is 88.0\n",
      "The round-trip in kilometers is 176.0\n"
     ]
    }
   ],
   "source": [
    "def convert_distance(miles):\n",
    "    km = miles*1.6\n",
    "    return km\n",
    "\n",
    "my_trip_miles = 55\n",
    "\n",
    "# In this blank, we have to convert my_trip_miles to kilometers by calling the above defined function\n",
    "my_trip_km = convert_distance(my_trip_miles)\n",
    "\n",
    "# Here, we are printing the result after the conversion\n",
    "print(\"The distance in kilometers is \" + str(my_trip_km))\n",
    "\n",
    "# Here, we are calculating the number of kilometers in round trip by doubling the above result.\n",
    "print(\"The round-trip in kilometers is \" + str(my_trip_km*2))"
   ]
  },
  {
   "cell_type": "code",
   "execution_count": 43,
   "id": "d2f8c07a",
   "metadata": {},
   "outputs": [
    {
     "name": "stdout",
     "output_type": "stream",
     "text": [
      "The distance in kilometers is 88.0\n",
      "The round-trip in kilometers is 176.0\n"
     ]
    }
   ],
   "source": [
    "# 1) Complete the function to return the result of the conversion\n",
    "def convert_distance(miles):\n",
    "    km = miles * 1.6  # approximately 1.6 km in 1 mile\n",
    "    return km\n",
    "\n",
    "my_trip_miles = 55\n",
    "\n",
    "# 2) Convert my_trip_miles to kilometers by calling the function above\n",
    "my_trip_km = convert_distance(my_trip_miles)\n",
    "\n",
    "# 3) Fill in the blank to print the result of the conversion\n",
    "print(\"The distance in kilometers is \" + str(my_trip_km))\n",
    "\n",
    "# 4) Calculate the round-trip in kilometers by doubling the result,\n",
    "#    and fill in the blank to print the result\n",
    "print(\"The round-trip in kilometers is \" + str(my_trip_km*2))"
   ]
  },
  {
   "cell_type": "code",
   "execution_count": 44,
   "id": "f59fa5b1",
   "metadata": {},
   "outputs": [
    {
     "name": "stdout",
     "output_type": "stream",
     "text": [
      "99 100\n"
     ]
    }
   ],
   "source": [
    "# This function compares two numbers and returns them\n",
    "# in increasing order.\n",
    "def order_numbers(number1, number2):\n",
    "    if number2 > number1:\n",
    "        return number1, number2\n",
    "    else:\n",
    "        return number2, number1\n",
    "\n",
    "# 1) Fill in the blanks so the print statement displays the result\n",
    "#    of the function call\n",
    "smaller, bigger = order_numbers(100, 99)\n",
    "print(smaller, bigger)"
   ]
  },
  {
   "cell_type": "code",
   "execution_count": 45,
   "id": "da67971e",
   "metadata": {},
   "outputs": [
    {
     "name": "stdout",
     "output_type": "stream",
     "text": [
      "Hello Kay. Your lucky number is 27\n",
      "Hello Cameron. Your lucky number is 63\n"
     ]
    }
   ],
   "source": [
    "def lucky_number(name):\n",
    "    number = len(name) * 9\n",
    "    a = \"Hello \" + name + \". Your lucky number is \" + str(number)\n",
    "    return(a)\n",
    "    \n",
    "print(lucky_number(\"Kay\"))\n",
    "print(lucky_number(\"Cameron\"))"
   ]
  },
  {
   "cell_type": "markdown",
   "id": "c6b58fef",
   "metadata": {},
   "source": [
    "# Comparing Things"
   ]
  },
  {
   "cell_type": "code",
   "execution_count": 46,
   "id": "b81bd0bb",
   "metadata": {},
   "outputs": [
    {
     "name": "stdout",
     "output_type": "stream",
     "text": [
      "True\n"
     ]
    }
   ],
   "source": [
    "print(10>1)"
   ]
  },
  {
   "cell_type": "code",
   "execution_count": 47,
   "id": "f233cd03",
   "metadata": {},
   "outputs": [
    {
     "name": "stdout",
     "output_type": "stream",
     "text": [
      "False\n"
     ]
    }
   ],
   "source": [
    "print(\"cat\"==\"dog\")"
   ]
  },
  {
   "cell_type": "code",
   "execution_count": 48,
   "id": "1743e0f7",
   "metadata": {},
   "outputs": [
    {
     "name": "stdout",
     "output_type": "stream",
     "text": [
      "True\n"
     ]
    }
   ],
   "source": [
    "print(1!=2)"
   ]
  },
  {
   "cell_type": "code",
   "execution_count": 49,
   "id": "b132d786",
   "metadata": {},
   "outputs": [],
   "source": [
    "# logical operators"
   ]
  },
  {
   "cell_type": "code",
   "execution_count": 50,
   "id": "abda571d",
   "metadata": {},
   "outputs": [
    {
     "name": "stdout",
     "output_type": "stream",
     "text": [
      "False\n"
     ]
    }
   ],
   "source": [
    "print(\"yellow\">\"Cyan\" and \"Brown\" >\"Magenta\")"
   ]
  },
  {
   "cell_type": "code",
   "execution_count": 51,
   "id": "22b4af86",
   "metadata": {},
   "outputs": [
    {
     "name": "stdout",
     "output_type": "stream",
     "text": [
      "True\n"
     ]
    }
   ],
   "source": [
    "print(25>50 or 1 != 2)"
   ]
  },
  {
   "cell_type": "code",
   "execution_count": 52,
   "id": "f89f561d",
   "metadata": {},
   "outputs": [
    {
     "name": "stdout",
     "output_type": "stream",
     "text": [
      "True\n"
     ]
    }
   ],
   "source": [
    "print(not 42 ==\"Answer\")"
   ]
  },
  {
   "cell_type": "markdown",
   "id": "54b9c8f2",
   "metadata": {},
   "source": [
    "# Branching with if statements"
   ]
  },
  {
   "cell_type": "code",
   "execution_count": 58,
   "id": "adffa82c",
   "metadata": {},
   "outputs": [
    {
     "name": "stdout",
     "output_type": "stream",
     "text": [
      "veer\n"
     ]
    }
   ],
   "source": [
    "def hint_username(username):\n",
    "    if len(username)<3:\n",
    "        print(\"Invalid username. Must be at least 3 characters long\")\n",
    "    return username\n",
    "print(hint_username(\"veer\"))"
   ]
  },
  {
   "cell_type": "code",
   "execution_count": 68,
   "id": "b32eabaa",
   "metadata": {},
   "outputs": [
    {
     "name": "stdout",
     "output_type": "stream",
     "text": [
      "None\n",
      "True\n",
      "True\n"
     ]
    }
   ],
   "source": [
    "def is_positive(number):\n",
    "    if (number>0):\n",
    "        return True\n",
    "    else:\n",
    "        return \"None\"\n",
    "print(is_positive(-7))\n",
    "print(is_positive(7))\n",
    "print(is_positive(100))"
   ]
  },
  {
   "cell_type": "code",
   "execution_count": 69,
   "id": "040b3248",
   "metadata": {},
   "outputs": [
    {
     "name": "stdout",
     "output_type": "stream",
     "text": [
      "None\n",
      "True\n",
      "True\n"
     ]
    }
   ],
   "source": [
    "def is_positive_n(number):\n",
    "    if (number>0):\n",
    "        return True\n",
    "    \n",
    "print(is_positive_n(-7))\n",
    "print(is_positive_n(7))\n",
    "print(is_positive_n(100))"
   ]
  },
  {
   "cell_type": "markdown",
   "id": "c1d8ceda",
   "metadata": {},
   "source": [
    "The is_positive function should return True if the number received is positive and False if it isn't. Can you fill in the gaps to make that happen?"
   ]
  },
  {
   "cell_type": "code",
   "execution_count": 74,
   "id": "d1b90414",
   "metadata": {},
   "outputs": [
    {
     "name": "stdout",
     "output_type": "stream",
     "text": [
      "False\n",
      "True\n",
      "True\n"
     ]
    }
   ],
   "source": [
    "def is_positive_a(number):\n",
    "    if number > 0:\n",
    "        return True\n",
    "    else:\n",
    "        return False\n",
    "\n",
    "print(is_positive_a(-7))\n",
    "print(is_positive_a(7))\n",
    "print(is_positive_a(100))"
   ]
  },
  {
   "cell_type": "code",
   "execution_count": 75,
   "id": "b6d5193f",
   "metadata": {},
   "outputs": [],
   "source": [
    "def is_even(number):\n",
    "    if number % 2 == 0:\n",
    "        return True\n",
    "    return False"
   ]
  },
  {
   "cell_type": "code",
   "execution_count": 77,
   "id": "89dd4272",
   "metadata": {},
   "outputs": [
    {
     "name": "stdout",
     "output_type": "stream",
     "text": [
      "Valid username\n",
      "None\n"
     ]
    }
   ],
   "source": [
    "def hint_username(username):\n",
    "    if len(username)<3:\n",
    "        print(\"Invalid username. Must be at least 3 characters long\")\n",
    "    elif len(username)>15:\n",
    "        print(\"Invalid username. Must be at most 15 characters long\")\n",
    "    else:\n",
    "        print(\"Valid username\")\n",
    "    \n",
    "print(hint_username(\"veer\"))"
   ]
  },
  {
   "cell_type": "code",
   "execution_count": 78,
   "id": "78947122",
   "metadata": {},
   "outputs": [
    {
     "name": "stdout",
     "output_type": "stream",
     "text": [
      "False\n",
      "True\n",
      "True\n"
     ]
    }
   ],
   "source": [
    "def number_group(number):\n",
    "    if number > 0:\n",
    "        return True\n",
    "    else:\n",
    "        return False\n",
    "\n",
    "print(is_positive_a(-7))\n",
    "print(is_positive_a(7))\n",
    "print(is_positive_a(100))"
   ]
  },
  {
   "cell_type": "code",
   "execution_count": 80,
   "id": "993d39aa",
   "metadata": {},
   "outputs": [
    {
     "name": "stdout",
     "output_type": "stream",
     "text": [
      "Positive\n",
      "Zero\n",
      "Negative\n"
     ]
    }
   ],
   "source": [
    "def number_group(number):\n",
    "    if number > 0:\n",
    "        return \"Positive\"\n",
    "    elif number < 0:\n",
    "        return \"Negative\"\n",
    "    else:\n",
    "        return \"Zero\"\n",
    "\n",
    "print(number_group(10)) #Should be Positive\n",
    "print(number_group(0)) #Should be Zero\n",
    "print(number_group(-5)) #Should be Negative"
   ]
  },
  {
   "cell_type": "code",
   "execution_count": 82,
   "id": "71640ba2",
   "metadata": {},
   "outputs": [
    {
     "name": "stdout",
     "output_type": "stream",
     "text": [
      "Welcome back Taylor!\n",
      "Hello there, John\n"
     ]
    }
   ],
   "source": [
    "def greeting(name):\n",
    "    if name == \"Taylor\":\n",
    "        return \"Welcome back Taylor!\"\n",
    "    else:\n",
    "        return \"Hello there, \" + name\n",
    "\n",
    "print(greeting(\"Taylor\"))\n",
    "print(greeting(\"John\"))"
   ]
  },
  {
   "cell_type": "code",
   "execution_count": 95,
   "id": "53a2dc8a",
   "metadata": {},
   "outputs": [
    {
     "name": "stdout",
     "output_type": "stream",
     "text": [
      "A dogA mouse\n",
      "28887\n"
     ]
    }
   ],
   "source": [
    "print(\"A dog\" + \"A mouse\")\n",
    "print(9999+8888 + 100*100)"
   ]
  },
  {
   "cell_type": "code",
   "execution_count": 87,
   "id": "91a3ceb6",
   "metadata": {},
   "outputs": [
    {
     "ename": "SyntaxError",
     "evalue": "invalid syntax (<ipython-input-87-85a02243862a>, line 1)",
     "output_type": "error",
     "traceback": [
      "\u001b[1;36m  File \u001b[1;32m\"<ipython-input-87-85a02243862a>\"\u001b[1;36m, line \u001b[1;32m1\u001b[0m\n\u001b[1;33m    Is \"A dog\" smaller or larger than \"A mouse\"? Is 9999+8888 smaller or larger than 100*100? Replace the plus sign in the following code to let Python check it for you and then answer.\u001b[0m\n\u001b[1;37m       ^\u001b[0m\n\u001b[1;31mSyntaxError\u001b[0m\u001b[1;31m:\u001b[0m invalid syntax\n"
     ]
    }
   ],
   "source": [
    "Is \"A dog\" smaller or larger than \"A mouse\"? Is 9999+8888 smaller or larger than 100*100? Replace the plus sign in the following code to let Python check it for you and then answer."
   ]
  },
  {
   "cell_type": "code",
   "execution_count": 88,
   "id": "289383c9",
   "metadata": {},
   "outputs": [
    {
     "name": "stdout",
     "output_type": "stream",
     "text": [
      "A dog is smaller than the A mouse\n",
      "9999+8888 =  18887  is larger than 100*100 =  10000\n"
     ]
    }
   ],
   "source": [
    "if len(\"A dog\")>len(\"A mouse\"):\n",
    "    print(\"A dog is larger than the A mouse\")\n",
    "else:\n",
    "    print(\"A dog is smaller than the A mouse\") \n",
    "if (9999+8888)>(100*100):\n",
    "    print(\"9999+8888 = \",9999+8888,\" is larger than 100*100 = \",100*100)\n",
    "else:\n",
    "    print(\"9999+8888 = \",9999+8888,\" is smaller than 100*100 = \",100*100)"
   ]
  },
  {
   "cell_type": "code",
   "execution_count": 89,
   "id": "db8148c6",
   "metadata": {},
   "outputs": [
    {
     "name": "stdout",
     "output_type": "stream",
     "text": [
      "Object `size` not found.\n"
     ]
    }
   ],
   "source": [
    "If a filesystem has a block size of 4096 bytes, this means that a file comprised of only one byte will still use 4096 bytes of storage. A file made up of 4097 bytes will use 4096*2=8192 bytes of storage. Knowing this, can you fill in the gaps in the calculate_storage function below, which calculates the total number of bytes needed to store a file of a given size?"
   ]
  },
  {
   "cell_type": "code",
   "execution_count": null,
   "id": "709374fa",
   "metadata": {},
   "outputs": [],
   "source": [
    "If a filesystem has a block size of 4096 bytes, this means that a file comprised of only one byte will still use 4096 bytes of storage. A file made up of 4097 bytes will use 4096*2=8192 bytes of storage. Knowing this, can you fill in the gaps in the calculate_storage function below, which calculates the total number of bytes needed to store a file of a given size"
   ]
  },
  {
   "cell_type": "code",
   "execution_count": 90,
   "id": "f5a7f836",
   "metadata": {},
   "outputs": [
    {
     "ename": "TypeError",
     "evalue": "'>' not supported between instances of 'str' and 'int'",
     "output_type": "error",
     "traceback": [
      "\u001b[1;31m---------------------------------------------------------------------------\u001b[0m",
      "\u001b[1;31mTypeError\u001b[0m                                 Traceback (most recent call last)",
      "\u001b[1;32m<ipython-input-90-b546992aec32>\u001b[0m in \u001b[0;36m<module>\u001b[1;34m\u001b[0m\n\u001b[0;32m     12\u001b[0m     \u001b[1;32mreturn\u001b[0m \u001b[0m___\u001b[0m\u001b[1;33m\u001b[0m\u001b[1;33m\u001b[0m\u001b[0m\n\u001b[0;32m     13\u001b[0m \u001b[1;33m\u001b[0m\u001b[0m\n\u001b[1;32m---> 14\u001b[1;33m \u001b[0mprint\u001b[0m\u001b[1;33m(\u001b[0m\u001b[0mcalculate_storage\u001b[0m\u001b[1;33m(\u001b[0m\u001b[1;36m1\u001b[0m\u001b[1;33m)\u001b[0m\u001b[1;33m)\u001b[0m    \u001b[1;31m# Should be 4096\u001b[0m\u001b[1;33m\u001b[0m\u001b[1;33m\u001b[0m\u001b[0m\n\u001b[0m\u001b[0;32m     15\u001b[0m \u001b[0mprint\u001b[0m\u001b[1;33m(\u001b[0m\u001b[0mcalculate_storage\u001b[0m\u001b[1;33m(\u001b[0m\u001b[1;36m4096\u001b[0m\u001b[1;33m)\u001b[0m\u001b[1;33m)\u001b[0m \u001b[1;31m# Should be 4096\u001b[0m\u001b[1;33m\u001b[0m\u001b[1;33m\u001b[0m\u001b[0m\n\u001b[0;32m     16\u001b[0m \u001b[0mprint\u001b[0m\u001b[1;33m(\u001b[0m\u001b[0mcalculate_storage\u001b[0m\u001b[1;33m(\u001b[0m\u001b[1;36m4097\u001b[0m\u001b[1;33m)\u001b[0m\u001b[1;33m)\u001b[0m \u001b[1;31m# Should be 8192\u001b[0m\u001b[1;33m\u001b[0m\u001b[1;33m\u001b[0m\u001b[0m\n",
      "\u001b[1;32m<ipython-input-90-b546992aec32>\u001b[0m in \u001b[0;36mcalculate_storage\u001b[1;34m(filesize)\u001b[0m\n\u001b[0;32m      8\u001b[0m     \u001b[1;31m# the total number of bytes required to allocate enough blocks\u001b[0m\u001b[1;33m\u001b[0m\u001b[1;33m\u001b[0m\u001b[1;33m\u001b[0m\u001b[0m\n\u001b[0;32m      9\u001b[0m     \u001b[1;31m# to store your data.\u001b[0m\u001b[1;33m\u001b[0m\u001b[1;33m\u001b[0m\u001b[1;33m\u001b[0m\u001b[0m\n\u001b[1;32m---> 10\u001b[1;33m     \u001b[1;32mif\u001b[0m \u001b[0mpartial_block_remainder\u001b[0m \u001b[1;33m>\u001b[0m \u001b[1;36m0\u001b[0m\u001b[1;33m:\u001b[0m\u001b[1;33m\u001b[0m\u001b[1;33m\u001b[0m\u001b[0m\n\u001b[0m\u001b[0;32m     11\u001b[0m         \u001b[1;32mreturn\u001b[0m \u001b[0m___\u001b[0m\u001b[1;33m\u001b[0m\u001b[1;33m\u001b[0m\u001b[0m\n\u001b[0;32m     12\u001b[0m     \u001b[1;32mreturn\u001b[0m \u001b[0m___\u001b[0m\u001b[1;33m\u001b[0m\u001b[1;33m\u001b[0m\u001b[0m\n",
      "\u001b[1;31mTypeError\u001b[0m: '>' not supported between instances of 'str' and 'int'"
     ]
    }
   ],
   "source": [
    "def calculate_storage(filesize):\n",
    "    block_size = 4096\n",
    "    # Use floor division to calculate how many blocks are fully occupied\n",
    "    full_blocks = ___\n",
    "    # Use the modulo operator to check whether there's any remainder\n",
    "    partial_block_remainder = ___\n",
    "    # Depending on whether there's a remainder or not, return\n",
    "    # the total number of bytes required to allocate enough blocks\n",
    "    # to store your data.\n",
    "    if partial_block_remainder > 0:\n",
    "        return ___\n",
    "    return ___\n",
    "\n",
    "print(calculate_storage(1))    # Should be 4096\n",
    "print(calculate_storage(4096)) # Should be 4096\n",
    "print(calculate_storage(4097)) # Should be 8192\n",
    "print(calculate_storage(6000)) # Should be 8192"
   ]
  },
  {
   "cell_type": "code",
   "execution_count": 91,
   "id": "99121fda",
   "metadata": {},
   "outputs": [
    {
     "name": "stdout",
     "output_type": "stream",
     "text": [
      "4096\n",
      "4096\n",
      "8192\n",
      "8192\n"
     ]
    }
   ],
   "source": [
    "def calculate_storage(filesize):\n",
    "    block_size = 4096\n",
    "    # Use floor division to calculate how many blocks are fully occupied\n",
    "    full_blocks = filesize//4096\n",
    "    # Use the modulo operator to check whether there's any remainder\n",
    "    partial_block_remainder = filesize % 4096\n",
    "    # Depending on whether there's a remainder or not, return\n",
    "    # the total number of bytes required to allocate enough blocks\n",
    "    # to store your data.\n",
    "    if partial_block_remainder > 0:\n",
    "        return 4096*(full_blocks+1)\n",
    "    return full_blocks*4096\n",
    "\n",
    "print(calculate_storage(1))    # Should be 4096\n",
    "print(calculate_storage(4096)) # Should be 4096\n",
    "print(calculate_storage(4097)) # Should be 8192\n",
    "print(calculate_storage(6000)) # Should be 8192"
   ]
  },
  {
   "cell_type": "code",
   "execution_count": null,
   "id": "f6ef4df6",
   "metadata": {},
   "outputs": [],
   "source": []
  }
 ],
 "metadata": {
  "kernelspec": {
   "display_name": "Python 3",
   "language": "python",
   "name": "python3"
  },
  "language_info": {
   "codemirror_mode": {
    "name": "ipython",
    "version": 3
   },
   "file_extension": ".py",
   "mimetype": "text/x-python",
   "name": "python",
   "nbconvert_exporter": "python",
   "pygments_lexer": "ipython3",
   "version": "3.8.8"
  }
 },
 "nbformat": 4,
 "nbformat_minor": 5
}
