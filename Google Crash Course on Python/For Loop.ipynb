{
 "cells": [
  {
   "cell_type": "code",
   "execution_count": 1,
   "id": "0ff00c27",
   "metadata": {},
   "outputs": [],
   "source": [
    "def square(n):\n",
    "    return n*n\n",
    "\n",
    "def sum_squares(x):\n",
    "    sum = 0\n",
    "    for n in ___:\n",
    "        sum += __\n",
    "    return __"
   ]
  },
  {
   "cell_type": "code",
   "execution_count": 2,
   "id": "abdeffc0",
   "metadata": {},
   "outputs": [
    {
     "name": "stdout",
     "output_type": "stream",
     "text": [
      "285\n"
     ]
    }
   ],
   "source": [
    "def square(n):\n",
    "    return n*n\n",
    "\n",
    "def sum_squares(x):\n",
    "    sum = 0\n",
    "    for n in range(x):\n",
    "        sum += square(n)\n",
    "    return sum\n",
    "print(sum_squares(10)) # Should be 285"
   ]
  },
  {
   "cell_type": "code",
   "execution_count": 3,
   "id": "0dce6718",
   "metadata": {},
   "outputs": [
    {
     "name": "stdout",
     "output_type": "stream",
     "text": [
      "Hi Taylor\n",
      "Hi Alex\n",
      "Hi Pat\n",
      "Hi Eli\n"
     ]
    }
   ],
   "source": [
    "friends = ['Taylor', 'Alex', 'Pat', 'Eli']\n",
    "for friend in friends:\n",
    "    print(\"Hi \" + friend)"
   ]
  },
  {
   "cell_type": "code",
   "execution_count": 7,
   "id": "0764f6b2",
   "metadata": {},
   "outputs": [
    {
     "name": "stdout",
     "output_type": "stream",
     "text": [
      "Total sum: 219 Average: 43.8\n"
     ]
    }
   ],
   "source": [
    "values = [23,52,59,37,48]\n",
    "sum=0\n",
    "length=0\n",
    "for value in values:\n",
    "    sum+=value\n",
    "    length += 1\n",
    "print(\"Total sum: \" + str(sum) + \" Average: \" + str(sum/length))    "
   ]
  },
  {
   "cell_type": "markdown",
   "id": "6b7f2913",
   "metadata": {},
   "source": [
    "In math, the factorial of a number is defined as the product of an integer and all the integers below it. For example, the factorial of four (4!) is equal to 1*2*3*4=24. Fill in the blanks to make the factorial function return the right number."
   ]
  },
  {
   "cell_type": "code",
   "execution_count": 13,
   "id": "e75b7e71",
   "metadata": {},
   "outputs": [
    {
     "name": "stdout",
     "output_type": "stream",
     "text": [
      "362880\n"
     ]
    }
   ],
   "source": [
    "product=1\n",
    "for n in range(1,10):\n",
    "    product=product*n\n",
    "print(product)"
   ]
  },
  {
   "cell_type": "code",
   "execution_count": 11,
   "id": "cf7dfe73",
   "metadata": {},
   "outputs": [
    {
     "name": "stdout",
     "output_type": "stream",
     "text": [
      "24\n",
      "120\n"
     ]
    }
   ],
   "source": [
    "def factorial(n):\n",
    "    result = 1\n",
    "    for i in range(1,n+1):\n",
    "        result *=i\n",
    "    return result\n",
    "\n",
    "print(factorial(4)) # should return 24\n",
    "print(factorial(5)) # should return 120"
   ]
  },
  {
   "cell_type": "code",
   "execution_count": 12,
   "id": "75afa700",
   "metadata": {},
   "outputs": [
    {
     "name": "stdout",
     "output_type": "stream",
     "text": [
      "0 -17.77777777777778\n",
      "10 -12.222222222222221\n",
      "20 -6.666666666666667\n",
      "30 -1.1111111111111112\n",
      "40 4.444444444444445\n",
      "50 10.0\n",
      "60 15.555555555555555\n",
      "70 21.11111111111111\n",
      "80 26.666666666666668\n",
      "90 32.22222222222222\n",
      "100 37.77777777777778\n"
     ]
    }
   ],
   "source": [
    "def to_celsius(x):\n",
    "    return (x-32)*5/9\n",
    "for x in range(0,101,10):\n",
    "    print(x, to_celsius(x))"
   ]
  },
  {
   "cell_type": "markdown",
   "id": "36c62ee1",
   "metadata": {},
   "source": [
    "# Nested for loops"
   ]
  },
  {
   "cell_type": "code",
   "execution_count": 14,
   "id": "3186f77d",
   "metadata": {},
   "outputs": [
    {
     "name": "stdout",
     "output_type": "stream",
     "text": [
      "[0|0] [0|1] [0|2] [0|3] [0|4] [0|5] [0|6] \n",
      "[1|1] [1|2] [1|3] [1|4] [1|5] [1|6] \n",
      "[2|2] [2|3] [2|4] [2|5] [2|6] \n",
      "[3|3] [3|4] [3|5] [3|6] \n",
      "[4|4] [4|5] [4|6] \n",
      "[5|5] [5|6] \n",
      "[6|6] \n"
     ]
    }
   ],
   "source": [
    "# Use parameter end=\n",
    "\n",
    "for left in range(7):\n",
    "    for right in range(left, 7):\n",
    "        print(\"[\" + str(left) + \"|\" +str(right) + \"]\", end=\" \")\n",
    "    print()"
   ]
  },
  {
   "cell_type": "code",
   "execution_count": 15,
   "id": "996aec01",
   "metadata": {},
   "outputs": [
    {
     "name": "stdout",
     "output_type": "stream",
     "text": [
      "Dragons vs Wolves\n",
      "Dragons vs Pandas\n",
      "Dragons vs Unicorns\n",
      "Wolves vs Dragons\n",
      "Wolves vs Pandas\n",
      "Wolves vs Unicorns\n",
      "Pandas vs Dragons\n",
      "Pandas vs Wolves\n",
      "Pandas vs Unicorns\n",
      "Unicorns vs Dragons\n",
      "Unicorns vs Wolves\n",
      "Unicorns vs Pandas\n"
     ]
    }
   ],
   "source": [
    "teams = [ 'Dragons', 'Wolves', 'Pandas', 'Unicorns']\n",
    "for home_team in teams:\n",
    "    for away_team in teams:\n",
    "        if home_team!=away_team:\n",
    "            print(home_team + \" vs \" + away_team)"
   ]
  },
  {
   "cell_type": "code",
   "execution_count": 18,
   "id": "bbc25b15",
   "metadata": {},
   "outputs": [
    {
     "name": "stdout",
     "output_type": "stream",
     "text": [
      "Hi Taylor\n",
      "Hi Luisa\n",
      "Hi Jamaal\n",
      "Hi Eli\n"
     ]
    }
   ],
   "source": [
    "def great_friends(friends):\n",
    "    for friend in friends:\n",
    "        print(\"Hi \" + friend)\n",
    "great_friends(['Taylor', 'Luisa', 'Jamaal', 'Eli'])"
   ]
  },
  {
   "cell_type": "code",
   "execution_count": 19,
   "id": "b09b3d44",
   "metadata": {},
   "outputs": [
    {
     "name": "stdout",
     "output_type": "stream",
     "text": [
      "Hi T\n",
      "Hi a\n",
      "Hi y\n",
      "Hi l\n",
      "Hi o\n",
      "Hi r\n"
     ]
    }
   ],
   "source": [
    "great_friends(\"Taylor\")"
   ]
  },
  {
   "cell_type": "markdown",
   "id": "30951f2d",
   "metadata": {},
   "source": [
    "The validate_users function is used by the system to check if a list of users is valid or invalid. A valid user is one that is at least 3 characters long. For example, ['taylor', 'luisa', 'jamaal'] are all valid users. When calling it like in this example, something is not right. Can you figure out what to fix?"
   ]
  },
  {
   "cell_type": "code",
   "execution_count": null,
   "id": "6f50d5a3",
   "metadata": {},
   "outputs": [],
   "source": [
    "def validate_users(users):\n",
    "  for user in users:\n",
    "    if is_valid(user):\n",
    "      print(user + \" is valid\")\n",
    "    else:\n",
    "      print(user + \" is invalid\")\n",
    "\n",
    "validate_users(\"purplecat\")"
   ]
  },
  {
   "cell_type": "code",
   "execution_count": 23,
   "id": "4a0e29a2",
   "metadata": {},
   "outputs": [
    {
     "ename": "SyntaxError",
     "evalue": "invalid syntax (<ipython-input-23-eb001f0aaa5c>, line 8)",
     "output_type": "error",
     "traceback": [
      "\u001b[1;36m  File \u001b[1;32m\"<ipython-input-23-eb001f0aaa5c>\"\u001b[1;36m, line \u001b[1;32m8\u001b[0m\n\u001b[1;33m    validate_users([]\"purplecat\"])\u001b[0m\n\u001b[1;37m                     ^\u001b[0m\n\u001b[1;31mSyntaxError\u001b[0m\u001b[1;31m:\u001b[0m invalid syntax\n"
     ]
    }
   ],
   "source": [
    "def validate_users(users):\n",
    "    for user in users:\n",
    "        if is_valid(user):\n",
    "            print(user + \" is valid\")\n",
    "        else:\n",
    "            print(user + \" is invalid\")\n",
    "            \n",
    "validate_users([]\"purplecat\"])"
   ]
  },
  {
   "cell_type": "code",
   "execution_count": null,
   "id": "ea078149",
   "metadata": {},
   "outputs": [],
   "source": [
    "# Fill in the blanks to make the factorial function return the factorial of n. Then, print the first 10 factorials (from 0 to 9) with the corresponding number. Remember that the factorial of a number is defined as the product of an integer and all integers before it. For example, the factorial of five (5!) is equal to 1*2*3*4*5=120. Also recall that the factorial of zero (0!) is equal to 1.\n",
    "\n",
    "def factorial(n):\n",
    "    result = 1\n",
    "    for x in range(1,n+1):\n",
    "        result = ___ * ___\n",
    "    return ___\n",
    "\n",
    "for n in range(___,___):\n",
    "    print(n, factorial(n+___))"
   ]
  },
  {
   "cell_type": "code",
   "execution_count": 1,
   "id": "40569550",
   "metadata": {},
   "outputs": [
    {
     "name": "stdout",
     "output_type": "stream",
     "text": [
      "0 1\n",
      "1 1\n",
      "2 2\n",
      "3 6\n",
      "4 24\n",
      "5 120\n",
      "6 720\n",
      "7 5040\n",
      "8 40320\n",
      "9 362880\n"
     ]
    }
   ],
   "source": [
    "def factorial(n):\n",
    "    result = 1\n",
    "    for x in range(1,n):\n",
    "        result *= x\n",
    "    return result\n",
    "\n",
    "for n in range(0,10):\n",
    "    print(n, factorial(n+1))"
   ]
  },
  {
   "cell_type": "code",
   "execution_count": 2,
   "id": "fe3cc239",
   "metadata": {},
   "outputs": [
    {
     "name": "stdout",
     "output_type": "stream",
     "text": [
      "1\n",
      "8\n",
      "27\n",
      "64\n",
      "125\n",
      "216\n",
      "343\n",
      "512\n",
      "729\n",
      "1000\n"
     ]
    }
   ],
   "source": [
    "# Write a script that prints the first 10 cube numbers (x**3), starting with x=1 and ending with x=10.\n",
    "\n",
    "for i in range(1,11):\n",
    "    print(i**3)"
   ]
  },
  {
   "cell_type": "code",
   "execution_count": 3,
   "id": "cbd9155e",
   "metadata": {},
   "outputs": [
    {
     "name": "stdout",
     "output_type": "stream",
     "text": [
      "\n"
     ]
    }
   ],
   "source": [
    "# Write a script that prints the multiples of 7 between 0 and 100. Print one multiple per line and avoid printing any numbers that aren't multiples of 7. Remember that 0 is also a multiple of 7.\n",
    "\n",
    "print()"
   ]
  },
  {
   "cell_type": "code",
   "execution_count": 4,
   "id": "5ef6391e",
   "metadata": {},
   "outputs": [
    {
     "name": "stdout",
     "output_type": "stream",
     "text": [
      "0\n",
      "7\n",
      "14\n",
      "21\n",
      "28\n",
      "35\n",
      "42\n",
      "49\n",
      "56\n",
      "63\n",
      "70\n",
      "77\n",
      "84\n",
      "91\n",
      "98\n"
     ]
    }
   ],
   "source": [
    "x=0\n",
    "mul=7\n",
    "while x<=100:\n",
    "    print(x)\n",
    "    x += mul"
   ]
  },
  {
   "cell_type": "code",
   "execution_count": 5,
   "id": "ae6db10a",
   "metadata": {},
   "outputs": [
    {
     "ename": "SyntaxError",
     "evalue": "invalid syntax (<ipython-input-5-f9c5aaefcf80>, line 8)",
     "output_type": "error",
     "traceback": [
      "\u001b[1;36m  File \u001b[1;32m\"<ipython-input-5-f9c5aaefcf80>\"\u001b[1;36m, line \u001b[1;32m8\u001b[0m\n\u001b[1;33m    else:\u001b[0m\n\u001b[1;37m    ^\u001b[0m\n\u001b[1;31mSyntaxError\u001b[0m\u001b[1;31m:\u001b[0m invalid syntax\n"
     ]
    }
   ],
   "source": [
    "# The retry function tries to execute an operation that might fail, it retries the operation for a number of attempts.  Currently the code will keep executing the function even if it succeeds. Fill in the blank so the code stops trying after the operation succeeded.\n",
    "\n",
    "def retry(operation, attempts):\n",
    "  for n in range(attempts):\n",
    "    if operation():\n",
    "      print(\"Attempt \" + str(n) + \" succeeded\")\n",
    "    ___\n",
    "    else:\n",
    "      print(\"Attempt \" + str(n) + \" failed\")\n",
    "\n",
    "retry(create_user, 3)\n",
    "retry(stop_service, 5)"
   ]
  },
  {
   "cell_type": "code",
   "execution_count": 8,
   "id": "d50ab3a8",
   "metadata": {},
   "outputs": [
    {
     "ename": "NameError",
     "evalue": "name 'create_user' is not defined",
     "output_type": "error",
     "traceback": [
      "\u001b[1;31m---------------------------------------------------------------------------\u001b[0m",
      "\u001b[1;31mNameError\u001b[0m                                 Traceback (most recent call last)",
      "\u001b[1;32m<ipython-input-8-bf4fb0f45021>\u001b[0m in \u001b[0;36m<module>\u001b[1;34m\u001b[0m\n\u001b[0;32m      7\u001b[0m             \u001b[0mprint\u001b[0m\u001b[1;33m(\u001b[0m\u001b[1;34m\"Attempt \"\u001b[0m \u001b[1;33m+\u001b[0m \u001b[0mstr\u001b[0m\u001b[1;33m(\u001b[0m\u001b[0mn\u001b[0m\u001b[1;33m)\u001b[0m \u001b[1;33m+\u001b[0m \u001b[1;34m\" failed\"\u001b[0m\u001b[1;33m)\u001b[0m\u001b[1;33m\u001b[0m\u001b[1;33m\u001b[0m\u001b[0m\n\u001b[0;32m      8\u001b[0m \u001b[1;33m\u001b[0m\u001b[0m\n\u001b[1;32m----> 9\u001b[1;33m \u001b[0mretry\u001b[0m\u001b[1;33m(\u001b[0m\u001b[0mcreate_user\u001b[0m\u001b[1;33m,\u001b[0m \u001b[1;36m3\u001b[0m\u001b[1;33m)\u001b[0m\u001b[1;33m\u001b[0m\u001b[1;33m\u001b[0m\u001b[0m\n\u001b[0m\u001b[0;32m     10\u001b[0m \u001b[0mretry\u001b[0m\u001b[1;33m(\u001b[0m\u001b[0mstop_service\u001b[0m\u001b[1;33m,\u001b[0m \u001b[1;36m5\u001b[0m\u001b[1;33m)\u001b[0m\u001b[1;33m\u001b[0m\u001b[1;33m\u001b[0m\u001b[0m\n",
      "\u001b[1;31mNameError\u001b[0m: name 'create_user' is not defined"
     ]
    }
   ],
   "source": [
    "def retry(operation, attempts):\n",
    "    for n in range(attempts):\n",
    "        if operation():\n",
    "            print(\"Attempt \" + str(n) + \" succeeded\")\n",
    "            break\n",
    "        else:\n",
    "            print(\"Attempt \" + str(n) + \" failed\")\n",
    "\n",
    "retry(create_user, 3)\n",
    "retry(stop_service, 5)"
   ]
  },
  {
   "cell_type": "code",
   "execution_count": 9,
   "id": "47df58a9",
   "metadata": {},
   "outputs": [
    {
     "ename": "NameError",
     "evalue": "name 'create_user' is not defined",
     "output_type": "error",
     "traceback": [
      "\u001b[1;31m---------------------------------------------------------------------------\u001b[0m",
      "\u001b[1;31mNameError\u001b[0m                                 Traceback (most recent call last)",
      "\u001b[1;32m<ipython-input-9-bf4fb0f45021>\u001b[0m in \u001b[0;36m<module>\u001b[1;34m\u001b[0m\n\u001b[0;32m      7\u001b[0m             \u001b[0mprint\u001b[0m\u001b[1;33m(\u001b[0m\u001b[1;34m\"Attempt \"\u001b[0m \u001b[1;33m+\u001b[0m \u001b[0mstr\u001b[0m\u001b[1;33m(\u001b[0m\u001b[0mn\u001b[0m\u001b[1;33m)\u001b[0m \u001b[1;33m+\u001b[0m \u001b[1;34m\" failed\"\u001b[0m\u001b[1;33m)\u001b[0m\u001b[1;33m\u001b[0m\u001b[1;33m\u001b[0m\u001b[0m\n\u001b[0;32m      8\u001b[0m \u001b[1;33m\u001b[0m\u001b[0m\n\u001b[1;32m----> 9\u001b[1;33m \u001b[0mretry\u001b[0m\u001b[1;33m(\u001b[0m\u001b[0mcreate_user\u001b[0m\u001b[1;33m,\u001b[0m \u001b[1;36m3\u001b[0m\u001b[1;33m)\u001b[0m\u001b[1;33m\u001b[0m\u001b[1;33m\u001b[0m\u001b[0m\n\u001b[0m\u001b[0;32m     10\u001b[0m \u001b[0mretry\u001b[0m\u001b[1;33m(\u001b[0m\u001b[0mstop_service\u001b[0m\u001b[1;33m,\u001b[0m \u001b[1;36m5\u001b[0m\u001b[1;33m)\u001b[0m\u001b[1;33m\u001b[0m\u001b[1;33m\u001b[0m\u001b[0m\n",
      "\u001b[1;31mNameError\u001b[0m: name 'create_user' is not defined"
     ]
    }
   ],
   "source": [
    "def retry(operation, attempts):\n",
    "    for n in range(attempts):\n",
    "        if operation():\n",
    "            print(\"Attempt \" + str(n) + \" succeeded\")\n",
    "            break\n",
    "        else:\n",
    "            print(\"Attempt \" + str(n) + \" failed\")\n",
    "\n",
    "retry(create_user, 3)\n",
    "retry(stop_service, 5)"
   ]
  },
  {
   "cell_type": "code",
   "execution_count": 12,
   "id": "6e441bfa",
   "metadata": {},
   "outputs": [
    {
     "name": "stdout",
     "output_type": "stream",
     "text": [
      "Factorial called with 4\n",
      "Factorial called with 3\n",
      "Factorial called with 2\n",
      "Factorial called with 1\n",
      "Returning 1\n",
      "Returning 2 for factorial of 2\n",
      "Returning 6 for factorial of 3\n",
      "Returning 24 for factorial of 4\n"
     ]
    },
    {
     "data": {
      "text/plain": [
       "24"
      ]
     },
     "execution_count": 12,
     "metadata": {},
     "output_type": "execute_result"
    }
   ],
   "source": [
    "def factorial(n):\n",
    "    print(\"Factorial called with \" + str(n))\n",
    "    if n < 2:\n",
    "        print(\"Returning 1\")\n",
    "        return 1\n",
    "    result = n*factorial(n-1)\n",
    "    print(\"Returning \" + str(result) + \" for factorial of \" + str(n))\n",
    "    return result\n",
    "factorial(4)"
   ]
  },
  {
   "cell_type": "code",
   "execution_count": null,
   "id": "0e206fe6",
   "metadata": {},
   "outputs": [],
   "source": [
    "def sum_positive_numbers(n):    \n",
    "    # The base case is n being smaller than 1\n",
    "    if n < 1:\n",
    "        return ___\n",
    "\n",
    "    # The recursive case is adding this number to \n",
    "    # the sum of the numbers smaller than this one.\n",
    "    return ___ + sum_positive_numbers(___)\n",
    "\n",
    "print(sum_positive_numbers(3)) # Should be 6\n",
    "print(sum_positive_numbers(5)) # Should be 15"
   ]
  },
  {
   "cell_type": "code",
   "execution_count": 10,
   "id": "64101c96",
   "metadata": {},
   "outputs": [
    {
     "name": "stdout",
     "output_type": "stream",
     "text": [
      "6\n",
      "15\n"
     ]
    }
   ],
   "source": [
    "def sum_positive_numbers(n):\n",
    "    # The base case is n being smaller than 1\n",
    "    if n < 1:\n",
    "        return n\n",
    "\n",
    "    # The recursive case is adding this number to \n",
    "    # the sum of the numbers smaller than this one.\n",
    "    return n + sum_positive_numbers(n-1)\n",
    "\n",
    "print(sum_positive_numbers(3)) # Should be 6\n",
    "print(sum_positive_numbers(5)) # Should be 15"
   ]
  },
  {
   "cell_type": "markdown",
   "id": "fc6ff694",
   "metadata": {},
   "source": [
    "# Recursion in action in the IT Context"
   ]
  },
  {
   "cell_type": "code",
   "execution_count": 14,
   "id": "3fa5b191",
   "metadata": {},
   "outputs": [
    {
     "name": "stdout",
     "output_type": "stream",
     "text": [
      "True\n",
      "True\n",
      "False\n"
     ]
    }
   ],
   "source": [
    "def is_power_of(number, base):\n",
    "    # Base case: when number is smaller than base.\n",
    "    if number < base:\n",
    "        # If number is equal to 1, it's a power (base**0).\n",
    "        return number == 1\n",
    "\n",
    "    # Recursive case: keep dividing number by base.\n",
    "    return is_power_of(number//base, base)\n",
    "\n",
    "print(is_power_of(8,2)) # Should be True\n",
    "print(is_power_of(64,4)) # Should be True\n",
    "print(is_power_of(70,10)) # Should be False"
   ]
  },
  {
   "cell_type": "code",
   "execution_count": null,
   "id": "265e2215",
   "metadata": {},
   "outputs": [],
   "source": []
  }
 ],
 "metadata": {
  "kernelspec": {
   "display_name": "Python 3",
   "language": "python",
   "name": "python3"
  },
  "language_info": {
   "codemirror_mode": {
    "name": "ipython",
    "version": 3
   },
   "file_extension": ".py",
   "mimetype": "text/x-python",
   "name": "python",
   "nbconvert_exporter": "python",
   "pygments_lexer": "ipython3",
   "version": "3.8.8"
  }
 },
 "nbformat": 4,
 "nbformat_minor": 5
}
