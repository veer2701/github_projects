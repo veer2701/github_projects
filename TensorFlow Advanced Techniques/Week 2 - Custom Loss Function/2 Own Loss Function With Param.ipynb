{
 "cells": [
  {
   "cell_type": "markdown",
   "id": "57079316",
   "metadata": {},
   "source": [
    "## Own Loss Function With Param\n"
   ]
  },
  {
   "cell_type": "code",
   "execution_count": 1,
   "id": "69e31cfa",
   "metadata": {},
   "outputs": [
    {
     "name": "stdout",
     "output_type": "stream",
     "text": [
      "Version of tensorflow is :  2.9.0-dev20220315\n"
     ]
    }
   ],
   "source": [
    "import tensorflow as tf\n",
    "from tensorflow.keras.layers import Dense , Input\n",
    "from tensorflow.keras.losses import Loss\n",
    "import numpy as np\n",
    "print(\"Version of tensorflow is : \",tf.__version__)"
   ]
  },
  {
   "cell_type": "code",
   "execution_count": 2,
   "id": "dcb87b42",
   "metadata": {},
   "outputs": [],
   "source": [
    "xs = np.arange(-5,5,1).astype('float32')\n",
    "ys = xs * 2 - 1"
   ]
  },
  {
   "cell_type": "markdown",
   "id": "cbc348ab",
   "metadata": {},
   "source": [
    "### huber loss function without wrapper\n",
    "\n",
    "In that case we can not pass any type of parameter to the function, thresold is the most important parameter in that type of loss function , so we need to tune this."
   ]
  },
  {
   "cell_type": "code",
   "execution_count": 3,
   "id": "758dba3d",
   "metadata": {},
   "outputs": [],
   "source": [
    "def huber_loss(y_true , y_pred):\n",
    "    thresold = 1\n",
    "    error = y_true - y_pred\n",
    "    return_type = tf.abs(error) <= thresold\n",
    "    r1 = 0.5 * tf.square(error)\n",
    "    r2 = thresold * (tf.abs(error) - (0.5*thresold))\n",
    "    return tf.where(return_type , r1 , r2)"
   ]
  },
  {
   "cell_type": "code",
   "execution_count": 4,
   "id": "e1c6f1cf",
   "metadata": {},
   "outputs": [
    {
     "name": "stdout",
     "output_type": "stream",
     "text": [
      "1/1 [==============================] - 0s 116ms/step\n"
     ]
    },
    {
     "data": {
      "text/plain": [
       "array([[19.013075]], dtype=float32)"
      ]
     },
     "execution_count": 4,
     "metadata": {},
     "output_type": "execute_result"
    }
   ],
   "source": [
    "input = Input(shape=(1,) , name=\"input_layer\")\n",
    "output_layer = Dense(1 , name=\"output_layer\")(input)\n",
    "model_huber_loss = tf.keras.models.Model(inputs=input , outputs=output_layer)\n",
    "model_huber_loss.compile(optimizer=\"sgd\" , loss=huber_loss)\n",
    "model_huber_loss.fit(xs,ys,epochs=500,verbose=0)\n",
    "model_huber_loss.predict([[10.0]])"
   ]
  },
  {
   "cell_type": "markdown",
   "id": "0ac25aa7",
   "metadata": {},
   "source": [
    "### huber loss function with wrapper\n",
    "\n",
    "In that case we can pass any type of parameter to the function, thresold is the most important parameter in that type of loss function , so we need to tune this parameter."
   ]
  },
  {
   "cell_type": "code",
   "execution_count": 6,
   "id": "edbd0135",
   "metadata": {},
   "outputs": [],
   "source": [
    "def huber_loss_wrapper(thresold):\n",
    "    def huber_loss(y_true , y_pred):\n",
    "        error = y_true - y_pred\n",
    "        return_type = tf.abs(error) <= thresold\n",
    "        r1 = 0.5 * tf.square(error)\n",
    "        r2 = thresold * (tf.abs(error) - (0.5*thresold))\n",
    "        return tf.where(return_type , r1 , r2)\n",
    "    return huber_loss"
   ]
  },
  {
   "cell_type": "code",
   "execution_count": 7,
   "id": "7cc659ba",
   "metadata": {},
   "outputs": [
    {
     "name": "stdout",
     "output_type": "stream",
     "text": [
      "1/1 [==============================] - 0s 31ms/step\n"
     ]
    },
    {
     "data": {
      "text/plain": [
       "array([[19.027235]], dtype=float32)"
      ]
     },
     "execution_count": 7,
     "metadata": {},
     "output_type": "execute_result"
    }
   ],
   "source": [
    "input = Input(shape=(1,) , name=\"input_layer\")\n",
    "output_layer = Dense(1 , name=\"output_layer\")(input)\n",
    "model_huber_loss_wrapper = tf.keras.models.Model(inputs=input , outputs=output_layer)\n",
    "model_huber_loss_wrapper.compile(optimizer=\"sgd\" , loss=huber_loss_wrapper(thresold=1))\n",
    "model_huber_loss_wrapper.fit(xs,ys,epochs=500,verbose=0)\n",
    "model_huber_loss_wrapper.predict([[10.0]])"
   ]
  },
  {
   "cell_type": "markdown",
   "id": "6f465163",
   "metadata": {},
   "source": [
    "## Own loss Class & Object"
   ]
  },
  {
   "cell_type": "code",
   "execution_count": 8,
   "id": "36ce0410",
   "metadata": {},
   "outputs": [],
   "source": [
    "class Huber(Loss):\n",
    "    thresold = 1\n",
    "    def __init__(self , thresold):\n",
    "        super().__init__()\n",
    "        self.thresold = thresold\n",
    "    def call(self , y_true , y_pred):\n",
    "        error = y_true - y_pred\n",
    "        return_type = tf.abs(error) <= self.thresold\n",
    "        r1 = 0.5 * tf.square(error)\n",
    "        r2 = self.thresold * (tf.abs(error) - (0.5*self.thresold))\n",
    "        return tf.where(return_type , r1 , r2)"
   ]
  },
  {
   "cell_type": "code",
   "execution_count": 9,
   "id": "d42e8a07",
   "metadata": {},
   "outputs": [
    {
     "name": "stdout",
     "output_type": "stream",
     "text": [
      "1/1 [==============================] - 0s 44ms/step\n"
     ]
    },
    {
     "data": {
      "text/plain": [
       "array([[19.028234]], dtype=float32)"
      ]
     },
     "execution_count": 9,
     "metadata": {},
     "output_type": "execute_result"
    }
   ],
   "source": [
    "input = Input(shape=(1,) , name=\"input_layer\")\n",
    "output_layer = Dense(1 , name=\"output_layer\")(input)\n",
    "model_huber_loss_class = tf.keras.models.Model(inputs=input , outputs=output_layer)\n",
    "model_huber_loss_class.compile(optimizer=\"sgd\" , loss=Huber(thresold=1))\n",
    "model_huber_loss_class.fit(xs,ys,epochs=500,verbose=0)\n",
    "model_huber_loss_class.predict([[10.0]])"
   ]
  },
  {
   "cell_type": "code",
   "execution_count": null,
   "id": "dbb88911",
   "metadata": {},
   "outputs": [],
   "source": []
  }
 ],
 "metadata": {
  "kernelspec": {
   "display_name": "Python 3 (ipykernel)",
   "language": "python",
   "name": "python3"
  },
  "language_info": {
   "codemirror_mode": {
    "name": "ipython",
    "version": 3
   },
   "file_extension": ".py",
   "mimetype": "text/x-python",
   "name": "python",
   "nbconvert_exporter": "python",
   "pygments_lexer": "ipython3",
   "version": "3.9.7"
  }
 },
 "nbformat": 4,
 "nbformat_minor": 5
}
