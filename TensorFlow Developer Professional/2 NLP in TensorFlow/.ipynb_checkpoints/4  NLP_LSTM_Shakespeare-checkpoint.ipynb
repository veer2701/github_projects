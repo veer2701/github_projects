{
 "cells": [
  {
   "cell_type": "code",
   "execution_count": 11,
   "metadata": {
    "id": "JbGTUyN_PJJA"
   },
   "outputs": [],
   "source": [
    "from tensorflow.keras.preprocessing.sequence import pad_sequences\n",
    "from tensorflow.keras.layers import Embedding, LSTM, Dense, Dropout, Bidirectional\n",
    "from tensorflow.keras.preprocessing.text import Tokenizer\n",
    "from tensorflow.keras.models import Sequential\n",
    "from tensorflow.keras.optimizers import Adam\n",
    "from tensorflow.keras import regularizers\n",
    "import tensorflow.keras.utils as ku \n",
    "import numpy as np "
   ]
  },
  {
   "cell_type": "code",
   "execution_count": 12,
   "metadata": {
    "colab": {
     "base_uri": "https://localhost:8080/"
    },
    "id": "YCtTGPRsPMhQ",
    "outputId": "db6af76b-bc63-47e9-ccd4-b5918c6bba85"
   },
   "outputs": [
    {
     "name": "stdout",
     "output_type": "stream",
     "text": [
      "--2022-02-01 07:43:21--  https://storage.googleapis.com/laurencemoroney-blog.appspot.com/sonnets.txt\n",
      "Resolving storage.googleapis.com (storage.googleapis.com)... 64.233.189.128, 108.177.97.128, 108.177.125.128, ...\n",
      "Connecting to storage.googleapis.com (storage.googleapis.com)|64.233.189.128|:443... connected.\n",
      "HTTP request sent, awaiting response... 200 OK\n",
      "Length: 93578 (91K) [text/plain]\n",
      "Saving to: ‘/tmp/sonnets.txt’\n",
      "\n",
      "\r",
      "/tmp/sonnets.txt      0%[                    ]       0  --.-KB/s               \r",
      "/tmp/sonnets.txt    100%[===================>]  91.38K  --.-KB/s    in 0.002s  \n",
      "\n",
      "2022-02-01 07:43:21 (51.5 MB/s) - ‘/tmp/sonnets.txt’ saved [93578/93578]\n",
      "\n"
     ]
    }
   ],
   "source": [
    "tokenizer = Tokenizer()\n",
    "!wget --no-check-certificate \\\n",
    "    https://storage.googleapis.com/laurencemoroney-blog.appspot.com/sonnets.txt \\\n",
    "    -O /tmp/sonnets.txt\n",
    "data = open('/tmp/sonnets.txt').read()\n",
    "\n",
    "corpus = data.lower().split(\"\\n\")\n",
    "\n",
    "\n",
    "tokenizer.fit_on_texts(corpus)\n",
    "total_words = len(tokenizer.word_index) + 1\n",
    "\n",
    "# create input sequences using list of tokens\n",
    "input_sequences = []\n",
    "for line in corpus:\n",
    "    token_list = tokenizer.texts_to_sequences([line])[0]\n",
    "    for i in range(1, len(token_list)):\n",
    "        n_gram_sequence = token_list[:i+1]\n",
    "        input_sequences.append(n_gram_sequence)\n",
    "\n",
    "\n",
    "# pad sequences \n",
    "max_sequence_len = max([len(x) for x in input_sequences])\n",
    "input_sequences = np.array(pad_sequences(input_sequences, maxlen=max_sequence_len, padding='pre'))\n",
    "\n",
    "# create predictors and label\n",
    "predictors, label = input_sequences[:,:-1],input_sequences[:,-1]\n",
    "\n",
    "label = ku.to_categorical(label, num_classes=total_words)"
   ]
  },
  {
   "cell_type": "code",
   "execution_count": 13,
   "metadata": {
    "colab": {
     "base_uri": "https://localhost:8080/"
    },
    "id": "DEXQdjdKPPWX",
    "outputId": "6dceedc3-7630-47d8-88ca-3620dc3434da"
   },
   "outputs": [
    {
     "name": "stdout",
     "output_type": "stream",
     "text": [
      "Model: \"sequential_1\"\n",
      "_________________________________________________________________\n",
      " Layer (type)                Output Shape              Param #   \n",
      "=================================================================\n",
      " embedding_1 (Embedding)     (None, 10, 100)           321100    \n",
      "                                                                 \n",
      " bidirectional (Bidirectiona  (None, 10, 300)          301200    \n",
      " l)                                                              \n",
      "                                                                 \n",
      " dropout_1 (Dropout)         (None, 10, 300)           0         \n",
      "                                                                 \n",
      " lstm_2 (LSTM)               (None, 100)               160400    \n",
      "                                                                 \n",
      " dense_1 (Dense)             (None, 1605)              162105    \n",
      "                                                                 \n",
      " dense_2 (Dense)             (None, 3211)              5156866   \n",
      "                                                                 \n",
      "=================================================================\n",
      "Total params: 6,101,671\n",
      "Trainable params: 6,101,671\n",
      "Non-trainable params: 0\n",
      "_________________________________________________________________\n",
      "None\n"
     ]
    }
   ],
   "source": [
    "model = Sequential()\n",
    "model.add(Embedding(total_words, 100, input_length=max_sequence_len-1))\n",
    "model.add(Bidirectional(LSTM(150, return_sequences = True)))\n",
    "model.add(Dropout(0.2))\n",
    "model.add(LSTM(100))\n",
    "model.add(Dense(total_words/2, activation='relu', kernel_regularizer=regularizers.l2(0.01)))\n",
    "model.add(Dense(total_words, activation='softmax'))\n",
    "model.compile(loss='categorical_crossentropy', optimizer='adam', metrics=['accuracy'])\n",
    "print(model.summary())"
   ]
  },
  {
   "cell_type": "code",
   "execution_count": 14,
   "metadata": {
    "colab": {
     "base_uri": "https://localhost:8080/"
    },
    "id": "-HV9oqRpPR_H",
    "outputId": "12c4553b-9218-4bd5-b3ae-91678ebfbab4"
   },
   "outputs": [
    {
     "name": "stdout",
     "output_type": "stream",
     "text": [
      "Epoch 1/100\n",
      "484/484 [==============================] - 24s 28ms/step - loss: 6.9066 - accuracy: 0.0209\n",
      "Epoch 2/100\n",
      "484/484 [==============================] - 13s 28ms/step - loss: 6.5002 - accuracy: 0.0227\n",
      "Epoch 3/100\n",
      "484/484 [==============================] - 12s 26ms/step - loss: 6.3995 - accuracy: 0.0245\n",
      "Epoch 4/100\n",
      "484/484 [==============================] - 13s 26ms/step - loss: 6.2728 - accuracy: 0.0281\n",
      "Epoch 5/100\n",
      "484/484 [==============================] - 12s 26ms/step - loss: 6.1758 - accuracy: 0.0341\n",
      "Epoch 6/100\n",
      "484/484 [==============================] - 12s 26ms/step - loss: 6.0894 - accuracy: 0.0369\n",
      "Epoch 7/100\n",
      "484/484 [==============================] - 13s 26ms/step - loss: 5.9993 - accuracy: 0.0417\n",
      "Epoch 8/100\n",
      "484/484 [==============================] - 13s 26ms/step - loss: 5.9066 - accuracy: 0.0440\n",
      "Epoch 9/100\n",
      "484/484 [==============================] - 12s 26ms/step - loss: 5.8021 - accuracy: 0.0515\n",
      "Epoch 10/100\n",
      "484/484 [==============================] - 13s 26ms/step - loss: 5.6870 - accuracy: 0.0596\n",
      "Epoch 11/100\n",
      "484/484 [==============================] - 12s 26ms/step - loss: 5.5762 - accuracy: 0.0670\n",
      "Epoch 12/100\n",
      "484/484 [==============================] - 12s 26ms/step - loss: 5.4691 - accuracy: 0.0742\n",
      "Epoch 13/100\n",
      "484/484 [==============================] - 13s 26ms/step - loss: 5.3662 - accuracy: 0.0796\n",
      "Epoch 14/100\n",
      "484/484 [==============================] - 13s 26ms/step - loss: 5.2685 - accuracy: 0.0869\n",
      "Epoch 15/100\n",
      "484/484 [==============================] - 12s 26ms/step - loss: 5.1606 - accuracy: 0.0936\n",
      "Epoch 16/100\n",
      "484/484 [==============================] - 12s 26ms/step - loss: 5.0635 - accuracy: 0.1041\n",
      "Epoch 17/100\n",
      "484/484 [==============================] - 13s 26ms/step - loss: 4.9594 - accuracy: 0.1122\n",
      "Epoch 18/100\n",
      "484/484 [==============================] - 12s 26ms/step - loss: 4.8588 - accuracy: 0.1192\n",
      "Epoch 19/100\n",
      "484/484 [==============================] - 13s 26ms/step - loss: 4.7575 - accuracy: 0.1303\n",
      "Epoch 20/100\n",
      "484/484 [==============================] - 12s 26ms/step - loss: 4.6580 - accuracy: 0.1376\n",
      "Epoch 21/100\n",
      "484/484 [==============================] - 12s 26ms/step - loss: 4.5604 - accuracy: 0.1475\n",
      "Epoch 22/100\n",
      "484/484 [==============================] - 12s 26ms/step - loss: 4.4555 - accuracy: 0.1578\n",
      "Epoch 23/100\n",
      "484/484 [==============================] - 12s 26ms/step - loss: 4.3550 - accuracy: 0.1687\n",
      "Epoch 24/100\n",
      "484/484 [==============================] - 12s 26ms/step - loss: 4.2525 - accuracy: 0.1804\n",
      "Epoch 25/100\n",
      "484/484 [==============================] - 12s 26ms/step - loss: 4.1584 - accuracy: 0.1939\n",
      "Epoch 26/100\n",
      "484/484 [==============================] - 13s 26ms/step - loss: 4.0488 - accuracy: 0.2073\n",
      "Epoch 27/100\n",
      "484/484 [==============================] - 12s 26ms/step - loss: 3.9578 - accuracy: 0.2204\n",
      "Epoch 28/100\n",
      "484/484 [==============================] - 12s 26ms/step - loss: 3.8665 - accuracy: 0.2354\n",
      "Epoch 29/100\n",
      "484/484 [==============================] - 12s 26ms/step - loss: 3.7599 - accuracy: 0.2543\n",
      "Epoch 30/100\n",
      "484/484 [==============================] - 12s 26ms/step - loss: 3.6630 - accuracy: 0.2731\n",
      "Epoch 31/100\n",
      "484/484 [==============================] - 12s 26ms/step - loss: 3.5839 - accuracy: 0.2866\n",
      "Epoch 32/100\n",
      "484/484 [==============================] - 12s 26ms/step - loss: 3.4934 - accuracy: 0.3022\n",
      "Epoch 33/100\n",
      "484/484 [==============================] - 12s 26ms/step - loss: 3.3941 - accuracy: 0.3205\n",
      "Epoch 34/100\n",
      "484/484 [==============================] - 12s 26ms/step - loss: 3.3073 - accuracy: 0.3444\n",
      "Epoch 35/100\n",
      "484/484 [==============================] - 13s 26ms/step - loss: 3.2274 - accuracy: 0.3573\n",
      "Epoch 36/100\n",
      "484/484 [==============================] - 12s 26ms/step - loss: 3.1623 - accuracy: 0.3771\n",
      "Epoch 37/100\n",
      "484/484 [==============================] - 12s 26ms/step - loss: 3.0777 - accuracy: 0.3934\n",
      "Epoch 38/100\n",
      "484/484 [==============================] - 12s 26ms/step - loss: 3.0004 - accuracy: 0.4157\n",
      "Epoch 39/100\n",
      "484/484 [==============================] - 12s 26ms/step - loss: 2.9278 - accuracy: 0.4290\n",
      "Epoch 40/100\n",
      "484/484 [==============================] - 12s 26ms/step - loss: 2.8570 - accuracy: 0.4453\n",
      "Epoch 41/100\n",
      "484/484 [==============================] - 13s 26ms/step - loss: 2.7976 - accuracy: 0.4603\n",
      "Epoch 42/100\n",
      "484/484 [==============================] - 13s 26ms/step - loss: 2.7361 - accuracy: 0.4755\n",
      "Epoch 43/100\n",
      "484/484 [==============================] - 12s 26ms/step - loss: 2.6695 - accuracy: 0.4898\n",
      "Epoch 44/100\n",
      "484/484 [==============================] - 12s 26ms/step - loss: 2.6061 - accuracy: 0.5027\n",
      "Epoch 45/100\n",
      "484/484 [==============================] - 13s 26ms/step - loss: 2.5569 - accuracy: 0.5149\n",
      "Epoch 46/100\n",
      "484/484 [==============================] - 13s 26ms/step - loss: 2.4997 - accuracy: 0.5296\n",
      "Epoch 47/100\n",
      "484/484 [==============================] - 12s 26ms/step - loss: 2.4400 - accuracy: 0.5388\n",
      "Epoch 48/100\n",
      "484/484 [==============================] - 13s 26ms/step - loss: 2.4008 - accuracy: 0.5495\n",
      "Epoch 49/100\n",
      "484/484 [==============================] - 13s 26ms/step - loss: 2.3432 - accuracy: 0.5611\n",
      "Epoch 50/100\n",
      "484/484 [==============================] - 12s 26ms/step - loss: 2.2913 - accuracy: 0.5737\n",
      "Epoch 51/100\n",
      "484/484 [==============================] - 12s 26ms/step - loss: 2.2557 - accuracy: 0.5825\n",
      "Epoch 52/100\n",
      "484/484 [==============================] - 13s 26ms/step - loss: 2.2050 - accuracy: 0.5944\n",
      "Epoch 53/100\n",
      "484/484 [==============================] - 13s 26ms/step - loss: 2.1649 - accuracy: 0.6030\n",
      "Epoch 54/100\n",
      "484/484 [==============================] - 13s 26ms/step - loss: 2.1154 - accuracy: 0.6129\n",
      "Epoch 55/100\n",
      "484/484 [==============================] - 12s 26ms/step - loss: 2.0777 - accuracy: 0.6198\n",
      "Epoch 56/100\n",
      "484/484 [==============================] - 12s 26ms/step - loss: 2.0491 - accuracy: 0.6300\n",
      "Epoch 57/100\n",
      "484/484 [==============================] - 13s 26ms/step - loss: 1.9977 - accuracy: 0.6416\n",
      "Epoch 58/100\n",
      "484/484 [==============================] - 12s 26ms/step - loss: 1.9714 - accuracy: 0.6427\n",
      "Epoch 59/100\n",
      "484/484 [==============================] - 12s 26ms/step - loss: 1.9241 - accuracy: 0.6556\n",
      "Epoch 60/100\n",
      "484/484 [==============================] - 13s 26ms/step - loss: 1.9024 - accuracy: 0.6577\n",
      "Epoch 61/100\n",
      "484/484 [==============================] - 12s 26ms/step - loss: 1.8571 - accuracy: 0.6671\n",
      "Epoch 62/100\n",
      "484/484 [==============================] - 13s 26ms/step - loss: 1.8344 - accuracy: 0.6737\n",
      "Epoch 63/100\n",
      "484/484 [==============================] - 12s 26ms/step - loss: 1.8135 - accuracy: 0.6781\n",
      "Epoch 64/100\n",
      "484/484 [==============================] - 12s 26ms/step - loss: 1.7824 - accuracy: 0.6802\n",
      "Epoch 65/100\n",
      "484/484 [==============================] - 13s 26ms/step - loss: 1.7421 - accuracy: 0.6905\n",
      "Epoch 66/100\n",
      "484/484 [==============================] - 12s 26ms/step - loss: 1.7016 - accuracy: 0.7021\n",
      "Epoch 67/100\n",
      "484/484 [==============================] - 12s 26ms/step - loss: 1.6829 - accuracy: 0.7027\n",
      "Epoch 68/100\n",
      "484/484 [==============================] - 12s 26ms/step - loss: 1.6502 - accuracy: 0.7110\n",
      "Epoch 69/100\n",
      "484/484 [==============================] - 13s 26ms/step - loss: 1.6415 - accuracy: 0.7118\n",
      "Epoch 70/100\n",
      "484/484 [==============================] - 13s 26ms/step - loss: 1.6209 - accuracy: 0.7182\n",
      "Epoch 71/100\n",
      "484/484 [==============================] - 12s 26ms/step - loss: 1.5866 - accuracy: 0.7234\n",
      "Epoch 72/100\n",
      "484/484 [==============================] - 13s 26ms/step - loss: 1.5642 - accuracy: 0.7268\n",
      "Epoch 73/100\n",
      "484/484 [==============================] - 13s 26ms/step - loss: 1.5575 - accuracy: 0.7284\n",
      "Epoch 74/100\n",
      "484/484 [==============================] - 13s 26ms/step - loss: 1.5188 - accuracy: 0.7369\n",
      "Epoch 75/100\n",
      "484/484 [==============================] - 12s 26ms/step - loss: 1.5056 - accuracy: 0.7388\n",
      "Epoch 76/100\n",
      "484/484 [==============================] - 13s 26ms/step - loss: 1.4791 - accuracy: 0.7436\n",
      "Epoch 77/100\n",
      "484/484 [==============================] - 13s 26ms/step - loss: 1.4587 - accuracy: 0.7452\n",
      "Epoch 78/100\n",
      "484/484 [==============================] - 12s 26ms/step - loss: 1.4502 - accuracy: 0.7483\n",
      "Epoch 79/100\n",
      "484/484 [==============================] - 12s 26ms/step - loss: 1.4302 - accuracy: 0.7507\n",
      "Epoch 80/100\n",
      "484/484 [==============================] - 12s 26ms/step - loss: 1.4118 - accuracy: 0.7572\n",
      "Epoch 81/100\n",
      "484/484 [==============================] - 13s 26ms/step - loss: 1.4176 - accuracy: 0.7532\n",
      "Epoch 82/100\n",
      "484/484 [==============================] - 13s 26ms/step - loss: 1.3740 - accuracy: 0.7654\n",
      "Epoch 83/100\n",
      "484/484 [==============================] - 12s 26ms/step - loss: 1.3611 - accuracy: 0.7649\n",
      "Epoch 84/100\n",
      "484/484 [==============================] - 13s 26ms/step - loss: 1.3385 - accuracy: 0.7714\n",
      "Epoch 85/100\n",
      "484/484 [==============================] - 13s 26ms/step - loss: 1.3180 - accuracy: 0.7708\n",
      "Epoch 86/100\n",
      "484/484 [==============================] - 13s 26ms/step - loss: 1.3140 - accuracy: 0.7730\n",
      "Epoch 87/100\n",
      "484/484 [==============================] - 13s 26ms/step - loss: 1.3136 - accuracy: 0.7728\n",
      "Epoch 88/100\n",
      "484/484 [==============================] - 13s 26ms/step - loss: 1.2890 - accuracy: 0.7758\n",
      "Epoch 89/100\n",
      "484/484 [==============================] - 13s 26ms/step - loss: 1.2839 - accuracy: 0.7771\n",
      "Epoch 90/100\n",
      "484/484 [==============================] - 13s 26ms/step - loss: 1.2603 - accuracy: 0.7809\n",
      "Epoch 91/100\n",
      "484/484 [==============================] - 13s 26ms/step - loss: 1.2430 - accuracy: 0.7857\n",
      "Epoch 92/100\n",
      "484/484 [==============================] - 13s 26ms/step - loss: 1.2401 - accuracy: 0.7844\n",
      "Epoch 93/100\n",
      "484/484 [==============================] - 13s 26ms/step - loss: 1.2343 - accuracy: 0.7865\n",
      "Epoch 94/100\n",
      "484/484 [==============================] - 13s 26ms/step - loss: 1.2077 - accuracy: 0.7928\n",
      "Epoch 95/100\n",
      "484/484 [==============================] - 13s 26ms/step - loss: 1.1944 - accuracy: 0.7899\n",
      "Epoch 96/100\n",
      "484/484 [==============================] - 13s 26ms/step - loss: 1.1921 - accuracy: 0.7915\n",
      "Epoch 97/100\n",
      "484/484 [==============================] - 13s 26ms/step - loss: 1.2029 - accuracy: 0.7863\n",
      "Epoch 98/100\n",
      "484/484 [==============================] - 13s 26ms/step - loss: 1.1739 - accuracy: 0.7943\n",
      "Epoch 99/100\n",
      "484/484 [==============================] - 13s 26ms/step - loss: 1.1705 - accuracy: 0.7938\n",
      "Epoch 100/100\n",
      "484/484 [==============================] - 13s 26ms/step - loss: 1.1508 - accuracy: 0.7988\n"
     ]
    }
   ],
   "source": [
    " history = model.fit(predictors, label, epochs=100, verbose=1)"
   ]
  },
  {
   "cell_type": "code",
   "execution_count": 15,
   "metadata": {
    "colab": {
     "base_uri": "https://localhost:8080/",
     "height": 545
    },
    "id": "SukS8QGNPUl3",
    "outputId": "498096f4-4d87-4cba-a728-44572e09fcd8"
   },
   "outputs": [
    {
     "data": {
      "image/png": "[encoded data removed]",
      "text/plain": [
       "<Figure size 432x288 with 1 Axes>"
      ]
     },
     "metadata": {
      "needs_background": "light"
     },
     "output_type": "display_data"
    },
    {
     "data": {
      "image/png": "[encoded data removed]",
      "text/plain": [
       "<Figure size 432x288 with 1 Axes>"
      ]
     },
     "metadata": {
      "needs_background": "light"
     },
     "output_type": "display_data"
    }
   ],
   "source": [
    "import matplotlib.pyplot as plt\n",
    "acc = history.history['accuracy']\n",
    "loss = history.history['loss']\n",
    "\n",
    "epochs = range(len(acc))\n",
    "\n",
    "plt.plot(epochs, acc, 'b', label='Training accuracy')\n",
    "plt.title('Training accuracy')\n",
    "\n",
    "plt.figure()\n",
    "\n",
    "plt.plot(epochs, loss, 'b', label='Training Loss')\n",
    "plt.title('Training loss')\n",
    "plt.legend()\n",
    "\n",
    "plt.show()"
   ]
  },
  {
   "cell_type": "code",
   "execution_count": 26,
   "metadata": {
    "colab": {
     "base_uri": "https://localhost:8080/"
    },
    "id": "fyS7P1k_PZku",
    "outputId": "d1c3e4a5-c920-44df-a7b5-91588aaf59e2"
   },
   "outputs": [
    {
     "name": "stdout",
     "output_type": "stream",
     "text": [
      "Help me Obi Wan Kenobi, you're my only hope and and and and and and and and and and and and and and and and and and and and and and and and and and and and and and and and and and and and and and and and and and and and and and and and and and and and and and and and and and and and and and and and and and and and and and and and and and and and and and and and and and and and and and and and and and and and and and and and and and and and\n"
     ]
    }
   ],
   "source": [
    "seed_text = \"Help me Obi Wan Kenobi, you're my only hope\"\n",
    "next_words = 100\n",
    "  \n",
    "for _ in range(next_words):\n",
    "    token_list = tokenizer.texts_to_sequences([seed_text])[0]\n",
    "    token_list = pad_sequences([token_list], maxlen=max_sequence_len-1, padding='pre')\n",
    "    predicted = model.predict(token_list, verbose=0)\n",
    "    output_word = \"\"\n",
    "    for word, index in tokenizer.word_index.items():\n",
    "        if index >= predicted.any():\n",
    "            output_word = word\n",
    "            break\n",
    "    seed_text += \" \" + output_word\n",
    "print(seed_text)"
   ]
  },
  {
   "cell_type": "code",
   "execution_count": 27,
   "metadata": {
    "colab": {
     "base_uri": "https://localhost:8080/"
    },
    "id": "aoJC8cBHPbHW",
    "outputId": "2d1d4160-cb83-4ca3-83d9-8dfefb1bf7f0"
   },
   "outputs": [
    {
     "name": "stdout",
     "output_type": "stream",
     "text": [
      "Help me Obi Wan Kenobi, you're my only hope and and and and and and and and and and and and and and and and and and and and and and and and and and and and and and and and and and and and and and and and and and and and and and and and and and and and and and and and and and and and and and and and and and and and and and and and and and and and and and and and and and and and and and and and and and and and and and and and and and and and\n"
     ]
    }
   ],
   "source": [
    "seed_text = \"Help me Obi Wan Kenobi, you're my only hope\"\n",
    "next_words = 100\n",
    "  \n",
    "for _ in range(next_words):\n",
    "    token_list = tokenizer.texts_to_sequences([seed_text])[0]\n",
    "    token_list = pad_sequences([token_list], maxlen=max_sequence_len-1, padding='pre')\n",
    "    predicted = model.predict(token_list, verbose=0)\n",
    "    output_word = \"\"\n",
    "    for word, index in tokenizer.word_index.items():\n",
    "        if index >= predicted.all():\n",
    "            output_word = word\n",
    "            break\n",
    "    seed_text += \" \" + output_word\n",
    "print(seed_text)"
   ]
  },
  {
   "cell_type": "code",
   "execution_count": null,
   "metadata": {
    "id": "Zt_1btbgZYBw"
   },
   "outputs": [],
   "source": []
  }
 ],
 "metadata": {
  "accelerator": "GPU",
  "colab": {
   "name": "NLP Course - Week 3 Exercise Answer.ipynb",
   "provenance": []
  },
  "kernelspec": {
   "display_name": "Python 3 (ipykernel)",
   "language": "python",
   "name": "python3"
  },
  "language_info": {
   "codemirror_mode": {
    "name": "ipython",
    "version": 3
   },
   "file_extension": ".py",
   "mimetype": "text/x-python",
   "name": "python",
   "nbconvert_exporter": "python",
   "pygments_lexer": "ipython3",
   "version": "3.9.7"
  }
 },
 "nbformat": 4,
 "nbformat_minor": 1
}
