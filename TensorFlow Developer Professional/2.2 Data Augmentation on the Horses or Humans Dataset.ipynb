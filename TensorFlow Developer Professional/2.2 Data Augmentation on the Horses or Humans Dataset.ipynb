{
  "nbformat": 4,
  "nbformat_minor": 0,
  "metadata": {
    "colab": {
      "name": "Untitled12.ipynb",
      "provenance": []
    },
    "kernelspec": {
      "name": "python3",
      "display_name": "Python 3"
    },
    "language_info": {
      "name": "python"
    }
  },
  "cells": [
    {
      "cell_type": "markdown",
      "source": [
        "<H1>Ungraded Lab: Data Augmentation on the Horses or Humans Dataset</H1>\n",
        "\n",
        "In the previous lab, you saw how data augmentation helped improve the model's performance on unseen data. By tweaking the cat and dog training images, the model was able to learn features that are also representative of the validation data. However, applying data augmentation requires good understanding of your dataset. Simply transforming it randomly will not always yield good results.\n",
        "\n",
        "In the next cells, you will apply the same techniques to the Horses or Humans dataset and analyze the results."
      ],
      "metadata": {
        "id": "bfDzSE52vp-D"
      }
    },
    {
      "cell_type": "code",
      "execution_count": 1,
      "metadata": {
        "colab": {
          "base_uri": "https://localhost:8080/"
        },
        "id": "uokZjRQfmOIj",
        "outputId": "49644cfd-ebf9-4009-e692-057ef1b60c58"
      },
      "outputs": [
        {
          "output_type": "stream",
          "name": "stdout",
          "text": [
            "Downloading...\n",
            "From: https://drive.google.com/uc?id=1onaG42NZft3wCE1WH0GDEbUhu75fedP5\n",
            "To: /content/horse-or-human.zip\n",
            "100% 150M/150M [00:01<00:00, 80.3MB/s]\n",
            "Downloading...\n",
            "From: https://drive.google.com/uc?id=1LYeusSEIiZQpwN-mthh5nKdA75VsKG1U\n",
            "To: /content/validation-horse-or-human.zip\n",
            "100% 11.5M/11.5M [00:00<00:00, 90.5MB/s]\n"
          ]
        }
      ],
      "source": [
        "# Download the dataset\n",
        "\n",
        "# horses-or-humans dataset\n",
        "!gdown --id 1onaG42NZft3wCE1WH0GDEbUhu75fedP5\n",
        "\n",
        "# horses-or-humans validation dataset\n",
        "!gdown --id 1LYeusSEIiZQpwN-mthh5nKdA75VsKG1U"
      ]
    },
    {
      "cell_type": "code",
      "source": [
        "import os\n",
        "import zipfile\n",
        "\n",
        "# Extract the archive\n",
        "zip_ref = zipfile.ZipFile('./horse-or-human.zip', 'r')\n",
        "zip_ref.extractall('tmp/horse-or-human')\n",
        "\n",
        "zip_ref = zipfile.ZipFile('./validation-horse-or-human.zip', 'r')\n",
        "zip_ref.extractall('tmp/validation-horse-or-human')\n",
        "\n",
        "zip_ref.close()\n",
        "\n",
        "# Directory with training horse pictures\n",
        "train_horse_dir = os.path.join('tmp/horse-or-human/horses')\n",
        "\n",
        "# Directory with training human pictures\n",
        "train_human_dir = os.path.join('tmp/horse-or-human/humans')\n",
        "\n",
        "# Directory with training horse pictures\n",
        "validation_horse_dir = os.path.join('tmp/validation-horse-or-human/horses')\n",
        "\n",
        "# Directory with training human pictures\n",
        "validation_human_dir = os.path.join('tmp/validation-horse-or-human/humans')"
      ],
      "metadata": {
        "id": "y_mDoU8LmQJj"
      },
      "execution_count": 2,
      "outputs": []
    },
    {
      "cell_type": "code",
      "source": [
        "import tensorflow as tf\n",
        "\n",
        "# Build the model\n",
        "model = tf.keras.models.Sequential([\n",
        "    # Note the input shape is the desired size of the image 300x300 with 3 bytes color\n",
        "    # This is the first convolution\n",
        "    tf.keras.layers.Conv2D(16, (3,3), activation='relu', input_shape=(300, 300, 3)),\n",
        "    tf.keras.layers.MaxPooling2D(2, 2),\n",
        "    # The second convolution\n",
        "    tf.keras.layers.Conv2D(32, (3,3), activation='relu'),\n",
        "    tf.keras.layers.MaxPooling2D(2,2),\n",
        "    # The third convolution\n",
        "    tf.keras.layers.Conv2D(64, (3,3), activation='relu'),\n",
        "    tf.keras.layers.MaxPooling2D(2,2),\n",
        "    # The fourth convolution\n",
        "    tf.keras.layers.Conv2D(64, (3,3), activation='relu'),\n",
        "    tf.keras.layers.MaxPooling2D(2,2),\n",
        "    # The fifth convolution\n",
        "    tf.keras.layers.Conv2D(64, (3,3), activation='relu'),\n",
        "    tf.keras.layers.MaxPooling2D(2,2),\n",
        "    # Flatten the results to feed into a DNN\n",
        "    tf.keras.layers.Flatten(),\n",
        "    # 512 neuron hidden layer\n",
        "    tf.keras.layers.Dense(512, activation='relu'),\n",
        "    # Only 1 output neuron. It will contain a value from 0-1 where 0 for 1 class ('horses') and 1 for the other ('humans')\n",
        "    tf.keras.layers.Dense(1, activation='sigmoid')\n",
        "])"
      ],
      "metadata": {
        "id": "tprXpErHmUeV"
      },
      "execution_count": 3,
      "outputs": []
    },
    {
      "cell_type": "code",
      "source": [
        "from tensorflow.keras.optimizers import RMSprop\n",
        "\n",
        "# Set training parameters\n",
        "model.compile(loss='binary_crossentropy',\n",
        "              optimizer=RMSprop(learning_rate=1e-4),\n",
        "              metrics=['accuracy'])"
      ],
      "metadata": {
        "id": "B6aSMlH3mY96"
      },
      "execution_count": 4,
      "outputs": []
    },
    {
      "cell_type": "code",
      "source": [
        "from tensorflow.keras.preprocessing.image import ImageDataGenerator\n",
        "\n",
        "# Apply data augmentation\n",
        "train_datagen = ImageDataGenerator(\n",
        "      rescale=1./255,\n",
        "      rotation_range=40,\n",
        "      width_shift_range=0.2,\n",
        "      height_shift_range=0.2,\n",
        "      shear_range=0.2,\n",
        "      zoom_range=0.2,\n",
        "      horizontal_flip=True,\n",
        "      fill_mode='nearest')\n",
        "\n",
        "validation_datagen = ImageDataGenerator(rescale=1/255)\n",
        "\n",
        "# Flow training images in batches of 128 using train_datagen generator\n",
        "train_generator = train_datagen.flow_from_directory(\n",
        "        'tmp/horse-or-human/',  # This is the source directory for training images\n",
        "        target_size=(300, 300),  # All images will be resized to 150x150\n",
        "        batch_size=128,\n",
        "        # Since we use binary_crossentropy loss, we need binary labels\n",
        "        class_mode='binary')\n",
        "\n",
        "# Flow training images in batches of 128 using train_datagen generator\n",
        "validation_generator = validation_datagen.flow_from_directory(\n",
        "        'tmp/validation-horse-or-human/',  # This is the source directory for training images\n",
        "        target_size=(300, 300),  # All images will be resized to 150x150\n",
        "        batch_size=32,\n",
        "        # Since we use binary_crossentropy loss, we need binary labels\n",
        "        class_mode='binary')"
      ],
      "metadata": {
        "colab": {
          "base_uri": "https://localhost:8080/"
        },
        "id": "WyutJkjhmbby",
        "outputId": "bc2007c1-1a89-4f96-c086-95486b6c3503"
      },
      "execution_count": 5,
      "outputs": [
        {
          "output_type": "stream",
          "name": "stdout",
          "text": [
            "Found 1027 images belonging to 2 classes.\n",
            "Found 256 images belonging to 2 classes.\n"
          ]
        }
      ]
    },
    {
      "cell_type": "code",
      "source": [
        "# Constant for epochs\n",
        "EPOCHS = 20\n",
        "\n",
        "# Train the model\n",
        "history = model.fit(\n",
        "      train_generator,\n",
        "      steps_per_epoch=8,  \n",
        "      epochs=EPOCHS,\n",
        "      verbose=1,\n",
        "      validation_data = validation_generator,\n",
        "      validation_steps=8)"
      ],
      "metadata": {
        "colab": {
          "base_uri": "https://localhost:8080/"
        },
        "id": "9MxkCbdUmeJ5",
        "outputId": "04d52d04-d4d1-4cc4-f5db-c096ca7bbbb0"
      },
      "execution_count": 6,
      "outputs": [
        {
          "output_type": "stream",
          "name": "stdout",
          "text": [
            "Epoch 1/20\n",
            "8/8 [==============================] - 112s 13s/step - loss: 0.6893 - accuracy: 0.5406 - val_loss: 0.6705 - val_accuracy: 0.7695\n",
            "Epoch 2/20\n",
            "8/8 [==============================] - 103s 15s/step - loss: 0.6709 - accuracy: 0.6418 - val_loss: 0.6513 - val_accuracy: 0.8867\n",
            "Epoch 3/20\n",
            "8/8 [==============================] - 104s 12s/step - loss: 0.6332 - accuracy: 0.7019 - val_loss: 0.6473 - val_accuracy: 0.5273\n",
            "Epoch 4/20\n",
            "8/8 [==============================] - 105s 12s/step - loss: 0.5939 - accuracy: 0.6952 - val_loss: 0.6494 - val_accuracy: 0.5352\n",
            "Epoch 5/20\n",
            "8/8 [==============================] - 104s 12s/step - loss: 0.5944 - accuracy: 0.6763 - val_loss: 0.8955 - val_accuracy: 0.5000\n",
            "Epoch 6/20\n",
            "8/8 [==============================] - 114s 14s/step - loss: 0.5432 - accuracy: 0.7422 - val_loss: 0.8704 - val_accuracy: 0.5000\n",
            "Epoch 7/20\n",
            "8/8 [==============================] - 104s 12s/step - loss: 0.5488 - accuracy: 0.7130 - val_loss: 0.8435 - val_accuracy: 0.5117\n",
            "Epoch 8/20\n",
            "8/8 [==============================] - 104s 12s/step - loss: 0.5475 - accuracy: 0.7297 - val_loss: 0.7728 - val_accuracy: 0.5352\n",
            "Epoch 9/20\n",
            "8/8 [==============================] - 116s 14s/step - loss: 0.5053 - accuracy: 0.7705 - val_loss: 1.0058 - val_accuracy: 0.5117\n",
            "Epoch 10/20\n",
            "8/8 [==============================] - 104s 12s/step - loss: 0.5471 - accuracy: 0.7497 - val_loss: 0.9689 - val_accuracy: 0.5273\n",
            "Epoch 11/20\n",
            "8/8 [==============================] - 103s 12s/step - loss: 0.4828 - accuracy: 0.7742 - val_loss: 1.9100 - val_accuracy: 0.5000\n",
            "Epoch 12/20\n",
            "8/8 [==============================] - 104s 12s/step - loss: 0.5185 - accuracy: 0.7597 - val_loss: 1.1978 - val_accuracy: 0.5156\n",
            "Epoch 13/20\n",
            "8/8 [==============================] - 104s 12s/step - loss: 0.5873 - accuracy: 0.7041 - val_loss: 1.1149 - val_accuracy: 0.5234\n",
            "Epoch 14/20\n",
            "8/8 [==============================] - 108s 13s/step - loss: 0.4732 - accuracy: 0.7987 - val_loss: 0.7894 - val_accuracy: 0.5898\n",
            "Epoch 15/20\n",
            "8/8 [==============================] - 104s 12s/step - loss: 0.4557 - accuracy: 0.8009 - val_loss: 1.6518 - val_accuracy: 0.5000\n",
            "Epoch 16/20\n",
            "8/8 [==============================] - 108s 13s/step - loss: 0.4876 - accuracy: 0.7653 - val_loss: 0.9760 - val_accuracy: 0.5781\n",
            "Epoch 17/20\n",
            "8/8 [==============================] - 104s 13s/step - loss: 0.4936 - accuracy: 0.7686 - val_loss: 1.1582 - val_accuracy: 0.5508\n",
            "Epoch 18/20\n",
            "8/8 [==============================] - 114s 14s/step - loss: 0.4318 - accuracy: 0.7900 - val_loss: 1.1132 - val_accuracy: 0.5703\n",
            "Epoch 19/20\n",
            "8/8 [==============================] - 104s 12s/step - loss: 0.4515 - accuracy: 0.7764 - val_loss: 1.3049 - val_accuracy: 0.5508\n",
            "Epoch 20/20\n",
            "8/8 [==============================] - 108s 13s/step - loss: 0.4763 - accuracy: 0.7653 - val_loss: 0.9677 - val_accuracy: 0.6016\n"
          ]
        }
      ]
    },
    {
      "cell_type": "code",
      "source": [
        "import matplotlib.pyplot as plt\n",
        "\n",
        "# Plot the model results\n",
        "acc = history.history['accuracy']\n",
        "val_acc = history.history['val_accuracy']\n",
        "loss = history.history['loss']\n",
        "val_loss = history.history['val_loss']\n",
        "\n",
        "epochs = range(len(acc))\n",
        "\n",
        "plt.plot(epochs, acc, 'r', label='Training accuracy')\n",
        "plt.plot(epochs, val_acc, 'b', label='Validation accuracy')\n",
        "plt.title('Training and validation accuracy')\n",
        "\n",
        "plt.figure()\n",
        "\n",
        "plt.plot(epochs, loss, 'r', label='Training Loss')\n",
        "plt.plot(epochs, val_loss, 'b', label='Validation Loss')\n",
        "plt.title('Training and validation loss')\n",
        "plt.legend()\n",
        "\n",
        "plt.show()"
      ],
      "metadata": {
        "colab": {
          "base_uri": "https://localhost:8080/",
          "height": 545
        },
        "id": "GvM-ihQgmg9S",
        "outputId": "00e455ac-9125-4101-ad4d-bb6d7d2cae4c"
      },
      "execution_count": 7,
      "outputs": [
        {
          "output_type": "display_data",
          "data": {
            "image/png": "[encoded data removed]",
            "text/plain": [
              "<Figure size 432x288 with 1 Axes>"
            ]
          },
          "metadata": {
            "needs_background": "light"
          }
        },
        {
          "output_type": "display_data",
          "data": {
            "image/png": "[encoded data removed]",
            "text/plain": [
              "<Figure size 432x288 with 1 Axes>"
            ]
          },
          "metadata": {
            "needs_background": "light"
          }
        }
      ]
    },
    {
      "cell_type": "code",
      "source": [
        ""
      ],
      "metadata": {
        "id": "A9dN4xYUmjNy"
      },
      "execution_count": null,
      "outputs": []
    },
    {
      "cell_type": "markdown",
      "source": [
        "As you can see in the results, the preprocessing techniques used in augmenting the data did not help much in the results. The validation accuracy is fluctuating and not trending up like the training accuracy. This might be because the additional training data generated still do not represent the features in the validation data. For example, some human or horse poses in the validation set cannot be mimicked by the image processing techniques that ImageDataGenerator provides. It might also be that the background of the training images are also learned so the white background of the validation set is throwing the model off even with cropping. Try looking at the validation images in the tmp/validation-horse-or-human directory (note: if you are using Colab, you can use the file explorer on the left to explore the images) and see if you can augment the training images to match its characteristics. If this is not possible, then at this point you can consider other techniques and you will see that in next week's lessons."
      ],
      "metadata": {
        "id": "Mi_israZmlmo"
      }
    },
    {
      "cell_type": "code",
      "source": [
        ""
      ],
      "metadata": {
        "id": "VA-t6afVmphi"
      },
      "execution_count": null,
      "outputs": []
    }
  ]
}