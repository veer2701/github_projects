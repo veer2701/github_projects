{
  "nbformat": 4,
  "nbformat_minor": 0,
  "metadata": {
    "colab": {
      "name": "Data Augmentation",
      "provenance": []
    },
    "kernelspec": {
      "name": "python3",
      "display_name": "Python 3"
    },
    "language_info": {
      "name": "python"
    }
  },
  "cells": [
    {
      "cell_type": "markdown",
      "source": [
        "<H1>Ungraded Lab: Data Augmentation</H1>\n",
        "In the previous lessons, you saw that having a high training accuracy does not automatically mean having a good predictive model. It can still perform poorly on new data because it has overfit to the training set. In this lab, you will see how to avoid that using data augmentation. This increases the amount of training data by modifying the existing training data's properties. For example, in image data, you can apply different preprocessing techniques such as rotate, flip, shear, or zoom on your existing images so you can simulate other data that the model should also learn from. This way, the model would see more variety in the images during training so it will infer better on new, previously unseen data.\n",
        "\n",
        "Let's see how you can do this in the following sections.\n",
        "\n",
        "<H2>Baseline Performance</H2>\n",
        "You will start with a model that's very effective at learning Cats vs Dogs without data augmentation. It's similar to the previous models that you have used. Note that there are four convolutional layers with 32, 64, 128 and 128 convolutions respectively. The code is basically the same from the previous lab so we won't go over the details step by step since you've already seen it before.\n",
        "\n",
        "You will train only for 20 epochs to save time but feel free to increase this if you want."
      ],
      "metadata": {
        "id": "7kbcqy42yKNa"
      }
    },
    {
      "cell_type": "code",
      "execution_count": 1,
      "metadata": {
        "colab": {
          "base_uri": "https://localhost:8080/"
        },
        "id": "cUpWK20_kBt1",
        "outputId": "8c089b26-ea53-410b-8b4f-681b2b18699d"
      },
      "outputs": [
        {
          "output_type": "stream",
          "name": "stdout",
          "text": [
            "Downloading...\n",
            "From: https://drive.google.com/uc?id=1RL0T7Rg4XqQNRCkjfnLo4goOJQ7XZro9\n",
            "To: /content/cats_and_dogs_filtered.zip\n",
            "100% 68.6M/68.6M [00:00<00:00, 72.6MB/s]\n"
          ]
        }
      ],
      "source": [
        "# Download the dataset\n",
        "!gdown --id 1RL0T7Rg4XqQNRCkjfnLo4goOJQ7XZro9"
      ]
    },
    {
      "cell_type": "code",
      "source": [
        "import os\n",
        "import zipfile\n",
        "\n",
        "# Extract the archive\n",
        "zip_ref = zipfile.ZipFile(\"./cats_and_dogs_filtered.zip\", 'r')\n",
        "zip_ref.extractall(\"tmp/\")\n",
        "zip_ref.close()\n",
        "\n",
        "# Assign training and validation set directories\n",
        "base_dir = 'tmp/cats_and_dogs_filtered'\n",
        "train_dir = os.path.join(base_dir, 'train')\n",
        "validation_dir = os.path.join(base_dir, 'validation')\n",
        "\n",
        "# Directory with training cat pictures\n",
        "train_cats_dir = os.path.join(train_dir, 'cats')\n",
        "\n",
        "# Directory with training dog pictures\n",
        "train_dogs_dir = os.path.join(train_dir, 'dogs')\n",
        "\n",
        "# Directory with validation cat pictures\n",
        "validation_cats_dir = os.path.join(validation_dir, 'cats')\n",
        "\n",
        "# Directory with validation dog pictures\n",
        "validation_dogs_dir = os.path.join(validation_dir, 'dogs')"
      ],
      "metadata": {
        "id": "TwmIHdu4kDeS"
      },
      "execution_count": 2,
      "outputs": []
    },
    {
      "cell_type": "markdown",
      "source": [
        "You will place the model creation inside a function so you can easily initialize a new one when you use data augmentation later in this notebook."
      ],
      "metadata": {
        "id": "XHliHqgwycpF"
      }
    },
    {
      "cell_type": "code",
      "source": [
        "import tensorflow as tf\n",
        "from tensorflow.keras.optimizers import RMSprop\n",
        "\n",
        "def create_model():\n",
        "  '''Creates a CNN with 4 convolutional layers'''\n",
        "  model = tf.keras.models.Sequential([\n",
        "      tf.keras.layers.Conv2D(32, (3,3), activation='relu', input_shape=(150, 150, 3)),\n",
        "      tf.keras.layers.MaxPooling2D(2, 2),\n",
        "      tf.keras.layers.Conv2D(64, (3,3), activation='relu'),\n",
        "      tf.keras.layers.MaxPooling2D(2,2),\n",
        "      tf.keras.layers.Conv2D(128, (3,3), activation='relu'),\n",
        "      tf.keras.layers.MaxPooling2D(2,2),\n",
        "      tf.keras.layers.Conv2D(128, (3,3), activation='relu'),\n",
        "      tf.keras.layers.MaxPooling2D(2,2),\n",
        "      tf.keras.layers.Flatten(),\n",
        "      tf.keras.layers.Dense(512, activation='relu'),\n",
        "      tf.keras.layers.Dense(1, activation='sigmoid')\n",
        "  ])\n",
        "\n",
        "  model.compile(loss='binary_crossentropy',\n",
        "                optimizer=RMSprop(learning_rate=1e-4),\n",
        "                metrics=['accuracy'])\n",
        "  \n",
        "  return model"
      ],
      "metadata": {
        "id": "ryaQb2_BkGqh"
      },
      "execution_count": 3,
      "outputs": []
    },
    {
      "cell_type": "code",
      "source": [
        "from tensorflow.keras.preprocessing.image import ImageDataGenerator\n",
        "\n",
        "# All images will be rescaled by 1./255\n",
        "train_datagen = ImageDataGenerator(rescale=1./255)\n",
        "test_datagen = ImageDataGenerator(rescale=1./255)\n",
        "\n",
        "# Flow training images in batches of 20 using train_datagen generator\n",
        "train_generator = train_datagen.flow_from_directory(\n",
        "        train_dir,  # This is the source directory for training images\n",
        "        target_size=(150, 150),  # All images will be resized to 150x150\n",
        "        batch_size=20,\n",
        "        # Since we use binary_crossentropy loss, we need binary labels\n",
        "        class_mode='binary')\n",
        "\n",
        "# Flow validation images in batches of 20 using test_datagen generator\n",
        "validation_generator = test_datagen.flow_from_directory(\n",
        "        validation_dir,\n",
        "        target_size=(150, 150),\n",
        "        batch_size=20,\n",
        "        class_mode='binary')"
      ],
      "metadata": {
        "colab": {
          "base_uri": "https://localhost:8080/"
        },
        "id": "xpIVweW8kLyR",
        "outputId": "3cdd09b3-090d-463f-9b26-c738ccbefec7"
      },
      "execution_count": 4,
      "outputs": [
        {
          "output_type": "stream",
          "name": "stdout",
          "text": [
            "Found 2000 images belonging to 2 classes.\n",
            "Found 1000 images belonging to 2 classes.\n"
          ]
        }
      ]
    },
    {
      "cell_type": "code",
      "source": [
        "# Constant for epochs\n",
        "EPOCHS = 20\n",
        "\n",
        "# Create a new model\n",
        "model = create_model()\n",
        "\n",
        "# Train the model\n",
        "history = model.fit(\n",
        "      train_generator,\n",
        "      steps_per_epoch=100,  # 2000 images = batch_size * steps\n",
        "      epochs=EPOCHS,\n",
        "      validation_data=validation_generator,\n",
        "      validation_steps=50,  # 1000 images = batch_size * steps\n",
        "      verbose=2)"
      ],
      "metadata": {
        "colab": {
          "base_uri": "https://localhost:8080/"
        },
        "id": "vi8dxCZ-kOrq",
        "outputId": "9927f907-5faf-4abb-a67e-3b4f3612e2ce"
      },
      "execution_count": 5,
      "outputs": [
        {
          "output_type": "stream",
          "name": "stdout",
          "text": [
            "Epoch 1/20\n",
            "100/100 - 83s - loss: 0.6889 - accuracy: 0.5275 - val_loss: 0.6810 - val_accuracy: 0.5490 - 83s/epoch - 828ms/step\n",
            "Epoch 2/20\n",
            "100/100 - 81s - loss: 0.6587 - accuracy: 0.6055 - val_loss: 0.6305 - val_accuracy: 0.6510 - 81s/epoch - 807ms/step\n",
            "Epoch 3/20\n",
            "100/100 - 79s - loss: 0.6205 - accuracy: 0.6570 - val_loss: 0.6226 - val_accuracy: 0.6470 - 79s/epoch - 791ms/step\n",
            "Epoch 4/20\n",
            "100/100 - 78s - loss: 0.5829 - accuracy: 0.6835 - val_loss: 0.6175 - val_accuracy: 0.6680 - 78s/epoch - 783ms/step\n",
            "Epoch 5/20\n",
            "100/100 - 78s - loss: 0.5408 - accuracy: 0.7270 - val_loss: 0.5614 - val_accuracy: 0.7310 - 78s/epoch - 784ms/step\n",
            "Epoch 6/20\n",
            "100/100 - 77s - loss: 0.5066 - accuracy: 0.7525 - val_loss: 0.5509 - val_accuracy: 0.7170 - 77s/epoch - 771ms/step\n",
            "Epoch 7/20\n",
            "100/100 - 79s - loss: 0.4757 - accuracy: 0.7875 - val_loss: 0.5700 - val_accuracy: 0.7080 - 79s/epoch - 794ms/step\n",
            "Epoch 8/20\n",
            "100/100 - 78s - loss: 0.4594 - accuracy: 0.7910 - val_loss: 0.6016 - val_accuracy: 0.7000 - 78s/epoch - 777ms/step\n",
            "Epoch 9/20\n",
            "100/100 - 78s - loss: 0.4313 - accuracy: 0.8025 - val_loss: 0.5753 - val_accuracy: 0.7150 - 78s/epoch - 780ms/step\n",
            "Epoch 10/20\n",
            "100/100 - 79s - loss: 0.4084 - accuracy: 0.8125 - val_loss: 0.5480 - val_accuracy: 0.7340 - 79s/epoch - 787ms/step\n",
            "Epoch 11/20\n",
            "100/100 - 79s - loss: 0.3767 - accuracy: 0.8250 - val_loss: 0.6616 - val_accuracy: 0.6750 - 79s/epoch - 793ms/step\n",
            "Epoch 12/20\n",
            "100/100 - 79s - loss: 0.3528 - accuracy: 0.8475 - val_loss: 0.5921 - val_accuracy: 0.7050 - 79s/epoch - 787ms/step\n",
            "Epoch 13/20\n",
            "100/100 - 79s - loss: 0.3240 - accuracy: 0.8570 - val_loss: 0.5696 - val_accuracy: 0.7260 - 79s/epoch - 789ms/step\n",
            "Epoch 14/20\n",
            "100/100 - 80s - loss: 0.3043 - accuracy: 0.8740 - val_loss: 0.6301 - val_accuracy: 0.7130 - 80s/epoch - 799ms/step\n",
            "Epoch 15/20\n",
            "100/100 - 79s - loss: 0.2822 - accuracy: 0.8860 - val_loss: 0.6047 - val_accuracy: 0.7330 - 79s/epoch - 790ms/step\n",
            "Epoch 16/20\n",
            "100/100 - 79s - loss: 0.2606 - accuracy: 0.8925 - val_loss: 0.5714 - val_accuracy: 0.7520 - 79s/epoch - 790ms/step\n",
            "Epoch 17/20\n",
            "100/100 - 79s - loss: 0.2355 - accuracy: 0.9070 - val_loss: 0.6225 - val_accuracy: 0.7360 - 79s/epoch - 788ms/step\n",
            "Epoch 18/20\n",
            "100/100 - 79s - loss: 0.2113 - accuracy: 0.9220 - val_loss: 0.7887 - val_accuracy: 0.6990 - 79s/epoch - 788ms/step\n",
            "Epoch 19/20\n",
            "100/100 - 80s - loss: 0.1914 - accuracy: 0.9300 - val_loss: 0.8344 - val_accuracy: 0.6990 - 80s/epoch - 797ms/step\n",
            "Epoch 20/20\n",
            "100/100 - 79s - loss: 0.1647 - accuracy: 0.9415 - val_loss: 0.6410 - val_accuracy: 0.7390 - 79s/epoch - 795ms/step\n"
          ]
        }
      ]
    },
    {
      "cell_type": "markdown",
      "source": [
        "You will then visualize the loss and accuracy with respect to the training and validation set. You will again use a convenience function so it can be reused later. This function accepts a History object which contains the results of the fit() method you ran above."
      ],
      "metadata": {
        "id": "HcoHtgpvyob1"
      }
    },
    {
      "cell_type": "code",
      "source": [
        "import matplotlib.pyplot as plt\n",
        "\n",
        "def plot_loss_acc(history):\n",
        "  '''Plots the training and validation loss and accuracy from a history object'''\n",
        "  acc = history.history['accuracy']\n",
        "  val_acc = history.history['val_accuracy']\n",
        "  loss = history.history['loss']\n",
        "  val_loss = history.history['val_loss']\n",
        "\n",
        "  epochs = range(len(acc))\n",
        "\n",
        "  plt.plot(epochs, acc, 'bo', label='Training accuracy')\n",
        "  plt.plot(epochs, val_acc, 'b', label='Validation accuracy')\n",
        "  plt.title('Training and validation accuracy')\n",
        "\n",
        "  plt.figure()\n",
        "\n",
        "  plt.plot(epochs, loss, 'bo', label='Training Loss')\n",
        "  plt.plot(epochs, val_loss, 'b', label='Validation Loss')\n",
        "  plt.title('Training and validation loss')\n",
        "  plt.legend()\n",
        "\n",
        "  plt.show()"
      ],
      "metadata": {
        "id": "dcAWwAGRkRui"
      },
      "execution_count": 6,
      "outputs": []
    },
    {
      "cell_type": "code",
      "source": [
        "# Plot training results\n",
        "plot_loss_acc(history)"
      ],
      "metadata": {
        "colab": {
          "base_uri": "https://localhost:8080/",
          "height": 545
        },
        "id": "OOqX02mSkYxR",
        "outputId": "c38b8bc2-6d09-44d3-b686-1da0d3eca7cd"
      },
      "execution_count": 7,
      "outputs": [
        {
          "output_type": "display_data",
          "data": {
            "image/png": "[encoded data removed]",
            "text/plain": [
              "<Figure size 432x288 with 1 Axes>"
            ]
          },
          "metadata": {
            "needs_background": "light"
          }
        },
        {
          "output_type": "display_data",
          "data": {
            "image/png": "[encoded data removed]",
            "text/plain": [
              "<Figure size 432x288 with 1 Axes>"
            ]
          },
          "metadata": {
            "needs_background": "light"
          }
        }
      ]
    },
    {
      "cell_type": "markdown",
      "source": [
        "From the results above, you'll see the training accuracy is more than 90%, and the validation accuracy is in the 70%-80% range. This is a great example of overfitting -- which in short means that it can do very well with images it has seen before, but not so well with images it hasn't.\n",
        "\n",
        "<H2>Data augmentation</H2>\n",
        "One simple method to avoid overfitting is to augment the images a bit. If you think about it, most pictures of a cat are very similar -- the ears are at the top, then the eyes, then the mouth etc. Things like the distance between the eyes and ears will always be quite similar too.\n",
        "\n",
        "What if you tweak with the images a bit -- rotate the image, squash it, etc. That's what image augementation is all about. And there's an API that makes it easy!\n",
        "\n",
        "Take a look at the ImageDataGenerator which you have been using to rescale the image. There are other properties on it that you can use to augment the image.\n",
        "\n",
        "# Updated to do image augmentation\n",
        "train_datagen = ImageDataGenerator(\n",
        "      rotation_range=40,\n",
        "      width_shift_range=0.2,\n",
        "      height_shift_range=0.2,\n",
        "      shear_range=0.2,\n",
        "      zoom_range=0.2,\n",
        "      horizontal_flip=True,\n",
        "      fill_mode='nearest')\n",
        "These are just a few of the options available. Let's quickly go over it:\n",
        "\n",
        "rotation_range is a value in degrees (0–180) within which to randomly rotate pictures.\n",
        "width_shift and height_shift are ranges (as a fraction of total width or height) within which to randomly translate pictures vertically or horizontally.\n",
        "shear_range is for randomly applying shearing transformations.\n",
        "zoom_range is for randomly zooming inside pictures.\n",
        "horizontal_flip is for randomly flipping half of the images horizontally. This is relevant when there are no assumptions of horizontal assymmetry (e.g. real-world pictures).\n",
        "fill_mode is the strategy used for filling in newly created pixels, which can appear after a rotation or a width/height shift.\n",
        "Run the next cells to see the impact on the results. The code is similar to the baseline but the definition of train_datagen has been updated to use the parameters described above."
      ],
      "metadata": {
        "id": "svS9UeoUyycP"
      }
    },
    {
      "cell_type": "code",
      "source": [
        "# Create new model\n",
        "model_for_aug = create_model()\n",
        "\n",
        "# This code has changed. Now instead of the ImageGenerator just rescaling\n",
        "# the image, we also rotate and do other operations\n",
        "train_datagen = ImageDataGenerator(\n",
        "      rescale=1./255,\n",
        "      rotation_range=40,\n",
        "      width_shift_range=0.2,\n",
        "      height_shift_range=0.2,\n",
        "      shear_range=0.2,\n",
        "      zoom_range=0.2,\n",
        "      horizontal_flip=True,\n",
        "      fill_mode='nearest')\n",
        "\n",
        "test_datagen = ImageDataGenerator(rescale=1./255)\n",
        "\n",
        "# Flow training images in batches of 20 using train_datagen generator\n",
        "train_generator = train_datagen.flow_from_directory(\n",
        "        train_dir,  # This is the source directory for training images\n",
        "        target_size=(150, 150),  # All images will be resized to 150x150\n",
        "        batch_size=20,\n",
        "        # Since we use binary_crossentropy loss, we need binary labels\n",
        "        class_mode='binary')\n",
        "\n",
        "# Flow validation images in batches of 20 using test_datagen generator\n",
        "validation_generator = test_datagen.flow_from_directory(\n",
        "        validation_dir,\n",
        "        target_size=(150, 150),\n",
        "        batch_size=20,\n",
        "        class_mode='binary')\n",
        "\n",
        "# Train the new model\n",
        "history_with_aug = model_for_aug.fit(\n",
        "      train_generator,\n",
        "      steps_per_epoch=100,  # 2000 images = batch_size * steps\n",
        "      epochs=EPOCHS,\n",
        "      validation_data=validation_generator,\n",
        "      validation_steps=50,  # 1000 images = batch_size * steps\n",
        "      verbose=2)"
      ],
      "metadata": {
        "colab": {
          "base_uri": "https://localhost:8080/"
        },
        "id": "c2TXo426kitq",
        "outputId": "b6a6351c-2f0f-41ab-de65-28b513947ecf"
      },
      "execution_count": 8,
      "outputs": [
        {
          "output_type": "stream",
          "name": "stdout",
          "text": [
            "Found 2000 images belonging to 2 classes.\n",
            "Found 1000 images belonging to 2 classes.\n",
            "Epoch 1/20\n",
            "100/100 - 84s - loss: 0.6914 - accuracy: 0.5245 - val_loss: 0.6760 - val_accuracy: 0.6070 - 84s/epoch - 839ms/step\n",
            "Epoch 2/20\n",
            "100/100 - 83s - loss: 0.6811 - accuracy: 0.5645 - val_loss: 0.6514 - val_accuracy: 0.6190 - 83s/epoch - 832ms/step\n",
            "Epoch 3/20\n",
            "100/100 - 83s - loss: 0.6610 - accuracy: 0.5965 - val_loss: 0.6202 - val_accuracy: 0.6440 - 83s/epoch - 831ms/step\n",
            "Epoch 4/20\n",
            "100/100 - 85s - loss: 0.6409 - accuracy: 0.6280 - val_loss: 0.5960 - val_accuracy: 0.6670 - 85s/epoch - 848ms/step\n",
            "Epoch 5/20\n",
            "100/100 - 85s - loss: 0.6177 - accuracy: 0.6590 - val_loss: 0.5794 - val_accuracy: 0.6910 - 85s/epoch - 853ms/step\n",
            "Epoch 6/20\n",
            "100/100 - 84s - loss: 0.6126 - accuracy: 0.6670 - val_loss: 0.6334 - val_accuracy: 0.6260 - 84s/epoch - 843ms/step\n",
            "Epoch 7/20\n",
            "100/100 - 84s - loss: 0.6025 - accuracy: 0.6600 - val_loss: 0.5726 - val_accuracy: 0.6790 - 84s/epoch - 841ms/step\n",
            "Epoch 8/20\n",
            "100/100 - 84s - loss: 0.5907 - accuracy: 0.6805 - val_loss: 0.5475 - val_accuracy: 0.7170 - 84s/epoch - 839ms/step\n",
            "Epoch 9/20\n",
            "100/100 - 84s - loss: 0.5833 - accuracy: 0.6805 - val_loss: 0.5615 - val_accuracy: 0.6960 - 84s/epoch - 844ms/step\n",
            "Epoch 10/20\n",
            "100/100 - 84s - loss: 0.5795 - accuracy: 0.6975 - val_loss: 0.5387 - val_accuracy: 0.7250 - 84s/epoch - 840ms/step\n",
            "Epoch 11/20\n",
            "100/100 - 83s - loss: 0.5789 - accuracy: 0.6985 - val_loss: 0.5260 - val_accuracy: 0.7260 - 83s/epoch - 835ms/step\n",
            "Epoch 12/20\n",
            "100/100 - 84s - loss: 0.5752 - accuracy: 0.6960 - val_loss: 0.5438 - val_accuracy: 0.7210 - 84s/epoch - 839ms/step\n",
            "Epoch 13/20\n",
            "100/100 - 84s - loss: 0.5564 - accuracy: 0.7170 - val_loss: 0.5326 - val_accuracy: 0.7220 - 84s/epoch - 835ms/step\n",
            "Epoch 14/20\n",
            "100/100 - 83s - loss: 0.5557 - accuracy: 0.6995 - val_loss: 0.6680 - val_accuracy: 0.6500 - 83s/epoch - 832ms/step\n",
            "Epoch 15/20\n",
            "100/100 - 84s - loss: 0.5575 - accuracy: 0.7050 - val_loss: 0.5214 - val_accuracy: 0.7380 - 84s/epoch - 837ms/step\n",
            "Epoch 16/20\n",
            "100/100 - 84s - loss: 0.5556 - accuracy: 0.7080 - val_loss: 0.6011 - val_accuracy: 0.6660 - 84s/epoch - 838ms/step\n",
            "Epoch 17/20\n",
            "100/100 - 84s - loss: 0.5381 - accuracy: 0.7275 - val_loss: 0.5120 - val_accuracy: 0.7290 - 84s/epoch - 838ms/step\n",
            "Epoch 18/20\n",
            "100/100 - 85s - loss: 0.5446 - accuracy: 0.7280 - val_loss: 0.5751 - val_accuracy: 0.6870 - 85s/epoch - 852ms/step\n",
            "Epoch 19/20\n",
            "100/100 - 85s - loss: 0.5413 - accuracy: 0.7315 - val_loss: 0.5044 - val_accuracy: 0.7320 - 85s/epoch - 851ms/step\n",
            "Epoch 20/20\n",
            "100/100 - 84s - loss: 0.5299 - accuracy: 0.7340 - val_loss: 0.4904 - val_accuracy: 0.7440 - 84s/epoch - 843ms/step\n"
          ]
        }
      ]
    },
    {
      "cell_type": "code",
      "source": [
        "# Plot the results of training with data augmentation\n",
        "plot_loss_acc(history_with_aug)"
      ],
      "metadata": {
        "colab": {
          "base_uri": "https://localhost:8080/",
          "height": 545
        },
        "id": "O8STPPidkrDp",
        "outputId": "03481fdb-805c-46bf-ec58-3a511bddb580"
      },
      "execution_count": 9,
      "outputs": [
        {
          "output_type": "display_data",
          "data": {
            "image/png": "[encoded data removed]",
            "text/plain": [
              "<Figure size 432x288 with 1 Axes>"
            ]
          },
          "metadata": {
            "needs_background": "light"
          }
        },
        {
          "output_type": "display_data",
          "data": {
            "image/png": "[encoded data removed]",
            "text/plain": [
              "<Figure size 432x288 with 1 Axes>"
            ]
          },
          "metadata": {
            "needs_background": "light"
          }
        }
      ]
    },
    {
      "cell_type": "code",
      "source": [
        ""
      ],
      "metadata": {
        "id": "Y886JS2LksJp"
      },
      "execution_count": null,
      "outputs": []
    },
    {
      "cell_type": "markdown",
      "source": [
        "As you can see, the training accuracy has gone down compared to the baseline. This is expected because (as a result of data augmentation) there are more variety in the images so the model will need more runs to learn from them. The good thing is the validation accuracy is no longer stalling and is more in line with the training results. This means that the model is now performing better on unseen data.\n",
        "\n",
        "<H2>Wrap Up</H2>\n",
        "This exercise showed a simple trick to avoid overfitting. You can improve your baseline results by simply tweaking the same images you have already. The ImageDataGenerator class has built-in parameters to do just that. Try to modify the values some more in the train_datagen and see what results you get.\n",
        "\n",
        "Take note that this will not work for all cases. In the next lesson, Laurence will show a scenario where data augmentation will not help improve your validation accuracy."
      ],
      "metadata": {
        "id": "y4qawLv6zHop"
      }
    },
    {
      "cell_type": "code",
      "source": [
        ""
      ],
      "metadata": {
        "id": "bEcvwLBFzPNP"
      },
      "execution_count": null,
      "outputs": []
    }
  ]
}