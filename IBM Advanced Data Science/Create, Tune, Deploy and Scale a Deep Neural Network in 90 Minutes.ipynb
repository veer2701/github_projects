{
 "cells": [
  {
   "cell_type": "code",
   "execution_count": 1,
   "metadata": {},
   "outputs": [],
   "source": [
    "import tensorflow as tf\n",
    "import keras"
   ]
  },
  {
   "cell_type": "code",
   "execution_count": 2,
   "metadata": {},
   "outputs": [
    {
     "data": {
      "text/plain": [
       "'2.7.0'"
      ]
     },
     "execution_count": 2,
     "metadata": {},
     "output_type": "execute_result"
    }
   ],
   "source": [
    "tf.__version__"
   ]
  },
  {
   "cell_type": "code",
   "execution_count": 3,
   "metadata": {},
   "outputs": [
    {
     "data": {
      "text/plain": [
       "'2.7.0'"
      ]
     },
     "execution_count": 3,
     "metadata": {},
     "output_type": "execute_result"
    }
   ],
   "source": [
    "keras.__version__"
   ]
  },
  {
   "cell_type": "code",
   "execution_count": 4,
   "metadata": {},
   "outputs": [],
   "source": [
    "from keras import backend as K\n",
    "import keras\n",
    "from keras.models import Model\n",
    "from keras.layers import Input, Dense\n",
    "from keras.layers import Dense, Dropout, Flatten\n",
    "from keras.layers import Conv2D, MaxPooling2D\n",
    "from keras.datasets import mnist\n",
    "from keras.models import Sequential, load_model\n",
    "from tensorflow.keras.optimizers import RMSprop\n",
    "from keras.layers import LeakyReLU\n",
    "\n",
    "from keras import backend as K\n",
    "import numpy as np"
   ]
  },
  {
   "cell_type": "code",
   "execution_count": 5,
   "metadata": {},
   "outputs": [],
   "source": [
    "batch_size = 128\n",
    "num_classes = 10\n",
    "epochs = 1\n",
    "\n",
    "# the data, split between train and test sets\n",
    "(x_train, y_train), (x_test, y_test) = mnist.load_data()\n",
    "\n",
    "x_train = x_train.reshape(60000, 784)\n",
    "x_test = x_test.reshape(10000, 784)\n",
    "x_train = x_train.astype('float32')\n",
    "x_test = x_test.astype('float32')\n",
    "x_train /= 255\n",
    "x_test /= 255\n",
    "\n",
    "\n",
    "# convert class vectors to binary class matrices\n",
    "y_train = keras.utils.np_utils.to_categorical(y_train, num_classes)\n",
    "y_test = keras.utils.np_utils.to_categorical(y_test, num_classes)\n",
    "\n",
    "#y_train = keras.utils.to_categorical(y_train, num_classes)\n",
    "#y_test = keras.utils.to_categorical(y_test, num_classes)"
   ]
  },
  {
   "cell_type": "markdown",
   "metadata": {},
   "source": [
    "As expected, we get 60000 images of 28 by 28 pixels:"
   ]
  },
  {
   "cell_type": "code",
   "execution_count": 6,
   "metadata": {},
   "outputs": [
    {
     "name": "stdout",
     "output_type": "stream",
     "text": [
      "469/469 [==============================] - 4s 7ms/step - loss: 0.3821 - accuracy: 0.8895 - val_loss: 0.3146 - val_accuracy: 0.9120\n",
      "\n",
      "\n",
      "Accuracy: 0.9120000004768372\n"
     ]
    }
   ],
   "source": [
    "model = Sequential()\n",
    "model.add(Dense(512, input_shape=(784,)))\n",
    "model.add(Dense(num_classes, activation='softmax'))\n",
    "\n",
    "\n",
    "\n",
    "model.compile(loss='categorical_crossentropy',\n",
    "        optimizer='rmsprop',\n",
    "        metrics=['accuracy'])\n",
    "\n",
    "model.fit(x_train, y_train,\n",
    "        batch_size=batch_size,\n",
    "        epochs=epochs,\n",
    "        verbose=1,\n",
    "        validation_data=(x_test, y_test))\n",
    "        \n",
    "score = model.evaluate(x_test, y_test, verbose=0)\n",
    "\n",
    "print('\\n')\n",
    "print('Accuracy:',score[1])"
   ]
  },
  {
   "cell_type": "markdown",
   "metadata": {},
   "source": [
    "The labels are simply a list of 60000 elements, each one is a number (label) between 0 and 9:"
   ]
  },
  {
   "cell_type": "code",
   "execution_count": 7,
   "metadata": {},
   "outputs": [
    {
     "name": "stderr",
     "output_type": "stream",
     "text": [
      "'rm' is not recognized as an internal or external command,\n",
      "operable program or batch file.\n",
      "'rm' is not recognized as an internal or external command,\n",
      "operable program or batch file.\n"
     ]
    }
   ],
   "source": [
    "#some cleanup from the previous run\n",
    "!rm -f ker_*\n",
    "!rm -f my_best_model.tgz"
   ]
  },
  {
   "cell_type": "markdown",
   "metadata": {},
   "source": [
    "Let's have a look at one image:"
   ]
  },
  {
   "cell_type": "code",
   "execution_count": 8,
   "metadata": {},
   "outputs": [
    {
     "name": "stdout",
     "output_type": "stream",
     "text": [
      "469/469 [==============================] - 4s 7ms/step - loss: 0.4295 - accuracy: 0.8835 - val_loss: 0.2580 - val_accuracy: 0.9242\n",
      "469/469 [==============================] - 2s 4ms/step - loss: 2.2055 - accuracy: 0.3538 - val_loss: 2.0792 - val_accuracy: 0.5856\n",
      "469/469 [==============================] - 3s 5ms/step - loss: 2.3356 - accuracy: 0.0935 - val_loss: 2.3014 - val_accuracy: 0.1016\n",
      "469/469 [==============================] - 4s 8ms/step - loss: 0.3367 - accuracy: 0.9016 - val_loss: 0.2149 - val_accuracy: 0.9343\n",
      "469/469 [==============================] - 3s 5ms/step - loss: 1.4641 - accuracy: 0.6492 - val_loss: 0.9681 - val_accuracy: 0.8111\n",
      "469/469 [==============================] - 3s 6ms/step - loss: 2.3200 - accuracy: 0.0918 - val_loss: 2.1986 - val_accuracy: 0.1767\n",
      "469/469 [==============================] - 4s 7ms/step - loss: 0.2528 - accuracy: 0.9265 - val_loss: 0.1318 - val_accuracy: 0.9606\n",
      "469/469 [==============================] - 2s 4ms/step - loss: 1.7054 - accuracy: 0.5958 - val_loss: 1.2364 - val_accuracy: 0.7811\n",
      "469/469 [==============================] - 3s 5ms/step - loss: 2.3287 - accuracy: 0.1530 - val_loss: 2.2513 - val_accuracy: 0.1948\n"
     ]
    }
   ],
   "source": [
    "#define parameter grid\n",
    "\n",
    "activation_functions_layer_1 = ['sigmoid','tanh','relu']\n",
    "opimizers = ['rmsprop','adagrad','adadelta']\n",
    "\n",
    "#optimize over parameter grid (grid search)\n",
    "\n",
    "for activation_function_layer_1 in activation_functions_layer_1:\n",
    "    for opimizer in opimizers:\n",
    "        \n",
    "        model = Sequential()\n",
    "        model.add(Dense(512, activation = activation_function_layer_1, input_shape=(784,)))\n",
    "        model.add(Dense(num_classes, activation='softmax'))\n",
    "\n",
    "\n",
    "\n",
    "        model.compile(loss='categorical_crossentropy',\n",
    "              optimizer=opimizer,\n",
    "              metrics=['accuracy'])\n",
    "\n",
    "        model.fit(x_train, y_train,\n",
    "              batch_size=batch_size,\n",
    "              epochs=epochs,\n",
    "              verbose=1,\n",
    "              validation_data=(x_test, y_test))\n",
    "        \n",
    "        score = model.evaluate(x_test, y_test, verbose=0)\n",
    "        save_path = \"ker_func_mnist_model_2.%s.%s.%s.h5\" % (activation_function_layer_1,opimizer,score[1])\n",
    "        model.save(save_path)"
   ]
  },
  {
   "cell_type": "code",
   "execution_count": 9,
   "metadata": {},
   "outputs": [
    {
     "name": "stdout",
     "output_type": "stream",
     "text": [
      " Volume in drive C has no label.\n",
      " Volume Serial Number is 3A9B-7428\n",
      "\n",
      " Directory of C:\\Users\\USER\\Desktop\\PySpark\n",
      "\n",
      "\n",
      " Directory of C:\\Users\\USER\\Desktop\\PySpark\n",
      "\n",
      "12/12/2021  04:51 AM         4,910,984 ker_func_mnist_model_2.relu.adadelta.0.19480000436306.h5\n",
      "12/12/2021  04:51 AM         3,281,584 ker_func_mnist_model_2.relu.adagrad.0.7810999751091003.h5\n",
      "12/12/2021  04:51 AM         3,281,584 ker_func_mnist_model_2.relu.rmsprop.0.9606000185012817.h5\n",
      "12/12/2021  04:07 AM         3,281,584 ker_func_mnist_model_2.relu.rmsprop.0.9609000086784363.h5\n",
      "12/12/2021  04:51 AM         4,910,984 ker_func_mnist_model_2.sigmoid.adadelta.0.10159999877214432.h5\n",
      "12/12/2021  04:07 AM         4,910,984 ker_func_mnist_model_2.sigmoid.adadelta.0.11969999969005585.h5\n",
      "12/12/2021  04:07 AM         3,281,584 ker_func_mnist_model_2.sigmoid.adagrad.0.557699978351593.h5\n",
      "12/12/2021  04:51 AM         3,281,584 ker_func_mnist_model_2.sigmoid.adagrad.0.5856000185012817.h5\n",
      "12/12/2021  04:51 AM         3,281,584 ker_func_mnist_model_2.sigmoid.rmsprop.0.9241999983787537.h5\n",
      "12/12/2021  04:07 AM         3,281,584 ker_func_mnist_model_2.sigmoid.rmsprop.0.9243000149726868.h5\n",
      "12/12/2021  04:51 AM         4,910,984 ker_func_mnist_model_2.tanh.adadelta.0.17669999599456787.h5\n",
      "12/12/2021  04:07 AM         4,910,984 ker_func_mnist_model_2.tanh.adadelta.0.2281000018119812.h5\n",
      "12/12/2021  04:07 AM         3,281,584 ker_func_mnist_model_2.tanh.adagrad.0.809499979019165.h5\n",
      "12/12/2021  04:51 AM         3,281,584 ker_func_mnist_model_2.tanh.adagrad.0.8111000061035156.h5\n",
      "12/12/2021  04:51 AM         3,281,584 ker_func_mnist_model_2.tanh.rmsprop.0.9343000054359436.h5\n",
      "12/12/2021  04:07 AM         3,281,584 ker_func_mnist_model_2.tanh.rmsprop.0.941100001335144.h5\n",
      "              16 File(s)     60,652,344 bytes\n",
      "               0 Dir(s)  13,899,063,296 bytes free\n"
     ]
    }
   ],
   "source": [
    "ls -ltr ker_*"
   ]
  },
  {
   "cell_type": "code",
   "execution_count": 10,
   "metadata": {},
   "outputs": [
    {
     "name": "stderr",
     "output_type": "stream",
     "text": [
      "tar: please-put-me-here.h5: Couldn't find file: No such file or directory\n",
      "tar: Error exit delayed from previous errors.\n"
     ]
    }
   ],
   "source": [
    "!tar -zcvf my_best_model.tgz please-put-me-here.h5"
   ]
  },
  {
   "cell_type": "code",
   "execution_count": null,
   "metadata": {},
   "outputs": [],
   "source": []
  }
 ],
 "metadata": {
  "kernelspec": {
   "display_name": "Python 3 (ipykernel)",
   "language": "python",
   "name": "python3"
  },
  "language_info": {
   "codemirror_mode": {
    "name": "ipython",
    "version": 3
   },
   "file_extension": ".py",
   "mimetype": "text/x-python",
   "name": "python",
   "nbconvert_exporter": "python",
   "pygments_lexer": "ipython3",
   "version": "3.9.7"
  }
 },
 "nbformat": 4,
 "nbformat_minor": 1
}
