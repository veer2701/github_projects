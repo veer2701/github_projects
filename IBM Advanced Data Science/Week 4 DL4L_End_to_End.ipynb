{
 "cells": [
  {
   "cell_type": "code",
   "execution_count": 4,
   "id": "ddf97221",
   "metadata": {},
   "outputs": [],
   "source": [
    "import numpy\n",
    "import pandas\n",
    "from keras.models import Sequential\n",
    "from keras.layers import Dense\n",
    "from keras.wrappers.scikit_learn import KerasClassifier\n",
    "from keras.utils import np_utils\n",
    "from sklearn.model_selection import cross_val_score\n",
    "from sklearn.model_selection import KFold\n",
    "from sklearn.preprocessing import LabelEncoder\n",
    "from sklearn.pipeline import Pipeline"
   ]
  },
  {
   "cell_type": "code",
   "execution_count": 5,
   "id": "902cf5a6",
   "metadata": {},
   "outputs": [],
   "source": [
    "# fix random seed for reproducibility\n",
    "seed = 10\n",
    "numpy.random.seed(seed)"
   ]
  },
  {
   "cell_type": "code",
   "execution_count": 6,
   "id": "52b09602",
   "metadata": {},
   "outputs": [],
   "source": [
    "# load dataset\n",
    "dataframe = pandas.read_csv(\"iris.txt\", header=None)\n",
    "dataset = dataframe.values\n",
    "X = dataset[:,0:4].astype(float)\n",
    "Y = dataset[:,4]"
   ]
  },
  {
   "cell_type": "code",
   "execution_count": 7,
   "id": "0dd3c6bf",
   "metadata": {},
   "outputs": [],
   "source": [
    "encoder = LabelEncoder()\n",
    "encoder.fit(Y)\n",
    "encoded_Y = encoder.transform(Y)\n",
    "# convert integers to dummy variables (i.e. one hot encoded)\n",
    "dummy_y = np_utils.to_categorical(encoded_Y)"
   ]
  },
  {
   "cell_type": "code",
   "execution_count": 8,
   "id": "06b349d7",
   "metadata": {},
   "outputs": [
    {
     "name": "stdout",
     "output_type": "stream",
     "text": [
      "Epoch 1/20\n",
      "30/30 [==============================] - 1s 2ms/step - loss: 1.6728 - accuracy: 0.3333\n",
      "Epoch 2/20\n",
      "30/30 [==============================] - 0s 968us/step - loss: 1.4815 - accuracy: 0.3333\n",
      "Epoch 3/20\n",
      "30/30 [==============================] - 0s 860us/step - loss: 1.3425 - accuracy: 0.3267\n",
      "Epoch 4/20\n",
      "30/30 [==============================] - 0s 860us/step - loss: 1.2447 - accuracy: 0.3133\n",
      "Epoch 5/20\n",
      "30/30 [==============================] - 0s 757us/step - loss: 1.1655 - accuracy: 0.2600\n",
      "Epoch 6/20\n",
      "30/30 [==============================] - 0s 722us/step - loss: 1.1102 - accuracy: 0.2200\n",
      "Epoch 7/20\n",
      "30/30 [==============================] - 0s 619us/step - loss: 1.0710 - accuracy: 0.1667\n",
      "Epoch 8/20\n",
      "30/30 [==============================] - 0s 722us/step - loss: 1.0447 - accuracy: 0.1067\n",
      "Epoch 9/20\n",
      "30/30 [==============================] - 0s 688us/step - loss: 1.0211 - accuracy: 0.0933\n",
      "Epoch 10/20\n",
      "30/30 [==============================] - 0s 757us/step - loss: 1.0056 - accuracy: 0.1000\n",
      "Epoch 11/20\n",
      "30/30 [==============================] - 0s 688us/step - loss: 0.9913 - accuracy: 0.1133\n",
      "Epoch 12/20\n",
      "30/30 [==============================] - 0s 860us/step - loss: 0.9793 - accuracy: 0.1467\n",
      "Epoch 13/20\n",
      "30/30 [==============================] - 0s 722us/step - loss: 0.9681 - accuracy: 0.2667\n",
      "Epoch 14/20\n",
      "30/30 [==============================] - 0s 722us/step - loss: 0.9550 - accuracy: 0.4267\n",
      "Epoch 15/20\n",
      "30/30 [==============================] - 0s 688us/step - loss: 0.9433 - accuracy: 0.4533\n",
      "Epoch 16/20\n",
      "30/30 [==============================] - 0s 722us/step - loss: 0.9323 - accuracy: 0.5000\n",
      "Epoch 17/20\n",
      "30/30 [==============================] - 0s 688us/step - loss: 0.9153 - accuracy: 0.4400\n",
      "Epoch 18/20\n",
      "30/30 [==============================] - 0s 722us/step - loss: 0.9000 - accuracy: 0.4400\n",
      "Epoch 19/20\n",
      "30/30 [==============================] - 0s 722us/step - loss: 0.8856 - accuracy: 0.4400\n",
      "Epoch 20/20\n",
      "30/30 [==============================] - 0s 825us/step - loss: 0.8694 - accuracy: 0.4400\n"
     ]
    }
   ],
   "source": [
    "model = Sequential()\n",
    "model.add(Dense(4, input_dim=4, activation='relu'))\n",
    "model.add(Dense(3, activation='sigmoid'))\n",
    "# Compile model\n",
    "model.compile(loss='categorical_crossentropy', optimizer='adam', metrics=['accuracy'])\n",
    "model.fit(X,dummy_y,epochs=20,batch_size=5)\n",
    "model.save('iris_model.h5')"
   ]
  },
  {
   "cell_type": "code",
   "execution_count": 17,
   "id": "a7a14dc7",
   "metadata": {},
   "outputs": [
    {
     "name": "stdout",
     "output_type": "stream",
     "text": [
      "b'Hello, TensorFlow!'\n"
     ]
    }
   ],
   "source": [
    "tf.compat.v1.disable_eager_execution()\n",
    "\n",
    "hello = tf.constant('Hello, TensorFlow!')\n",
    "\n",
    "sess = tf.compat.v1.Session()\n",
    "\n",
    "print(sess.run(hello))"
   ]
  },
  {
   "cell_type": "code",
   "execution_count": 18,
   "id": "7baa3e17",
   "metadata": {},
   "outputs": [
    {
     "name": "stderr",
     "output_type": "stream",
     "text": [
      "'$SPARK_HOME' is not recognized as an internal or external command,\n",
      "operable program or batch file.\n"
     ]
    }
   ],
   "source": []
  },
  {
   "cell_type": "code",
   "execution_count": null,
   "id": "19053c3f",
   "metadata": {},
   "outputs": [],
   "source": []
  }
 ],
 "metadata": {
  "kernelspec": {
   "display_name": "Python 3 (ipykernel)",
   "language": "python",
   "name": "python3"
  },
  "language_info": {
   "codemirror_mode": {
    "name": "ipython",
    "version": 3
   },
   "file_extension": ".py",
   "mimetype": "text/x-python",
   "name": "python",
   "nbconvert_exporter": "python",
   "pygments_lexer": "ipython3",
   "version": "3.9.7"
  }
 },
 "nbformat": 4,
 "nbformat_minor": 5
}
